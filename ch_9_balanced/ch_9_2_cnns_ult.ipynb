{
 "cells": [
  {
   "cell_type": "markdown",
   "id": "34cc0d6c-8b39-417b-8c15-045c46d9fe94",
   "metadata": {},
   "source": [
    "rework of ch_9_2_cnns_6.ipnynb for (almost) last modelling  \n",
    "utilizing csv instead of loading as images   \n",
    "balanced dataset  \n",
    "ult. 15x20 // balanced CNN 1D LSTM // 3 - Live Data vs PerfectFam vs StreakMM  "
   ]
  },
  {
   "cell_type": "markdown",
   "id": "1e787550-64d9-4d5e-a7b5-35ba8ac40dc3",
   "metadata": {},
   "source": [
    "# IMPORTS"
   ]
  },
  {
   "cell_type": "code",
   "execution_count": 3,
   "id": "f4791ae4-e63d-4ea0-92a6-c787f250a7a7",
   "metadata": {
    "tags": []
   },
   "outputs": [],
   "source": [
    "import random\n",
    "import pickle\n",
    "import glob\n",
    "\n",
    "import random\n",
    "import ast\n",
    "import pathlib\n",
    "\n",
    "import numpy as np\n",
    "import pandas as pd\n",
    "\n",
    "import matplotlib.pyplot as plt\n",
    "# import matplotlib.transforms as transforms\n",
    "\n",
    "from collections import Counter\n",
    "\n",
    "from time import time\n",
    "from time import sleep\n",
    "from time import strftime\n",
    "from time import localtime\n",
    "from tqdm import tqdm\n",
    "\n",
    "from datetime import date, timedelta, datetime\n",
    "\n",
    "# from mydecorators import logger, stopwatch\n",
    "\n",
    "from PIL import Image\n",
    "\n"
   ]
  },
  {
   "cell_type": "code",
   "execution_count": 4,
   "id": "1a2eff96-33f7-4d70-a403-50ab9236bcd1",
   "metadata": {
    "tags": []
   },
   "outputs": [],
   "source": [
    "import torch\n",
    "import torch.nn as nn\n",
    "import torchvision\n",
    "\n",
    "import torch.nn.functional as F\n",
    "\n",
    "import torchvision.transforms as transforms\n",
    "from torchvision import datasets\n",
    "from torch.utils.data import Dataset\n",
    "\n",
    "import matplotlib.pyplot as plt\n",
    "\n"
   ]
  },
  {
   "cell_type": "code",
   "execution_count": null,
   "id": "1c196005-72b6-4e0b-ad92-61834e95b67d",
   "metadata": {},
   "outputs": [],
   "source": []
  },
  {
   "cell_type": "code",
   "execution_count": null,
   "id": "4f6548cf-1aae-4b8a-a7da-16bfad0a2d02",
   "metadata": {},
   "outputs": [],
   "source": []
  },
  {
   "cell_type": "markdown",
   "id": "bdca5b83-926d-40d9-a757-7e65d8aea225",
   "metadata": {},
   "source": [
    "# Read CSV of All Data"
   ]
  },
  {
   "cell_type": "code",
   "execution_count": 6,
   "id": "8e23695c-1e89-443c-a293-261f9367dd36",
   "metadata": {},
   "outputs": [],
   "source": [
    "df_alldata = pd.read_csv('../combined_dataset.csv')\n",
    "# display(df_alldata)"
   ]
  },
  {
   "cell_type": "code",
   "execution_count": 7,
   "id": "5eb60223-2a5f-4c80-83e0-c28c20a43cec",
   "metadata": {
    "tags": []
   },
   "outputs": [
    {
     "data": {
      "text/html": [
       "<div>\n",
       "<style scoped>\n",
       "    .dataframe tbody tr th:only-of-type {\n",
       "        vertical-align: middle;\n",
       "    }\n",
       "\n",
       "    .dataframe tbody tr th {\n",
       "        vertical-align: top;\n",
       "    }\n",
       "\n",
       "    .dataframe thead th {\n",
       "        text-align: right;\n",
       "    }\n",
       "</style>\n",
       "<table border=\"1\" class=\"dataframe\">\n",
       "  <thead>\n",
       "    <tr style=\"text-align: right;\">\n",
       "      <th></th>\n",
       "      <th>0</th>\n",
       "      <th>1</th>\n",
       "      <th>2</th>\n",
       "      <th>3</th>\n",
       "      <th>4</th>\n",
       "      <th>5</th>\n",
       "      <th>6</th>\n",
       "      <th>7</th>\n",
       "      <th>8</th>\n",
       "      <th>9</th>\n",
       "      <th>...</th>\n",
       "      <th>292</th>\n",
       "      <th>293</th>\n",
       "      <th>294</th>\n",
       "      <th>295</th>\n",
       "      <th>296</th>\n",
       "      <th>297</th>\n",
       "      <th>298</th>\n",
       "      <th>299</th>\n",
       "      <th>labels</th>\n",
       "      <th>filepaths</th>\n",
       "    </tr>\n",
       "  </thead>\n",
       "  <tbody>\n",
       "    <tr>\n",
       "      <th>0</th>\n",
       "      <td>0</td>\n",
       "      <td>0</td>\n",
       "      <td>1</td>\n",
       "      <td>0</td>\n",
       "      <td>0</td>\n",
       "      <td>0</td>\n",
       "      <td>0</td>\n",
       "      <td>0</td>\n",
       "      <td>0</td>\n",
       "      <td>1</td>\n",
       "      <td>...</td>\n",
       "      <td>1</td>\n",
       "      <td>0</td>\n",
       "      <td>0</td>\n",
       "      <td>1</td>\n",
       "      <td>0</td>\n",
       "      <td>0</td>\n",
       "      <td>0</td>\n",
       "      <td>1</td>\n",
       "      <td>2</td>\n",
       "      <td>perfectmm_456_0</td>\n",
       "    </tr>\n",
       "    <tr>\n",
       "      <th>1</th>\n",
       "      <td>1</td>\n",
       "      <td>0</td>\n",
       "      <td>1</td>\n",
       "      <td>1</td>\n",
       "      <td>0</td>\n",
       "      <td>0</td>\n",
       "      <td>1</td>\n",
       "      <td>1</td>\n",
       "      <td>0</td>\n",
       "      <td>0</td>\n",
       "      <td>...</td>\n",
       "      <td>1</td>\n",
       "      <td>0</td>\n",
       "      <td>1</td>\n",
       "      <td>0</td>\n",
       "      <td>1</td>\n",
       "      <td>1</td>\n",
       "      <td>1</td>\n",
       "      <td>0</td>\n",
       "      <td>2</td>\n",
       "      <td>perfectmm_456_1</td>\n",
       "    </tr>\n",
       "    <tr>\n",
       "      <th>2</th>\n",
       "      <td>1</td>\n",
       "      <td>1</td>\n",
       "      <td>1</td>\n",
       "      <td>0</td>\n",
       "      <td>1</td>\n",
       "      <td>0</td>\n",
       "      <td>1</td>\n",
       "      <td>0</td>\n",
       "      <td>0</td>\n",
       "      <td>0</td>\n",
       "      <td>...</td>\n",
       "      <td>1</td>\n",
       "      <td>0</td>\n",
       "      <td>0</td>\n",
       "      <td>1</td>\n",
       "      <td>0</td>\n",
       "      <td>1</td>\n",
       "      <td>1</td>\n",
       "      <td>0</td>\n",
       "      <td>2</td>\n",
       "      <td>perfectmm_456_2</td>\n",
       "    </tr>\n",
       "    <tr>\n",
       "      <th>3</th>\n",
       "      <td>1</td>\n",
       "      <td>1</td>\n",
       "      <td>1</td>\n",
       "      <td>1</td>\n",
       "      <td>1</td>\n",
       "      <td>1</td>\n",
       "      <td>1</td>\n",
       "      <td>0</td>\n",
       "      <td>1</td>\n",
       "      <td>0</td>\n",
       "      <td>...</td>\n",
       "      <td>0</td>\n",
       "      <td>1</td>\n",
       "      <td>1</td>\n",
       "      <td>0</td>\n",
       "      <td>0</td>\n",
       "      <td>1</td>\n",
       "      <td>0</td>\n",
       "      <td>1</td>\n",
       "      <td>2</td>\n",
       "      <td>perfectmm_456_3</td>\n",
       "    </tr>\n",
       "    <tr>\n",
       "      <th>4</th>\n",
       "      <td>1</td>\n",
       "      <td>0</td>\n",
       "      <td>0</td>\n",
       "      <td>0</td>\n",
       "      <td>0</td>\n",
       "      <td>0</td>\n",
       "      <td>0</td>\n",
       "      <td>1</td>\n",
       "      <td>1</td>\n",
       "      <td>1</td>\n",
       "      <td>...</td>\n",
       "      <td>1</td>\n",
       "      <td>0</td>\n",
       "      <td>0</td>\n",
       "      <td>0</td>\n",
       "      <td>1</td>\n",
       "      <td>0</td>\n",
       "      <td>1</td>\n",
       "      <td>1</td>\n",
       "      <td>2</td>\n",
       "      <td>perfectmm_456_4</td>\n",
       "    </tr>\n",
       "  </tbody>\n",
       "</table>\n",
       "<p>5 rows × 302 columns</p>\n",
       "</div>"
      ],
      "text/plain": [
       "   0  1  2  3  4  5  6  7  8  9  ...  292  293  294  295  296  297  298  299  \\\n",
       "0  0  0  1  0  0  0  0  0  0  1  ...    1    0    0    1    0    0    0    1   \n",
       "1  1  0  1  1  0  0  1  1  0  0  ...    1    0    1    0    1    1    1    0   \n",
       "2  1  1  1  0  1  0  1  0  0  0  ...    1    0    0    1    0    1    1    0   \n",
       "3  1  1  1  1  1  1  1  0  1  0  ...    0    1    1    0    0    1    0    1   \n",
       "4  1  0  0  0  0  0  0  1  1  1  ...    1    0    0    0    1    0    1    1   \n",
       "\n",
       "   labels        filepaths  \n",
       "0       2  perfectmm_456_0  \n",
       "1       2  perfectmm_456_1  \n",
       "2       2  perfectmm_456_2  \n",
       "3       2  perfectmm_456_3  \n",
       "4       2  perfectmm_456_4  \n",
       "\n",
       "[5 rows x 302 columns]"
      ]
     },
     "execution_count": 7,
     "metadata": {},
     "output_type": "execute_result"
    }
   ],
   "source": [
    "df_alldata.head()"
   ]
  },
  {
   "cell_type": "code",
   "execution_count": null,
   "id": "8a31e607-f57b-492c-9cfa-e084fc655b64",
   "metadata": {},
   "outputs": [],
   "source": []
  },
  {
   "cell_type": "markdown",
   "id": "072b6d2d-d6b1-497b-b3ef-1ab52d609e70",
   "metadata": {},
   "source": [
    "# Prepare Dataframes\n",
    "- Remove Live Data (0)  \n",
    "- Check Labels ...   \n",
    "=>  \n",
    "Live Data : 0  \n",
    "NearPerfectMM : 1    \n",
    "PerfectMM : 2  \n",
    "StreakMM : 3  "
   ]
  },
  {
   "cell_type": "code",
   "execution_count": 9,
   "id": "702c660d-4f02-4a0c-b274-7b1bd83e3159",
   "metadata": {
    "tags": []
   },
   "outputs": [],
   "source": [
    "df_w_live = df_alldata.copy()\n",
    "\n",
    "# display(df_wo_live)"
   ]
  },
  {
   "cell_type": "code",
   "execution_count": null,
   "id": "79737f1e-6bda-4ee9-bb7e-505f366073e7",
   "metadata": {
    "tags": []
   },
   "outputs": [],
   "source": []
  },
  {
   "cell_type": "markdown",
   "id": "69be2f6b-4dc6-4f6d-9c08-7a70d10d9b7b",
   "metadata": {},
   "source": [
    "## Check current labels"
   ]
  },
  {
   "cell_type": "code",
   "execution_count": 11,
   "id": "f112ef1a-505e-4fc7-b469-e8f3c5b08777",
   "metadata": {
    "tags": []
   },
   "outputs": [],
   "source": [
    "orig_labels = list(df_w_live['labels'])"
   ]
  },
  {
   "cell_type": "code",
   "execution_count": 12,
   "id": "10ec053a-d823-4234-8062-02e956297df6",
   "metadata": {
    "tags": []
   },
   "outputs": [
    {
     "data": {
      "text/plain": [
       "132127"
      ]
     },
     "execution_count": 12,
     "metadata": {},
     "output_type": "execute_result"
    }
   ],
   "source": [
    "len(orig_labels)"
   ]
  },
  {
   "cell_type": "code",
   "execution_count": 13,
   "id": "3745d51f-9332-49bf-a8d0-3f70ce8633b9",
   "metadata": {
    "tags": []
   },
   "outputs": [
    {
     "data": {
      "text/plain": [
       "{0, 1, 2, 3}"
      ]
     },
     "execution_count": 13,
     "metadata": {},
     "output_type": "execute_result"
    }
   ],
   "source": [
    "set(orig_labels)\n",
    "### 0: live_data\n",
    "### 1: nearperfectmm\n",
    "### 2: perfectmm\n",
    "### 3: streakmm"
   ]
  },
  {
   "cell_type": "code",
   "execution_count": null,
   "id": "09328de1-916b-4387-8a12-dab8ea18ef32",
   "metadata": {},
   "outputs": [],
   "source": []
  },
  {
   "cell_type": "markdown",
   "id": "a8e60188-cb1b-4071-a900-5f2ac563281e",
   "metadata": {},
   "source": [
    "## Relabel Accordingly\n",
    "live_data 0 -> 0  \n",
    "nearperfectmm 1 -> 1  \n",
    "perfectmm 2 -> 1   \n",
    "streakmm 3 -> 2"
   ]
  },
  {
   "cell_type": "code",
   "execution_count": 15,
   "id": "6eaf158c-12f8-4c8b-8db2-9ed19cfb0b4b",
   "metadata": {
    "tags": []
   },
   "outputs": [
    {
     "data": {
      "text/plain": [
       "{0, 1, 3}"
      ]
     },
     "execution_count": 15,
     "metadata": {},
     "output_type": "execute_result"
    }
   ],
   "source": [
    "replaced_labels = [1 if x==2 else x for x in orig_labels]\n",
    "set(replaced_labels)"
   ]
  },
  {
   "cell_type": "code",
   "execution_count": 16,
   "id": "d2c03bdf-2e9d-45db-9ba0-4ac698c9a254",
   "metadata": {
    "tags": []
   },
   "outputs": [
    {
     "data": {
      "text/plain": [
       "{0, 1, 2}"
      ]
     },
     "execution_count": 16,
     "metadata": {},
     "output_type": "execute_result"
    }
   ],
   "source": [
    "replaced_labels = [2 if x==3 else x for x in replaced_labels]\n",
    "set(replaced_labels)"
   ]
  },
  {
   "cell_type": "code",
   "execution_count": 17,
   "id": "69fdd781-5a54-4184-95de-d36f054a1862",
   "metadata": {
    "tags": []
   },
   "outputs": [],
   "source": [
    "df_w_live['labels'] = replaced_labels"
   ]
  },
  {
   "cell_type": "code",
   "execution_count": 18,
   "id": "f363b3b6-aa0e-436a-aa7e-04b65fff4752",
   "metadata": {
    "tags": []
   },
   "outputs": [
    {
     "data": {
      "text/plain": [
       "{0, 1, 2}"
      ]
     },
     "execution_count": 18,
     "metadata": {},
     "output_type": "execute_result"
    }
   ],
   "source": [
    "set(df_w_live['labels'])"
   ]
  },
  {
   "cell_type": "code",
   "execution_count": null,
   "id": "afbd8557-6faa-4583-85e2-d935a8aaa43c",
   "metadata": {},
   "outputs": [],
   "source": []
  },
  {
   "cell_type": "code",
   "execution_count": null,
   "id": "8968ec8b-f4ad-4682-b2ed-af1bb9ef73f4",
   "metadata": {},
   "outputs": [],
   "source": []
  },
  {
   "cell_type": "code",
   "execution_count": null,
   "id": "4c9414bc-2112-4adc-91f4-9eda33e07d0d",
   "metadata": {},
   "outputs": [],
   "source": []
  },
  {
   "cell_type": "markdown",
   "id": "c16ac4d2-80c1-4ff2-bc36-33909638b369",
   "metadata": {},
   "source": [
    "## Display Current Dataframe"
   ]
  },
  {
   "cell_type": "code",
   "execution_count": 20,
   "id": "5f8af211-1c2e-4d32-95de-280011072a7c",
   "metadata": {
    "tags": []
   },
   "outputs": [
    {
     "data": {
      "text/html": [
       "<div>\n",
       "<style scoped>\n",
       "    .dataframe tbody tr th:only-of-type {\n",
       "        vertical-align: middle;\n",
       "    }\n",
       "\n",
       "    .dataframe tbody tr th {\n",
       "        vertical-align: top;\n",
       "    }\n",
       "\n",
       "    .dataframe thead th {\n",
       "        text-align: right;\n",
       "    }\n",
       "</style>\n",
       "<table border=\"1\" class=\"dataframe\">\n",
       "  <thead>\n",
       "    <tr style=\"text-align: right;\">\n",
       "      <th></th>\n",
       "      <th>0</th>\n",
       "      <th>1</th>\n",
       "      <th>2</th>\n",
       "      <th>3</th>\n",
       "      <th>4</th>\n",
       "      <th>5</th>\n",
       "      <th>6</th>\n",
       "      <th>7</th>\n",
       "      <th>8</th>\n",
       "      <th>9</th>\n",
       "      <th>...</th>\n",
       "      <th>292</th>\n",
       "      <th>293</th>\n",
       "      <th>294</th>\n",
       "      <th>295</th>\n",
       "      <th>296</th>\n",
       "      <th>297</th>\n",
       "      <th>298</th>\n",
       "      <th>299</th>\n",
       "      <th>labels</th>\n",
       "      <th>filepaths</th>\n",
       "    </tr>\n",
       "  </thead>\n",
       "  <tbody>\n",
       "    <tr>\n",
       "      <th>90000</th>\n",
       "      <td>1</td>\n",
       "      <td>1</td>\n",
       "      <td>1</td>\n",
       "      <td>0</td>\n",
       "      <td>1</td>\n",
       "      <td>1</td>\n",
       "      <td>1</td>\n",
       "      <td>0</td>\n",
       "      <td>1</td>\n",
       "      <td>0</td>\n",
       "      <td>...</td>\n",
       "      <td>0</td>\n",
       "      <td>1</td>\n",
       "      <td>1</td>\n",
       "      <td>1</td>\n",
       "      <td>0</td>\n",
       "      <td>1</td>\n",
       "      <td>1</td>\n",
       "      <td>0</td>\n",
       "      <td>0</td>\n",
       "      <td>좋은챔프</td>\n",
       "    </tr>\n",
       "    <tr>\n",
       "      <th>90001</th>\n",
       "      <td>0</td>\n",
       "      <td>1</td>\n",
       "      <td>0</td>\n",
       "      <td>0</td>\n",
       "      <td>0</td>\n",
       "      <td>0</td>\n",
       "      <td>0</td>\n",
       "      <td>0</td>\n",
       "      <td>0</td>\n",
       "      <td>0</td>\n",
       "      <td>...</td>\n",
       "      <td>1</td>\n",
       "      <td>1</td>\n",
       "      <td>0</td>\n",
       "      <td>0</td>\n",
       "      <td>0</td>\n",
       "      <td>1</td>\n",
       "      <td>1</td>\n",
       "      <td>1</td>\n",
       "      <td>0</td>\n",
       "      <td>진기장판</td>\n",
       "    </tr>\n",
       "  </tbody>\n",
       "</table>\n",
       "<p>2 rows × 302 columns</p>\n",
       "</div>"
      ],
      "text/plain": [
       "       0  1  2  3  4  5  6  7  8  9  ...  292  293  294  295  296  297  298  \\\n",
       "90000  1  1  1  0  1  1  1  0  1  0  ...    0    1    1    1    0    1    1   \n",
       "90001  0  1  0  0  0  0  0  0  0  0  ...    1    1    0    0    0    1    1   \n",
       "\n",
       "       299  labels    filepaths  \n",
       "90000    0       0  좋은챔프  \n",
       "90001    1       0  진기장판  \n",
       "\n",
       "[2 rows x 302 columns]"
      ]
     },
     "execution_count": 20,
     "metadata": {},
     "output_type": "execute_result"
    }
   ],
   "source": [
    "df_w_live[df_w_live['labels']==0].head(2)"
   ]
  },
  {
   "cell_type": "code",
   "execution_count": 21,
   "id": "a4c5f0ce-73b4-48e4-8164-9130efd167b0",
   "metadata": {
    "tags": []
   },
   "outputs": [
    {
     "data": {
      "text/html": [
       "<div>\n",
       "<style scoped>\n",
       "    .dataframe tbody tr th:only-of-type {\n",
       "        vertical-align: middle;\n",
       "    }\n",
       "\n",
       "    .dataframe tbody tr th {\n",
       "        vertical-align: top;\n",
       "    }\n",
       "\n",
       "    .dataframe thead th {\n",
       "        text-align: right;\n",
       "    }\n",
       "</style>\n",
       "<table border=\"1\" class=\"dataframe\">\n",
       "  <thead>\n",
       "    <tr style=\"text-align: right;\">\n",
       "      <th></th>\n",
       "      <th>0</th>\n",
       "      <th>1</th>\n",
       "      <th>2</th>\n",
       "      <th>3</th>\n",
       "      <th>4</th>\n",
       "      <th>5</th>\n",
       "      <th>6</th>\n",
       "      <th>7</th>\n",
       "      <th>8</th>\n",
       "      <th>9</th>\n",
       "      <th>...</th>\n",
       "      <th>292</th>\n",
       "      <th>293</th>\n",
       "      <th>294</th>\n",
       "      <th>295</th>\n",
       "      <th>296</th>\n",
       "      <th>297</th>\n",
       "      <th>298</th>\n",
       "      <th>299</th>\n",
       "      <th>labels</th>\n",
       "      <th>filepaths</th>\n",
       "    </tr>\n",
       "  </thead>\n",
       "  <tbody>\n",
       "    <tr>\n",
       "      <th>132125</th>\n",
       "      <td>0</td>\n",
       "      <td>0</td>\n",
       "      <td>0</td>\n",
       "      <td>1</td>\n",
       "      <td>1</td>\n",
       "      <td>0</td>\n",
       "      <td>1</td>\n",
       "      <td>1</td>\n",
       "      <td>0</td>\n",
       "      <td>0</td>\n",
       "      <td>...</td>\n",
       "      <td>0</td>\n",
       "      <td>1</td>\n",
       "      <td>0</td>\n",
       "      <td>1</td>\n",
       "      <td>0</td>\n",
       "      <td>1</td>\n",
       "      <td>1</td>\n",
       "      <td>1</td>\n",
       "      <td>0</td>\n",
       "      <td>너가능성잇써</td>\n",
       "    </tr>\n",
       "    <tr>\n",
       "      <th>132126</th>\n",
       "      <td>0</td>\n",
       "      <td>1</td>\n",
       "      <td>0</td>\n",
       "      <td>1</td>\n",
       "      <td>0</td>\n",
       "      <td>1</td>\n",
       "      <td>1</td>\n",
       "      <td>0</td>\n",
       "      <td>1</td>\n",
       "      <td>1</td>\n",
       "      <td>...</td>\n",
       "      <td>0</td>\n",
       "      <td>0</td>\n",
       "      <td>0</td>\n",
       "      <td>0</td>\n",
       "      <td>0</td>\n",
       "      <td>1</td>\n",
       "      <td>1</td>\n",
       "      <td>0</td>\n",
       "      <td>0</td>\n",
       "      <td>토꽃</td>\n",
       "    </tr>\n",
       "  </tbody>\n",
       "</table>\n",
       "<p>2 rows × 302 columns</p>\n",
       "</div>"
      ],
      "text/plain": [
       "        0  1  2  3  4  5  6  7  8  9  ...  292  293  294  295  296  297  298  \\\n",
       "132125  0  0  0  1  1  0  1  1  0  0  ...    0    1    0    1    0    1    1   \n",
       "132126  0  1  0  1  0  1  1  0  1  1  ...    0    0    0    0    0    1    1   \n",
       "\n",
       "        299  labels        filepaths  \n",
       "132125    1       0  너가능성잇써  \n",
       "132126    0       0            토꽃  \n",
       "\n",
       "[2 rows x 302 columns]"
      ]
     },
     "execution_count": 21,
     "metadata": {},
     "output_type": "execute_result"
    }
   ],
   "source": [
    "df_w_live[df_w_live['labels']==0].tail(2)"
   ]
  },
  {
   "cell_type": "code",
   "execution_count": 22,
   "id": "007e42c0-87af-4812-868e-0a1035c8e6dd",
   "metadata": {
    "tags": []
   },
   "outputs": [
    {
     "data": {
      "text/html": [
       "<div>\n",
       "<style scoped>\n",
       "    .dataframe tbody tr th:only-of-type {\n",
       "        vertical-align: middle;\n",
       "    }\n",
       "\n",
       "    .dataframe tbody tr th {\n",
       "        vertical-align: top;\n",
       "    }\n",
       "\n",
       "    .dataframe thead th {\n",
       "        text-align: right;\n",
       "    }\n",
       "</style>\n",
       "<table border=\"1\" class=\"dataframe\">\n",
       "  <thead>\n",
       "    <tr style=\"text-align: right;\">\n",
       "      <th></th>\n",
       "      <th>0</th>\n",
       "      <th>1</th>\n",
       "      <th>2</th>\n",
       "      <th>3</th>\n",
       "      <th>4</th>\n",
       "      <th>5</th>\n",
       "      <th>6</th>\n",
       "      <th>7</th>\n",
       "      <th>8</th>\n",
       "      <th>9</th>\n",
       "      <th>...</th>\n",
       "      <th>292</th>\n",
       "      <th>293</th>\n",
       "      <th>294</th>\n",
       "      <th>295</th>\n",
       "      <th>296</th>\n",
       "      <th>297</th>\n",
       "      <th>298</th>\n",
       "      <th>299</th>\n",
       "      <th>labels</th>\n",
       "      <th>filepaths</th>\n",
       "    </tr>\n",
       "  </thead>\n",
       "  <tbody>\n",
       "    <tr>\n",
       "      <th>0</th>\n",
       "      <td>0</td>\n",
       "      <td>0</td>\n",
       "      <td>1</td>\n",
       "      <td>0</td>\n",
       "      <td>0</td>\n",
       "      <td>0</td>\n",
       "      <td>0</td>\n",
       "      <td>0</td>\n",
       "      <td>0</td>\n",
       "      <td>1</td>\n",
       "      <td>...</td>\n",
       "      <td>1</td>\n",
       "      <td>0</td>\n",
       "      <td>0</td>\n",
       "      <td>1</td>\n",
       "      <td>0</td>\n",
       "      <td>0</td>\n",
       "      <td>0</td>\n",
       "      <td>1</td>\n",
       "      <td>1</td>\n",
       "      <td>perfectmm_456_0</td>\n",
       "    </tr>\n",
       "    <tr>\n",
       "      <th>1</th>\n",
       "      <td>1</td>\n",
       "      <td>0</td>\n",
       "      <td>1</td>\n",
       "      <td>1</td>\n",
       "      <td>0</td>\n",
       "      <td>0</td>\n",
       "      <td>1</td>\n",
       "      <td>1</td>\n",
       "      <td>0</td>\n",
       "      <td>0</td>\n",
       "      <td>...</td>\n",
       "      <td>1</td>\n",
       "      <td>0</td>\n",
       "      <td>1</td>\n",
       "      <td>0</td>\n",
       "      <td>1</td>\n",
       "      <td>1</td>\n",
       "      <td>1</td>\n",
       "      <td>0</td>\n",
       "      <td>1</td>\n",
       "      <td>perfectmm_456_1</td>\n",
       "    </tr>\n",
       "  </tbody>\n",
       "</table>\n",
       "<p>2 rows × 302 columns</p>\n",
       "</div>"
      ],
      "text/plain": [
       "   0  1  2  3  4  5  6  7  8  9  ...  292  293  294  295  296  297  298  299  \\\n",
       "0  0  0  1  0  0  0  0  0  0  1  ...    1    0    0    1    0    0    0    1   \n",
       "1  1  0  1  1  0  0  1  1  0  0  ...    1    0    1    0    1    1    1    0   \n",
       "\n",
       "   labels        filepaths  \n",
       "0       1  perfectmm_456_0  \n",
       "1       1  perfectmm_456_1  \n",
       "\n",
       "[2 rows x 302 columns]"
      ]
     },
     "execution_count": 22,
     "metadata": {},
     "output_type": "execute_result"
    }
   ],
   "source": [
    "df_w_live[df_w_live['labels']==1].head(2)"
   ]
  },
  {
   "cell_type": "code",
   "execution_count": 23,
   "id": "6d8c84b2-2611-4181-99be-ad73d1ca3ee1",
   "metadata": {
    "tags": []
   },
   "outputs": [
    {
     "data": {
      "text/html": [
       "<div>\n",
       "<style scoped>\n",
       "    .dataframe tbody tr th:only-of-type {\n",
       "        vertical-align: middle;\n",
       "    }\n",
       "\n",
       "    .dataframe tbody tr th {\n",
       "        vertical-align: top;\n",
       "    }\n",
       "\n",
       "    .dataframe thead th {\n",
       "        text-align: right;\n",
       "    }\n",
       "</style>\n",
       "<table border=\"1\" class=\"dataframe\">\n",
       "  <thead>\n",
       "    <tr style=\"text-align: right;\">\n",
       "      <th></th>\n",
       "      <th>0</th>\n",
       "      <th>1</th>\n",
       "      <th>2</th>\n",
       "      <th>3</th>\n",
       "      <th>4</th>\n",
       "      <th>5</th>\n",
       "      <th>6</th>\n",
       "      <th>7</th>\n",
       "      <th>8</th>\n",
       "      <th>9</th>\n",
       "      <th>...</th>\n",
       "      <th>292</th>\n",
       "      <th>293</th>\n",
       "      <th>294</th>\n",
       "      <th>295</th>\n",
       "      <th>296</th>\n",
       "      <th>297</th>\n",
       "      <th>298</th>\n",
       "      <th>299</th>\n",
       "      <th>labels</th>\n",
       "      <th>filepaths</th>\n",
       "    </tr>\n",
       "  </thead>\n",
       "  <tbody>\n",
       "    <tr>\n",
       "      <th>59998</th>\n",
       "      <td>1</td>\n",
       "      <td>0</td>\n",
       "      <td>1</td>\n",
       "      <td>0</td>\n",
       "      <td>1</td>\n",
       "      <td>1</td>\n",
       "      <td>1</td>\n",
       "      <td>1</td>\n",
       "      <td>0</td>\n",
       "      <td>0</td>\n",
       "      <td>...</td>\n",
       "      <td>1</td>\n",
       "      <td>1</td>\n",
       "      <td>0</td>\n",
       "      <td>1</td>\n",
       "      <td>1</td>\n",
       "      <td>1</td>\n",
       "      <td>1</td>\n",
       "      <td>1</td>\n",
       "      <td>1</td>\n",
       "      <td>nearperfectmm_457_998</td>\n",
       "    </tr>\n",
       "    <tr>\n",
       "      <th>59999</th>\n",
       "      <td>0</td>\n",
       "      <td>1</td>\n",
       "      <td>1</td>\n",
       "      <td>1</td>\n",
       "      <td>0</td>\n",
       "      <td>0</td>\n",
       "      <td>1</td>\n",
       "      <td>0</td>\n",
       "      <td>0</td>\n",
       "      <td>1</td>\n",
       "      <td>...</td>\n",
       "      <td>1</td>\n",
       "      <td>1</td>\n",
       "      <td>1</td>\n",
       "      <td>0</td>\n",
       "      <td>1</td>\n",
       "      <td>1</td>\n",
       "      <td>0</td>\n",
       "      <td>1</td>\n",
       "      <td>1</td>\n",
       "      <td>nearperfectmm_457_999</td>\n",
       "    </tr>\n",
       "  </tbody>\n",
       "</table>\n",
       "<p>2 rows × 302 columns</p>\n",
       "</div>"
      ],
      "text/plain": [
       "       0  1  2  3  4  5  6  7  8  9  ...  292  293  294  295  296  297  298  \\\n",
       "59998  1  0  1  0  1  1  1  1  0  0  ...    1    1    0    1    1    1    1   \n",
       "59999  0  1  1  1  0  0  1  0  0  1  ...    1    1    1    0    1    1    0   \n",
       "\n",
       "       299  labels              filepaths  \n",
       "59998    1       1  nearperfectmm_457_998  \n",
       "59999    1       1  nearperfectmm_457_999  \n",
       "\n",
       "[2 rows x 302 columns]"
      ]
     },
     "execution_count": 23,
     "metadata": {},
     "output_type": "execute_result"
    }
   ],
   "source": [
    "df_w_live[df_w_live['labels']==1].tail(2)"
   ]
  },
  {
   "cell_type": "code",
   "execution_count": 24,
   "id": "7fbba9c0-8996-4a33-9b30-44ce0529b246",
   "metadata": {
    "tags": []
   },
   "outputs": [
    {
     "data": {
      "text/html": [
       "<div>\n",
       "<style scoped>\n",
       "    .dataframe tbody tr th:only-of-type {\n",
       "        vertical-align: middle;\n",
       "    }\n",
       "\n",
       "    .dataframe tbody tr th {\n",
       "        vertical-align: top;\n",
       "    }\n",
       "\n",
       "    .dataframe thead th {\n",
       "        text-align: right;\n",
       "    }\n",
       "</style>\n",
       "<table border=\"1\" class=\"dataframe\">\n",
       "  <thead>\n",
       "    <tr style=\"text-align: right;\">\n",
       "      <th></th>\n",
       "      <th>0</th>\n",
       "      <th>1</th>\n",
       "      <th>2</th>\n",
       "      <th>3</th>\n",
       "      <th>4</th>\n",
       "      <th>5</th>\n",
       "      <th>6</th>\n",
       "      <th>7</th>\n",
       "      <th>8</th>\n",
       "      <th>9</th>\n",
       "      <th>...</th>\n",
       "      <th>292</th>\n",
       "      <th>293</th>\n",
       "      <th>294</th>\n",
       "      <th>295</th>\n",
       "      <th>296</th>\n",
       "      <th>297</th>\n",
       "      <th>298</th>\n",
       "      <th>299</th>\n",
       "      <th>labels</th>\n",
       "      <th>filepaths</th>\n",
       "    </tr>\n",
       "  </thead>\n",
       "  <tbody>\n",
       "    <tr>\n",
       "      <th>60000</th>\n",
       "      <td>0</td>\n",
       "      <td>1</td>\n",
       "      <td>0</td>\n",
       "      <td>0</td>\n",
       "      <td>0</td>\n",
       "      <td>0</td>\n",
       "      <td>0</td>\n",
       "      <td>1</td>\n",
       "      <td>1</td>\n",
       "      <td>0</td>\n",
       "      <td>...</td>\n",
       "      <td>1</td>\n",
       "      <td>1</td>\n",
       "      <td>1</td>\n",
       "      <td>1</td>\n",
       "      <td>1</td>\n",
       "      <td>1</td>\n",
       "      <td>1</td>\n",
       "      <td>1</td>\n",
       "      <td>2</td>\n",
       "      <td>streakmm_412_0</td>\n",
       "    </tr>\n",
       "    <tr>\n",
       "      <th>60001</th>\n",
       "      <td>1</td>\n",
       "      <td>1</td>\n",
       "      <td>1</td>\n",
       "      <td>1</td>\n",
       "      <td>1</td>\n",
       "      <td>1</td>\n",
       "      <td>0</td>\n",
       "      <td>0</td>\n",
       "      <td>0</td>\n",
       "      <td>0</td>\n",
       "      <td>...</td>\n",
       "      <td>0</td>\n",
       "      <td>1</td>\n",
       "      <td>0</td>\n",
       "      <td>1</td>\n",
       "      <td>1</td>\n",
       "      <td>1</td>\n",
       "      <td>1</td>\n",
       "      <td>1</td>\n",
       "      <td>2</td>\n",
       "      <td>streakmm_412_1</td>\n",
       "    </tr>\n",
       "  </tbody>\n",
       "</table>\n",
       "<p>2 rows × 302 columns</p>\n",
       "</div>"
      ],
      "text/plain": [
       "       0  1  2  3  4  5  6  7  8  9  ...  292  293  294  295  296  297  298  \\\n",
       "60000  0  1  0  0  0  0  0  1  1  0  ...    1    1    1    1    1    1    1   \n",
       "60001  1  1  1  1  1  1  0  0  0  0  ...    0    1    0    1    1    1    1   \n",
       "\n",
       "       299  labels       filepaths  \n",
       "60000    1       2  streakmm_412_0  \n",
       "60001    1       2  streakmm_412_1  \n",
       "\n",
       "[2 rows x 302 columns]"
      ]
     },
     "execution_count": 24,
     "metadata": {},
     "output_type": "execute_result"
    }
   ],
   "source": [
    "df_w_live[df_w_live['labels']==2].head(2)"
   ]
  },
  {
   "cell_type": "code",
   "execution_count": 25,
   "id": "2ef6b219-3c4d-4aa2-802e-526a7c0d4851",
   "metadata": {
    "tags": []
   },
   "outputs": [
    {
     "data": {
      "text/html": [
       "<div>\n",
       "<style scoped>\n",
       "    .dataframe tbody tr th:only-of-type {\n",
       "        vertical-align: middle;\n",
       "    }\n",
       "\n",
       "    .dataframe tbody tr th {\n",
       "        vertical-align: top;\n",
       "    }\n",
       "\n",
       "    .dataframe thead th {\n",
       "        text-align: right;\n",
       "    }\n",
       "</style>\n",
       "<table border=\"1\" class=\"dataframe\">\n",
       "  <thead>\n",
       "    <tr style=\"text-align: right;\">\n",
       "      <th></th>\n",
       "      <th>0</th>\n",
       "      <th>1</th>\n",
       "      <th>2</th>\n",
       "      <th>3</th>\n",
       "      <th>4</th>\n",
       "      <th>5</th>\n",
       "      <th>6</th>\n",
       "      <th>7</th>\n",
       "      <th>8</th>\n",
       "      <th>9</th>\n",
       "      <th>...</th>\n",
       "      <th>292</th>\n",
       "      <th>293</th>\n",
       "      <th>294</th>\n",
       "      <th>295</th>\n",
       "      <th>296</th>\n",
       "      <th>297</th>\n",
       "      <th>298</th>\n",
       "      <th>299</th>\n",
       "      <th>labels</th>\n",
       "      <th>filepaths</th>\n",
       "    </tr>\n",
       "  </thead>\n",
       "  <tbody>\n",
       "    <tr>\n",
       "      <th>89998</th>\n",
       "      <td>1</td>\n",
       "      <td>1</td>\n",
       "      <td>1</td>\n",
       "      <td>1</td>\n",
       "      <td>1</td>\n",
       "      <td>1</td>\n",
       "      <td>1</td>\n",
       "      <td>1</td>\n",
       "      <td>1</td>\n",
       "      <td>1</td>\n",
       "      <td>...</td>\n",
       "      <td>1</td>\n",
       "      <td>1</td>\n",
       "      <td>0</td>\n",
       "      <td>0</td>\n",
       "      <td>0</td>\n",
       "      <td>0</td>\n",
       "      <td>0</td>\n",
       "      <td>0</td>\n",
       "      <td>2</td>\n",
       "      <td>streakmm_386_998</td>\n",
       "    </tr>\n",
       "    <tr>\n",
       "      <th>89999</th>\n",
       "      <td>0</td>\n",
       "      <td>0</td>\n",
       "      <td>0</td>\n",
       "      <td>0</td>\n",
       "      <td>0</td>\n",
       "      <td>0</td>\n",
       "      <td>0</td>\n",
       "      <td>0</td>\n",
       "      <td>0</td>\n",
       "      <td>0</td>\n",
       "      <td>...</td>\n",
       "      <td>1</td>\n",
       "      <td>1</td>\n",
       "      <td>1</td>\n",
       "      <td>0</td>\n",
       "      <td>1</td>\n",
       "      <td>0</td>\n",
       "      <td>0</td>\n",
       "      <td>0</td>\n",
       "      <td>2</td>\n",
       "      <td>streakmm_386_999</td>\n",
       "    </tr>\n",
       "  </tbody>\n",
       "</table>\n",
       "<p>2 rows × 302 columns</p>\n",
       "</div>"
      ],
      "text/plain": [
       "       0  1  2  3  4  5  6  7  8  9  ...  292  293  294  295  296  297  298  \\\n",
       "89998  1  1  1  1  1  1  1  1  1  1  ...    1    1    0    0    0    0    0   \n",
       "89999  0  0  0  0  0  0  0  0  0  0  ...    1    1    1    0    1    0    0   \n",
       "\n",
       "       299  labels         filepaths  \n",
       "89998    0       2  streakmm_386_998  \n",
       "89999    0       2  streakmm_386_999  \n",
       "\n",
       "[2 rows x 302 columns]"
      ]
     },
     "execution_count": 25,
     "metadata": {},
     "output_type": "execute_result"
    }
   ],
   "source": [
    "df_w_live[df_w_live['labels']==2].tail(2)"
   ]
  },
  {
   "cell_type": "code",
   "execution_count": 26,
   "id": "3f59ed45-c35a-4bcb-9700-7dd682a33d14",
   "metadata": {
    "tags": []
   },
   "outputs": [
    {
     "data": {
      "text/html": [
       "<div>\n",
       "<style scoped>\n",
       "    .dataframe tbody tr th:only-of-type {\n",
       "        vertical-align: middle;\n",
       "    }\n",
       "\n",
       "    .dataframe tbody tr th {\n",
       "        vertical-align: top;\n",
       "    }\n",
       "\n",
       "    .dataframe thead th {\n",
       "        text-align: right;\n",
       "    }\n",
       "</style>\n",
       "<table border=\"1\" class=\"dataframe\">\n",
       "  <thead>\n",
       "    <tr style=\"text-align: right;\">\n",
       "      <th></th>\n",
       "      <th>0</th>\n",
       "      <th>1</th>\n",
       "      <th>2</th>\n",
       "      <th>3</th>\n",
       "      <th>4</th>\n",
       "      <th>5</th>\n",
       "      <th>6</th>\n",
       "      <th>7</th>\n",
       "      <th>8</th>\n",
       "      <th>9</th>\n",
       "      <th>...</th>\n",
       "      <th>292</th>\n",
       "      <th>293</th>\n",
       "      <th>294</th>\n",
       "      <th>295</th>\n",
       "      <th>296</th>\n",
       "      <th>297</th>\n",
       "      <th>298</th>\n",
       "      <th>299</th>\n",
       "      <th>labels</th>\n",
       "      <th>filepaths</th>\n",
       "    </tr>\n",
       "  </thead>\n",
       "  <tbody>\n",
       "  </tbody>\n",
       "</table>\n",
       "<p>0 rows × 302 columns</p>\n",
       "</div>"
      ],
      "text/plain": [
       "Empty DataFrame\n",
       "Columns: [0, 1, 2, 3, 4, 5, 6, 7, 8, 9, 10, 11, 12, 13, 14, 15, 16, 17, 18, 19, 20, 21, 22, 23, 24, 25, 26, 27, 28, 29, 30, 31, 32, 33, 34, 35, 36, 37, 38, 39, 40, 41, 42, 43, 44, 45, 46, 47, 48, 49, 50, 51, 52, 53, 54, 55, 56, 57, 58, 59, 60, 61, 62, 63, 64, 65, 66, 67, 68, 69, 70, 71, 72, 73, 74, 75, 76, 77, 78, 79, 80, 81, 82, 83, 84, 85, 86, 87, 88, 89, 90, 91, 92, 93, 94, 95, 96, 97, 98, 99, ...]\n",
       "Index: []\n",
       "\n",
       "[0 rows x 302 columns]"
      ]
     },
     "execution_count": 26,
     "metadata": {},
     "output_type": "execute_result"
    }
   ],
   "source": [
    "df_w_live[df_w_live['labels']==3].head(2)"
   ]
  },
  {
   "cell_type": "code",
   "execution_count": null,
   "id": "d0f4943e-88ca-418a-a91d-344090c948a9",
   "metadata": {},
   "outputs": [],
   "source": []
  },
  {
   "cell_type": "code",
   "execution_count": 27,
   "id": "8a8e126f-e439-429f-a041-e05e6837bc54",
   "metadata": {
    "tags": []
   },
   "outputs": [
    {
     "data": {
      "text/plain": [
       "42127"
      ]
     },
     "execution_count": 27,
     "metadata": {},
     "output_type": "execute_result"
    }
   ],
   "source": [
    "### Live Data\n",
    "len(df_w_live[df_w_live['labels']==0])"
   ]
  },
  {
   "cell_type": "code",
   "execution_count": 28,
   "id": "16cb1ef9-c848-403a-a22c-5780fcec9533",
   "metadata": {
    "tags": []
   },
   "outputs": [
    {
     "data": {
      "text/plain": [
       "60000"
      ]
     },
     "execution_count": 28,
     "metadata": {},
     "output_type": "execute_result"
    }
   ],
   "source": [
    "### PerfectMM & NearPerfectMM (PerfectFam)\n",
    "len(df_w_live[df_w_live['labels']==1])"
   ]
  },
  {
   "cell_type": "code",
   "execution_count": 29,
   "id": "8755adb5-9a1d-44e2-83df-df514f841760",
   "metadata": {
    "tags": []
   },
   "outputs": [
    {
     "data": {
      "text/plain": [
       "30000"
      ]
     },
     "execution_count": 29,
     "metadata": {},
     "output_type": "execute_result"
    }
   ],
   "source": [
    "### StreakMM\n",
    "len(df_w_live[df_w_live['labels']==2])"
   ]
  },
  {
   "cell_type": "code",
   "execution_count": null,
   "id": "f725bb39-4dd3-441e-ad5d-75e28623b02a",
   "metadata": {},
   "outputs": [],
   "source": []
  },
  {
   "cell_type": "markdown",
   "id": "5d7cb3c4-5bd0-45eb-8dcc-7e3bbcb992e1",
   "metadata": {},
   "source": [
    "## Sample from Groups"
   ]
  },
  {
   "cell_type": "markdown",
   "id": "d8e4a893-dfdf-4c3a-a1ca-0122a92aa04a",
   "metadata": {},
   "source": [
    "### from Live Data"
   ]
  },
  {
   "cell_type": "code",
   "execution_count": 32,
   "id": "8d1bd353-901a-4b4d-9cf9-5d65e9fbaf74",
   "metadata": {
    "tags": []
   },
   "outputs": [],
   "source": [
    "train_livedata = df_w_live[df_w_live['labels']==0].sample(n=20000, random_state=10)"
   ]
  },
  {
   "cell_type": "code",
   "execution_count": 33,
   "id": "def31116-3faf-4363-ab06-71eae25b6e53",
   "metadata": {
    "tags": []
   },
   "outputs": [
    {
     "data": {
      "text/html": [
       "<div>\n",
       "<style scoped>\n",
       "    .dataframe tbody tr th:only-of-type {\n",
       "        vertical-align: middle;\n",
       "    }\n",
       "\n",
       "    .dataframe tbody tr th {\n",
       "        vertical-align: top;\n",
       "    }\n",
       "\n",
       "    .dataframe thead th {\n",
       "        text-align: right;\n",
       "    }\n",
       "</style>\n",
       "<table border=\"1\" class=\"dataframe\">\n",
       "  <thead>\n",
       "    <tr style=\"text-align: right;\">\n",
       "      <th></th>\n",
       "      <th>0</th>\n",
       "      <th>1</th>\n",
       "      <th>2</th>\n",
       "      <th>3</th>\n",
       "      <th>4</th>\n",
       "      <th>5</th>\n",
       "      <th>6</th>\n",
       "      <th>7</th>\n",
       "      <th>8</th>\n",
       "      <th>9</th>\n",
       "      <th>...</th>\n",
       "      <th>292</th>\n",
       "      <th>293</th>\n",
       "      <th>294</th>\n",
       "      <th>295</th>\n",
       "      <th>296</th>\n",
       "      <th>297</th>\n",
       "      <th>298</th>\n",
       "      <th>299</th>\n",
       "      <th>labels</th>\n",
       "      <th>filepaths</th>\n",
       "    </tr>\n",
       "  </thead>\n",
       "  <tbody>\n",
       "    <tr>\n",
       "      <th>128105</th>\n",
       "      <td>0</td>\n",
       "      <td>0</td>\n",
       "      <td>0</td>\n",
       "      <td>0</td>\n",
       "      <td>0</td>\n",
       "      <td>0</td>\n",
       "      <td>0</td>\n",
       "      <td>1</td>\n",
       "      <td>0</td>\n",
       "      <td>1</td>\n",
       "      <td>...</td>\n",
       "      <td>1</td>\n",
       "      <td>1</td>\n",
       "      <td>1</td>\n",
       "      <td>1</td>\n",
       "      <td>1</td>\n",
       "      <td>0</td>\n",
       "      <td>0</td>\n",
       "      <td>1</td>\n",
       "      <td>0</td>\n",
       "      <td>오젠트리안</td>\n",
       "    </tr>\n",
       "    <tr>\n",
       "      <th>128363</th>\n",
       "      <td>0</td>\n",
       "      <td>0</td>\n",
       "      <td>1</td>\n",
       "      <td>1</td>\n",
       "      <td>0</td>\n",
       "      <td>0</td>\n",
       "      <td>1</td>\n",
       "      <td>0</td>\n",
       "      <td>1</td>\n",
       "      <td>1</td>\n",
       "      <td>...</td>\n",
       "      <td>1</td>\n",
       "      <td>0</td>\n",
       "      <td>0</td>\n",
       "      <td>0</td>\n",
       "      <td>0</td>\n",
       "      <td>1</td>\n",
       "      <td>1</td>\n",
       "      <td>0</td>\n",
       "      <td>0</td>\n",
       "      <td>01수영</td>\n",
       "    </tr>\n",
       "    <tr>\n",
       "      <th>121491</th>\n",
       "      <td>0</td>\n",
       "      <td>1</td>\n",
       "      <td>0</td>\n",
       "      <td>0</td>\n",
       "      <td>0</td>\n",
       "      <td>0</td>\n",
       "      <td>1</td>\n",
       "      <td>1</td>\n",
       "      <td>1</td>\n",
       "      <td>1</td>\n",
       "      <td>...</td>\n",
       "      <td>0</td>\n",
       "      <td>0</td>\n",
       "      <td>1</td>\n",
       "      <td>0</td>\n",
       "      <td>1</td>\n",
       "      <td>1</td>\n",
       "      <td>0</td>\n",
       "      <td>1</td>\n",
       "      <td>0</td>\n",
       "      <td>무현스님</td>\n",
       "    </tr>\n",
       "  </tbody>\n",
       "</table>\n",
       "<p>3 rows × 302 columns</p>\n",
       "</div>"
      ],
      "text/plain": [
       "        0  1  2  3  4  5  6  7  8  9  ...  292  293  294  295  296  297  298  \\\n",
       "128105  0  0  0  0  0  0  0  1  0  1  ...    1    1    1    1    1    0    0   \n",
       "128363  0  0  1  1  0  0  1  0  1  1  ...    1    0    0    0    0    1    1   \n",
       "121491  0  1  0  0  0  0  1  1  1  1  ...    0    0    1    0    1    1    0   \n",
       "\n",
       "        299  labels     filepaths  \n",
       "128105    1       0  오젠트리안  \n",
       "128363    0       0       01수영  \n",
       "121491    1       0    무현스님  \n",
       "\n",
       "[3 rows x 302 columns]"
      ]
     },
     "execution_count": 33,
     "metadata": {},
     "output_type": "execute_result"
    }
   ],
   "source": [
    "train_livedata.head(3)"
   ]
  },
  {
   "cell_type": "markdown",
   "id": "8058975d-c969-4c2d-8bb6-334c197d9005",
   "metadata": {},
   "source": [
    "### from PerfectFam"
   ]
  },
  {
   "cell_type": "code",
   "execution_count": 35,
   "id": "f3f48b5a-1c5e-4d5f-84c4-0fb611001f99",
   "metadata": {
    "tags": []
   },
   "outputs": [],
   "source": [
    "train_perfectfam = df_w_live[df_w_live['labels']==1].sample(n=20000, random_state=10)"
   ]
  },
  {
   "cell_type": "code",
   "execution_count": 36,
   "id": "1daf21e5-0d91-4bee-be9f-d8135f1cbdf2",
   "metadata": {
    "tags": []
   },
   "outputs": [
    {
     "data": {
      "text/html": [
       "<div>\n",
       "<style scoped>\n",
       "    .dataframe tbody tr th:only-of-type {\n",
       "        vertical-align: middle;\n",
       "    }\n",
       "\n",
       "    .dataframe tbody tr th {\n",
       "        vertical-align: top;\n",
       "    }\n",
       "\n",
       "    .dataframe thead th {\n",
       "        text-align: right;\n",
       "    }\n",
       "</style>\n",
       "<table border=\"1\" class=\"dataframe\">\n",
       "  <thead>\n",
       "    <tr style=\"text-align: right;\">\n",
       "      <th></th>\n",
       "      <th>0</th>\n",
       "      <th>1</th>\n",
       "      <th>2</th>\n",
       "      <th>3</th>\n",
       "      <th>4</th>\n",
       "      <th>5</th>\n",
       "      <th>6</th>\n",
       "      <th>7</th>\n",
       "      <th>8</th>\n",
       "      <th>9</th>\n",
       "      <th>...</th>\n",
       "      <th>292</th>\n",
       "      <th>293</th>\n",
       "      <th>294</th>\n",
       "      <th>295</th>\n",
       "      <th>296</th>\n",
       "      <th>297</th>\n",
       "      <th>298</th>\n",
       "      <th>299</th>\n",
       "      <th>labels</th>\n",
       "      <th>filepaths</th>\n",
       "    </tr>\n",
       "  </thead>\n",
       "  <tbody>\n",
       "    <tr>\n",
       "      <th>4883</th>\n",
       "      <td>0</td>\n",
       "      <td>0</td>\n",
       "      <td>0</td>\n",
       "      <td>0</td>\n",
       "      <td>1</td>\n",
       "      <td>0</td>\n",
       "      <td>0</td>\n",
       "      <td>1</td>\n",
       "      <td>1</td>\n",
       "      <td>0</td>\n",
       "      <td>...</td>\n",
       "      <td>0</td>\n",
       "      <td>1</td>\n",
       "      <td>1</td>\n",
       "      <td>0</td>\n",
       "      <td>0</td>\n",
       "      <td>0</td>\n",
       "      <td>1</td>\n",
       "      <td>1</td>\n",
       "      <td>1</td>\n",
       "      <td>perfectmm_94_883</td>\n",
       "    </tr>\n",
       "    <tr>\n",
       "      <th>28477</th>\n",
       "      <td>0</td>\n",
       "      <td>0</td>\n",
       "      <td>0</td>\n",
       "      <td>0</td>\n",
       "      <td>0</td>\n",
       "      <td>0</td>\n",
       "      <td>1</td>\n",
       "      <td>1</td>\n",
       "      <td>1</td>\n",
       "      <td>0</td>\n",
       "      <td>...</td>\n",
       "      <td>0</td>\n",
       "      <td>1</td>\n",
       "      <td>1</td>\n",
       "      <td>1</td>\n",
       "      <td>0</td>\n",
       "      <td>0</td>\n",
       "      <td>1</td>\n",
       "      <td>1</td>\n",
       "      <td>1</td>\n",
       "      <td>perfectmm_712_477</td>\n",
       "    </tr>\n",
       "    <tr>\n",
       "      <th>8527</th>\n",
       "      <td>1</td>\n",
       "      <td>0</td>\n",
       "      <td>0</td>\n",
       "      <td>1</td>\n",
       "      <td>0</td>\n",
       "      <td>1</td>\n",
       "      <td>0</td>\n",
       "      <td>1</td>\n",
       "      <td>0</td>\n",
       "      <td>1</td>\n",
       "      <td>...</td>\n",
       "      <td>0</td>\n",
       "      <td>1</td>\n",
       "      <td>0</td>\n",
       "      <td>0</td>\n",
       "      <td>1</td>\n",
       "      <td>0</td>\n",
       "      <td>0</td>\n",
       "      <td>1</td>\n",
       "      <td>1</td>\n",
       "      <td>perfectmm_999_527</td>\n",
       "    </tr>\n",
       "  </tbody>\n",
       "</table>\n",
       "<p>3 rows × 302 columns</p>\n",
       "</div>"
      ],
      "text/plain": [
       "       0  1  2  3  4  5  6  7  8  9  ...  292  293  294  295  296  297  298  \\\n",
       "4883   0  0  0  0  1  0  0  1  1  0  ...    0    1    1    0    0    0    1   \n",
       "28477  0  0  0  0  0  0  1  1  1  0  ...    0    1    1    1    0    0    1   \n",
       "8527   1  0  0  1  0  1  0  1  0  1  ...    0    1    0    0    1    0    0   \n",
       "\n",
       "       299  labels          filepaths  \n",
       "4883     1       1   perfectmm_94_883  \n",
       "28477    1       1  perfectmm_712_477  \n",
       "8527     1       1  perfectmm_999_527  \n",
       "\n",
       "[3 rows x 302 columns]"
      ]
     },
     "execution_count": 36,
     "metadata": {},
     "output_type": "execute_result"
    }
   ],
   "source": [
    "train_perfectfam.head(3)"
   ]
  },
  {
   "cell_type": "markdown",
   "id": "74e384d2-328e-4315-ad4e-ff36dd61d477",
   "metadata": {},
   "source": [
    "### from StreakMM"
   ]
  },
  {
   "cell_type": "code",
   "execution_count": 38,
   "id": "2e6b8372-e4ee-4ed9-ace7-c219c9de58b2",
   "metadata": {
    "tags": []
   },
   "outputs": [],
   "source": [
    "train_streakmm = df_w_live[df_w_live['labels']==2].sample(n=20000, random_state=10)"
   ]
  },
  {
   "cell_type": "code",
   "execution_count": 39,
   "id": "19e44c3b-0d2f-4213-a00a-388d52ba77f3",
   "metadata": {
    "tags": []
   },
   "outputs": [
    {
     "data": {
      "text/html": [
       "<div>\n",
       "<style scoped>\n",
       "    .dataframe tbody tr th:only-of-type {\n",
       "        vertical-align: middle;\n",
       "    }\n",
       "\n",
       "    .dataframe tbody tr th {\n",
       "        vertical-align: top;\n",
       "    }\n",
       "\n",
       "    .dataframe thead th {\n",
       "        text-align: right;\n",
       "    }\n",
       "</style>\n",
       "<table border=\"1\" class=\"dataframe\">\n",
       "  <thead>\n",
       "    <tr style=\"text-align: right;\">\n",
       "      <th></th>\n",
       "      <th>0</th>\n",
       "      <th>1</th>\n",
       "      <th>2</th>\n",
       "      <th>3</th>\n",
       "      <th>4</th>\n",
       "      <th>5</th>\n",
       "      <th>6</th>\n",
       "      <th>7</th>\n",
       "      <th>8</th>\n",
       "      <th>9</th>\n",
       "      <th>...</th>\n",
       "      <th>292</th>\n",
       "      <th>293</th>\n",
       "      <th>294</th>\n",
       "      <th>295</th>\n",
       "      <th>296</th>\n",
       "      <th>297</th>\n",
       "      <th>298</th>\n",
       "      <th>299</th>\n",
       "      <th>labels</th>\n",
       "      <th>filepaths</th>\n",
       "    </tr>\n",
       "  </thead>\n",
       "  <tbody>\n",
       "    <tr>\n",
       "      <th>80412</th>\n",
       "      <td>1</td>\n",
       "      <td>1</td>\n",
       "      <td>1</td>\n",
       "      <td>1</td>\n",
       "      <td>1</td>\n",
       "      <td>1</td>\n",
       "      <td>1</td>\n",
       "      <td>1</td>\n",
       "      <td>1</td>\n",
       "      <td>0</td>\n",
       "      <td>...</td>\n",
       "      <td>0</td>\n",
       "      <td>1</td>\n",
       "      <td>0</td>\n",
       "      <td>0</td>\n",
       "      <td>0</td>\n",
       "      <td>0</td>\n",
       "      <td>0</td>\n",
       "      <td>0</td>\n",
       "      <td>2</td>\n",
       "      <td>streakmm_4_412</td>\n",
       "    </tr>\n",
       "    <tr>\n",
       "      <th>61296</th>\n",
       "      <td>0</td>\n",
       "      <td>1</td>\n",
       "      <td>0</td>\n",
       "      <td>0</td>\n",
       "      <td>1</td>\n",
       "      <td>0</td>\n",
       "      <td>1</td>\n",
       "      <td>0</td>\n",
       "      <td>0</td>\n",
       "      <td>0</td>\n",
       "      <td>...</td>\n",
       "      <td>0</td>\n",
       "      <td>0</td>\n",
       "      <td>0</td>\n",
       "      <td>0</td>\n",
       "      <td>0</td>\n",
       "      <td>0</td>\n",
       "      <td>0</td>\n",
       "      <td>0</td>\n",
       "      <td>2</td>\n",
       "      <td>streakmm_229_296</td>\n",
       "    </tr>\n",
       "    <tr>\n",
       "      <th>63906</th>\n",
       "      <td>1</td>\n",
       "      <td>1</td>\n",
       "      <td>1</td>\n",
       "      <td>1</td>\n",
       "      <td>1</td>\n",
       "      <td>1</td>\n",
       "      <td>0</td>\n",
       "      <td>0</td>\n",
       "      <td>0</td>\n",
       "      <td>0</td>\n",
       "      <td>...</td>\n",
       "      <td>1</td>\n",
       "      <td>1</td>\n",
       "      <td>0</td>\n",
       "      <td>0</td>\n",
       "      <td>0</td>\n",
       "      <td>0</td>\n",
       "      <td>1</td>\n",
       "      <td>0</td>\n",
       "      <td>2</td>\n",
       "      <td>streakmm_14_906</td>\n",
       "    </tr>\n",
       "  </tbody>\n",
       "</table>\n",
       "<p>3 rows × 302 columns</p>\n",
       "</div>"
      ],
      "text/plain": [
       "       0  1  2  3  4  5  6  7  8  9  ...  292  293  294  295  296  297  298  \\\n",
       "80412  1  1  1  1  1  1  1  1  1  0  ...    0    1    0    0    0    0    0   \n",
       "61296  0  1  0  0  1  0  1  0  0  0  ...    0    0    0    0    0    0    0   \n",
       "63906  1  1  1  1  1  1  0  0  0  0  ...    1    1    0    0    0    0    1   \n",
       "\n",
       "       299  labels         filepaths  \n",
       "80412    0       2    streakmm_4_412  \n",
       "61296    0       2  streakmm_229_296  \n",
       "63906    0       2   streakmm_14_906  \n",
       "\n",
       "[3 rows x 302 columns]"
      ]
     },
     "execution_count": 39,
     "metadata": {},
     "output_type": "execute_result"
    }
   ],
   "source": [
    "train_streakmm.head(3).head(3)"
   ]
  },
  {
   "cell_type": "code",
   "execution_count": null,
   "id": "a756b7d3-4aec-4c2c-bf21-51963615dcb2",
   "metadata": {},
   "outputs": [],
   "source": []
  },
  {
   "cell_type": "markdown",
   "id": "8c9363f3-7d2e-4ce7-b92d-1b62cc42a997",
   "metadata": {},
   "source": [
    "### Get df_train (3 dfs into 1)"
   ]
  },
  {
   "cell_type": "code",
   "execution_count": 41,
   "id": "893fb1e0-efc7-4d2b-bde8-830eccad6e45",
   "metadata": {
    "tags": []
   },
   "outputs": [],
   "source": [
    "df_train = pd.concat([train_livedata, train_perfectfam, train_streakmm])"
   ]
  },
  {
   "cell_type": "code",
   "execution_count": 42,
   "id": "b269edaf-5a27-4321-91c3-10b270dc4f16",
   "metadata": {
    "tags": []
   },
   "outputs": [
    {
     "data": {
      "text/html": [
       "<div>\n",
       "<style scoped>\n",
       "    .dataframe tbody tr th:only-of-type {\n",
       "        vertical-align: middle;\n",
       "    }\n",
       "\n",
       "    .dataframe tbody tr th {\n",
       "        vertical-align: top;\n",
       "    }\n",
       "\n",
       "    .dataframe thead th {\n",
       "        text-align: right;\n",
       "    }\n",
       "</style>\n",
       "<table border=\"1\" class=\"dataframe\">\n",
       "  <thead>\n",
       "    <tr style=\"text-align: right;\">\n",
       "      <th></th>\n",
       "      <th>0</th>\n",
       "      <th>1</th>\n",
       "      <th>2</th>\n",
       "      <th>3</th>\n",
       "      <th>4</th>\n",
       "      <th>5</th>\n",
       "      <th>6</th>\n",
       "      <th>7</th>\n",
       "      <th>8</th>\n",
       "      <th>9</th>\n",
       "      <th>...</th>\n",
       "      <th>292</th>\n",
       "      <th>293</th>\n",
       "      <th>294</th>\n",
       "      <th>295</th>\n",
       "      <th>296</th>\n",
       "      <th>297</th>\n",
       "      <th>298</th>\n",
       "      <th>299</th>\n",
       "      <th>labels</th>\n",
       "      <th>filepaths</th>\n",
       "    </tr>\n",
       "  </thead>\n",
       "  <tbody>\n",
       "    <tr>\n",
       "      <th>128105</th>\n",
       "      <td>0</td>\n",
       "      <td>0</td>\n",
       "      <td>0</td>\n",
       "      <td>0</td>\n",
       "      <td>0</td>\n",
       "      <td>0</td>\n",
       "      <td>0</td>\n",
       "      <td>1</td>\n",
       "      <td>0</td>\n",
       "      <td>1</td>\n",
       "      <td>...</td>\n",
       "      <td>1</td>\n",
       "      <td>1</td>\n",
       "      <td>1</td>\n",
       "      <td>1</td>\n",
       "      <td>1</td>\n",
       "      <td>0</td>\n",
       "      <td>0</td>\n",
       "      <td>1</td>\n",
       "      <td>0</td>\n",
       "      <td>오젠트리안</td>\n",
       "    </tr>\n",
       "    <tr>\n",
       "      <th>128363</th>\n",
       "      <td>0</td>\n",
       "      <td>0</td>\n",
       "      <td>1</td>\n",
       "      <td>1</td>\n",
       "      <td>0</td>\n",
       "      <td>0</td>\n",
       "      <td>1</td>\n",
       "      <td>0</td>\n",
       "      <td>1</td>\n",
       "      <td>1</td>\n",
       "      <td>...</td>\n",
       "      <td>1</td>\n",
       "      <td>0</td>\n",
       "      <td>0</td>\n",
       "      <td>0</td>\n",
       "      <td>0</td>\n",
       "      <td>1</td>\n",
       "      <td>1</td>\n",
       "      <td>0</td>\n",
       "      <td>0</td>\n",
       "      <td>01수영</td>\n",
       "    </tr>\n",
       "    <tr>\n",
       "      <th>121491</th>\n",
       "      <td>0</td>\n",
       "      <td>1</td>\n",
       "      <td>0</td>\n",
       "      <td>0</td>\n",
       "      <td>0</td>\n",
       "      <td>0</td>\n",
       "      <td>1</td>\n",
       "      <td>1</td>\n",
       "      <td>1</td>\n",
       "      <td>1</td>\n",
       "      <td>...</td>\n",
       "      <td>0</td>\n",
       "      <td>0</td>\n",
       "      <td>1</td>\n",
       "      <td>0</td>\n",
       "      <td>1</td>\n",
       "      <td>1</td>\n",
       "      <td>0</td>\n",
       "      <td>1</td>\n",
       "      <td>0</td>\n",
       "      <td>무현스님</td>\n",
       "    </tr>\n",
       "  </tbody>\n",
       "</table>\n",
       "<p>3 rows × 302 columns</p>\n",
       "</div>"
      ],
      "text/plain": [
       "        0  1  2  3  4  5  6  7  8  9  ...  292  293  294  295  296  297  298  \\\n",
       "128105  0  0  0  0  0  0  0  1  0  1  ...    1    1    1    1    1    0    0   \n",
       "128363  0  0  1  1  0  0  1  0  1  1  ...    1    0    0    0    0    1    1   \n",
       "121491  0  1  0  0  0  0  1  1  1  1  ...    0    0    1    0    1    1    0   \n",
       "\n",
       "        299  labels     filepaths  \n",
       "128105    1       0  오젠트리안  \n",
       "128363    0       0       01수영  \n",
       "121491    1       0    무현스님  \n",
       "\n",
       "[3 rows x 302 columns]"
      ]
     },
     "metadata": {},
     "output_type": "display_data"
    },
    {
     "name": "stdout",
     "output_type": "stream",
     "text": [
      "60000\n"
     ]
    }
   ],
   "source": [
    "display(df_train.head(3))\n",
    "print(len(df_train))"
   ]
  },
  {
   "cell_type": "code",
   "execution_count": null,
   "id": "dbe0afd3-d1e3-4728-8a76-cec41f411e5a",
   "metadata": {},
   "outputs": [],
   "source": []
  },
  {
   "cell_type": "markdown",
   "id": "8bd58172-50b2-40dd-854e-cef1822d3d8f",
   "metadata": {},
   "source": [
    "### Get df_test"
   ]
  },
  {
   "cell_type": "code",
   "execution_count": 44,
   "id": "5ef56846-798e-4b1e-9e81-848a5c9a5276",
   "metadata": {
    "tags": []
   },
   "outputs": [
    {
     "data": {
      "text/plain": [
       "60000"
      ]
     },
     "execution_count": 44,
     "metadata": {},
     "output_type": "execute_result"
    }
   ],
   "source": [
    "### indices of df_train\n",
    "train_idx = list(df_train.index)\n",
    "len(train_idx)"
   ]
  },
  {
   "cell_type": "code",
   "execution_count": 45,
   "id": "f829a09f-a380-403a-8e2a-06f199553e29",
   "metadata": {
    "tags": []
   },
   "outputs": [
    {
     "data": {
      "text/plain": [
       "132127"
      ]
     },
     "execution_count": 45,
     "metadata": {},
     "output_type": "execute_result"
    }
   ],
   "source": [
    "### indices of df_w_live\n",
    "df_w_live_idx = list(df_w_live.index)\n",
    "len(df_w_live_idx)"
   ]
  },
  {
   "cell_type": "code",
   "execution_count": 46,
   "id": "ce396205-f036-49af-94f7-606dd389761b",
   "metadata": {
    "tags": []
   },
   "outputs": [
    {
     "data": {
      "text/plain": [
       "72127"
      ]
     },
     "execution_count": 46,
     "metadata": {},
     "output_type": "execute_result"
    }
   ],
   "source": [
    "### df_w_live_idx - train_idx\n",
    "test_idx = list(set(df_w_live_idx)-set(train_idx))\n",
    "len(test_idx)"
   ]
  },
  {
   "cell_type": "code",
   "execution_count": 47,
   "id": "fedcbf93-9bd5-4ae9-8c14-2259b2201121",
   "metadata": {
    "tags": []
   },
   "outputs": [
    {
     "data": {
      "text/html": [
       "<div>\n",
       "<style scoped>\n",
       "    .dataframe tbody tr th:only-of-type {\n",
       "        vertical-align: middle;\n",
       "    }\n",
       "\n",
       "    .dataframe tbody tr th {\n",
       "        vertical-align: top;\n",
       "    }\n",
       "\n",
       "    .dataframe thead th {\n",
       "        text-align: right;\n",
       "    }\n",
       "</style>\n",
       "<table border=\"1\" class=\"dataframe\">\n",
       "  <thead>\n",
       "    <tr style=\"text-align: right;\">\n",
       "      <th></th>\n",
       "      <th>0</th>\n",
       "      <th>1</th>\n",
       "      <th>2</th>\n",
       "      <th>3</th>\n",
       "      <th>4</th>\n",
       "      <th>5</th>\n",
       "      <th>6</th>\n",
       "      <th>7</th>\n",
       "      <th>8</th>\n",
       "      <th>9</th>\n",
       "      <th>...</th>\n",
       "      <th>292</th>\n",
       "      <th>293</th>\n",
       "      <th>294</th>\n",
       "      <th>295</th>\n",
       "      <th>296</th>\n",
       "      <th>297</th>\n",
       "      <th>298</th>\n",
       "      <th>299</th>\n",
       "      <th>labels</th>\n",
       "      <th>filepaths</th>\n",
       "    </tr>\n",
       "  </thead>\n",
       "  <tbody>\n",
       "    <tr>\n",
       "      <th>131072</th>\n",
       "      <td>0</td>\n",
       "      <td>0</td>\n",
       "      <td>0</td>\n",
       "      <td>1</td>\n",
       "      <td>0</td>\n",
       "      <td>1</td>\n",
       "      <td>1</td>\n",
       "      <td>0</td>\n",
       "      <td>1</td>\n",
       "      <td>0</td>\n",
       "      <td>...</td>\n",
       "      <td>1</td>\n",
       "      <td>0</td>\n",
       "      <td>1</td>\n",
       "      <td>0</td>\n",
       "      <td>0</td>\n",
       "      <td>1</td>\n",
       "      <td>1</td>\n",
       "      <td>0</td>\n",
       "      <td>0</td>\n",
       "      <td>히읏차</td>\n",
       "    </tr>\n",
       "    <tr>\n",
       "      <th>2</th>\n",
       "      <td>1</td>\n",
       "      <td>1</td>\n",
       "      <td>1</td>\n",
       "      <td>0</td>\n",
       "      <td>1</td>\n",
       "      <td>0</td>\n",
       "      <td>1</td>\n",
       "      <td>0</td>\n",
       "      <td>0</td>\n",
       "      <td>0</td>\n",
       "      <td>...</td>\n",
       "      <td>1</td>\n",
       "      <td>0</td>\n",
       "      <td>0</td>\n",
       "      <td>1</td>\n",
       "      <td>0</td>\n",
       "      <td>1</td>\n",
       "      <td>1</td>\n",
       "      <td>0</td>\n",
       "      <td>1</td>\n",
       "      <td>perfectmm_456_2</td>\n",
       "    </tr>\n",
       "    <tr>\n",
       "      <th>3</th>\n",
       "      <td>1</td>\n",
       "      <td>1</td>\n",
       "      <td>1</td>\n",
       "      <td>1</td>\n",
       "      <td>1</td>\n",
       "      <td>1</td>\n",
       "      <td>1</td>\n",
       "      <td>0</td>\n",
       "      <td>1</td>\n",
       "      <td>0</td>\n",
       "      <td>...</td>\n",
       "      <td>0</td>\n",
       "      <td>1</td>\n",
       "      <td>1</td>\n",
       "      <td>0</td>\n",
       "      <td>0</td>\n",
       "      <td>1</td>\n",
       "      <td>0</td>\n",
       "      <td>1</td>\n",
       "      <td>1</td>\n",
       "      <td>perfectmm_456_3</td>\n",
       "    </tr>\n",
       "  </tbody>\n",
       "</table>\n",
       "<p>3 rows × 302 columns</p>\n",
       "</div>"
      ],
      "text/plain": [
       "        0  1  2  3  4  5  6  7  8  9  ...  292  293  294  295  296  297  298  \\\n",
       "131072  0  0  0  1  0  1  1  0  1  0  ...    1    0    1    0    0    1    1   \n",
       "2       1  1  1  0  1  0  1  0  0  0  ...    1    0    0    1    0    1    1   \n",
       "3       1  1  1  1  1  1  1  0  1  0  ...    0    1    1    0    0    1    0   \n",
       "\n",
       "        299  labels        filepaths  \n",
       "131072    0       0          히읏차  \n",
       "2         0       1  perfectmm_456_2  \n",
       "3         1       1  perfectmm_456_3  \n",
       "\n",
       "[3 rows x 302 columns]"
      ]
     },
     "metadata": {},
     "output_type": "display_data"
    },
    {
     "data": {
      "text/html": [
       "<div>\n",
       "<style scoped>\n",
       "    .dataframe tbody tr th:only-of-type {\n",
       "        vertical-align: middle;\n",
       "    }\n",
       "\n",
       "    .dataframe tbody tr th {\n",
       "        vertical-align: top;\n",
       "    }\n",
       "\n",
       "    .dataframe thead th {\n",
       "        text-align: right;\n",
       "    }\n",
       "</style>\n",
       "<table border=\"1\" class=\"dataframe\">\n",
       "  <thead>\n",
       "    <tr style=\"text-align: right;\">\n",
       "      <th></th>\n",
       "      <th>0</th>\n",
       "      <th>1</th>\n",
       "      <th>2</th>\n",
       "      <th>3</th>\n",
       "      <th>4</th>\n",
       "      <th>5</th>\n",
       "      <th>6</th>\n",
       "      <th>7</th>\n",
       "      <th>8</th>\n",
       "      <th>9</th>\n",
       "      <th>...</th>\n",
       "      <th>292</th>\n",
       "      <th>293</th>\n",
       "      <th>294</th>\n",
       "      <th>295</th>\n",
       "      <th>296</th>\n",
       "      <th>297</th>\n",
       "      <th>298</th>\n",
       "      <th>299</th>\n",
       "      <th>labels</th>\n",
       "      <th>filepaths</th>\n",
       "    </tr>\n",
       "  </thead>\n",
       "  <tbody>\n",
       "    <tr>\n",
       "      <th>131065</th>\n",
       "      <td>1</td>\n",
       "      <td>1</td>\n",
       "      <td>1</td>\n",
       "      <td>0</td>\n",
       "      <td>1</td>\n",
       "      <td>0</td>\n",
       "      <td>1</td>\n",
       "      <td>0</td>\n",
       "      <td>0</td>\n",
       "      <td>0</td>\n",
       "      <td>...</td>\n",
       "      <td>0</td>\n",
       "      <td>1</td>\n",
       "      <td>0</td>\n",
       "      <td>0</td>\n",
       "      <td>0</td>\n",
       "      <td>1</td>\n",
       "      <td>1</td>\n",
       "      <td>0</td>\n",
       "      <td>0</td>\n",
       "      <td>신은없으니깐</td>\n",
       "    </tr>\n",
       "    <tr>\n",
       "      <th>131069</th>\n",
       "      <td>0</td>\n",
       "      <td>1</td>\n",
       "      <td>1</td>\n",
       "      <td>1</td>\n",
       "      <td>1</td>\n",
       "      <td>1</td>\n",
       "      <td>0</td>\n",
       "      <td>1</td>\n",
       "      <td>1</td>\n",
       "      <td>0</td>\n",
       "      <td>...</td>\n",
       "      <td>1</td>\n",
       "      <td>0</td>\n",
       "      <td>1</td>\n",
       "      <td>1</td>\n",
       "      <td>0</td>\n",
       "      <td>1</td>\n",
       "      <td>1</td>\n",
       "      <td>1</td>\n",
       "      <td>0</td>\n",
       "      <td>묘목있어요</td>\n",
       "    </tr>\n",
       "    <tr>\n",
       "      <th>131071</th>\n",
       "      <td>0</td>\n",
       "      <td>0</td>\n",
       "      <td>0</td>\n",
       "      <td>0</td>\n",
       "      <td>0</td>\n",
       "      <td>1</td>\n",
       "      <td>1</td>\n",
       "      <td>1</td>\n",
       "      <td>0</td>\n",
       "      <td>1</td>\n",
       "      <td>...</td>\n",
       "      <td>0</td>\n",
       "      <td>0</td>\n",
       "      <td>1</td>\n",
       "      <td>0</td>\n",
       "      <td>0</td>\n",
       "      <td>1</td>\n",
       "      <td>1</td>\n",
       "      <td>1</td>\n",
       "      <td>0</td>\n",
       "      <td>민쵸트코</td>\n",
       "    </tr>\n",
       "  </tbody>\n",
       "</table>\n",
       "<p>3 rows × 302 columns</p>\n",
       "</div>"
      ],
      "text/plain": [
       "        0  1  2  3  4  5  6  7  8  9  ...  292  293  294  295  296  297  298  \\\n",
       "131065  1  1  1  0  1  0  1  0  0  0  ...    0    1    0    0    0    1    1   \n",
       "131069  0  1  1  1  1  1  0  1  1  0  ...    1    0    1    1    0    1    1   \n",
       "131071  0  0  0  0  0  1  1  1  0  1  ...    0    0    1    0    0    1    1   \n",
       "\n",
       "        299  labels         filepaths  \n",
       "131065    0       0  신은없으니깐  \n",
       "131069    1       0      묘목있어요  \n",
       "131071    1       0         민쵸트코  \n",
       "\n",
       "[3 rows x 302 columns]"
      ]
     },
     "metadata": {},
     "output_type": "display_data"
    },
    {
     "name": "stdout",
     "output_type": "stream",
     "text": [
      "72127\n"
     ]
    }
   ],
   "source": [
    "df_test = df_w_live.loc[test_idx]\n",
    "display(df_test.head(3))\n",
    "display(df_test.tail(3))\n",
    "print(len(df_test))"
   ]
  },
  {
   "cell_type": "code",
   "execution_count": null,
   "id": "42af7361-bba3-4808-96d4-5f454b3177b2",
   "metadata": {},
   "outputs": [],
   "source": []
  },
  {
   "cell_type": "code",
   "execution_count": 48,
   "id": "48b7cdc3-cf98-4c01-9523-2732f8289bf8",
   "metadata": {
    "tags": []
   },
   "outputs": [],
   "source": [
    "# df = df_w_live[df_w_live['labels']==2].sample(n=1, random_state=11)"
   ]
  },
  {
   "cell_type": "code",
   "execution_count": 49,
   "id": "570e93bd-95a9-41c1-b537-007bcf932af7",
   "metadata": {
    "tags": []
   },
   "outputs": [],
   "source": [
    "# df"
   ]
  },
  {
   "cell_type": "code",
   "execution_count": 50,
   "id": "4f445b4f-1a42-4de0-b915-a534d2672953",
   "metadata": {
    "tags": []
   },
   "outputs": [],
   "source": [
    "# ddf = df_w_live[df_w_live['labels']==2].sample(n=2, random_state=10)"
   ]
  },
  {
   "cell_type": "code",
   "execution_count": 51,
   "id": "95db1de7-be83-4332-9cfb-c04efbb2acd6",
   "metadata": {
    "tags": []
   },
   "outputs": [],
   "source": [
    "# ddf"
   ]
  },
  {
   "cell_type": "code",
   "execution_count": 52,
   "id": "f42a1f0a-fc72-4bee-9bc4-570453bbd2b1",
   "metadata": {
    "tags": []
   },
   "outputs": [],
   "source": [
    "# dddf = pd.concat([df,ddf])"
   ]
  },
  {
   "cell_type": "code",
   "execution_count": 53,
   "id": "f99c5497-58f1-43be-accc-6afc157e94f6",
   "metadata": {
    "tags": []
   },
   "outputs": [],
   "source": [
    "# dddf"
   ]
  },
  {
   "cell_type": "code",
   "execution_count": 54,
   "id": "af5e0d2a-9e80-4582-8ea8-8181e028f57e",
   "metadata": {
    "tags": []
   },
   "outputs": [],
   "source": [
    "# dddf.reset_index(drop=True)"
   ]
  },
  {
   "cell_type": "code",
   "execution_count": 55,
   "id": "16194c69-671d-42e6-9489-76b9b9d2823c",
   "metadata": {
    "tags": []
   },
   "outputs": [],
   "source": [
    "# dddf = dddf.reset_index(drop=False)"
   ]
  },
  {
   "cell_type": "code",
   "execution_count": 56,
   "id": "1dafb404-bf3c-40e5-808f-92e1f08b215e",
   "metadata": {
    "tags": []
   },
   "outputs": [],
   "source": [
    "# dddf "
   ]
  },
  {
   "cell_type": "code",
   "execution_count": 57,
   "id": "7ca64a4e-c6d4-4ffb-b9af-9e9b46cbb669",
   "metadata": {
    "tags": []
   },
   "outputs": [],
   "source": [
    "# sorted(list(dddf.index))"
   ]
  },
  {
   "cell_type": "code",
   "execution_count": 58,
   "id": "9c093e48-8d8a-42ed-af55-05cf06abcb0d",
   "metadata": {
    "tags": []
   },
   "outputs": [],
   "source": [
    "# df_w_live[df_w_live['labels']==2].loc[[61296, 76131, 80412]]"
   ]
  },
  {
   "cell_type": "code",
   "execution_count": 59,
   "id": "8ae8facb-7cf2-4c7a-a21d-ee0eab88d56d",
   "metadata": {
    "tags": []
   },
   "outputs": [],
   "source": [
    "# del dddf"
   ]
  },
  {
   "cell_type": "code",
   "execution_count": null,
   "id": "2f9cedb5-a62d-47ee-b9d9-d5d27b6efd08",
   "metadata": {},
   "outputs": [],
   "source": []
  },
  {
   "cell_type": "markdown",
   "id": "841b1a43-f088-469f-8f96-e3f0aab6212e",
   "metadata": {},
   "source": [
    "# Create Pytorch Dataset (custom)"
   ]
  },
  {
   "cell_type": "markdown",
   "id": "4aedd3af-e732-4c5e-89d5-6f448b2b79e1",
   "metadata": {},
   "source": [
    "## Define Dataset Class"
   ]
  },
  {
   "cell_type": "code",
   "execution_count": 62,
   "id": "1fa4bcd4-783e-4fd6-8c1c-6ca964c4aa63",
   "metadata": {
    "tags": []
   },
   "outputs": [],
   "source": [
    "# Custom Dataset Class\n",
    "## Needs AT LEAST 3 class methods\n",
    "## __init__, __len__, __getitem__\n",
    "\n",
    "class RecordsDataset(Dataset):\n",
    "    # This loads the data and converts it, make data rdy\n",
    "    def __init__(self, pd_df):\n",
    "        # load data\n",
    "        self.df=pd_df\n",
    "        # extract labels\n",
    "        self.df_labels=self.df[['labels']]\n",
    "        # drop non numeric columns to make tutorial simpler, in real life do categorical encoding\n",
    "        # self.df=df.drop(columns=['Type','Color','Spectral_Class'])\n",
    "        \n",
    "        # convert to torch dtypes\n",
    "        # self.dataset = self.df[[0,1]]\n",
    "        # self.dataset=torch.tensor(self.df[[i for i in range(300)]].to_numpy()).float()\n",
    "        self.dataset=torch.tensor(self.df[[str(i) for i in range(300)]].to_numpy()).float()\n",
    "        # self.dataset = self.df[[str(i) for i in range(10)]]\n",
    "        \n",
    "        self.labels=torch.tensor(self.df_labels.to_numpy().reshape(-1))\n",
    "    \n",
    "    # This returns the total amount of samples in your Dataset\n",
    "    def __len__(self):\n",
    "        return len(self.dataset)\n",
    "    \n",
    "    # This returns given an index the i-th sample and label\n",
    "    def __getitem__(self, idx):\n",
    "        return self.dataset[idx],self.labels[idx]"
   ]
  },
  {
   "cell_type": "code",
   "execution_count": null,
   "id": "f09b9cee-3dd3-42e4-a0d6-177f3c8073ca",
   "metadata": {},
   "outputs": [],
   "source": []
  },
  {
   "cell_type": "markdown",
   "id": "329684de-d4ef-4db8-9db9-5fcf9b84050e",
   "metadata": {},
   "source": [
    "## Instantiate Dataset Class"
   ]
  },
  {
   "cell_type": "code",
   "execution_count": 64,
   "id": "5278e3ba-2f45-4bfe-b2de-c2efa8d3c6cb",
   "metadata": {
    "tags": []
   },
   "outputs": [],
   "source": [
    "# all_dataset = RecordsDataset(df_w_live)\n",
    "train_alldataset = RecordsDataset(df_train)"
   ]
  },
  {
   "cell_type": "code",
   "execution_count": 65,
   "id": "b87ee933-a680-41d2-a8df-0be45142cc14",
   "metadata": {},
   "outputs": [],
   "source": [
    "test_alldataset = RecordsDataset(df_test)"
   ]
  },
  {
   "cell_type": "markdown",
   "id": "c46ab02a-1d5f-4df8-ad1b-61508526a922",
   "metadata": {},
   "source": [
    "## Split Train & Test"
   ]
  },
  {
   "cell_type": "code",
   "execution_count": 67,
   "id": "96a0404d-f915-45e8-a015-112f23587e5a",
   "metadata": {
    "tags": []
   },
   "outputs": [],
   "source": [
    "# train_size = int(0.7 * len(all_dataset))\n",
    "# test_size = len(all_dataset) - train_size\n",
    "# # train_alldataset, test_alldataset = torch.utils.data.random_split(all_dataset, [train_size, test_size])\n",
    "\n",
    "# train_alldataset, test_alldataset = torch.utils.data.random_split(all_dataset, [train_size, test_size], generator=torch.Generator().manual_seed(12))\n",
    "# ### torch.Generator().manual_seed(42)"
   ]
  },
  {
   "cell_type": "code",
   "execution_count": 68,
   "id": "3b1726c2-6eac-4306-8ac2-386291a3eb6d",
   "metadata": {
    "tags": []
   },
   "outputs": [],
   "source": [
    "# train_alldataset\n",
    "# len(train_alldataset)"
   ]
  },
  {
   "cell_type": "code",
   "execution_count": 69,
   "id": "8c248720-7f6e-4580-a1f2-5b6e7197cfe0",
   "metadata": {
    "tags": []
   },
   "outputs": [],
   "source": [
    "# test_alldataset\n",
    "# len(test_alldataset)"
   ]
  },
  {
   "cell_type": "code",
   "execution_count": null,
   "id": "45bbaea4-8f45-491b-9255-1725d77f3f47",
   "metadata": {},
   "outputs": [],
   "source": []
  },
  {
   "cell_type": "markdown",
   "id": "8c883ecf-f2dc-4717-8bf5-65bd7f3106f4",
   "metadata": {},
   "source": [
    "## Create Train & Test all_dataloaders"
   ]
  },
  {
   "cell_type": "code",
   "execution_count": 71,
   "id": "8bccb92c-b87f-4791-b17f-c9da5a40a289",
   "metadata": {
    "tags": []
   },
   "outputs": [],
   "source": [
    "train_alldataloader = torch.utils.data.DataLoader(train_alldataset, batch_size=32, shuffle=True)"
   ]
  },
  {
   "cell_type": "code",
   "execution_count": 72,
   "id": "f99be6bb-4ec3-40ee-8714-6b5ba5c60f3d",
   "metadata": {
    "tags": []
   },
   "outputs": [],
   "source": [
    "test_alldataloader = torch.utils.data.DataLoader(test_alldataset, batch_size=32, shuffle=False)"
   ]
  },
  {
   "cell_type": "code",
   "execution_count": null,
   "id": "7afd3d82-7f82-4fe1-8db9-a41802299951",
   "metadata": {},
   "outputs": [],
   "source": []
  },
  {
   "cell_type": "markdown",
   "id": "610175a3-d428-4688-96f3-b411841f280d",
   "metadata": {},
   "source": [
    "### Check Train alldataloader"
   ]
  },
  {
   "cell_type": "code",
   "execution_count": 74,
   "id": "9b554a19-0b0f-44d3-bbee-3cf712a14600",
   "metadata": {
    "tags": []
   },
   "outputs": [],
   "source": [
    "for images, labels in train_alldataloader:\n",
    "    break\n",
    "\n",
    "# images, labels = next(iter(dataloader))"
   ]
  },
  {
   "cell_type": "code",
   "execution_count": 75,
   "id": "671ee026-54f1-4e4b-8154-b751f983d7f7",
   "metadata": {
    "tags": []
   },
   "outputs": [
    {
     "data": {
      "image/png": "[encoded data removed]",
      "text/plain": [
       "<Figure size 640x480 with 6 Axes>"
      ]
     },
     "metadata": {},
     "output_type": "display_data"
    }
   ],
   "source": [
    "examples = iter(train_alldataloader)\n",
    "# example_data, example_targets = examples.next()\n",
    "example_data, example_targets = next(examples)\n",
    "\n",
    "# example_data.shape\n",
    "# example_data[0].reshape(15,20)\n",
    "\n",
    "\n",
    "for i in range(6):\n",
    "    plt.subplot(2,3,i+1)\n",
    "    plt.imshow(example_data[i].reshape(15,20), cmap='gray')\n",
    "    # print(example_targets)\n",
    "plt.show()"
   ]
  },
  {
   "cell_type": "code",
   "execution_count": 76,
   "id": "371e87e9-1027-40ea-a023-fb56bad3f3b0",
   "metadata": {
    "tags": []
   },
   "outputs": [
    {
     "name": "stdout",
     "output_type": "stream",
     "text": [
      "tensor([0, 2, 2, 0, 1, 1, 2, 0, 2, 0, 0, 0, 1, 0, 1, 1, 1, 2, 1, 1, 0, 0, 2, 0,\n",
      "        1, 0, 1, 1, 0, 1, 0, 0])\n"
     ]
    }
   ],
   "source": [
    "print(example_targets)"
   ]
  },
  {
   "cell_type": "code",
   "execution_count": null,
   "id": "f4288e75-a2b8-4d96-82ec-ab867b724bf8",
   "metadata": {},
   "outputs": [],
   "source": []
  },
  {
   "cell_type": "markdown",
   "id": "5650c96a-d11e-4747-8cb0-f89d141158c1",
   "metadata": {},
   "source": [
    "### Check Test alldataloader"
   ]
  },
  {
   "cell_type": "code",
   "execution_count": 78,
   "id": "8360bc5c-6356-467b-8183-d393958b89ce",
   "metadata": {
    "tags": []
   },
   "outputs": [],
   "source": [
    "for images, labels in test_alldataloader:\n",
    "    break\n",
    "\n",
    "# images, labels = next(iter(dataloader))"
   ]
  },
  {
   "cell_type": "code",
   "execution_count": 79,
   "id": "6856b5e3-999b-49fa-a850-c1e4cbe13391",
   "metadata": {
    "tags": []
   },
   "outputs": [
    {
     "data": {
      "image/png": "[encoded data removed]",
      "text/plain": [
       "<Figure size 640x480 with 6 Axes>"
      ]
     },
     "metadata": {},
     "output_type": "display_data"
    }
   ],
   "source": [
    "examples = iter(test_alldataloader)\n",
    "# example_data, example_targets = examples.next()\n",
    "example_data, example_targets = next(examples)\n",
    "\n",
    "\n",
    "for i in range(6):\n",
    "    plt.subplot(2,3,i+1)\n",
    "    plt.imshow(example_data[i].reshape(15,20), cmap='gray')\n",
    "    # print(example_targets)\n",
    "plt.show()"
   ]
  },
  {
   "cell_type": "code",
   "execution_count": 80,
   "id": "655ce30b-3085-4e92-a916-f949c4cc1bc5",
   "metadata": {
    "tags": []
   },
   "outputs": [
    {
     "name": "stdout",
     "output_type": "stream",
     "text": [
      "tensor([0, 1, 1, 1, 0, 1, 0, 0, 1, 1, 1, 0, 1, 0, 1, 1, 1, 0, 1, 1, 1, 1, 0, 1,\n",
      "        0, 1, 1, 0, 1, 0, 1, 1])\n"
     ]
    }
   ],
   "source": [
    "print(example_targets)"
   ]
  },
  {
   "cell_type": "code",
   "execution_count": null,
   "id": "2b01fa31-50e5-4016-84b6-c6c953770757",
   "metadata": {},
   "outputs": [],
   "source": []
  },
  {
   "cell_type": "code",
   "execution_count": null,
   "id": "070c4be4-b39f-4b37-92f5-e8ee45f62940",
   "metadata": {},
   "outputs": [],
   "source": []
  },
  {
   "cell_type": "markdown",
   "id": "09d16ffd-1123-43dc-b214-1bbeacacb83d",
   "metadata": {},
   "source": [
    "# Create First CNN\n",
    "- Live Data vs (PerfectMM & NearPerfectMM) v StreakMM\n"
   ]
  },
  {
   "cell_type": "markdown",
   "id": "4c048b70-04bd-40a3-b79a-074e4ea95210",
   "metadata": {},
   "source": [
    "## Configurations (Hyperparameters)"
   ]
  },
  {
   "cell_type": "code",
   "execution_count": 1374,
   "id": "80e97077-b036-4949-af74-b7fb8eaf2127",
   "metadata": {
    "tags": []
   },
   "outputs": [],
   "source": [
    "# Device configuration\n",
    "# device = torch.device('cuda' if torch.cuda.is_available() else 'cpu')\n",
    "device = torch.device('mps' if torch.backends.mps.is_available() else 'cpu')\n",
    "\n",
    "# Hyper-parameters\n",
    "input_size = 15*20 # originally 348x465 before resize\n",
    "\n",
    "num_classes = 3\n",
    "\n",
    "\n",
    "# num_epochs = 1\n",
    "# num_epochs = 2\n",
    "# num_epochs = 10\n",
    "# num_epochs = 20\n",
    "num_epochs = 50\n",
    "# num_epochs = 100\n",
    "# num_epochs = 300\n",
    "# num_epochs = 500\n",
    "# num_epochs = 1000\n",
    "\n",
    "# learning_rate = 0.0001\n",
    "learning_rate = 0.0003\n",
    "# learning_rate = 0.001"
   ]
  },
  {
   "cell_type": "code",
   "execution_count": 1375,
   "id": "d9b1f9aa-ecfb-47d7-8d18-8e0c04af2d88",
   "metadata": {
    "tags": []
   },
   "outputs": [
    {
     "name": "stdout",
     "output_type": "stream",
     "text": [
      "mps\n"
     ]
    }
   ],
   "source": [
    "print(device)"
   ]
  },
  {
   "cell_type": "markdown",
   "id": "7e5cab2e-7e24-4c68-a8cf-5fe71e960339",
   "metadata": {},
   "source": [
    "## Define Model"
   ]
  },
  {
   "cell_type": "code",
   "execution_count": 1377,
   "id": "f53cfcfb-e614-456f-a681-4f6d25850baf",
   "metadata": {
    "tags": []
   },
   "outputs": [],
   "source": [
    "### variation of ...\n",
    "### cnn_flat_v8.1_lstm_1drop_10epo.pth\n",
    "### cnn_flat_v8.2_lstm_1drop_300epo.pth\n",
    "\n",
    "\n",
    "class ConvNet(nn.Module):\n",
    "    def __init__(self):\n",
    "        super().__init__()\n",
    "            \n",
    "        self.pool = nn.MaxPool1d(kernel_size=2, stride=2, padding=0, return_indices=False)\n",
    "        \n",
    "        ###\n",
    "        self.conv1 = nn.Conv1d(in_channels=1, out_channels=64, kernel_size=3, padding='same')\n",
    "        \n",
    "        self.lstm1 = nn.LSTM(input_size=150, batch_first=True, bidirectional=True, hidden_size=128, num_layers=1)\n",
    "        \n",
    "        ###\n",
    "        self.conv2 = nn.Conv1d(in_channels=64, out_channels=32, kernel_size=3, padding='same')\n",
    "        \n",
    "        self.lstm2 = nn.LSTM(input_size=128, batch_first=True, bidirectional=True, hidden_size=32, num_layers=1)\n",
    "        \n",
    "        ###\n",
    "        self.conv3 = nn.Conv1d(in_channels=32, out_channels=16, kernel_size=3, padding='same')\n",
    "        \n",
    "        self.lstm3 = nn.LSTM(input_size=32, batch_first=True, bidirectional=True, hidden_size=16, num_layers=1)\n",
    "        \n",
    "        ###\n",
    "        self.fc1 = nn.Linear(512, 256)\n",
    "        \n",
    "        self.fc2 = nn.Linear(256, 128)\n",
    "        \n",
    "        self.fc_final = nn.Linear(128, num_classes)\n",
    "\n",
    "        # self.fc1 = nn.Linear(2*8*128, 512)\n",
    "            \n",
    "            \n",
    "#         # self.pool = nn.MaxPool1d(kernel_size=2, stride=1, padding=0, return_indices=False)\n",
    "#         # self.pool1 = nn.MaxPool1d(kernel_size=4, stride=2, padding=0, return_indices=False)\n",
    "#         self.pool2 = nn.MaxPool1d(kernel_size=2, stride=2, padding=0, return_indices=False)\n",
    "        \n",
    "        \n",
    "#         self.conv1 = nn.Conv1d(in_channels=1, out_channels=128, kernel_size=3, padding='same')\n",
    "#         # self.conv1 = nn.Conv1d(in_channels=1, out_channels=32, kernel_size=3)\n",
    "        \n",
    "#         self.conv2 = nn.Conv1d(in_channels=128, out_channels=32, kernel_size=5, padding='same')\n",
    "#         # self.conv2 = nn.Conv1d(in_channels=32, out_channels=16, kernel_size=3)\n",
    "#         # self.conv2.weight.data = torch.Tensor([[[0.25, 0.5, 0.25]]]).expand(128, 256, 3)\n",
    "        \n",
    "#         self.conv3 = nn.Conv1d(in_channels=32, out_channels=8, kernel_size=7, padding='same')\n",
    "#         # self.conv3 = nn.Conv1d(in_channels=16, out_channels=8, kernel_size=3)\n",
    "#         # # self.conv3.weight.data = torch.Tensor([[[0.25, 0.5, 0.25]]]).expand(64, 128, 3)\n",
    "        \n",
    "        \n",
    "#         self.fc1 = nn.Linear(2*8*128, 512)\n",
    "#         self.fc2 = nn.Linear(512, 128)\n",
    "#         self.fc3 = nn.Linear(128, 32)\n",
    "        \n",
    "#         # self.lstm1 = nn.LSTM(input_size=37, batch_first=True, bidirectional=False, hidden_size=128, num_layers=1)\n",
    "#         self.lstm1 = nn.LSTM(input_size=37, batch_first=True, bidirectional=True, hidden_size=128, num_layers=1)\n",
    "        \n",
    "#         # self.lstm1 = nn.LSTM(input_size=128, batch_first=True, bidirectional=True, hidden_size=64, num_layers=2, dropout=0.25)\n",
    "#         # self.lstm2 = nn.LSTM(input_size=128, batch_first=True, bidirectional=False, hidden_size=64)\n",
    "#         # self.lstm3 = nn.LSTM(input_size=64, batch_first=True, bidirectional=False, hidden_size=32)\n",
    "        \n",
    "        \n",
    "#         self.fc_final = nn.Linear(32, num_classes)\n",
    "        \n",
    "#         self.drop1 = nn.Dropout(p=0.3)\n",
    "#         # self.drop2 = nn.Dropout(p=0.3)\n",
    "        \n",
    "\n",
    "    def forward(self, x):\n",
    "        # print(f'starting shape : {x.shape}')       # batch_size, 300\n",
    "        \n",
    "        x = x.reshape(-1, 1, 300)       # -> batch_size, 1, 300\n",
    "        # print(x.shape)      \n",
    "        \n",
    "        x = F.relu(self.conv1(x))       # -> batch_size, 64, 300\n",
    "        # print(x.shape)\n",
    "        \n",
    "        x = self.pool(x)       # -> batch_size, 64, 150\n",
    "        # print(x.shape)\n",
    "        \n",
    "        x, _ = self.lstm1(x)     # -> batch_size, 64, 2 * 128\n",
    "        # print(f'lstm1: {x.shape}')\n",
    "        \n",
    "        x = F.relu(self.conv2(x))       # -> batch_size, 32, 2 * 128\n",
    "        # print(x.shape)\n",
    "        \n",
    "        x = self.pool(x)       # -> batch_size, 32, 128\n",
    "        # print(x.shape)\n",
    "        \n",
    "        x, _ = self.lstm2(x)     # -> batch_size, 32, 2 * 32\n",
    "        # print(f'lstm2: {x.shape}')\n",
    "        \n",
    "        x = F.relu(self.conv3(x))       # -> batch_size, 16, 64\n",
    "        # print(x.shape)\n",
    "        \n",
    "        x = self.pool(x)       # -> batch_size, 16, 32\n",
    "        # print(x.shape)\n",
    "        \n",
    "        x, _ = self.lstm3(x)     # -> batch_size, 16, 32\n",
    "        # print(f'lstm3: {x.shape}')\n",
    "        \n",
    "        x = torch.flatten(x, 1)     # -> batch_size, 512\n",
    "        # print(f'flatten: {x.shape}')\n",
    "        \n",
    "        x = F.relu(self.fc1(x))       # -> batch_size, 256\n",
    "        # print(x.shape)\n",
    "        \n",
    "        x = F.relu(self.fc2(x))       # -> batch_size, 128\n",
    "        # print(x.shape)\n",
    "        \n",
    "        x = self.fc_final(x)       # -> batch_size, 3\n",
    "        # print(x.shape)\n",
    "        \n",
    "        \n",
    "        \n",
    "#         x = x.reshape(-1, 1, 300)\n",
    "#         # print(x.shape)      # batch_size, 1, 300\n",
    "        \n",
    "#         x = F.relu(self.conv1(x))   # -> batch_size, 32, 300\n",
    "#         # print(x.shape)\n",
    "#         x = self.pool2(x)            # -> batch_size, 32, 150\n",
    "#         # print(x.shape)\n",
    "        \n",
    "#         x = F.relu(self.conv2(x))   # -> batch_size, 16, 150\n",
    "#         # print(x.shape)\n",
    "#         x = self.pool2(x)            # -> batch_size, 16, 75\n",
    "#         # print(x.shape)\n",
    "        \n",
    "#         x = F.relu(self.conv3(x))   # -> batch_size, 8, 75\n",
    "#         # print(x.shape)\n",
    "        \n",
    "#         x = self.pool2(x)            # -> batch_size, 8, 37\n",
    "#         # print(x.shape)\n",
    "\n",
    "#         # x = torch.flatten(x, 1)     # -> batch_size, 4672\n",
    "#         # print(f'flatten1: {x.shape}')\n",
    "        \n",
    "#         x = self.drop1(x)\n",
    "        \n",
    "#         x, _ = self.lstm1(x)     # -> batch_size, 8, 128\n",
    "#         # print(f'lstm1: {x.shape}')\n",
    "        \n",
    "        \n",
    "#         # x = F.relu(self.fc1(x), 1)     # -> batch_size, 2368\n",
    "#         # x = self.drop1(x)\n",
    "#         # print(x.shape)\n",
    "        \n",
    "#        # x, _ = self.lstm1(x)     # -> batch_size, 64*2\n",
    "#        # print(f'lstm1: {x.shape}')\n",
    "        \n",
    "#         # x, _ = self.lstm2(x)     # -> batch_size, 16\n",
    "#         # print(f'lstm2: {x.shape}')\n",
    "        \n",
    "        # x = torch.flatten(x, 1)     # -> batch_size, 1024\n",
    "        # # print(f'flatten2: {x.shape}')\n",
    "        \n",
    "#         x = F.relu(self.fc1(x))             # -> batch_size, 128\n",
    "#         # print(x.shape)\n",
    "        \n",
    "#         x = F.relu(self.fc2(x))\n",
    "#         # print(x.shape)\n",
    "        \n",
    "#         x = self.fc3(x)             # -> batch_size, num_classes(=3)\n",
    "#         # print(x.shape)\n",
    "    \n",
    "        \n",
    "        return x\n",
    "    \n",
    "    \n",
    "    \n",
    "#######################    \n",
    "# starting shape : torch.Size([32, 300])\n",
    "# torch.Size([32, 1, 300])\n",
    "# torch.Size([32, 64, 300])\n",
    "# torch.Size([32, 64, 150])\n",
    "# lstm1: torch.Size([32, 64, 256])\n",
    "# torch.Size([32, 32, 256])\n",
    "# torch.Size([32, 32, 128])\n",
    "# lstm2: torch.Size([32, 32, 64])\n",
    "# torch.Size([32, 16, 64])\n",
    "# torch.Size([32, 16, 32])\n",
    "# lstm3: torch.Size([32, 16, 32])\n",
    "# flatten: torch.Size([32, 512])\n",
    "# torch.Size([32, 256])\n",
    "# torch.Size([32, 128])\n",
    "# torch.Size([32, 3])\n",
    "\n",
    "### ~14 seconds per epoch to train (mps, w/ 1 dropout, Adam)"
   ]
  },
  {
   "cell_type": "code",
   "execution_count": 1378,
   "id": "f6d1c8d1-b760-4f4b-a5da-5860970e6e0c",
   "metadata": {
    "jupyter": {
     "source_hidden": true
    },
    "tags": []
   },
   "outputs": [],
   "source": [
    "# ### variation of ...\n",
    "# ### cnn_flat_v8.1_lstm_1drop_10epo.pth\n",
    "# ### cnn_flat_v8.2_lstm_1drop_300epo.pth\n",
    "\n",
    "\n",
    "# class ConvNet(nn.Module):\n",
    "#     def __init__(self):\n",
    "#         super().__init__()\n",
    "#         # self.pool = nn.MaxPool1d(kernel_size=2, stride=1, padding=0, return_indices=False)\n",
    "#         # self.pool1 = nn.MaxPool1d(kernel_size=4, stride=2, padding=0, return_indices=False)\n",
    "#         self.pool2 = nn.MaxPool1d(kernel_size=2, stride=2, padding=0, return_indices=False)\n",
    "        \n",
    "        \n",
    "#         self.conv1 = nn.Conv1d(in_channels=1, out_channels=128, kernel_size=3, padding='same')\n",
    "#         # self.conv1 = nn.Conv1d(in_channels=1, out_channels=32, kernel_size=3)\n",
    "        \n",
    "#         self.conv2 = nn.Conv1d(in_channels=128, out_channels=32, kernel_size=5, padding='same')\n",
    "#         # self.conv2 = nn.Conv1d(in_channels=32, out_channels=16, kernel_size=3)\n",
    "#         # self.conv2.weight.data = torch.Tensor([[[0.25, 0.5, 0.25]]]).expand(128, 256, 3)\n",
    "        \n",
    "#         self.conv3 = nn.Conv1d(in_channels=32, out_channels=8, kernel_size=7, padding='same')\n",
    "#         # self.conv3 = nn.Conv1d(in_channels=16, out_channels=8, kernel_size=3)\n",
    "#         # # self.conv3.weight.data = torch.Tensor([[[0.25, 0.5, 0.25]]]).expand(64, 128, 3)\n",
    "        \n",
    "        \n",
    "#         self.fc1 = nn.Linear(2*8*128, 512)\n",
    "#         self.fc2 = nn.Linear(512, 128)\n",
    "#         self.fc3 = nn.Linear(128, 32)\n",
    "        \n",
    "#         # self.lstm1 = nn.LSTM(input_size=37, batch_first=True, bidirectional=False, hidden_size=128, num_layers=1)\n",
    "#         self.lstm1 = nn.LSTM(input_size=37, batch_first=True, bidirectional=True, hidden_size=128, num_layers=1)\n",
    "        \n",
    "#         # self.lstm1 = nn.LSTM(input_size=128, batch_first=True, bidirectional=True, hidden_size=64, num_layers=2, dropout=0.25)\n",
    "#         # self.lstm2 = nn.LSTM(input_size=128, batch_first=True, bidirectional=False, hidden_size=64)\n",
    "#         # self.lstm3 = nn.LSTM(input_size=64, batch_first=True, bidirectional=False, hidden_size=32)\n",
    "        \n",
    "        \n",
    "#         self.fc4 = nn.Linear(32, num_classes)\n",
    "        \n",
    "#         self.drop1 = nn.Dropout(p=0.3)\n",
    "#         # self.drop2 = nn.Dropout(p=0.3)\n",
    "        \n",
    "\n",
    "#     def forward(self, x):\n",
    "#         # print(f'starting shape : {x.shape}')       # batch_size, 300\n",
    "        \n",
    "#         x = x.reshape(-1, 1, 300)\n",
    "#         # print(x.shape)      # batch_size, 1, 300\n",
    "        \n",
    "#         x = F.relu(self.conv1(x))   # -> batch_size, 32, 300\n",
    "#         # print(x.shape)\n",
    "#         x = self.pool2(x)            # -> batch_size, 32, 150\n",
    "#         # print(x.shape)\n",
    "        \n",
    "#         x = F.relu(self.conv2(x))   # -> batch_size, 16, 150\n",
    "#         # print(x.shape)\n",
    "#         x = self.pool2(x)            # -> batch_size, 16, 75\n",
    "#         # print(x.shape)\n",
    "        \n",
    "#         x = F.relu(self.conv3(x))   # -> batch_size, 8, 75\n",
    "#         # print(x.shape)\n",
    "        \n",
    "#         x = self.pool2(x)            # -> batch_size, 8, 37\n",
    "#         # print(x.shape)\n",
    "\n",
    "#         # x = torch.flatten(x, 1)     # -> batch_size, 4672\n",
    "#         # print(f'flatten1: {x.shape}')\n",
    "        \n",
    "#         x = self.drop1(x)\n",
    "        \n",
    "#         x, _ = self.lstm1(x)     # -> batch_size, 8, 128\n",
    "#         # print(f'lstm1: {x.shape}')\n",
    "        \n",
    "        \n",
    "#         # x = F.relu(self.fc1(x), 1)     # -> batch_size, 2368\n",
    "#         # x = self.drop1(x)\n",
    "#         # print(x.shape)\n",
    "        \n",
    "#         # x, _ = self.lstm1(x)     # -> batch_size, 64*2\n",
    "#         # print(f'lstm1: {x.shape}')\n",
    "        \n",
    "#         # x, _ = self.lstm2(x)     # -> batch_size, 16\n",
    "#         # print(f'lstm2: {x.shape}')\n",
    "        \n",
    "#         x = torch.flatten(x, 1)     # -> batch_size, 1024\n",
    "#         # print(f'flatten2: {x.shape}')\n",
    "        \n",
    "#         x = F.relu(self.fc1(x))             # -> batch_size, 128\n",
    "#         # print(x.shape)\n",
    "        \n",
    "#         x = F.relu(self.fc2(x))\n",
    "#         # print(x.shape)\n",
    "        \n",
    "#         x = self.fc3(x)             # -> batch_size, num_classes(=3)\n",
    "#         # print(x.shape)\n",
    "    \n",
    "        \n",
    "#         return x\n",
    "    \n",
    "    \n",
    "    \n",
    "# #######################    \n",
    "# # starting shape : torch.Size([32, 300])\n",
    "# # torch.Size([32, 1, 300])\n",
    "# # torch.Size([32, 32, 298])\n",
    "# # torch.Size([32, 32, 149])\n",
    "# # torch.Size([32, 16, 147])\n",
    "# # torch.Size([32, 16, 73])\n",
    "# # torch.Size([32, 8, 73])\n",
    "# # torch.Size([32, 8, 36])\n",
    "# # lstm1: torch.Size([32, 8, 128])\n",
    "# # flatten2: torch.Size([32, 1024])\n",
    "# # torch.Size([32, 256])\n",
    "# # torch.Size([32, 3])\n",
    "\n",
    "# ### ~14 seconds per epoch to train (mps, w/ 1 dropout, Adam)"
   ]
  },
  {
   "cell_type": "code",
   "execution_count": 1379,
   "id": "7c60d734-fd8d-478d-8ad2-4bd2025f6af0",
   "metadata": {
    "jupyter": {
     "source_hidden": true
    },
    "tags": []
   },
   "outputs": [],
   "source": [
    "# ### variation of ...\n",
    "# ### cnn_flat_v8.1_lstm_1drop_10epo.pth\n",
    "# ### cnn_flat_v8.2_lstm_1drop_300epo.pth\n",
    "\n",
    "\n",
    "# class ConvNet(nn.Module):\n",
    "#     def __init__(self):\n",
    "#         super().__init__()\n",
    "#         # self.pool = nn.MaxPool1d(kernel_size=2, stride=1, padding=0, return_indices=False)\n",
    "#         # self.pool1 = nn.MaxPool1d(kernel_size=4, stride=2, padding=0, return_indices=False)\n",
    "#         self.pool2 = nn.MaxPool1d(kernel_size=2, stride=2, padding=0, return_indices=False)\n",
    "        \n",
    "        \n",
    "#         # self.conv1 = nn.Conv1d(in_channels=1, out_channels=128, kernel_size=3, padding='same')\n",
    "#         self.conv1 = nn.Conv1d(in_channels=1, out_channels=32, kernel_size=3)\n",
    "        \n",
    "#         # self.conv2 = nn.Conv1d(in_channels=128, out_channels=64, kernel_size=3, padding='same')\n",
    "#         self.conv2 = nn.Conv1d(in_channels=32, out_channels=16, kernel_size=3)\n",
    "#         # self.conv2.weight.data = torch.Tensor([[[0.25, 0.5, 0.25]]]).expand(128, 256, 3)\n",
    "        \n",
    "#         # self.conv3 = nn.Conv1d(in_channels=128, out_channels=64, kernel_size=3, padding='same')\n",
    "#         # # self.conv3.weight.data = torch.Tensor([[[0.25, 0.5, 0.25]]]).expand(64, 128, 3)\n",
    "        \n",
    "        \n",
    "#         self.fc1 = nn.Linear(1024, 256)\n",
    "#         self.fc2 = nn.Linear(256, 64)\n",
    "        \n",
    "#         self.lstm1 = nn.LSTM(input_size=73, batch_first=True, bidirectional=False, hidden_size=128, num_layers=1)\n",
    "#         # self.lstm1 = nn.LSTM(input_size=128, batch_first=True, bidirectional=True, hidden_size=64, num_layers=2, dropout=0.25)\n",
    "#         # self.lstm2 = nn.LSTM(input_size=128, batch_first=True, bidirectional=False, hidden_size=64)\n",
    "#         # self.lstm3 = nn.LSTM(input_size=64, batch_first=True, bidirectional=False, hidden_size=32)\n",
    "        \n",
    "        \n",
    "#         self.fc3 = nn.Linear(64, num_classes)\n",
    "        \n",
    "#         self.drop1 = nn.Dropout(p=0.3)\n",
    "#         # self.drop2 = nn.Dropout(p=0.3)\n",
    "        \n",
    "\n",
    "#     def forward(self, x):\n",
    "#         # print(f'starting shape : {x.shape}')       # batch_size, 300\n",
    "        \n",
    "#         x = x.reshape(-1, 1, 300)\n",
    "#         # print(x.shape)      # batch_size, 1, 300\n",
    "        \n",
    "#         x = F.relu(self.conv1(x))   # -> batch_size, 4, 298\n",
    "#         # print(x.shape)\n",
    "#         x = self.pool2(x)            # -> batch_size, 4, 149\n",
    "#         # print(x.shape)\n",
    "        \n",
    "#         x = F.relu(self.conv2(x))   # -> batch_size, 64, 147\n",
    "#         # print(x.shape)\n",
    "#         x = self.pool2(x)            # -> batch_size, 64, 73\n",
    "#         # print(x.shape)\n",
    "        \n",
    "#         # x = F.relu(self.conv3(x))   # -> batch_size, 64, 75\n",
    "#         # # print(x.shape)\n",
    "#         # x = self.pool(x)            # -> batch_size, 64, 37\n",
    "#         # # print(x.shape)\n",
    "\n",
    "#         # x = torch.flatten(x, 1)     # -> batch_size, 4672\n",
    "#         # print(f'flatten1: {x.shape}')\n",
    "        \n",
    "#         x = self.drop1(x)\n",
    "        \n",
    "#         x, _ = self.lstm1(x)     # -> batch_size, 4, 128\n",
    "#         # print(f'lstm1: {x.shape}')\n",
    "        \n",
    "        \n",
    "#         # x = F.relu(self.fc1(x), 1)     # -> batch_size, 2368\n",
    "#         # x = self.drop1(x)\n",
    "#         # print(x.shape)\n",
    "        \n",
    "#         # x, _ = self.lstm1(x)     # -> batch_size, 64*2\n",
    "#         # print(f'lstm1: {x.shape}')\n",
    "        \n",
    "#         # x, _ = self.lstm2(x)     # -> batch_size, 16\n",
    "#         # print(f'lstm2: {x.shape}')\n",
    "        \n",
    "#         x = torch.flatten(x, 1)     # -> batch_size, 1024\n",
    "#         # print(f'flatten2: {x.shape}')\n",
    "        \n",
    "#         x = F.relu(self.fc1(x))             # -> batch_size, 128\n",
    "#         # print(x.shape)\n",
    "        \n",
    "#         x = F.relu(self.fc2(x))\n",
    "        \n",
    "#         x = self.fc3(x)             # -> batch_size, num_classes(=3)\n",
    "#         # print(x.shape)\n",
    "    \n",
    "        \n",
    "#         return x\n",
    "    \n",
    "    \n",
    "    \n",
    "# #######################    \n",
    "# # starting shape : torch.Size([32, 300])\n",
    "# # torch.Size([32, 1, 300])\n",
    "# # torch.Size([32, 16, 298])\n",
    "# # torch.Size([32, 16, 149])\n",
    "# # torch.Size([32, 8, 147])\n",
    "# # torch.Size([32, 8, 73])\n",
    "# # lstm1: torch.Size([32, 8, 128])\n",
    "# # flatten2: torch.Size([32, 1024])\n",
    "# # torch.Size([32, 128])\n",
    "# # torch.Size([32, 3])\n",
    "\n",
    "# ### ~14 seconds per epoch to train (mps, w/ 1 dropout, Adam)"
   ]
  },
  {
   "cell_type": "code",
   "execution_count": 1380,
   "id": "38564fcc-8d0f-4c2a-919d-6d9fcdf855e6",
   "metadata": {
    "jupyter": {
     "source_hidden": true
    },
    "tags": []
   },
   "outputs": [],
   "source": [
    "# ### variation of ...\n",
    "# ### cnn_flat_v8.1_lstm_1drop_10epo.pth\n",
    "# ### cnn_flat_v8.2_lstm_1drop_300epo.pth\n",
    "\n",
    "\n",
    "# class ConvNet(nn.Module):\n",
    "#     def __init__(self):\n",
    "#         super().__init__()\n",
    "#         # self.pool = nn.MaxPool1d(kernel_size=2, stride=1, padding=0, return_indices=False)\n",
    "#         self.pool = nn.MaxPool1d(kernel_size=2, stride=2, padding=0, return_indices=False)\n",
    "        \n",
    "        \n",
    "#         self.conv1 = nn.Conv1d(in_channels=1, out_channels=256, kernel_size=3, padding='same')\n",
    "#         # self.conv1.weight.data = torch.Tensor([[[0.1, 0.2, 0.4, 0.2, 0.1]]]).expand(256, 1, 5)\n",
    "        \n",
    "#         self.conv2 = nn.Conv1d(in_channels=256, out_channels=128, kernel_size=3, padding='same')\n",
    "#         # self.conv2.weight.data = torch.Tensor([[[0.25, 0.5, 0.25]]]).expand(128, 256, 3)\n",
    "        \n",
    "#         self.conv3 = nn.Conv1d(in_channels=128, out_channels=64, kernel_size=3, padding='same')\n",
    "#         # self.conv3.weight.data = torch.Tensor([[[0.25, 0.5, 0.25]]]).expand(64, 128, 3)\n",
    "        \n",
    "        \n",
    "#         self.fc1 = nn.Linear(64*37, 16*37)\n",
    "#         # self.fc2 = nn.Linear(128, 64)\n",
    "        \n",
    "#         self.lstm1 = nn.LSTM(input_size=16*37, batch_first=True, bidirectional=False, hidden_size=128, num_layers=1)\n",
    "#         # self.lstm1 = nn.LSTM(input_size=128, batch_first=True, bidirectional=True, hidden_size=64, num_layers=2, dropout=0.25)\n",
    "#         self.lstm2 = nn.LSTM(input_size=128, batch_first=True, bidirectional=False, hidden_size=64)\n",
    "#         self.lstm3 = nn.LSTM(input_size=64, batch_first=True, bidirectional=False, hidden_size=32)\n",
    "        \n",
    "        \n",
    "#         self.fc2 = nn.Linear(32, num_classes)\n",
    "        \n",
    "#         self.drop1 = nn.Dropout(p=0.3)\n",
    "#         # self.drop2 = nn.Dropout(p=0.3)\n",
    "        \n",
    "\n",
    "#     def forward(self, x):\n",
    "#         # print(f'starting shape : {x.shape}')       # batch_size, 300\n",
    "        \n",
    "#         x = x.reshape(-1, 1, 300)\n",
    "#         # print(x.shape)      # batch_size, 1, 300\n",
    "        \n",
    "#         x = F.relu(self.conv1(x))   # -> batch_size, 256, 300\n",
    "#         # print(x.shape)\n",
    "#         x = self.pool(x)            # -> batch_size, 256, 150\n",
    "#         # print(x.shape)\n",
    "        \n",
    "#         x = F.relu(self.conv2(x))   # -> batch_size, 128, 150\n",
    "#         # print(x.shape)\n",
    "#         x = self.pool(x)            # -> batch_size, 128, 75\n",
    "#         # print(x.shape)\n",
    "        \n",
    "#         x = F.relu(self.conv3(x))   # -> batch_size, 64, 75\n",
    "#         # print(x.shape)\n",
    "#         x = self.pool(x)            # -> batch_size, 64, 37\n",
    "#         # print(x.shape)\n",
    "\n",
    "#         x = torch.flatten(x, 1)     # -> batch_size, 288\n",
    "#         # print(f'flatten1: {x.shape}')\n",
    "#         x = self.drop1(x)\n",
    "        \n",
    "        \n",
    "#         x = F.relu(self.fc1(x), 1)     # -> batch_size, 2368\n",
    "#         # x = self.drop1(x)\n",
    "#         # print(x.shape)\n",
    "        \n",
    "#         x, _ = self.lstm1(x)     # -> batch_size, 64*2\n",
    "#         # print(f'lstm1: {x.shape}')\n",
    "        \n",
    "#         x, _ = self.lstm2(x)     # -> batch_size, 16\n",
    "#         # print(f'lstm2: {x.shape}')\n",
    "        \n",
    "#         x, _ = self.lstm3(x)     # -> batch_size, 16\n",
    "#         # print(f'lstm2: {x.shape}')\n",
    "        \n",
    "#         x = torch.flatten(x, 1)     # -> batch_size, 128\n",
    "#         # print(f'flatten2: {x.shape}')\n",
    "        \n",
    "#         x = self.fc2(x)             # -> batch_size, num_classes(=3)\n",
    "#         # print(x.shape)\n",
    "    \n",
    "        \n",
    "#         return x\n",
    "    \n",
    "    \n",
    "    \n",
    "# #######################    \n",
    "# # starting shape : torch.Size([32, 300])\n",
    "# # torch.Size([32, 1, 300])\n",
    "# # torch.Size([32, 128, 300])\n",
    "# # torch.Size([32, 128, 150])\n",
    "# # torch.Size([32, 64, 150])\n",
    "# # torch.Size([32, 64, 75])\n",
    "# # torch.Size([32, 32, 75])\n",
    "# # torch.Size([32, 32, 37])\n",
    "# # flatten1: torch.Size([32, 1184])\n",
    "# # torch.Size([32, 128])\n",
    "# # lstm1: torch.Size([32, 64])\n",
    "# # lstm2: torch.Size([32, 32])\n",
    "# # flatten2: torch.Size([32, 32])\n",
    "# # torch.Size([32, 3])\n",
    "\n",
    "\n",
    "# ### apprx 10 seconds per epoch to train (mps, w/ 1 dropout, Adam)\n",
    "\n",
    "# ### 10 epochs, initial loss: 0.532, final loss: 0.439 //  mins\n",
    "# ### 50 epochs // initial loss: 0.542, final loss: 0.185 //  mins\n",
    "# ### 100 epochs // initial loss: 0.522, final loss: 0.092 //  mins\n",
    "# ### 300 epochs // initial loss: , final loss:  //  mins\n",
    "# ### 500 epochs // initial loss: , final loss:  //  mins\n"
   ]
  },
  {
   "cell_type": "code",
   "execution_count": 1381,
   "id": "539a6e40-e149-4c50-b8b4-c0f4afc002de",
   "metadata": {
    "jupyter": {
     "source_hidden": true
    },
    "tags": []
   },
   "outputs": [],
   "source": [
    "# ### variation of ...\n",
    "# ### cnn_flat_v8.1_lstm_1drop_10epo.pth\n",
    "# ### cnn_flat_v8.2_lstm_1drop_300epo.pth\n",
    "\n",
    "\n",
    "# class ConvNet(nn.Module):\n",
    "#     def __init__(self):\n",
    "#         super().__init__()\n",
    "#         # self.pool = nn.MaxPool1d(kernel_size=2, stride=1, padding=0, return_indices=False)\n",
    "#         self.pool = nn.MaxPool1d(kernel_size=2, stride=2, padding=0, return_indices=False)\n",
    "        \n",
    "        \n",
    "#         self.conv1 = nn.Conv1d(in_channels=1, out_channels=256, kernel_size=5, padding='same')\n",
    "#         # self.conv1.weight.data = torch.Tensor([[[0.1, 0.2, 0.4, 0.2, 0.1]]]).expand(256, 1, 5)\n",
    "        \n",
    "#         self.conv2 = nn.Conv1d(in_channels=256, out_channels=128, kernel_size=3, padding='same')\n",
    "#         # self.conv2.weight.data = torch.Tensor([[[0.25, 0.5, 0.25]]]).expand(128, 256, 3)\n",
    "        \n",
    "#         self.conv3 = nn.Conv1d(in_channels=128, out_channels=64, kernel_size=3, padding='same')\n",
    "#         # self.conv3.weight.data = torch.Tensor([[[0.25, 0.5, 0.25]]]).expand(64, 128, 3)\n",
    "        \n",
    "        \n",
    "#         self.fc1 = nn.Linear(64*37, 128)\n",
    "#         # self.fc2 = nn.Linear(128, 64)\n",
    "        \n",
    "#         self.lstm1 = nn.LSTM(input_size=128, batch_first=True, bidirectional=False, hidden_size=64, num_layers=1)\n",
    "#         # self.lstm1 = nn.LSTM(input_size=128, batch_first=True, bidirectional=True, hidden_size=64, num_layers=2, dropout=0.25)\n",
    "#         self.lstm2 = nn.LSTM(input_size=64, batch_first=True, bidirectional=False, hidden_size=32)\n",
    "        \n",
    "        \n",
    "#         self.fc2 = nn.Linear(32, num_classes)\n",
    "        \n",
    "#         self.drop1 = nn.Dropout(p=0.3)\n",
    "#         # self.drop2 = nn.Dropout(p=0.3)\n",
    "        \n",
    "\n",
    "#     def forward(self, x):\n",
    "#         # print(f'starting shape : {x.shape}')       # batch_size, 300\n",
    "        \n",
    "#         x = x.reshape(-1, 1, 300)\n",
    "#         # print(x.shape)      # batch_size, 1, 300\n",
    "        \n",
    "#         x = F.relu(self.conv1(x))   # -> batch_size, 256, 300\n",
    "#         # print(x.shape)\n",
    "#         x = self.pool(x)            # -> batch_size, 256, 150\n",
    "#         # print(x.shape)\n",
    "        \n",
    "#         x = F.relu(self.conv2(x))   # -> batch_size, 128, 150\n",
    "#         # print(x.shape)\n",
    "#         x = self.pool(x)            # -> batch_size, 128, 75\n",
    "#         # print(x.shape)\n",
    "        \n",
    "#         x = F.relu(self.conv3(x))   # -> batch_size, 64, 75\n",
    "#         # print(x.shape)\n",
    "#         x = self.pool(x)            # -> batch_size, 64, 37\n",
    "#         # print(x.shape)\n",
    "\n",
    "#         x = torch.flatten(x, 1)     # -> batch_size, 288\n",
    "#         # print(f'flatten1: {x.shape}')\n",
    "#         x = self.drop1(x)\n",
    "        \n",
    "        \n",
    "#         x = F.relu(self.fc1(x), 1)     # -> batch_size, 2368\n",
    "#         # x = self.drop1(x)\n",
    "#         # print(x.shape)\n",
    "        \n",
    "#         x, _ = self.lstm1(x)     # -> batch_size, 64*2\n",
    "#         # print(f'lstm1: {x.shape}')\n",
    "        \n",
    "#         x, _ = self.lstm2(x)     # -> batch_size, 16\n",
    "#         # print(f'lstm2: {x.shape}')\n",
    "        \n",
    "#         x = torch.flatten(x, 1)     # -> batch_size, 128\n",
    "#         # print(f'flatten2: {x.shape}')\n",
    "        \n",
    "#         x = self.fc2(x)             # -> batch_size, num_classes(=3)\n",
    "#         # print(x.shape)\n",
    "    \n",
    "        \n",
    "#         return x\n",
    "    \n",
    "    \n",
    "    \n",
    "# #######################    \n",
    "# # starting shape : torch.Size([32, 300])\n",
    "# # torch.Size([32, 1, 300])\n",
    "# # torch.Size([32, 256, 300])\n",
    "# # torch.Size([32, 256, 150])\n",
    "# # torch.Size([32, 128, 150])\n",
    "# # torch.Size([32, 128, 75])\n",
    "# # torch.Size([32, 64, 75])\n",
    "# # torch.Size([32, 64, 37])\n",
    "# # flatten1: torch.Size([32, 2368])\n",
    "# # torch.Size([32, 128])\n",
    "# # lstm1: torch.Size([32, 64])\n",
    "# # lstm2: torch.Size([32, 32])\n",
    "\n",
    "\n",
    "# ### apprx 10 seconds per epoch to train (mps, w/ 1 dropout, Adam)\n",
    "\n",
    "# ### 10 epochs, initial loss: 0.532, final loss: 0.439 //  mins\n",
    "# ### 50 epochs // initial loss: 0.542, final loss: 0.185 //  mins\n",
    "# ### 100 epochs // initial loss: 0.522, final loss: 0.092 //  mins\n",
    "# ### 300 epochs // initial loss: , final loss:  //  mins\n",
    "# ### 500 epochs // initial loss: , final loss:  //  mins\n"
   ]
  },
  {
   "cell_type": "code",
   "execution_count": 1382,
   "id": "6614c76b-4f4a-4876-bc43-07c493715f1f",
   "metadata": {
    "jupyter": {
     "source_hidden": true
    },
    "tags": []
   },
   "outputs": [],
   "source": [
    "# ### cnn_flat_v8.1_lstm_1drop_10epo.pth\n",
    "# ### cnn_flat_v8.2_lstm_1drop_300epo.pth\n",
    "\n",
    "\n",
    "# class ConvNet(nn.Module):\n",
    "#     def __init__(self):\n",
    "#         super().__init__()\n",
    "#         # self.pool = nn.MaxPool1d(kernel_size=2, stride=1, padding=0, return_indices=False)\n",
    "#         self.pool = nn.MaxPool1d(kernel_size=2, stride=2, padding=0, return_indices=False)\n",
    "        \n",
    "        \n",
    "#         self.conv1 = nn.Conv1d(in_channels=1, out_channels=256, kernel_size=7, padding='same')\n",
    "#         # self.conv1.weight.data = torch.Tensor([[[0.1, 0.2, 0.4, 0.2, 0.1]]]).expand(256, 1, 5)\n",
    "        \n",
    "#         self.conv2 = nn.Conv1d(in_channels=256, out_channels=128, kernel_size=5, padding='same')\n",
    "#         # self.conv2.weight.data = torch.Tensor([[[0.25, 0.5, 0.25]]]).expand(128, 256, 3)\n",
    "        \n",
    "#         self.conv3 = nn.Conv1d(in_channels=128, out_channels=64, kernel_size=3, padding='same')\n",
    "#         # self.conv3.weight.data = torch.Tensor([[[0.25, 0.5, 0.25]]]).expand(64, 128, 3)\n",
    "        \n",
    "#         self.conv4 = nn.Conv1d(in_channels=64, out_channels=32, kernel_size=3, padding='same')\n",
    "#         # self.conv3.weight.data = torch.Tensor([[[0.25, 0.5, 0.25]]]).expand(64, 128, 3)\n",
    "        \n",
    "#         self.conv5 = nn.Conv1d(in_channels=32, out_channels=16, kernel_size=3, padding='same')\n",
    "#         # self.conv3.weight.data = torch.Tensor([[[0.25, 0.5, 0.25]]]).expand(64, 128, 3)\n",
    "        \n",
    "        \n",
    "#         self.fc1 = nn.Linear(16*18, 128)\n",
    "#         # self.fc2 = nn.Linear(128, 64)\n",
    "        \n",
    "#         self.lstm1 = nn.LSTM(input_size=128, batch_first=True, bidirectional=False, hidden_size=64, num_layers=1)\n",
    "#         # self.lstm1 = nn.LSTM(input_size=128, batch_first=True, bidirectional=True, hidden_size=64, num_layers=2, dropout=0.25)\n",
    "#         # self.lstm2 = nn.LSTM(input_size=64, batch_first=True, bidirectional=True, hidden_size=32)\n",
    "        \n",
    "        \n",
    "#         self.fc2 = nn.Linear(64, num_classes)\n",
    "        \n",
    "#         self.drop1 = nn.Dropout(p=0.3)\n",
    "#         # self.drop2 = nn.Dropout(p=0.3)\n",
    "        \n",
    "\n",
    "#     def forward(self, x):\n",
    "#         # print(f'{x.shape}')       # batch_size, 300\n",
    "        \n",
    "#         x = x.reshape(-1, 1, 300)\n",
    "#         # print(x.shape)      # batch_size, 1, 300\n",
    "        \n",
    "#         x = F.relu(self.conv1(x))   # -> batch_size, 256, 300\n",
    "#         # print(x.shape)\n",
    "#         x = self.pool(x)            # -> batch_size, 256, 150\n",
    "#         # print(x.shap/e)\n",
    "#         x = F.relu(self.conv2(x))   # -> batch_size, 128, 150\n",
    "#         # print(x.shape)\n",
    "#         x = self.pool(x)            # -> batch_size, 128, 75\n",
    "#         # print(x.shape)\n",
    "#         x = F.relu(self.conv3(x))   # -> batch_size, 64, 75\n",
    "#         # print(x.shape)\n",
    "#         x = self.pool(x)            # -> batch_size, 32, 37\n",
    "#         # print(x.shape)\n",
    "#         x = F.relu(self.conv4(x))   # -> batch_size, 32, 37\n",
    "#         # print(x.shape)\n",
    "#         x = self.pool(x)            # -> batch_size, 32, 18\n",
    "#         # print(x.shape)\n",
    "#         x = F.relu(self.conv5(x))   # -> batch_size, 16, 18\n",
    "#         # print(x.shape)\n",
    "\n",
    "#         x = torch.flatten(x, 1)     # -> batch_size, 288\n",
    "#         # print(f'flatten1: {x.shape}')\n",
    "#         x = self.drop1(x)\n",
    "        \n",
    "#         # x, _ = self.lstm1(x)     # -> batch_size, 16\n",
    "#         # print(f'lstm1: {x.shape}')\n",
    "#         # # print(x)\n",
    "        \n",
    "#         # x, _ = self.lstm2(x)     # -> batch_size, 16\n",
    "#         # print(f'lstm2: {x.shape}')\n",
    "        \n",
    "        \n",
    "#         x = F.relu(self.fc1(x), 1)     # -> batch_size, 128\n",
    "#         # x = self.drop1(x)\n",
    "#         # print(x.shape)\n",
    "        \n",
    "#         x, _ = self.lstm1(x)     # -> batch_size, 64*2\n",
    "#         # print(f'lstm1: {x.shape}')\n",
    "        \n",
    "#         # x, _ = self.lstm2(x)     # -> batch_size, 16\n",
    "#         # print(f'lstm2: {x.shape}')\n",
    "        \n",
    "#         x = torch.flatten(x, 1)     # -> batch_size, 128\n",
    "#         # print(f'flatten2: {x.shape}')\n",
    "        \n",
    "#         x = self.fc2(x)             # -> batch_size, num_classes(=3)\n",
    "#         # print(x.shape)\n",
    "    \n",
    "        \n",
    "#         return x\n",
    "    \n",
    "    \n",
    "    \n",
    "# #######################    \n",
    "# # torch.Size([32, 300])\n",
    "# # torch.Size([32, 1, 300])\n",
    "# # torch.Size([32, 256, 300])\n",
    "# # torch.Size([32, 128, 150])\n",
    "# # torch.Size([32, 128, 75])\n",
    "# # torch.Size([32, 64, 75])\n",
    "# # torch.Size([32, 64, 37])\n",
    "# # torch.Size([32, 32, 37])\n",
    "# # torch.Size([32, 32, 18])\n",
    "# # torch.Size([32, 16, 18])\n",
    "# # flatten1: torch.Size([32, 288])\n",
    "# # torch.Size([32, 64])\n",
    "# # lstm1: torch.Size([32, 16])\n",
    "# # lstm2: torch.Size([32, 16])\n",
    "# # flatten2: torch.Size([32, 16])\n",
    "# # torch.Size([32, 3])\n",
    "\n",
    "\n",
    "# ### apprx 10 seconds per epoch to train (mps, w/ 1 dropout, Adam)\n",
    "\n",
    "# ### 10 epochs, initial loss: 0.608, final loss: 0.504 // 5 mins\n",
    "# ### 50 epochs // initial loss: , final loss:  // 25 mins\n",
    "# ### 100 epochs // initial loss: 0.586, final loss:  // 50 mins\n",
    "# ### 300 epochs // initial loss: 0.569, final loss: 0.179 // 5176 secs\n"
   ]
  },
  {
   "cell_type": "markdown",
   "id": "40d377e8-6f67-4272-b54e-4523c0364002",
   "metadata": {},
   "source": [
    "## Name Model"
   ]
  },
  {
   "cell_type": "code",
   "execution_count": 1384,
   "id": "46583971-70d1-4d33-a0df-b0fae93a81af",
   "metadata": {
    "tags": []
   },
   "outputs": [
    {
     "name": "stdout",
     "output_type": "stream",
     "text": [
      "../models/practice_5/balanced_cnn_sthnew_50epo.pth\n"
     ]
    }
   ],
   "source": [
    "### tanh\n",
    "# PATH = f'../models/practice_5/balanced_cnn_1d_lstm_tanh_{str(num_epochs)}epo.pth'\n",
    "### bidirectional\n",
    "# PATH = f'../models/practice_5/balanced_cnn_1d_bi_lstm_{str(num_epochs)}epo.pth'\n",
    "\n",
    "\n",
    "#### something new\n",
    "PATH = f'../models/practice_5/balanced_cnn_sthnew_{str(num_epochs)}epo.pth'\n",
    "\n",
    "# PATH = f'../models/practice_5/balanced_cnn_1d_lstm_{str(num_epochs)}epo.pth'\n",
    "# PATH = f'../models/practice_4/testing_balanced_cnn_1d_lstm_{str(num_epochs)}epo.pth'\n",
    "# PATH = f'../models/practice_4/balanced_cnn_1d_lstm_lr001_{str(num_epochs)}epo.pth'\n",
    "print(PATH)"
   ]
  },
  {
   "cell_type": "markdown",
   "id": "3c99c5a5-52af-42ea-9f8a-3a163c264d87",
   "metadata": {},
   "source": [
    "## Train CNN"
   ]
  },
  {
   "cell_type": "code",
   "execution_count": 1386,
   "id": "d14c2094-4e0d-4880-9ed4-b2cf2980e741",
   "metadata": {
    "tags": []
   },
   "outputs": [
    {
     "name": "stdout",
     "output_type": "stream",
     "text": [
      "2024-05-25 16:49:22\n",
      "\n",
      "\n"
     ]
    },
    {
     "name": "stderr",
     "output_type": "stream",
     "text": [
      "  2%|▏         | 1/50 [00:25<21:02, 25.76s/it]"
     ]
    },
    {
     "name": "stdout",
     "output_type": "stream",
     "text": [
      "[1] loss: 0.539\n"
     ]
    },
    {
     "name": "stderr",
     "output_type": "stream",
     "text": [
      "  4%|▍         | 2/50 [00:51<20:35, 25.74s/it]"
     ]
    },
    {
     "name": "stdout",
     "output_type": "stream",
     "text": [
      "[2] loss: 0.468\n"
     ]
    },
    {
     "name": "stderr",
     "output_type": "stream",
     "text": [
      "  6%|▌         | 3/50 [01:17<20:05, 25.65s/it]"
     ]
    },
    {
     "name": "stdout",
     "output_type": "stream",
     "text": [
      "[3] loss: 0.466\n"
     ]
    },
    {
     "name": "stderr",
     "output_type": "stream",
     "text": [
      "  8%|▊         | 4/50 [01:42<19:40, 25.66s/it]"
     ]
    },
    {
     "name": "stdout",
     "output_type": "stream",
     "text": [
      "[4] loss: 0.464\n"
     ]
    },
    {
     "name": "stderr",
     "output_type": "stream",
     "text": [
      " 10%|█         | 5/50 [02:07<19:02, 25.40s/it]"
     ]
    },
    {
     "name": "stdout",
     "output_type": "stream",
     "text": [
      "[5] loss: 0.462\n"
     ]
    },
    {
     "name": "stderr",
     "output_type": "stream",
     "text": [
      " 12%|█▏        | 6/50 [02:32<18:34, 25.32s/it]"
     ]
    },
    {
     "name": "stdout",
     "output_type": "stream",
     "text": [
      "[6] loss: 0.456\n"
     ]
    },
    {
     "name": "stderr",
     "output_type": "stream",
     "text": [
      " 14%|█▍        | 7/50 [02:58<18:13, 25.43s/it]"
     ]
    },
    {
     "name": "stdout",
     "output_type": "stream",
     "text": [
      "[7] loss: 0.449\n"
     ]
    },
    {
     "name": "stderr",
     "output_type": "stream",
     "text": [
      " 16%|█▌        | 8/50 [03:23<17:38, 25.19s/it]"
     ]
    },
    {
     "name": "stdout",
     "output_type": "stream",
     "text": [
      "[8] loss: 0.445\n"
     ]
    },
    {
     "name": "stderr",
     "output_type": "stream",
     "text": [
      " 18%|█▊        | 9/50 [03:48<17:20, 25.39s/it]"
     ]
    },
    {
     "name": "stdout",
     "output_type": "stream",
     "text": [
      "[9] loss: 0.442\n"
     ]
    },
    {
     "name": "stderr",
     "output_type": "stream",
     "text": [
      " 20%|██        | 10/50 [04:13<16:40, 25.01s/it]"
     ]
    },
    {
     "name": "stdout",
     "output_type": "stream",
     "text": [
      "[10] loss: 0.437\n"
     ]
    },
    {
     "name": "stderr",
     "output_type": "stream",
     "text": [
      " 22%|██▏       | 11/50 [04:38<16:14, 24.98s/it]"
     ]
    },
    {
     "name": "stdout",
     "output_type": "stream",
     "text": [
      "[11] loss: 0.433\n"
     ]
    },
    {
     "name": "stderr",
     "output_type": "stream",
     "text": [
      " 24%|██▍       | 12/50 [05:03<15:50, 25.02s/it]"
     ]
    },
    {
     "name": "stdout",
     "output_type": "stream",
     "text": [
      "[12] loss: 0.425\n"
     ]
    },
    {
     "name": "stderr",
     "output_type": "stream",
     "text": [
      " 26%|██▌       | 13/50 [05:27<15:18, 24.83s/it]"
     ]
    },
    {
     "name": "stdout",
     "output_type": "stream",
     "text": [
      "[13] loss: 0.417\n"
     ]
    },
    {
     "name": "stderr",
     "output_type": "stream",
     "text": [
      " 28%|██▊       | 14/50 [05:52<14:53, 24.82s/it]"
     ]
    },
    {
     "name": "stdout",
     "output_type": "stream",
     "text": [
      "[14] loss: 0.405\n"
     ]
    },
    {
     "name": "stderr",
     "output_type": "stream",
     "text": [
      " 30%|███       | 15/50 [06:19<14:58, 25.67s/it]"
     ]
    },
    {
     "name": "stdout",
     "output_type": "stream",
     "text": [
      "[15] loss: 0.389\n"
     ]
    },
    {
     "name": "stderr",
     "output_type": "stream",
     "text": [
      " 32%|███▏      | 16/50 [06:46<14:43, 25.98s/it]"
     ]
    },
    {
     "name": "stdout",
     "output_type": "stream",
     "text": [
      "[16] loss: 0.371\n"
     ]
    },
    {
     "name": "stderr",
     "output_type": "stream",
     "text": [
      " 34%|███▍      | 17/50 [07:10<14:00, 25.47s/it]"
     ]
    },
    {
     "name": "stdout",
     "output_type": "stream",
     "text": [
      "[17] loss: 0.348\n"
     ]
    },
    {
     "name": "stderr",
     "output_type": "stream",
     "text": [
      " 36%|███▌      | 18/50 [07:35<13:23, 25.11s/it]"
     ]
    },
    {
     "name": "stdout",
     "output_type": "stream",
     "text": [
      "[18] loss: 0.324\n"
     ]
    },
    {
     "name": "stderr",
     "output_type": "stream",
     "text": [
      " 38%|███▊      | 19/50 [08:00<12:56, 25.06s/it]"
     ]
    },
    {
     "name": "stdout",
     "output_type": "stream",
     "text": [
      "[19] loss: 0.296\n"
     ]
    },
    {
     "name": "stderr",
     "output_type": "stream",
     "text": [
      " 40%|████      | 20/50 [08:24<12:25, 24.87s/it]"
     ]
    },
    {
     "name": "stdout",
     "output_type": "stream",
     "text": [
      "[20] loss: 0.267\n"
     ]
    },
    {
     "name": "stderr",
     "output_type": "stream",
     "text": [
      " 42%|████▏     | 21/50 [08:48<11:55, 24.68s/it]"
     ]
    },
    {
     "name": "stdout",
     "output_type": "stream",
     "text": [
      "[21] loss: 0.239\n"
     ]
    },
    {
     "name": "stderr",
     "output_type": "stream",
     "text": [
      " 44%|████▍     | 22/50 [09:13<11:27, 24.57s/it]"
     ]
    },
    {
     "name": "stdout",
     "output_type": "stream",
     "text": [
      "[22] loss: 0.213\n"
     ]
    },
    {
     "name": "stderr",
     "output_type": "stream",
     "text": [
      " 46%|████▌     | 23/50 [09:37<11:00, 24.45s/it]"
     ]
    },
    {
     "name": "stdout",
     "output_type": "stream",
     "text": [
      "[23] loss: 0.189\n"
     ]
    },
    {
     "name": "stderr",
     "output_type": "stream",
     "text": [
      " 48%|████▊     | 24/50 [10:01<10:33, 24.37s/it]"
     ]
    },
    {
     "name": "stdout",
     "output_type": "stream",
     "text": [
      "[24] loss: 0.167\n"
     ]
    },
    {
     "name": "stderr",
     "output_type": "stream",
     "text": [
      " 50%|█████     | 25/50 [10:25<10:08, 24.34s/it]"
     ]
    },
    {
     "name": "stdout",
     "output_type": "stream",
     "text": [
      "[25] loss: 0.146\n"
     ]
    },
    {
     "name": "stderr",
     "output_type": "stream",
     "text": [
      " 52%|█████▏    | 26/50 [10:49<09:42, 24.28s/it]"
     ]
    },
    {
     "name": "stdout",
     "output_type": "stream",
     "text": [
      "[26] loss: 0.127\n"
     ]
    },
    {
     "name": "stderr",
     "output_type": "stream",
     "text": [
      " 54%|█████▍    | 27/50 [11:14<09:17, 24.26s/it]"
     ]
    },
    {
     "name": "stdout",
     "output_type": "stream",
     "text": [
      "[27] loss: 0.112\n"
     ]
    },
    {
     "name": "stderr",
     "output_type": "stream",
     "text": [
      " 56%|█████▌    | 28/50 [11:38<08:52, 24.22s/it]"
     ]
    },
    {
     "name": "stdout",
     "output_type": "stream",
     "text": [
      "[28] loss: 0.098\n"
     ]
    },
    {
     "name": "stderr",
     "output_type": "stream",
     "text": [
      " 58%|█████▊    | 29/50 [12:02<08:28, 24.19s/it]"
     ]
    },
    {
     "name": "stdout",
     "output_type": "stream",
     "text": [
      "[29] loss: 0.089\n"
     ]
    },
    {
     "name": "stderr",
     "output_type": "stream",
     "text": [
      " 60%|██████    | 30/50 [12:26<08:03, 24.16s/it]"
     ]
    },
    {
     "name": "stdout",
     "output_type": "stream",
     "text": [
      "[30] loss: 0.077\n"
     ]
    },
    {
     "name": "stderr",
     "output_type": "stream",
     "text": [
      " 62%|██████▏   | 31/50 [12:51<07:41, 24.29s/it]"
     ]
    },
    {
     "name": "stdout",
     "output_type": "stream",
     "text": [
      "[31] loss: 0.072\n"
     ]
    },
    {
     "name": "stderr",
     "output_type": "stream",
     "text": [
      " 64%|██████▍   | 32/50 [13:15<07:16, 24.28s/it]"
     ]
    },
    {
     "name": "stdout",
     "output_type": "stream",
     "text": [
      "[32] loss: 0.062\n"
     ]
    },
    {
     "name": "stderr",
     "output_type": "stream",
     "text": [
      " 66%|██████▌   | 33/50 [13:39<06:52, 24.24s/it]"
     ]
    },
    {
     "name": "stdout",
     "output_type": "stream",
     "text": [
      "[33] loss: 0.056\n"
     ]
    },
    {
     "name": "stderr",
     "output_type": "stream",
     "text": [
      " 68%|██████▊   | 34/50 [14:03<06:26, 24.19s/it]"
     ]
    },
    {
     "name": "stdout",
     "output_type": "stream",
     "text": [
      "[34] loss: 0.053\n"
     ]
    },
    {
     "name": "stderr",
     "output_type": "stream",
     "text": [
      " 70%|███████   | 35/50 [14:27<06:02, 24.17s/it]"
     ]
    },
    {
     "name": "stdout",
     "output_type": "stream",
     "text": [
      "[35] loss: 0.046\n"
     ]
    },
    {
     "name": "stderr",
     "output_type": "stream",
     "text": [
      " 72%|███████▏  | 36/50 [14:52<05:39, 24.24s/it]"
     ]
    },
    {
     "name": "stdout",
     "output_type": "stream",
     "text": [
      "[36] loss: 0.046\n"
     ]
    },
    {
     "name": "stderr",
     "output_type": "stream",
     "text": [
      " 74%|███████▍  | 37/50 [15:16<05:14, 24.21s/it]"
     ]
    },
    {
     "name": "stdout",
     "output_type": "stream",
     "text": [
      "[37] loss: 0.040\n"
     ]
    },
    {
     "name": "stderr",
     "output_type": "stream",
     "text": [
      " 76%|███████▌  | 38/50 [15:40<04:50, 24.19s/it]"
     ]
    },
    {
     "name": "stdout",
     "output_type": "stream",
     "text": [
      "[38] loss: 0.039\n"
     ]
    },
    {
     "name": "stderr",
     "output_type": "stream",
     "text": [
      " 78%|███████▊  | 39/50 [16:04<04:26, 24.19s/it]"
     ]
    },
    {
     "name": "stdout",
     "output_type": "stream",
     "text": [
      "[39] loss: 0.035\n"
     ]
    },
    {
     "name": "stderr",
     "output_type": "stream",
     "text": [
      " 80%|████████  | 40/50 [16:28<04:02, 24.27s/it]"
     ]
    },
    {
     "name": "stdout",
     "output_type": "stream",
     "text": [
      "[40] loss: 0.035\n"
     ]
    },
    {
     "name": "stderr",
     "output_type": "stream",
     "text": [
      " 82%|████████▏ | 41/50 [16:53<03:38, 24.25s/it]"
     ]
    },
    {
     "name": "stdout",
     "output_type": "stream",
     "text": [
      "[41] loss: 0.033\n"
     ]
    },
    {
     "name": "stderr",
     "output_type": "stream",
     "text": [
      " 84%|████████▍ | 42/50 [17:17<03:13, 24.25s/it]"
     ]
    },
    {
     "name": "stdout",
     "output_type": "stream",
     "text": [
      "[42] loss: 0.031\n"
     ]
    },
    {
     "name": "stderr",
     "output_type": "stream",
     "text": [
      " 86%|████████▌ | 43/50 [17:41<02:49, 24.22s/it]"
     ]
    },
    {
     "name": "stdout",
     "output_type": "stream",
     "text": [
      "[43] loss: 0.031\n"
     ]
    },
    {
     "name": "stderr",
     "output_type": "stream",
     "text": [
      " 88%|████████▊ | 44/50 [18:05<02:25, 24.20s/it]"
     ]
    },
    {
     "name": "stdout",
     "output_type": "stream",
     "text": [
      "[44] loss: 0.028\n"
     ]
    },
    {
     "name": "stderr",
     "output_type": "stream",
     "text": [
      " 90%|█████████ | 45/50 [18:29<02:00, 24.17s/it]"
     ]
    },
    {
     "name": "stdout",
     "output_type": "stream",
     "text": [
      "[45] loss: 0.027\n"
     ]
    },
    {
     "name": "stderr",
     "output_type": "stream",
     "text": [
      " 92%|█████████▏| 46/50 [18:54<01:37, 24.28s/it]"
     ]
    },
    {
     "name": "stdout",
     "output_type": "stream",
     "text": [
      "[46] loss: 0.026\n"
     ]
    },
    {
     "name": "stderr",
     "output_type": "stream",
     "text": [
      " 94%|█████████▍| 47/50 [19:18<01:13, 24.38s/it]"
     ]
    },
    {
     "name": "stdout",
     "output_type": "stream",
     "text": [
      "[47] loss: 0.026\n"
     ]
    },
    {
     "name": "stderr",
     "output_type": "stream",
     "text": [
      " 96%|█████████▌| 48/50 [19:43<00:48, 24.32s/it]"
     ]
    },
    {
     "name": "stdout",
     "output_type": "stream",
     "text": [
      "[48] loss: 0.025\n"
     ]
    },
    {
     "name": "stderr",
     "output_type": "stream",
     "text": [
      " 98%|█████████▊| 49/50 [20:07<00:24, 24.35s/it]"
     ]
    },
    {
     "name": "stdout",
     "output_type": "stream",
     "text": [
      "[49] loss: 0.025\n"
     ]
    },
    {
     "name": "stderr",
     "output_type": "stream",
     "text": [
      "100%|██████████| 50/50 [20:31<00:00, 24.64s/it]"
     ]
    },
    {
     "name": "stdout",
     "output_type": "stream",
     "text": [
      "[50] loss: 0.025\n",
      "Finished Training\n",
      "\n",
      "----------------------------------------------------\n",
      "done in 1231.904s.\n",
      "2024-05-25 17:09:54\n"
     ]
    },
    {
     "name": "stderr",
     "output_type": "stream",
     "text": [
      "\n"
     ]
    }
   ],
   "source": [
    "start = time()\n",
    "print(strftime('%Y-%m-%d %H:%M:%S', localtime()))\n",
    "print('\\n')\n",
    "##############################################################################################################################\n",
    "\n",
    "model = ConvNet().to(device)\n",
    "\n",
    "criterion = nn.CrossEntropyLoss()\n",
    "# optimizer = torch.optim.SGD(model.parameters(), lr=learning_rate)\n",
    "optimizer = torch.optim.Adam(model.parameters(), lr=learning_rate)\n",
    "\n",
    "n_total_steps = len(train_alldataloader)\n",
    "for epoch in tqdm(range(num_epochs)):\n",
    "\n",
    "    running_loss = 0.0\n",
    "\n",
    "    for i, (images, labels) in enumerate(train_alldataloader):\n",
    "        images = images.to(device)\n",
    "        labels = labels.to(device)\n",
    "\n",
    "        # Forward pass\n",
    "        outputs = model(images)\n",
    "        loss = criterion(outputs, labels)\n",
    "\n",
    "        # Backward and optimize\n",
    "        loss.backward()\n",
    "        optimizer.step()\n",
    "        optimizer.zero_grad()\n",
    "\n",
    "        running_loss += loss.item()\n",
    "\n",
    "    print(f'[{epoch + 1}] loss: {running_loss / n_total_steps:.3f}')\n",
    "\n",
    "print('Finished Training')\n",
    "# torch.save(model.state_dict(), PATH)\n",
    "\n",
    "##############################################################################################################################\n",
    "print('\\n----------------------------------------------------')\n",
    "print(\"done in %0.3fs.\" % (time() - start))\n",
    "print(strftime('%Y-%m-%d %H:%M:%S', localtime()))\n",
    "\n",
    "\n",
    "\n",
    "\n",
    "\n",
    "\n"
   ]
  },
  {
   "cell_type": "code",
   "execution_count": 1387,
   "id": "1ae8ebd6-7022-44c4-aae8-3cd5fbf7f1c3",
   "metadata": {
    "tags": []
   },
   "outputs": [],
   "source": [
    "# labels"
   ]
  },
  {
   "cell_type": "code",
   "execution_count": 1388,
   "id": "b86831dc-2807-42ef-aa39-ea332f43120a",
   "metadata": {
    "tags": []
   },
   "outputs": [],
   "source": [
    "# model(images)"
   ]
  },
  {
   "cell_type": "code",
   "execution_count": null,
   "id": "a4e32205-c129-42e7-8332-1251f206940f",
   "metadata": {},
   "outputs": [],
   "source": []
  },
  {
   "cell_type": "code",
   "execution_count": null,
   "id": "8b3b26d3-531e-4c8e-a8ca-3d3a87b33b37",
   "metadata": {},
   "outputs": [],
   "source": []
  },
  {
   "cell_type": "markdown",
   "id": "9a5f4c0b-cd5b-4806-b6a8-0aa49094c027",
   "metadata": {},
   "source": [
    "## Save Model"
   ]
  },
  {
   "cell_type": "code",
   "execution_count": 1390,
   "id": "bb803dea-8946-4683-8289-0baaaa8a7cf7",
   "metadata": {
    "tags": []
   },
   "outputs": [],
   "source": [
    "torch.save(model.state_dict(), PATH)"
   ]
  },
  {
   "cell_type": "code",
   "execution_count": null,
   "id": "5b8b2d43-8a85-416d-a422-1f86e3dea814",
   "metadata": {},
   "outputs": [],
   "source": []
  },
  {
   "cell_type": "markdown",
   "id": "0bdd18f6-d40e-42ce-bc25-db2a294d782c",
   "metadata": {},
   "source": [
    "## Load Model"
   ]
  },
  {
   "cell_type": "code",
   "execution_count": 1392,
   "id": "107e4a01-bfeb-433b-8262-364cdb6e3a15",
   "metadata": {
    "tags": []
   },
   "outputs": [
    {
     "name": "stdout",
     "output_type": "stream",
     "text": [
      "../models/practice_5/balanced_cnn_sthnew_50epo.pth\n"
     ]
    }
   ],
   "source": [
    "# PATH = f'../models/practice_5/balanced_cnn_1d_lstm_10epo.pth'\n",
    "print(PATH)"
   ]
  },
  {
   "cell_type": "code",
   "execution_count": 1393,
   "id": "07e05ec8-bb57-4d34-8839-4359db9075de",
   "metadata": {
    "tags": []
   },
   "outputs": [
    {
     "data": {
      "text/plain": [
       "ConvNet(\n",
       "  (pool): MaxPool1d(kernel_size=2, stride=2, padding=0, dilation=1, ceil_mode=False)\n",
       "  (conv1): Conv1d(1, 64, kernel_size=(3,), stride=(1,), padding=same)\n",
       "  (lstm1): LSTM(150, 128, batch_first=True, bidirectional=True)\n",
       "  (conv2): Conv1d(64, 32, kernel_size=(3,), stride=(1,), padding=same)\n",
       "  (lstm2): LSTM(128, 32, batch_first=True, bidirectional=True)\n",
       "  (conv3): Conv1d(32, 16, kernel_size=(3,), stride=(1,), padding=same)\n",
       "  (lstm3): LSTM(32, 16, batch_first=True, bidirectional=True)\n",
       "  (fc1): Linear(in_features=512, out_features=256, bias=True)\n",
       "  (fc2): Linear(in_features=256, out_features=128, bias=True)\n",
       "  (fc_final): Linear(in_features=128, out_features=3, bias=True)\n",
       ")"
      ]
     },
     "execution_count": 1393,
     "metadata": {},
     "output_type": "execute_result"
    }
   ],
   "source": [
    "loaded_model = ConvNet()\n",
    "loaded_model.load_state_dict(torch.load(PATH)) # it takes the loaded dictionary, not the path file itself\n",
    "loaded_model.to(device)\n",
    "loaded_model.eval()"
   ]
  },
  {
   "cell_type": "code",
   "execution_count": null,
   "id": "8febcb6b-9c30-4ef5-b1af-868070f747f0",
   "metadata": {
    "tags": []
   },
   "outputs": [],
   "source": []
  },
  {
   "cell_type": "code",
   "execution_count": null,
   "id": "f94c9d3d-9bd9-48d6-adad-a8c42d218fc9",
   "metadata": {},
   "outputs": [],
   "source": []
  },
  {
   "cell_type": "markdown",
   "id": "c1ce3bc7-1c1b-446b-81dd-da24eb975a07",
   "metadata": {},
   "source": [
    "## Test Model"
   ]
  },
  {
   "cell_type": "code",
   "execution_count": 1395,
   "id": "3ac201e4-77dc-485c-b39b-adabd1bfb698",
   "metadata": {
    "tags": []
   },
   "outputs": [
    {
     "name": "stdout",
     "output_type": "stream",
     "text": [
      "2024-05-25 17:09:54\n",
      "\n",
      "\n",
      "Accuracy of the loaded model: 59.8375088385764 %\n",
      "\n",
      "----------------------------------------------------\n",
      "done in 12.827s.\n",
      "2024-05-25 17:10:07\n"
     ]
    }
   ],
   "source": [
    "start = time()\n",
    "print(strftime('%Y-%m-%d %H:%M:%S', localtime()))\n",
    "print('\\n')\n",
    "##############################################################################################################################\n",
    "\n",
    "\n",
    "# wrong_answers = []\n",
    "all_answers = []\n",
    "\n",
    "with torch.no_grad():\n",
    "    n_correct = 0\n",
    "    n_correct2 = 0\n",
    "    n_samples = len(test_alldataloader.dataset)\n",
    "\n",
    "    for images, labels in test_alldataloader:\n",
    "        images = images.to(device)\n",
    "        labels = labels.to(device)\n",
    "        # outputs = model(images)\n",
    "\n",
    "        # max returns (value ,index)\n",
    "        outputs2 = loaded_model(images)\n",
    "        _, predicted2 = torch.max(outputs2, 1)\n",
    "        \n",
    "        n_correct2 += (predicted2 == labels).sum().item()\n",
    "        \n",
    "        \n",
    "        labels_list = labels.tolist()\n",
    "        predicted2_list = predicted2.tolist()\n",
    "        \n",
    "        for i in range(len(labels_list)):\n",
    "            # if predicted2_list[i] != labels_list[i]:\n",
    "                # wrong_answers.append([labels_list[i], predicted2_list[i]])\n",
    "                all_answers.append((int(labels_list[i]), predicted2_list[i]))\n",
    "                \n",
    "    acc = 100.0 * n_correct2 / n_samples\n",
    "    print(f'Accuracy of the loaded model: {acc} %')\n",
    "    \n",
    "\n",
    "##############################################################################################################################\n",
    "print('\\n----------------------------------------------------')\n",
    "print(\"done in %0.3fs.\" % (time() - start))\n",
    "print(strftime('%Y-%m-%d %H:%M:%S', localtime()))\n",
    "    \n",
    "### 100 ~ 160s\n",
    "\n",
    "\n",
    "\n"
   ]
  },
  {
   "cell_type": "code",
   "execution_count": 1396,
   "id": "44a1aa46-6a8a-4d1f-9b0e-ec072498efbf",
   "metadata": {
    "tags": []
   },
   "outputs": [
    {
     "data": {
      "text/plain": [
       "tensor([1, 1, 0, 0, 0, 0, 0, 0, 1, 0, 0, 0, 1, 0, 0, 1, 1, 0, 1, 1, 0, 0, 0, 1,\n",
       "        0, 1, 0, 1, 1, 1, 0], device='mps:0')"
      ]
     },
     "execution_count": 1396,
     "metadata": {},
     "output_type": "execute_result"
    }
   ],
   "source": [
    "predicted2"
   ]
  },
  {
   "cell_type": "code",
   "execution_count": 1397,
   "id": "fe6024a2-9899-4589-9a8c-fff6027cc3a9",
   "metadata": {
    "tags": []
   },
   "outputs": [
    {
     "name": "stdout",
     "output_type": "stream",
     "text": [
      "72127\n",
      "<class 'list'>\n"
     ]
    }
   ],
   "source": [
    "# print(len(wrong_answers))\n",
    "print(len(all_answers))\n",
    "print(type(all_answers))\n"
   ]
  },
  {
   "cell_type": "code",
   "execution_count": 1398,
   "id": "a417a8d4-38eb-45de-b4ab-63ac06061e0b",
   "metadata": {
    "tags": []
   },
   "outputs": [],
   "source": [
    "# Counter(all_answers)\n",
    "all_answers_dict = dict(Counter(all_answers))\n",
    "\n",
    "for i in range(num_classes):\n",
    "    for j in range(num_classes):\n",
    "        if (i, j) not in all_answers_dict.keys():\n",
    "            # print((i,j))\n",
    "            all_answers_dict[(i,j)] = 0\n",
    "\n",
    "            "
   ]
  },
  {
   "cell_type": "code",
   "execution_count": 1399,
   "id": "f730ca64-b872-4c81-85cf-0aaa380b9c31",
   "metadata": {
    "tags": []
   },
   "outputs": [],
   "source": [
    "all_answers_dict = {key : all_answers_dict[key] for key in sorted(list(all_answers_dict.keys()))}"
   ]
  },
  {
   "cell_type": "code",
   "execution_count": 1400,
   "id": "3b75648a-ff19-4e52-b4e6-79310e6f1893",
   "metadata": {
    "tags": []
   },
   "outputs": [
    {
     "name": "stdout",
     "output_type": "stream",
     "text": [
      "(0, 0) : 12446\n",
      "(0, 1) : 9633\n",
      "(0, 2) : 48\n",
      "(1, 0) : 19254\n",
      "(1, 1) : 20717\n",
      "(1, 2) : 29\n",
      "(2, 0) : 2\n",
      "(2, 1) : 2\n",
      "(2, 2) : 9996\n"
     ]
    }
   ],
   "source": [
    "for kkey in all_answers_dict:\n",
    "    print(f'{kkey} : {all_answers_dict[kkey]}')"
   ]
  },
  {
   "cell_type": "code",
   "execution_count": 1401,
   "id": "cdfda157-cb86-4470-b144-fd71fc7d5b90",
   "metadata": {},
   "outputs": [],
   "source": [
    "### 10 epochs\n",
    "# (0, 0) : 12611\n",
    "# (0, 1) : 9488\n",
    "# (0, 2) : 28\n",
    "# (1, 0) : 15795\n",
    "# (1, 1) : 24200\n",
    "# (1, 2) : 5\n",
    "# (2, 0) : 1\n",
    "# (2, 1) : 0\n",
    "# (2, 2) : 9999\n",
    "\n",
    "### 50 epochs\n",
    "# (0, 0) : 12446\n",
    "# (0, 1) : 9633\n",
    "# (0, 2) : 48\n",
    "# (1, 0) : 19254\n",
    "# (1, 1) : 20717\n",
    "# (1, 2) : 29\n",
    "# (2, 0) : 2\n",
    "# (2, 1) : 2\n",
    "# (2, 2) : 9996\n",
    "\n",
    "### 100 epochs\n",
    "\n"
   ]
  },
  {
   "cell_type": "code",
   "execution_count": 1402,
   "id": "221d5f0a-ed57-486e-8c49-868df907810b",
   "metadata": {},
   "outputs": [
    {
     "data": {
      "text/plain": [
       "dict_keys([(0, 0), (0, 1), (0, 2), (1, 0), (1, 1), (1, 2), (2, 0), (2, 1), (2, 2)])"
      ]
     },
     "execution_count": 1402,
     "metadata": {},
     "output_type": "execute_result"
    }
   ],
   "source": [
    "all_answers_dict.keys()"
   ]
  },
  {
   "cell_type": "code",
   "execution_count": 1403,
   "id": "a0aef8b1-bf35-4511-88e8-2f5218721221",
   "metadata": {},
   "outputs": [
    {
     "data": {
      "text/plain": [
       "22127"
      ]
     },
     "execution_count": 1403,
     "metadata": {},
     "output_type": "execute_result"
    }
   ],
   "source": [
    "truth_0_tot = all_answers_dict[(0, 0)] + all_answers_dict[(0, 1)] + all_answers_dict[(0, 2)]\n",
    "truth_0_tot"
   ]
  },
  {
   "cell_type": "code",
   "execution_count": 1404,
   "id": "d52b10e2-6614-426e-b671-f253b31bddae",
   "metadata": {},
   "outputs": [
    {
     "data": {
      "text/plain": [
       "40000"
      ]
     },
     "execution_count": 1404,
     "metadata": {},
     "output_type": "execute_result"
    }
   ],
   "source": [
    "truth_1_tot = all_answers_dict[(1, 0)] + all_answers_dict[(1, 1)] + all_answers_dict[(1, 2)]\n",
    "truth_1_tot"
   ]
  },
  {
   "cell_type": "code",
   "execution_count": 1405,
   "id": "ccff1c55-ff26-4034-bd30-5982a7b28ef8",
   "metadata": {
    "tags": []
   },
   "outputs": [
    {
     "data": {
      "text/plain": [
       "31702"
      ]
     },
     "execution_count": 1405,
     "metadata": {},
     "output_type": "execute_result"
    }
   ],
   "source": [
    "pred_0_tot = all_answers_dict[(0, 0)] + all_answers_dict[(1, 0)] + all_answers_dict[(2, 0)]\n",
    "pred_0_tot"
   ]
  },
  {
   "cell_type": "code",
   "execution_count": 1406,
   "id": "257051be-aaf4-4a01-b233-3659951c4ec2",
   "metadata": {
    "tags": []
   },
   "outputs": [
    {
     "data": {
      "text/plain": [
       "30352"
      ]
     },
     "execution_count": 1406,
     "metadata": {},
     "output_type": "execute_result"
    }
   ],
   "source": [
    "pred_1_tot = all_answers_dict[(0, 1)] + all_answers_dict[(1, 1)] + all_answers_dict[(2, 1)]\n",
    "pred_1_tot"
   ]
  },
  {
   "cell_type": "code",
   "execution_count": 1407,
   "id": "05b93b99-81e2-4c40-9d06-2fb64db83791",
   "metadata": {},
   "outputs": [
    {
     "data": {
      "text/plain": [
       "0.5624802277760202"
      ]
     },
     "execution_count": 1407,
     "metadata": {},
     "output_type": "execute_result"
    }
   ],
   "source": [
    "### sensitivity for 0\n",
    "sens_0 = all_answers_dict[(0, 0)] / truth_0_tot\n",
    "sens_0"
   ]
  },
  {
   "cell_type": "code",
   "execution_count": 1408,
   "id": "f77a563f-68fd-43e9-8817-94021e5fe2bb",
   "metadata": {},
   "outputs": [
    {
     "data": {
      "text/plain": [
       "0.517925"
      ]
     },
     "execution_count": 1408,
     "metadata": {},
     "output_type": "execute_result"
    }
   ],
   "source": [
    "### sensitivity for 1\n",
    "sens_1 = all_answers_dict[(1, 1)] / truth_1_tot\n",
    "sens_1"
   ]
  },
  {
   "cell_type": "code",
   "execution_count": 1409,
   "id": "ef98b40c-c044-4bea-9f10-dc7d4557940c",
   "metadata": {
    "tags": []
   },
   "outputs": [
    {
     "data": {
      "text/plain": [
       "0.2913225719708953"
      ]
     },
     "execution_count": 1409,
     "metadata": {},
     "output_type": "execute_result"
    }
   ],
   "source": [
    "sens_0_x_sens_1 = sens_0 * sens_1\n",
    "sens_0_x_sens_1"
   ]
  },
  {
   "cell_type": "code",
   "execution_count": 1410,
   "id": "e3571837-1673-49d7-9310-e31bfc06d480",
   "metadata": {},
   "outputs": [
    {
     "data": {
      "text/plain": [
       "0.39259352722225727"
      ]
     },
     "execution_count": 1410,
     "metadata": {},
     "output_type": "execute_result"
    }
   ],
   "source": [
    "### precision for 0\n",
    "preci_0 = all_answers_dict[(0, 0)] / pred_0_tot\n",
    "preci_0"
   ]
  },
  {
   "cell_type": "code",
   "execution_count": 1411,
   "id": "d51c0aff-914e-4860-9ed0-703b6dd0daff",
   "metadata": {},
   "outputs": [
    {
     "data": {
      "text/plain": [
       "0.6825579862941487"
      ]
     },
     "execution_count": 1411,
     "metadata": {},
     "output_type": "execute_result"
    }
   ],
   "source": [
    "### precision for 1\n",
    "preci_1 = all_answers_dict[(1, 1)] / pred_1_tot\n",
    "preci_1"
   ]
  },
  {
   "cell_type": "code",
   "execution_count": 1412,
   "id": "615f21da-37cd-49cd-9b20-a34900ce3120",
   "metadata": {},
   "outputs": [
    {
     "data": {
      "text/plain": [
       "0.26796784737294094"
      ]
     },
     "execution_count": 1412,
     "metadata": {},
     "output_type": "execute_result"
    }
   ],
   "source": [
    "preci_0_x_preci_1 = preci_0 * preci_1\n",
    "preci_0_x_preci_1"
   ]
  },
  {
   "cell_type": "code",
   "execution_count": 1413,
   "id": "d7971ae6-24e4-4df5-97f0-0abae167cd06",
   "metadata": {},
   "outputs": [
    {
     "data": {
      "text/plain": [
       "0.07806508250218946"
      ]
     },
     "execution_count": 1413,
     "metadata": {},
     "output_type": "execute_result"
    }
   ],
   "source": [
    "### product of all precisions and sensitivities\n",
    "preci_0_x_preci_1*sens_0_x_sens_1"
   ]
  },
  {
   "cell_type": "code",
   "execution_count": null,
   "id": "7f2f166d-940d-4626-9176-cf2028edc8ea",
   "metadata": {},
   "outputs": [],
   "source": []
  },
  {
   "cell_type": "code",
   "execution_count": null,
   "id": "f3603402-726b-4eea-b8bd-8857ed4d0157",
   "metadata": {},
   "outputs": [],
   "source": []
  }
 ],
 "metadata": {
  "kernelspec": {
   "display_name": "Python 3 (ipykernel)",
   "language": "python",
   "name": "python3"
  },
  "language_info": {
   "codemirror_mode": {
    "name": "ipython",
    "version": 3
   },
   "file_extension": ".py",
   "mimetype": "text/x-python",
   "name": "python",
   "nbconvert_exporter": "python",
   "pygments_lexer": "ipython3",
   "version": "3.11.5"
  }
 },
 "nbformat": 4,
 "nbformat_minor": 5
}

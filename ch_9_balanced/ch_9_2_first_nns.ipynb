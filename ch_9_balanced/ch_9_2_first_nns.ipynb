{
 "cells": [
  {
   "cell_type": "markdown",
   "id": "1e787550-64d9-4d5e-a7b5-35ba8ac40dc3",
   "metadata": {},
   "source": [
    "# IMPORTS"
   ]
  },
  {
   "cell_type": "code",
   "execution_count": 465,
   "id": "f4791ae4-e63d-4ea0-92a6-c787f250a7a7",
   "metadata": {
    "tags": []
   },
   "outputs": [],
   "source": [
    "import random\n",
    "import pickle\n",
    "import glob\n",
    "\n",
    "import random\n",
    "import ast\n",
    "import pathlib\n",
    "\n",
    "import numpy as np\n",
    "\n",
    "import matplotlib.pyplot as plt\n",
    "# import matplotlib.transforms as transforms\n",
    "\n",
    "from collections import Counter\n",
    "\n",
    "from time import time\n",
    "from time import sleep\n",
    "from time import strftime\n",
    "from time import localtime\n",
    "from tqdm import tqdm\n",
    "\n",
    "from datetime import date, timedelta, datetime\n",
    "\n",
    "# from mydecorators import logger, stopwatch\n",
    "\n",
    "from PIL import Image\n",
    "\n"
   ]
  },
  {
   "cell_type": "code",
   "execution_count": 425,
   "id": "1a2eff96-33f7-4d70-a403-50ab9236bcd1",
   "metadata": {
    "tags": []
   },
   "outputs": [],
   "source": [
    "import torch\n",
    "import torch.nn as nn\n",
    "import torchvision\n",
    "\n",
    "import torch.nn.functional as F\n",
    "\n",
    "import torchvision.transforms as transforms\n",
    "from torchvision import datasets\n",
    "\n",
    "import matplotlib.pyplot as plt"
   ]
  },
  {
   "cell_type": "code",
   "execution_count": null,
   "id": "8e23695c-1e89-443c-a293-261f9367dd36",
   "metadata": {},
   "outputs": [],
   "source": []
  },
  {
   "cell_type": "markdown",
   "id": "95dfe319-8eb3-4e66-b51d-fb7e9df72da8",
   "metadata": {},
   "source": [
    "# LOAD IMAGES"
   ]
  },
  {
   "cell_type": "code",
   "execution_count": 427,
   "id": "5c8f98a2-411d-42b1-9dfb-665a505361fc",
   "metadata": {
    "tags": []
   },
   "outputs": [],
   "source": [
    "# transform = transforms.Compose([\n",
    "#     transforms.ToTensor()\n",
    "# ])\n",
    "\n",
    "# transform = transforms.Compose([\n",
    "#     transforms.ToTensor(),\n",
    "#     transforms.Grayscale(num_output_channels=1)\n",
    "# ])\n",
    "\n",
    "\n",
    "transform = transforms.Compose([\n",
    "    transforms.Resize((75, 100)),\n",
    "    transforms.ToTensor(),\n",
    "    transforms.Grayscale(num_output_channels=1)\n",
    "])\n"
   ]
  },
  {
   "cell_type": "code",
   "execution_count": null,
   "id": "74462fb6-1242-4ec8-8035-34eca731b291",
   "metadata": {},
   "outputs": [],
   "source": []
  },
  {
   "cell_type": "code",
   "execution_count": 13,
   "id": "3121f005-0c16-403f-9ccb-35445d4d29cd",
   "metadata": {
    "tags": []
   },
   "outputs": [],
   "source": [
    "### loads only perfectmm images & labels them as 'images'\n",
    "# imagefolder_path = 'saved_lists/perfectmm'\n",
    "\n",
    "### loads only perfectmm images & labels them as \n",
    "### {0: 'nearperfectmm', 1: 'perfectmm', 2: 'streakmm'}\n",
    "imagefolder_path = 'saved_lists'\n",
    "\n",
    "# ppath = pathlib.Path(imagefolder_path)\n",
    "\n",
    "# dataset = datasets.ImageFolder(imagefolder_path)\n",
    "\n",
    "# dataset = datasets.ImageFolder(imagefolder_path, transform=transforms.ToTensor())\n",
    "\n",
    "\n",
    "dataset = datasets.ImageFolder(imagefolder_path, transform=transform)"
   ]
  },
  {
   "cell_type": "code",
   "execution_count": 14,
   "id": "0e07c121-3463-4799-a845-2f147d7058e9",
   "metadata": {
    "tags": []
   },
   "outputs": [
    {
     "data": {
      "text/plain": [
       "Dataset ImageFolder\n",
       "    Number of datapoints: 90000\n",
       "    Root location: saved_lists\n",
       "    StandardTransform\n",
       "Transform: Compose(\n",
       "               Resize(size=(75, 100), interpolation=bilinear, max_size=None, antialias=True)\n",
       "               ToTensor()\n",
       "               Grayscale(num_output_channels=1)\n",
       "           )"
      ]
     },
     "execution_count": 14,
     "metadata": {},
     "output_type": "execute_result"
    }
   ],
   "source": [
    "dataset"
   ]
  },
  {
   "cell_type": "code",
   "execution_count": 15,
   "id": "54de58c9-ee45-4705-82a0-5cb42961700f",
   "metadata": {
    "tags": []
   },
   "outputs": [
    {
     "data": {
      "text/plain": [
       "torchvision.datasets.folder.ImageFolder"
      ]
     },
     "execution_count": 15,
     "metadata": {},
     "output_type": "execute_result"
    }
   ],
   "source": [
    "type(dataset)"
   ]
  },
  {
   "cell_type": "code",
   "execution_count": 18,
   "id": "10a4520e-74ef-49c7-bda6-230760406641",
   "metadata": {
    "tags": []
   },
   "outputs": [
    {
     "name": "stdout",
     "output_type": "stream",
     "text": [
      "3\n",
      "{0: 'nearperfectmm', 1: 'perfectmm', 2: 'streakmm'}\n"
     ]
    }
   ],
   "source": [
    "target_to_class = {v : k for k, v in datasets.ImageFolder(imagefolder_path).class_to_idx.items()}\n",
    "\n",
    "print(len(target_to_class))\n",
    "print((target_to_class))"
   ]
  },
  {
   "cell_type": "code",
   "execution_count": 22,
   "id": "64b06afa-7c0f-49ae-8a25-fbe833b75f1c",
   "metadata": {
    "tags": []
   },
   "outputs": [],
   "source": [
    "# dataloader = torch.utils.data.DataLoader(dataset)\n",
    "dataloader = torch.utils.data.DataLoader(dataset, batch_size=32, shuffle=True)"
   ]
  },
  {
   "cell_type": "code",
   "execution_count": 25,
   "id": "1f3caf7e-17e0-47dd-a879-accb01d5482d",
   "metadata": {
    "tags": []
   },
   "outputs": [],
   "source": [
    "for images, labels in dataloader:\n",
    "    break\n",
    "\n",
    "# images, labels = next(iter(dataloader))"
   ]
  },
  {
   "cell_type": "code",
   "execution_count": 27,
   "id": "6daf820d-4dc0-4f73-94b7-1ab13b85d773",
   "metadata": {
    "tags": []
   },
   "outputs": [
    {
     "data": {
      "text/plain": [
       "90000"
      ]
     },
     "execution_count": 27,
     "metadata": {},
     "output_type": "execute_result"
    }
   ],
   "source": [
    "len(dataset)"
   ]
  },
  {
   "cell_type": "code",
   "execution_count": 29,
   "id": "cc29f4fa-7ae4-4196-b5ce-8434478f3180",
   "metadata": {
    "tags": []
   },
   "outputs": [
    {
     "data": {
      "text/plain": [
       "torch.Size([1, 75, 100])"
      ]
     },
     "execution_count": 29,
     "metadata": {},
     "output_type": "execute_result"
    }
   ],
   "source": [
    "images[1].shape"
   ]
  },
  {
   "cell_type": "code",
   "execution_count": 31,
   "id": "ef889c20-07e4-4a55-bee2-5494d36aecc0",
   "metadata": {
    "tags": []
   },
   "outputs": [
    {
     "data": {
      "text/plain": [
       "tensor([[[0.0000, 0.0000, 0.0000,  ..., 0.0000, 0.0000, 0.0000],\n",
       "         [0.0000, 0.0000, 0.0000,  ..., 0.0000, 0.0000, 0.0000],\n",
       "         [0.0000, 0.0000, 0.0000,  ..., 0.0000, 0.0000, 0.0000],\n",
       "         ...,\n",
       "         [0.9999, 0.9999, 0.9999,  ..., 0.9999, 0.9999, 0.9999],\n",
       "         [0.9999, 0.9999, 0.9999,  ..., 0.9999, 0.9999, 0.9999],\n",
       "         [0.9999, 0.9999, 0.9999,  ..., 0.9999, 0.9999, 0.9999]]])"
      ]
     },
     "execution_count": 31,
     "metadata": {},
     "output_type": "execute_result"
    }
   ],
   "source": [
    "images[2]"
   ]
  },
  {
   "cell_type": "code",
   "execution_count": 33,
   "id": "5333d3b3-c51b-4557-b9c8-f50fc1458ac1",
   "metadata": {
    "tags": []
   },
   "outputs": [
    {
     "data": {
      "text/plain": [
       "torch.Size([32, 1, 75, 100])"
      ]
     },
     "execution_count": 33,
     "metadata": {},
     "output_type": "execute_result"
    }
   ],
   "source": [
    "images.shape"
   ]
  },
  {
   "cell_type": "code",
   "execution_count": 35,
   "id": "ed6e10ff-8ccd-43ba-af06-8ce77c96436c",
   "metadata": {
    "tags": []
   },
   "outputs": [
    {
     "data": {
      "text/plain": [
       "tensor(1)"
      ]
     },
     "execution_count": 35,
     "metadata": {},
     "output_type": "execute_result"
    }
   ],
   "source": [
    "labels[1]"
   ]
  },
  {
   "cell_type": "code",
   "execution_count": 37,
   "id": "8a2db3cb-d139-421a-b203-6bbf5381d814",
   "metadata": {
    "tags": []
   },
   "outputs": [
    {
     "data": {
      "image/png": "[encoded data removed]",
      "text/plain": [
       "<Figure size 640x480 with 6 Axes>"
      ]
     },
     "metadata": {},
     "output_type": "display_data"
    }
   ],
   "source": [
    "examples = iter(dataloader)\n",
    "# example_data, example_targets = examples.next()\n",
    "example_data, example_targets = next(examples)\n",
    "\n",
    "\n",
    "for i in range(6):\n",
    "    plt.subplot(2,3,i+1)\n",
    "    plt.imshow(example_data[i][0], cmap='gray')\n",
    "    # print(example_targets)\n",
    "plt.show()"
   ]
  },
  {
   "cell_type": "code",
   "execution_count": 39,
   "id": "039a75b5-6f85-424c-ab95-ff33fe351fa1",
   "metadata": {
    "tags": []
   },
   "outputs": [
    {
     "data": {
      "text/plain": [
       "<matplotlib.image.AxesImage at 0x309ba6790>"
      ]
     },
     "execution_count": 39,
     "metadata": {},
     "output_type": "execute_result"
    },
    {
     "data": {
      "image/png": "[encoded data removed]",
      "text/plain": [
       "<Figure size 640x480 with 1 Axes>"
      ]
     },
     "metadata": {},
     "output_type": "display_data"
    }
   ],
   "source": [
    "plt.imshow(images[2][0], cmap='gray')"
   ]
  },
  {
   "cell_type": "code",
   "execution_count": null,
   "id": "5a366f3d-a7ef-447a-bf53-b86eca7fe151",
   "metadata": {},
   "outputs": [],
   "source": []
  },
  {
   "cell_type": "markdown",
   "id": "606461e9-79b7-4462-aa56-2cdd0b90cad6",
   "metadata": {},
   "source": [
    "# Split Train & Test (from DATASET)"
   ]
  },
  {
   "cell_type": "code",
   "execution_count": 43,
   "id": "193c2c31-accc-4d41-bed9-0e8e0c6b49f0",
   "metadata": {
    "tags": []
   },
   "outputs": [],
   "source": [
    "train_size = int(0.7 * len(dataset))\n",
    "test_size = len(dataset) - train_size\n",
    "train_dataset, test_dataset = torch.utils.data.random_split(dataset, [train_size, test_size])"
   ]
  },
  {
   "cell_type": "code",
   "execution_count": 45,
   "id": "a7a8a302-49eb-49a1-a52f-d15aab20b315",
   "metadata": {
    "tags": []
   },
   "outputs": [
    {
     "data": {
      "text/plain": [
       "62999"
      ]
     },
     "execution_count": 45,
     "metadata": {},
     "output_type": "execute_result"
    }
   ],
   "source": [
    "train_dataset\n",
    "len(train_dataset)"
   ]
  },
  {
   "cell_type": "code",
   "execution_count": 47,
   "id": "f6451223-9469-439b-92d1-93d20ceb9669",
   "metadata": {
    "tags": []
   },
   "outputs": [
    {
     "data": {
      "text/plain": [
       "27001"
      ]
     },
     "execution_count": 47,
     "metadata": {},
     "output_type": "execute_result"
    }
   ],
   "source": [
    "test_dataset\n",
    "len(test_dataset)"
   ]
  },
  {
   "cell_type": "code",
   "execution_count": 196,
   "id": "c0a33275-9983-4b6d-b9c8-67a235930d1b",
   "metadata": {
    "tags": []
   },
   "outputs": [
    {
     "data": {
      "text/plain": [
       "25"
      ]
     },
     "execution_count": 196,
     "metadata": {},
     "output_type": "execute_result"
    }
   ],
   "source": [
    "27001 % 32"
   ]
  },
  {
   "cell_type": "code",
   "execution_count": null,
   "id": "ca0260ff-293a-4ecb-894f-613ac3f06fd6",
   "metadata": {},
   "outputs": [],
   "source": []
  },
  {
   "cell_type": "markdown",
   "id": "61a4187d-4b47-4608-9c47-20a109c06e64",
   "metadata": {},
   "source": [
    "# Create Train & Test Dataloaders"
   ]
  },
  {
   "cell_type": "code",
   "execution_count": 52,
   "id": "cec6d8d9-61f8-4cb6-b299-e895d223aac0",
   "metadata": {
    "tags": []
   },
   "outputs": [],
   "source": [
    "train_dataloader = torch.utils.data.DataLoader(train_dataset, batch_size=32, shuffle=True)"
   ]
  },
  {
   "cell_type": "code",
   "execution_count": 54,
   "id": "a5bcec6a-ac54-4f64-8f92-fda24d775ec9",
   "metadata": {
    "tags": []
   },
   "outputs": [],
   "source": [
    "test_dataloader = torch.utils.data.DataLoader(test_dataset, batch_size=32, shuffle=False)"
   ]
  },
  {
   "cell_type": "code",
   "execution_count": null,
   "id": "c3eeeaaa-5b69-43f7-90b5-7a51fe40c878",
   "metadata": {},
   "outputs": [],
   "source": []
  },
  {
   "cell_type": "markdown",
   "id": "beda9017-641d-4f87-b1cc-741b48879e70",
   "metadata": {},
   "source": [
    "## Check train_dataloader"
   ]
  },
  {
   "cell_type": "code",
   "execution_count": 58,
   "id": "44add833-bc09-4655-95da-a0f72fe11a26",
   "metadata": {
    "tags": []
   },
   "outputs": [],
   "source": [
    "for images, labels in train_dataloader:\n",
    "    break\n",
    "\n",
    "# images, labels = next(iter(dataloader))"
   ]
  },
  {
   "cell_type": "code",
   "execution_count": 60,
   "id": "ff3901f3-c115-4fc9-b644-3785aad1733c",
   "metadata": {
    "tags": []
   },
   "outputs": [
    {
     "data": {
      "image/png": "[encoded data removed]",
      "text/plain": [
       "<Figure size 640x480 with 6 Axes>"
      ]
     },
     "metadata": {},
     "output_type": "display_data"
    }
   ],
   "source": [
    "examples = iter(train_dataloader)\n",
    "# example_data, example_targets = examples.next()\n",
    "example_data, example_targets = next(examples)\n",
    "\n",
    "\n",
    "for i in range(6):\n",
    "    plt.subplot(2,3,i+1)\n",
    "    plt.imshow(example_data[i][0], cmap='gray')\n",
    "    # print(example_targets)\n",
    "plt.show()"
   ]
  },
  {
   "cell_type": "markdown",
   "id": "2d749d40-a12e-49e3-99bf-593b6babdb05",
   "metadata": {
    "tags": []
   },
   "source": [
    "## Check test_dataloader"
   ]
  },
  {
   "cell_type": "code",
   "execution_count": 63,
   "id": "967ba672-f7c3-4c85-96e0-5f93b5832607",
   "metadata": {
    "tags": []
   },
   "outputs": [],
   "source": [
    "for images, labels in test_dataloader:\n",
    "    break\n",
    "\n",
    "# images, labels = next(iter(dataloader))"
   ]
  },
  {
   "cell_type": "code",
   "execution_count": 65,
   "id": "3293b9d3-36c4-4f7e-b081-d3cd2cab29f6",
   "metadata": {
    "tags": []
   },
   "outputs": [
    {
     "data": {
      "image/png": "[encoded data removed]",
      "text/plain": [
       "<Figure size 640x480 with 6 Axes>"
      ]
     },
     "metadata": {},
     "output_type": "display_data"
    }
   ],
   "source": [
    "examples = iter(test_dataloader)\n",
    "# example_data, example_targets = examples.next()\n",
    "example_data, example_targets = next(examples)\n",
    "\n",
    "\n",
    "for i in range(6):\n",
    "    plt.subplot(2,3,i+1)\n",
    "    plt.imshow(example_data[i][0], cmap='gray')\n",
    "    # print(example_targets)\n",
    "plt.show()"
   ]
  },
  {
   "cell_type": "code",
   "execution_count": null,
   "id": "656497f5-b392-49af-ac44-742da4ca31dd",
   "metadata": {},
   "outputs": [],
   "source": []
  },
  {
   "cell_type": "markdown",
   "id": "0fd47e0e-650f-46d3-8371-2c202d02692e",
   "metadata": {},
   "source": [
    "# Create First BASIC MODEL"
   ]
  },
  {
   "cell_type": "markdown",
   "id": "624fcfa8-a8ad-43f8-a693-fca0db8877d9",
   "metadata": {},
   "source": [
    "## First Basic Model Configurations"
   ]
  },
  {
   "cell_type": "markdown",
   "id": "6ad7bc1d-dd14-47cc-85bf-fa5ab64cc075",
   "metadata": {},
   "source": [
    "RuntimeError: shape '[-1, 784]' is invalid for input of size 5178240  \n",
    "\n",
    "28 * 28 = 784\n",
    "\n",
    "change to...  \n",
    "348 * 465 = 161820  \n",
    "or  \n",
    "75 * 100 = 7500  "
   ]
  },
  {
   "cell_type": "code",
   "execution_count": 71,
   "id": "fb3e0348-f09a-4ce0-90ae-71b64a0e090b",
   "metadata": {
    "tags": []
   },
   "outputs": [
    {
     "data": {
      "text/plain": [
       "7500"
      ]
     },
     "execution_count": 71,
     "metadata": {},
     "output_type": "execute_result"
    }
   ],
   "source": [
    "75*100"
   ]
  },
  {
   "cell_type": "code",
   "execution_count": 74,
   "id": "ce30723b-8ad2-4475-9201-bfdc5f25a894",
   "metadata": {
    "tags": []
   },
   "outputs": [],
   "source": [
    "# Device configuration\n",
    "device = torch.device('cuda' if torch.cuda.is_available() else 'cpu')\n",
    "\n",
    "# Hyper-parameters\n",
    "input_size = 7500 # 75*100\n",
    "hidden_size = 500\n",
    "num_classes = 3\n",
    "num_epochs = 10\n",
    "# batch_size = 100\n",
    "learning_rate = 0.001"
   ]
  },
  {
   "cell_type": "code",
   "execution_count": 76,
   "id": "af618da9-9ab1-4473-9f70-4fe461484b0f",
   "metadata": {
    "tags": []
   },
   "outputs": [
    {
     "name": "stdout",
     "output_type": "stream",
     "text": [
      "cpu\n"
     ]
    }
   ],
   "source": [
    "print(device)"
   ]
  },
  {
   "cell_type": "markdown",
   "id": "a598bf4d-49d7-4919-aea1-ae378e6d2b18",
   "metadata": {},
   "source": [
    "## Define Model"
   ]
  },
  {
   "cell_type": "code",
   "execution_count": 79,
   "id": "8dcb1ffc-61ae-4e38-bc0c-2c56ed5bc73b",
   "metadata": {
    "tags": []
   },
   "outputs": [],
   "source": [
    "# Fully connected neural network with one hidden layer\n",
    "class NeuralNet(nn.Module):\n",
    "    def __init__(self, input_size, hidden_size, num_classes):\n",
    "        super(NeuralNet, self).__init__()\n",
    "        self.l1 = nn.Linear(input_size, hidden_size)\n",
    "        self.relu = nn.ReLU()\n",
    "        self.l2 = nn.Linear(hidden_size, num_classes)\n",
    "\n",
    "    def forward(self, x):\n",
    "        out = self.l1(x)\n",
    "        out = self.relu(out)\n",
    "        out = self.l2(out)\n",
    "        # no activation and no softmax at the end\n",
    "        return out"
   ]
  },
  {
   "cell_type": "markdown",
   "id": "18b2ff9d-2369-44bf-97bd-da156f5cd5c7",
   "metadata": {},
   "source": [
    "## Train First Basic Model"
   ]
  },
  {
   "cell_type": "code",
   "execution_count": 85,
   "id": "11fa4ced-ee0b-4ac5-9f62-1018b832a0a5",
   "metadata": {
    "tags": []
   },
   "outputs": [
    {
     "name": "stderr",
     "output_type": "stream",
     "text": [
      "  0%|          | 0/10 [00:00<?, ?it/s]"
     ]
    },
    {
     "name": "stdout",
     "output_type": "stream",
     "text": [
      "Epoch [1/10], Step [100/1969], Loss: 1.1026\n",
      "Epoch [1/10], Step [200/1969], Loss: 1.1027\n",
      "Epoch [1/10], Step [300/1969], Loss: 1.0927\n",
      "Epoch [1/10], Step [400/1969], Loss: 1.0969\n",
      "Epoch [1/10], Step [500/1969], Loss: 1.1003\n",
      "Epoch [1/10], Step [600/1969], Loss: 1.0981\n",
      "Epoch [1/10], Step [700/1969], Loss: 1.0985\n",
      "Epoch [1/10], Step [800/1969], Loss: 1.0992\n",
      "Epoch [1/10], Step [900/1969], Loss: 1.0971\n",
      "Epoch [1/10], Step [1000/1969], Loss: 1.0993\n",
      "Epoch [1/10], Step [1100/1969], Loss: 1.0990\n",
      "Epoch [1/10], Step [1200/1969], Loss: 1.0991\n",
      "Epoch [1/10], Step [1300/1969], Loss: 1.0990\n",
      "Epoch [1/10], Step [1400/1969], Loss: 1.0988\n",
      "Epoch [1/10], Step [1500/1969], Loss: 1.1002\n",
      "Epoch [1/10], Step [1600/1969], Loss: 1.0963\n",
      "Epoch [1/10], Step [1700/1969], Loss: 1.0989\n",
      "Epoch [1/10], Step [1800/1969], Loss: 1.0986\n",
      "Epoch [1/10], Step [1900/1969], Loss: 1.0978\n"
     ]
    },
    {
     "name": "stderr",
     "output_type": "stream",
     "text": [
      " 10%|█         | 1/10 [02:06<18:55, 126.14s/it]"
     ]
    },
    {
     "name": "stdout",
     "output_type": "stream",
     "text": [
      "Epoch [2/10], Step [100/1969], Loss: 1.0978\n",
      "Epoch [2/10], Step [200/1969], Loss: 1.1004\n",
      "Epoch [2/10], Step [300/1969], Loss: 1.0983\n",
      "Epoch [2/10], Step [400/1969], Loss: 1.0984\n",
      "Epoch [2/10], Step [500/1969], Loss: 1.0990\n",
      "Epoch [2/10], Step [600/1969], Loss: 1.0993\n",
      "Epoch [2/10], Step [700/1969], Loss: 1.0982\n",
      "Epoch [2/10], Step [800/1969], Loss: 1.0984\n",
      "Epoch [2/10], Step [900/1969], Loss: 1.1000\n",
      "Epoch [2/10], Step [1000/1969], Loss: 1.0980\n",
      "Epoch [2/10], Step [1100/1969], Loss: 1.0957\n",
      "Epoch [2/10], Step [1200/1969], Loss: 1.0962\n",
      "Epoch [2/10], Step [1300/1969], Loss: 1.0945\n",
      "Epoch [2/10], Step [1400/1969], Loss: 1.0984\n",
      "Epoch [2/10], Step [1500/1969], Loss: 1.0989\n",
      "Epoch [2/10], Step [1600/1969], Loss: 1.0975\n",
      "Epoch [2/10], Step [1700/1969], Loss: 1.0980\n",
      "Epoch [2/10], Step [1800/1969], Loss: 1.0992\n",
      "Epoch [2/10], Step [1900/1969], Loss: 1.0998\n"
     ]
    },
    {
     "name": "stderr",
     "output_type": "stream",
     "text": [
      " 20%|██        | 2/10 [04:10<16:41, 125.15s/it]"
     ]
    },
    {
     "name": "stdout",
     "output_type": "stream",
     "text": [
      "Epoch [3/10], Step [100/1969], Loss: 1.0987\n",
      "Epoch [3/10], Step [200/1969], Loss: 1.0985\n",
      "Epoch [3/10], Step [300/1969], Loss: 1.0991\n",
      "Epoch [3/10], Step [400/1969], Loss: 1.1011\n",
      "Epoch [3/10], Step [500/1969], Loss: 1.0990\n",
      "Epoch [3/10], Step [600/1969], Loss: 1.0986\n",
      "Epoch [3/10], Step [700/1969], Loss: 1.0983\n",
      "Epoch [3/10], Step [800/1969], Loss: 1.0987\n",
      "Epoch [3/10], Step [900/1969], Loss: 1.1007\n",
      "Epoch [3/10], Step [1000/1969], Loss: 1.0985\n",
      "Epoch [3/10], Step [1100/1969], Loss: 1.0986\n",
      "Epoch [3/10], Step [1200/1969], Loss: 1.0968\n",
      "Epoch [3/10], Step [1300/1969], Loss: 1.0947\n",
      "Epoch [3/10], Step [1400/1969], Loss: 1.0945\n",
      "Epoch [3/10], Step [1500/1969], Loss: 1.0988\n",
      "Epoch [3/10], Step [1600/1969], Loss: 1.0997\n",
      "Epoch [3/10], Step [1700/1969], Loss: 1.0987\n",
      "Epoch [3/10], Step [1800/1969], Loss: 1.0974\n",
      "Epoch [3/10], Step [1900/1969], Loss: 1.0984\n"
     ]
    },
    {
     "name": "stderr",
     "output_type": "stream",
     "text": [
      " 30%|███       | 3/10 [06:14<14:33, 124.75s/it]"
     ]
    },
    {
     "name": "stdout",
     "output_type": "stream",
     "text": [
      "Epoch [4/10], Step [100/1969], Loss: 1.0992\n",
      "Epoch [4/10], Step [200/1969], Loss: 1.1027\n",
      "Epoch [4/10], Step [300/1969], Loss: 1.0988\n",
      "Epoch [4/10], Step [400/1969], Loss: 1.0993\n",
      "Epoch [4/10], Step [500/1969], Loss: 1.1004\n",
      "Epoch [4/10], Step [600/1969], Loss: 1.0982\n",
      "Epoch [4/10], Step [700/1969], Loss: 1.0969\n",
      "Epoch [4/10], Step [800/1969], Loss: 1.1020\n",
      "Epoch [4/10], Step [900/1969], Loss: 1.0993\n",
      "Epoch [4/10], Step [1000/1969], Loss: 1.0976\n",
      "Epoch [4/10], Step [1100/1969], Loss: 1.0986\n",
      "Epoch [4/10], Step [1200/1969], Loss: 1.0981\n",
      "Epoch [4/10], Step [1300/1969], Loss: 1.1027\n",
      "Epoch [4/10], Step [1400/1969], Loss: 1.0988\n",
      "Epoch [4/10], Step [1500/1969], Loss: 1.0989\n",
      "Epoch [4/10], Step [1600/1969], Loss: 1.0991\n",
      "Epoch [4/10], Step [1700/1969], Loss: 1.0994\n",
      "Epoch [4/10], Step [1800/1969], Loss: 1.0999\n",
      "Epoch [4/10], Step [1900/1969], Loss: 1.1022\n"
     ]
    },
    {
     "name": "stderr",
     "output_type": "stream",
     "text": [
      " 40%|████      | 4/10 [08:16<12:21, 123.66s/it]"
     ]
    },
    {
     "name": "stdout",
     "output_type": "stream",
     "text": [
      "Epoch [5/10], Step [100/1969], Loss: 1.0981\n",
      "Epoch [5/10], Step [200/1969], Loss: 1.0981\n",
      "Epoch [5/10], Step [300/1969], Loss: 1.0987\n",
      "Epoch [5/10], Step [400/1969], Loss: 1.0988\n",
      "Epoch [5/10], Step [500/1969], Loss: 1.0983\n",
      "Epoch [5/10], Step [600/1969], Loss: 1.0995\n",
      "Epoch [5/10], Step [700/1969], Loss: 1.0972\n",
      "Epoch [5/10], Step [800/1969], Loss: 1.0987\n",
      "Epoch [5/10], Step [900/1969], Loss: 1.0978\n",
      "Epoch [5/10], Step [1000/1969], Loss: 1.0951\n",
      "Epoch [5/10], Step [1100/1969], Loss: 1.0983\n",
      "Epoch [5/10], Step [1200/1969], Loss: 1.0983\n",
      "Epoch [5/10], Step [1300/1969], Loss: 1.0987\n",
      "Epoch [5/10], Step [1400/1969], Loss: 1.0986\n",
      "Epoch [5/10], Step [1500/1969], Loss: 1.0987\n",
      "Epoch [5/10], Step [1600/1969], Loss: 1.0984\n",
      "Epoch [5/10], Step [1700/1969], Loss: 1.1004\n",
      "Epoch [5/10], Step [1800/1969], Loss: 1.1000\n",
      "Epoch [5/10], Step [1900/1969], Loss: 1.0990\n"
     ]
    },
    {
     "name": "stderr",
     "output_type": "stream",
     "text": [
      " 50%|█████     | 5/10 [10:18<10:15, 123.04s/it]"
     ]
    },
    {
     "name": "stdout",
     "output_type": "stream",
     "text": [
      "Epoch [6/10], Step [100/1969], Loss: 1.0973\n",
      "Epoch [6/10], Step [200/1969], Loss: 1.0995\n",
      "Epoch [6/10], Step [300/1969], Loss: 1.1016\n",
      "Epoch [6/10], Step [400/1969], Loss: 1.0999\n",
      "Epoch [6/10], Step [500/1969], Loss: 1.0983\n",
      "Epoch [6/10], Step [600/1969], Loss: 1.0991\n",
      "Epoch [6/10], Step [700/1969], Loss: 1.0982\n",
      "Epoch [6/10], Step [800/1969], Loss: 1.0989\n",
      "Epoch [6/10], Step [900/1969], Loss: 1.0983\n",
      "Epoch [6/10], Step [1000/1969], Loss: 1.0986\n",
      "Epoch [6/10], Step [1100/1969], Loss: 1.0997\n",
      "Epoch [6/10], Step [1200/1969], Loss: 1.0970\n",
      "Epoch [6/10], Step [1300/1969], Loss: 1.0989\n",
      "Epoch [6/10], Step [1400/1969], Loss: 1.0970\n",
      "Epoch [6/10], Step [1500/1969], Loss: 1.0964\n",
      "Epoch [6/10], Step [1600/1969], Loss: 1.0973\n",
      "Epoch [6/10], Step [1700/1969], Loss: 1.0979\n",
      "Epoch [6/10], Step [1800/1969], Loss: 1.0975\n",
      "Epoch [6/10], Step [1900/1969], Loss: 1.0980\n"
     ]
    },
    {
     "name": "stderr",
     "output_type": "stream",
     "text": [
      " 60%|██████    | 6/10 [12:20<08:10, 122.65s/it]"
     ]
    },
    {
     "name": "stdout",
     "output_type": "stream",
     "text": [
      "Epoch [7/10], Step [100/1969], Loss: 1.0988\n",
      "Epoch [7/10], Step [200/1969], Loss: 1.1015\n",
      "Epoch [7/10], Step [300/1969], Loss: 1.0997\n",
      "Epoch [7/10], Step [400/1969], Loss: 1.0986\n",
      "Epoch [7/10], Step [500/1969], Loss: 1.0994\n",
      "Epoch [7/10], Step [600/1969], Loss: 1.0985\n",
      "Epoch [7/10], Step [700/1969], Loss: 1.0987\n",
      "Epoch [7/10], Step [800/1969], Loss: 1.0937\n",
      "Epoch [7/10], Step [900/1969], Loss: 1.1015\n",
      "Epoch [7/10], Step [1000/1969], Loss: 1.0987\n",
      "Epoch [7/10], Step [1100/1969], Loss: 1.0984\n",
      "Epoch [7/10], Step [1200/1969], Loss: 1.0993\n",
      "Epoch [7/10], Step [1300/1969], Loss: 1.0984\n",
      "Epoch [7/10], Step [1400/1969], Loss: 1.0978\n",
      "Epoch [7/10], Step [1500/1969], Loss: 1.0984\n",
      "Epoch [7/10], Step [1600/1969], Loss: 1.0974\n",
      "Epoch [7/10], Step [1700/1969], Loss: 1.0977\n",
      "Epoch [7/10], Step [1800/1969], Loss: 1.0988\n",
      "Epoch [7/10], Step [1900/1969], Loss: 1.0983\n"
     ]
    },
    {
     "name": "stderr",
     "output_type": "stream",
     "text": [
      " 70%|███████   | 7/10 [14:21<06:06, 122.14s/it]"
     ]
    },
    {
     "name": "stdout",
     "output_type": "stream",
     "text": [
      "Epoch [8/10], Step [100/1969], Loss: 1.1038\n",
      "Epoch [8/10], Step [200/1969], Loss: 1.1062\n",
      "Epoch [8/10], Step [300/1969], Loss: 1.0977\n",
      "Epoch [8/10], Step [400/1969], Loss: 1.1005\n",
      "Epoch [8/10], Step [500/1969], Loss: 1.0981\n",
      "Epoch [8/10], Step [600/1969], Loss: 1.0990\n",
      "Epoch [8/10], Step [700/1969], Loss: 1.0989\n",
      "Epoch [8/10], Step [800/1969], Loss: 1.0996\n",
      "Epoch [8/10], Step [900/1969], Loss: 1.1020\n",
      "Epoch [8/10], Step [1000/1969], Loss: 1.0981\n",
      "Epoch [8/10], Step [1100/1969], Loss: 1.0985\n",
      "Epoch [8/10], Step [1200/1969], Loss: 1.0983\n",
      "Epoch [8/10], Step [1300/1969], Loss: 1.1036\n",
      "Epoch [8/10], Step [1400/1969], Loss: 1.0994\n",
      "Epoch [8/10], Step [1500/1969], Loss: 1.1001\n",
      "Epoch [8/10], Step [1600/1969], Loss: 1.1018\n",
      "Epoch [8/10], Step [1700/1969], Loss: 1.1001\n",
      "Epoch [8/10], Step [1800/1969], Loss: 1.1003\n",
      "Epoch [8/10], Step [1900/1969], Loss: 1.0995\n"
     ]
    },
    {
     "name": "stderr",
     "output_type": "stream",
     "text": [
      " 80%|████████  | 8/10 [16:22<04:03, 121.60s/it]"
     ]
    },
    {
     "name": "stdout",
     "output_type": "stream",
     "text": [
      "Epoch [9/10], Step [100/1969], Loss: 1.0983\n",
      "Epoch [9/10], Step [200/1969], Loss: 1.0971\n",
      "Epoch [9/10], Step [300/1969], Loss: 1.0990\n",
      "Epoch [9/10], Step [400/1969], Loss: 1.0984\n",
      "Epoch [9/10], Step [500/1969], Loss: 1.0999\n",
      "Epoch [9/10], Step [600/1969], Loss: 1.0975\n",
      "Epoch [9/10], Step [700/1969], Loss: 1.1022\n",
      "Epoch [9/10], Step [800/1969], Loss: 1.0977\n",
      "Epoch [9/10], Step [900/1969], Loss: 1.0968\n",
      "Epoch [9/10], Step [1000/1969], Loss: 1.0980\n",
      "Epoch [9/10], Step [1100/1969], Loss: 1.0952\n",
      "Epoch [9/10], Step [1200/1969], Loss: 1.0974\n",
      "Epoch [9/10], Step [1300/1969], Loss: 1.0985\n",
      "Epoch [9/10], Step [1400/1969], Loss: 1.0972\n",
      "Epoch [9/10], Step [1500/1969], Loss: 1.0997\n",
      "Epoch [9/10], Step [1600/1969], Loss: 1.0986\n",
      "Epoch [9/10], Step [1700/1969], Loss: 1.0994\n",
      "Epoch [9/10], Step [1800/1969], Loss: 1.0990\n",
      "Epoch [9/10], Step [1900/1969], Loss: 1.0979\n"
     ]
    },
    {
     "name": "stderr",
     "output_type": "stream",
     "text": [
      " 90%|█████████ | 9/10 [18:22<02:01, 121.30s/it]"
     ]
    },
    {
     "name": "stdout",
     "output_type": "stream",
     "text": [
      "Epoch [10/10], Step [100/1969], Loss: 1.0990\n",
      "Epoch [10/10], Step [200/1969], Loss: 1.0982\n",
      "Epoch [10/10], Step [300/1969], Loss: 1.0983\n",
      "Epoch [10/10], Step [400/1969], Loss: 1.0990\n",
      "Epoch [10/10], Step [500/1969], Loss: 1.0986\n",
      "Epoch [10/10], Step [600/1969], Loss: 1.0968\n",
      "Epoch [10/10], Step [700/1969], Loss: 1.1005\n",
      "Epoch [10/10], Step [800/1969], Loss: 1.0998\n",
      "Epoch [10/10], Step [900/1969], Loss: 1.0981\n",
      "Epoch [10/10], Step [1000/1969], Loss: 1.0986\n",
      "Epoch [10/10], Step [1100/1969], Loss: 1.0997\n",
      "Epoch [10/10], Step [1200/1969], Loss: 1.0980\n",
      "Epoch [10/10], Step [1300/1969], Loss: 1.0969\n",
      "Epoch [10/10], Step [1400/1969], Loss: 1.1009\n",
      "Epoch [10/10], Step [1500/1969], Loss: 1.0991\n",
      "Epoch [10/10], Step [1600/1969], Loss: 1.1004\n",
      "Epoch [10/10], Step [1700/1969], Loss: 1.0977\n",
      "Epoch [10/10], Step [1800/1969], Loss: 1.0983\n",
      "Epoch [10/10], Step [1900/1969], Loss: 1.0992\n"
     ]
    },
    {
     "name": "stderr",
     "output_type": "stream",
     "text": [
      "100%|██████████| 10/10 [20:23<00:00, 122.38s/it]\n"
     ]
    }
   ],
   "source": [
    "### Instantiate Model before training\n",
    "model = NeuralNet(input_size, hidden_size, num_classes).to(device)\n",
    "\n",
    "# Loss and optimizer\n",
    "criterion = nn.CrossEntropyLoss()\n",
    "optimizer = torch.optim.Adam(model.parameters(), lr=learning_rate)\n",
    "\n",
    "# Train the model\n",
    "n_total_steps = len(train_dataloader)\n",
    "\n",
    "for epoch in tqdm(range(num_epochs)):\n",
    "# for epoch in range(num_epochs):\n",
    "    for i, (images, labels) in enumerate(train_dataloader):\n",
    "        # origin shape: [100, 1, 28, 28]  -> from the code example (mnist)\n",
    "        # resized: [100, 784] -> from the code example (mnist)\n",
    "        images = images.reshape(-1, 75*100).to(device)\n",
    "        labels = labels.to(device)\n",
    "\n",
    "        # Forward pass and loss calculation\n",
    "        outputs = model(images)\n",
    "        loss = criterion(outputs, labels)\n",
    "\n",
    "        # Backward and optimize\n",
    "        loss.backward()\n",
    "        optimizer.step()\n",
    "        optimizer.zero_grad()\n",
    "\n",
    "        if (i+1) % 100 == 0:\n",
    "            print (f'Epoch [{epoch+1}/{num_epochs}], Step [{i+1}/{n_total_steps}], Loss: {loss.item():.4f}')\n",
    "            \n",
    "### 348 * 465 // 66 mins\n",
    "### 75 * 100 // 21 mins"
   ]
  },
  {
   "cell_type": "markdown",
   "id": "26047388-13da-41b8-9b06-3699b8310ae1",
   "metadata": {},
   "source": [
    "## Test First Basic Model"
   ]
  },
  {
   "cell_type": "code",
   "execution_count": 92,
   "id": "775f43fd-0308-4762-8add-25e34ccf8ba6",
   "metadata": {
    "tags": []
   },
   "outputs": [
    {
     "name": "stdout",
     "output_type": "stream",
     "text": [
      "Accuracy of the network on the 27001 test images: 33.07655272026962 %\n"
     ]
    }
   ],
   "source": [
    "# Test the model: we don't need to compute gradients\n",
    "with torch.no_grad():\n",
    "    n_correct = 0\n",
    "    n_samples = len(test_dataloader.dataset)\n",
    "\n",
    "    for images, labels in test_dataloader:\n",
    "        images = images.reshape(-1, 75*100).to(device)\n",
    "        labels = labels.to(device)\n",
    "\n",
    "        outputs = model(images)\n",
    "\n",
    "        # max returns (output_value ,index)\n",
    "        _, predicted = torch.max(outputs, 1)\n",
    "        n_correct += (predicted == labels).sum().item()\n",
    "\n",
    "    acc = n_correct / n_samples\n",
    "    print(f'Accuracy of the network on the {n_samples} test images: {100*acc} %')\n",
    "    \n",
    "### Accuracy of the network on the 27001 test images: 41.26884189474464 % (348 * 465 // 66 mins to train)\n",
    "### Accuracy of the network on the 27001 test images: 33.07655272026962 % (75 * 100 // 20 mins to train)"
   ]
  },
  {
   "cell_type": "markdown",
   "id": "c50bceca-1448-4641-bd93-90728897d485",
   "metadata": {},
   "source": [
    "### Test Individual Sample(s)"
   ]
  },
  {
   "cell_type": "code",
   "execution_count": 95,
   "id": "d0c4046d-46aa-4bb6-ad4b-950580758aa1",
   "metadata": {
    "tags": []
   },
   "outputs": [
    {
     "name": "stdout",
     "output_type": "stream",
     "text": [
      "tensor([1, 1, 0, 2, 0, 0, 0, 2, 1, 1, 1, 2, 1, 2, 2, 0, 2, 2, 0, 1, 0, 1, 0, 2,\n",
      "        1])\n"
     ]
    }
   ],
   "source": [
    "print(labels)"
   ]
  },
  {
   "cell_type": "code",
   "execution_count": 101,
   "id": "a402625c-9e32-4c65-920f-6c206ee07e30",
   "metadata": {
    "tags": []
   },
   "outputs": [
    {
     "name": "stdout",
     "output_type": "stream",
     "text": [
      "tensor([[ 0.0001, -0.0036,  0.0094]], grad_fn=<AddmmBackward0>)\n"
     ]
    }
   ],
   "source": [
    "pred = model(images[0].reshape(-1, 75*100))\n",
    "print(pred)"
   ]
  },
  {
   "cell_type": "code",
   "execution_count": 111,
   "id": "868fdc24-4801-410a-9af1-a06394ff40e5",
   "metadata": {
    "tags": []
   },
   "outputs": [
    {
     "data": {
      "text/plain": [
       "tensor([0.0000, 0.0000, 0.0000,  ..., 0.9999, 0.9999, 0.9999])"
      ]
     },
     "metadata": {},
     "output_type": "display_data"
    }
   ],
   "source": [
    "display(images[0])"
   ]
  },
  {
   "cell_type": "code",
   "execution_count": null,
   "id": "21e9dbb0-aab7-45f9-b4de-e25fbaa5accf",
   "metadata": {
    "tags": []
   },
   "outputs": [],
   "source": []
  },
  {
   "cell_type": "code",
   "execution_count": null,
   "id": "5fa995b3-95fb-4ebf-929c-d0baf33c7c98",
   "metadata": {},
   "outputs": [],
   "source": []
  },
  {
   "cell_type": "code",
   "execution_count": null,
   "id": "1a6d6b13-7637-4410-9f83-4edeefe7c8d1",
   "metadata": {},
   "outputs": [],
   "source": []
  },
  {
   "cell_type": "markdown",
   "id": "514a385a-6ea1-41f7-8f98-0495e95fe19a",
   "metadata": {},
   "source": [
    "## Save First Basic Model"
   ]
  },
  {
   "cell_type": "code",
   "execution_count": 141,
   "id": "012528a2-c58c-421a-82d6-d6586c7c9d45",
   "metadata": {
    "tags": []
   },
   "outputs": [],
   "source": [
    "PATH = './models/practice/first_basic_model.pth'\n",
    "torch.save(model.state_dict(), PATH)"
   ]
  },
  {
   "cell_type": "code",
   "execution_count": null,
   "id": "0feeb96a-eabe-4890-b7d9-969a63fd33e4",
   "metadata": {},
   "outputs": [],
   "source": []
  },
  {
   "cell_type": "markdown",
   "id": "968c887a-21fc-450a-9876-c33609ffbfe5",
   "metadata": {},
   "source": [
    "## Load First Basic Model"
   ]
  },
  {
   "cell_type": "code",
   "execution_count": 143,
   "id": "7445104d-e81a-4ea3-bda6-30a9fd05e2bc",
   "metadata": {
    "tags": []
   },
   "outputs": [
    {
     "data": {
      "text/plain": [
       "NeuralNet(\n",
       "  (l1): Linear(in_features=7500, out_features=500, bias=True)\n",
       "  (relu): ReLU()\n",
       "  (l2): Linear(in_features=500, out_features=3, bias=True)\n",
       ")"
      ]
     },
     "execution_count": 143,
     "metadata": {},
     "output_type": "execute_result"
    }
   ],
   "source": [
    "loaded_model = NeuralNet(input_size, hidden_size, num_classes).to(device)\n",
    "loaded_model.load_state_dict(torch.load(PATH)) # it takes the loaded dictionary, not the path file itself\n",
    "loaded_model.to(device)\n",
    "loaded_model.eval()"
   ]
  },
  {
   "cell_type": "code",
   "execution_count": null,
   "id": "bce52c52-bc37-4cee-82c7-e6daf30ec96a",
   "metadata": {},
   "outputs": [],
   "source": []
  },
  {
   "cell_type": "code",
   "execution_count": 148,
   "id": "173bfc6b-29bd-43ab-90c1-0af9d3ba0408",
   "metadata": {
    "tags": []
   },
   "outputs": [
    {
     "name": "stdout",
     "output_type": "stream",
     "text": [
      "Accuracy of the network on the 27001 test images: 33.07655272026962 %\n"
     ]
    }
   ],
   "source": [
    "# Test the loaded_model: we don't need to compute gradients\n",
    "with torch.no_grad():\n",
    "    n_correct = 0\n",
    "    n_samples = len(test_dataloader.dataset)\n",
    "\n",
    "    for images, labels in test_dataloader:\n",
    "        images = images.reshape(-1, 75*100).to(device)\n",
    "        labels = labels.to(device)\n",
    "\n",
    "        outputs = loaded_model(images)\n",
    "\n",
    "        # max returns (output_value ,index)\n",
    "        _, predicted = torch.max(outputs, 1)\n",
    "        n_correct += (predicted == labels).sum().item()\n",
    "\n",
    "    acc = n_correct / n_samples\n",
    "    print(f'Accuracy of the network on the {n_samples} test images: {100*acc} %')\n",
    "    \n",
    "### Accuracy of the network on the 27001 test images: 41.26884189474464 %\n",
    "### Accuracy of the network on the 27001 test images: 33.07655272026962 %"
   ]
  },
  {
   "cell_type": "code",
   "execution_count": null,
   "id": "e281022a-8be9-470c-9e87-9b4187457eb2",
   "metadata": {},
   "outputs": [],
   "source": []
  },
  {
   "cell_type": "code",
   "execution_count": null,
   "id": "e02e7947-488b-4cd8-92a9-31d83560ab95",
   "metadata": {},
   "outputs": [],
   "source": []
  },
  {
   "cell_type": "code",
   "execution_count": null,
   "id": "198a27b2-f3f1-4964-808e-18224c2c04fe",
   "metadata": {},
   "outputs": [],
   "source": []
  },
  {
   "cell_type": "code",
   "execution_count": null,
   "id": "2d804966-7fff-47a5-96be-097d2b430def",
   "metadata": {},
   "outputs": [],
   "source": []
  },
  {
   "cell_type": "markdown",
   "id": "42dc4632-c1b9-4a62-95d9-efe234416db1",
   "metadata": {},
   "source": [
    "# Create First CNN\n",
    "PerfectMM vs NearPerfectMM vs StreakMM"
   ]
  },
  {
   "cell_type": "markdown",
   "id": "2df4ed26-877b-4499-9b45-2566b83ef885",
   "metadata": {},
   "source": [
    "## First CNN Configurations"
   ]
  },
  {
   "cell_type": "code",
   "execution_count": 172,
   "id": "c4c180fe-2ed7-46de-be6e-b7cae987fa36",
   "metadata": {
    "tags": []
   },
   "outputs": [],
   "source": [
    "# Device configuration\n",
    "device = torch.device('cuda' if torch.cuda.is_available() else 'cpu')\n",
    "\n",
    "# Hyper-parameters\n",
    "input_size = 75*100 # 348x465\n",
    "# hidden_size = 500\n",
    "num_classes = 3\n",
    "num_epochs = 10\n",
    "# batch_size = 100\n",
    "learning_rate = 0.001"
   ]
  },
  {
   "cell_type": "code",
   "execution_count": null,
   "id": "628e6f4a-0c36-4781-aef7-4453819fdf68",
   "metadata": {},
   "outputs": [],
   "source": []
  },
  {
   "cell_type": "code",
   "execution_count": null,
   "id": "ebb4abfa-b5cc-4512-818e-be05c9f97e81",
   "metadata": {},
   "outputs": [],
   "source": []
  },
  {
   "cell_type": "markdown",
   "id": "4ca6952f-2459-40ea-a03e-39b3615dcad5",
   "metadata": {},
   "source": [
    "## Define Model"
   ]
  },
  {
   "cell_type": "code",
   "execution_count": 157,
   "id": "ce66deea-8833-4a66-8282-ba0638a75f3b",
   "metadata": {
    "tags": []
   },
   "outputs": [],
   "source": [
    "class ConvNet(nn.Module):\n",
    "    def __init__(self):\n",
    "        super().__init__()\n",
    "        self.conv1 = nn.Conv2d(1, 32, 3)\n",
    "        self.pool = nn.MaxPool2d(2, 2)\n",
    "        self.conv2 = nn.Conv2d(32, 64, 3)\n",
    "        self.conv3 = nn.Conv2d(64, 64, 3)\n",
    "        self.fc1 = nn.Linear(64*15*21, 64)\n",
    "        self.fc2 = nn.Linear(64, 3)\n",
    "\n",
    "    def forward(self, x):\n",
    "        # batch_size, 1, 75, 100\n",
    "        # print(x.shape)\n",
    "        x = F.relu(self.conv1(x))   # -> batch_size, 32, 73, 98\n",
    "        # print(x.shape)\n",
    "        x = self.pool(x)            # -> batch_size, 32, 36, 49\n",
    "        # print(x.shape)\n",
    "        x = F.relu(self.conv2(x))   # -> batch_size, 64, 34, 47\n",
    "        # print(x.shape)\n",
    "        x = self.pool(x)            # -> batch_size, 64, 17, 23\n",
    "        # print(x.shape)\n",
    "        x = F.relu(self.conv3(x))   # -> batch_size, 64, 15, 21\n",
    "        # print(x.shape)\n",
    "        x = torch.flatten(x, 1)     # -> batch_size, 20160\n",
    "        # print(x.shape)\n",
    "        x = F.relu(self.fc1(x))     # -> batch_size, 64\n",
    "        # print(x.shape)\n",
    "        x = self.fc2(x)             # -> batch_size, 3\n",
    "        # print(x.shape)\n",
    "        return x"
   ]
  },
  {
   "cell_type": "code",
   "execution_count": 161,
   "id": "66dcf94c-0189-4d6c-b679-17e8aea6a358",
   "metadata": {
    "tags": []
   },
   "outputs": [],
   "source": [
    "# 64*15*21"
   ]
  },
  {
   "cell_type": "markdown",
   "id": "25a161ae-84bb-498b-bb79-43e2bbe5f769",
   "metadata": {},
   "source": [
    "## Train First CNN Model"
   ]
  },
  {
   "cell_type": "code",
   "execution_count": 175,
   "id": "fa86dd6b-6989-4b44-b2c3-373c6b4ff52c",
   "metadata": {
    "tags": []
   },
   "outputs": [
    {
     "name": "stderr",
     "output_type": "stream",
     "text": [
      " 10%|█         | 1/10 [04:32<40:50, 272.31s/it]"
     ]
    },
    {
     "name": "stdout",
     "output_type": "stream",
     "text": [
      "[1] loss: 0.499\n"
     ]
    },
    {
     "name": "stderr",
     "output_type": "stream",
     "text": [
      " 20%|██        | 2/10 [09:05<36:22, 272.80s/it]"
     ]
    },
    {
     "name": "stdout",
     "output_type": "stream",
     "text": [
      "[2] loss: 0.466\n"
     ]
    },
    {
     "name": "stderr",
     "output_type": "stream",
     "text": [
      " 30%|███       | 3/10 [13:38<31:49, 272.82s/it]"
     ]
    },
    {
     "name": "stdout",
     "output_type": "stream",
     "text": [
      "[3] loss: 0.465\n"
     ]
    },
    {
     "name": "stderr",
     "output_type": "stream",
     "text": [
      " 40%|████      | 4/10 [18:10<27:15, 272.52s/it]"
     ]
    },
    {
     "name": "stdout",
     "output_type": "stream",
     "text": [
      "[4] loss: 0.462\n"
     ]
    },
    {
     "name": "stderr",
     "output_type": "stream",
     "text": [
      " 50%|█████     | 5/10 [22:41<22:39, 271.95s/it]"
     ]
    },
    {
     "name": "stdout",
     "output_type": "stream",
     "text": [
      "[5] loss: 0.462\n"
     ]
    },
    {
     "name": "stderr",
     "output_type": "stream",
     "text": [
      " 60%|██████    | 6/10 [27:12<18:06, 271.53s/it]"
     ]
    },
    {
     "name": "stdout",
     "output_type": "stream",
     "text": [
      "[6] loss: 0.457\n"
     ]
    },
    {
     "name": "stderr",
     "output_type": "stream",
     "text": [
      " 70%|███████   | 7/10 [31:42<13:34, 271.35s/it]"
     ]
    },
    {
     "name": "stdout",
     "output_type": "stream",
     "text": [
      "[7] loss: 0.451\n"
     ]
    },
    {
     "name": "stderr",
     "output_type": "stream",
     "text": [
      " 80%|████████  | 8/10 [36:14<09:02, 271.45s/it]"
     ]
    },
    {
     "name": "stdout",
     "output_type": "stream",
     "text": [
      "[8] loss: 0.437\n"
     ]
    },
    {
     "name": "stderr",
     "output_type": "stream",
     "text": [
      " 90%|█████████ | 9/10 [40:46<04:31, 271.62s/it]"
     ]
    },
    {
     "name": "stdout",
     "output_type": "stream",
     "text": [
      "[9] loss: 0.415\n"
     ]
    },
    {
     "name": "stderr",
     "output_type": "stream",
     "text": [
      "100%|██████████| 10/10 [45:17<00:00, 271.75s/it]"
     ]
    },
    {
     "name": "stdout",
     "output_type": "stream",
     "text": [
      "[10] loss: 0.382\n",
      "Finished Training\n"
     ]
    },
    {
     "name": "stderr",
     "output_type": "stream",
     "text": [
      "\n"
     ]
    }
   ],
   "source": [
    "model = ConvNet().to(device)\n",
    "\n",
    "criterion = nn.CrossEntropyLoss()\n",
    "optimizer = torch.optim.Adam(model.parameters(), lr=learning_rate)\n",
    "\n",
    "n_total_steps = len(train_dataloader)\n",
    "for epoch in tqdm(range(num_epochs)):\n",
    "\n",
    "    running_loss = 0.0\n",
    "\n",
    "    for i, (images, labels) in enumerate(train_dataloader):\n",
    "        images = images.to(device)\n",
    "        labels = labels.to(device)\n",
    "\n",
    "        # Forward pass\n",
    "        outputs = model(images)\n",
    "        loss = criterion(outputs, labels)\n",
    "\n",
    "        # Backward and optimize\n",
    "        loss.backward()\n",
    "        optimizer.step()\n",
    "        optimizer.zero_grad()\n",
    "\n",
    "        running_loss += loss.item()\n",
    "\n",
    "    print(f'[{epoch + 1}] loss: {running_loss / n_total_steps:.3f}')\n",
    "\n",
    "print('Finished Training')\n",
    "PATH = './models/practice/cnn_10epo.pth'\n",
    "torch.save(model.state_dict(), PATH)\n",
    "\n",
    "### 4.5 mins per epoch to train"
   ]
  },
  {
   "cell_type": "code",
   "execution_count": null,
   "id": "e7a369d9-1449-4dcb-b917-1c2c276b2b7e",
   "metadata": {},
   "outputs": [],
   "source": []
  },
  {
   "cell_type": "markdown",
   "id": "2f3b66ed-8761-4bc6-a269-e0db0dc499e1",
   "metadata": {},
   "source": [
    "## Test First CNN Model"
   ]
  },
  {
   "cell_type": "code",
   "execution_count": 183,
   "id": "7bf28959-6f03-4d8b-9f57-6dbeda3c2483",
   "metadata": {
    "tags": []
   },
   "outputs": [],
   "source": [
    "PATH = './models/practice/cnn_10epo.pth'"
   ]
  },
  {
   "cell_type": "code",
   "execution_count": 184,
   "id": "7d7d5812-c31f-424c-b8b1-312c347d6daf",
   "metadata": {
    "tags": []
   },
   "outputs": [
    {
     "name": "stdout",
     "output_type": "stream",
     "text": [
      "Accuracy of the model: 66.59012629161883 %\n",
      "Accuracy of the loaded model: 66.59012629161883 %\n"
     ]
    }
   ],
   "source": [
    "loaded_model = ConvNet()\n",
    "loaded_model.load_state_dict(torch.load(PATH)) # it takes the loaded dictionary, not the path file itself\n",
    "loaded_model.to(device)\n",
    "loaded_model.eval()\n",
    "\n",
    "with torch.no_grad():\n",
    "    n_correct = 0\n",
    "    n_correct2 = 0\n",
    "    n_samples = len(test_dataloader.dataset)\n",
    "\n",
    "    for images, labels in test_dataloader:\n",
    "        images = images.to(device)\n",
    "        labels = labels.to(device)\n",
    "        outputs = model(images)\n",
    "\n",
    "        # max returns (value ,index)\n",
    "        _, predicted = torch.max(outputs, 1)\n",
    "        n_correct += (predicted == labels).sum().item()\n",
    "\n",
    "        outputs2 = loaded_model(images)\n",
    "        _, predicted2 = torch.max(outputs2, 1)\n",
    "        n_correct2 += (predicted2 == labels).sum().item()\n",
    "\n",
    "    acc = 100.0 * n_correct / n_samples\n",
    "    print(f'Accuracy of the model: {acc} %')\n",
    "\n",
    "    acc = 100.0 * n_correct2 / n_samples\n",
    "    print(f'Accuracy of the loaded model: {acc} %')\n",
    "    \n",
    "### Accuracy of the model: 66.59012629161883 %\n",
    "### Accuracy of the loaded model: 66.59012629161883 %"
   ]
  },
  {
   "cell_type": "code",
   "execution_count": 192,
   "id": "b136df5c-9792-4e89-b6e9-1823a715c89c",
   "metadata": {
    "tags": []
   },
   "outputs": [
    {
     "name": "stdout",
     "output_type": "stream",
     "text": [
      "torch.Size([25, 1, 75, 100])\n"
     ]
    }
   ],
   "source": [
    "print(images.shape)"
   ]
  },
  {
   "cell_type": "code",
   "execution_count": 253,
   "id": "e71f5ed4-d0ee-4715-895c-3b727d0a984d",
   "metadata": {
    "tags": []
   },
   "outputs": [
    {
     "name": "stdout",
     "output_type": "stream",
     "text": [
      "2024-05-09 14:33:44\n",
      "\n",
      "\n",
      "Accuracy of the loaded model: 66.59012629161883 %\n",
      "\n",
      "----------------------------------------------------\n",
      "done in 93.863s.\n",
      "2024-05-09 14:35:18\n"
     ]
    }
   ],
   "source": [
    "start = time()\n",
    "print(strftime('%Y-%m-%d %H:%M:%S', localtime()))\n",
    "print('\\n')\n",
    "##############################################################################################################################\n",
    "\n",
    "\n",
    "\n",
    "loaded_model = ConvNet()\n",
    "loaded_model.load_state_dict(torch.load(PATH)) # it takes the loaded dictionary, not the path file itself\n",
    "loaded_model.to(device)\n",
    "loaded_model.eval()\n",
    "\n",
    "# wrong_answers = []\n",
    "all_answers = []\n",
    "\n",
    "with torch.no_grad():\n",
    "    n_correct = 0\n",
    "    n_correct2 = 0\n",
    "    n_samples = len(test_dataloader.dataset)\n",
    "\n",
    "    for images, labels in test_dataloader:\n",
    "        images = images.to(device)\n",
    "        labels = labels.to(device)\n",
    "        outputs = model(images)\n",
    "\n",
    "        # max returns (value ,index)\n",
    "        outputs2 = loaded_model(images)\n",
    "        _, predicted2 = torch.max(outputs2, 1)\n",
    "        \n",
    "        n_correct2 += (predicted2 == labels).sum().item()\n",
    "        \n",
    "        \n",
    "        labels_list = labels.tolist()\n",
    "        predicted2_list = predicted2.tolist()\n",
    "        \n",
    "        for i in range(len(labels_list)):\n",
    "            # if predicted2_list[i] != labels_list[i]:\n",
    "                # wrong_answers.append([labels_list[i], predicted2_list[i]])\n",
    "                all_answers.append((labels_list[i], predicted2_list[i]))\n",
    "                \n",
    "    acc = 100.0 * n_correct2 / n_samples\n",
    "    print(f'Accuracy of the loaded model: {acc} %')\n",
    "    \n",
    "\n",
    "##############################################################################################################################\n",
    "print('\\n----------------------------------------------------')\n",
    "print(\"done in %0.3fs.\" % (time() - start))\n",
    "print(strftime('%Y-%m-%d %H:%M:%S', localtime()))\n",
    "    \n",
    "\n",
    "\n",
    "    \n",
    "### Accuracy of the model: 66.59012629161883 %\n",
    "### Accuracy of the loaded model: 66.59012629161883 %"
   ]
  },
  {
   "cell_type": "code",
   "execution_count": 257,
   "id": "9966a7ea-1b1c-46c6-a9c2-a14fe4437b78",
   "metadata": {
    "tags": []
   },
   "outputs": [
    {
     "name": "stdout",
     "output_type": "stream",
     "text": [
      "27001\n",
      "<class 'list'>\n"
     ]
    }
   ],
   "source": [
    "# print(len(wrong_answers))\n",
    "print(len(all_answers))\n",
    "print(type(all_answers))\n"
   ]
  },
  {
   "cell_type": "code",
   "execution_count": 273,
   "id": "be83317f-cdbb-4f3f-9d19-16557e1d8e1c",
   "metadata": {
    "tags": []
   },
   "outputs": [
    {
     "data": {
      "text/plain": [
       "{(1, 1): 4364,\n",
       " (0, 1): 4320,\n",
       " (0, 0): 4697,\n",
       " (1, 0): 4687,\n",
       " (2, 2): 8919,\n",
       " (2, 0): 6,\n",
       " (2, 1): 6,\n",
       " (1, 2): 2}"
      ]
     },
     "execution_count": 273,
     "metadata": {},
     "output_type": "execute_result"
    }
   ],
   "source": [
    "# Counter(all_answers)\n",
    "dict(Counter(all_answers))"
   ]
  },
  {
   "cell_type": "code",
   "execution_count": 243,
   "id": "9a0fa437-e22f-4c75-b386-4cc00d184371",
   "metadata": {
    "tags": []
   },
   "outputs": [],
   "source": [
    "# for item in all_answers:\n",
    "#     print(item)"
   ]
  },
  {
   "cell_type": "code",
   "execution_count": 288,
   "id": "91840019-f601-4fcf-a196-800b9d9b6adb",
   "metadata": {
    "tags": []
   },
   "outputs": [
    {
     "data": {
      "text/plain": [
       "torch.Size([1, 75, 100])"
      ]
     },
     "execution_count": 288,
     "metadata": {},
     "output_type": "execute_result"
    }
   ],
   "source": [
    "images[0].shape"
   ]
  },
  {
   "cell_type": "markdown",
   "id": "29ec1a38-585f-4027-a6c2-8fd660fb6d6c",
   "metadata": {},
   "source": [
    "### Test Individual Sample(s)"
   ]
  },
  {
   "cell_type": "code",
   "execution_count": 311,
   "id": "3f2c356d-594a-4f17-b09b-1e5981b1247b",
   "metadata": {
    "tags": []
   },
   "outputs": [
    {
     "data": {
      "text/plain": [
       "ConvNet(\n",
       "  (conv1): Conv2d(1, 32, kernel_size=(3, 3), stride=(1, 1))\n",
       "  (pool): MaxPool2d(kernel_size=2, stride=2, padding=0, dilation=1, ceil_mode=False)\n",
       "  (conv2): Conv2d(32, 64, kernel_size=(3, 3), stride=(1, 1))\n",
       "  (conv3): Conv2d(64, 64, kernel_size=(3, 3), stride=(1, 1))\n",
       "  (fc1): Linear(in_features=20160, out_features=64, bias=True)\n",
       "  (fc2): Linear(in_features=64, out_features=3, bias=True)\n",
       ")"
      ]
     },
     "execution_count": 311,
     "metadata": {},
     "output_type": "execute_result"
    }
   ],
   "source": [
    "loaded_model"
   ]
  },
  {
   "cell_type": "code",
   "execution_count": 363,
   "id": "1619627e-7fef-4820-b026-5b9ff97097ee",
   "metadata": {
    "tags": []
   },
   "outputs": [
    {
     "data": {
      "text/plain": [
       "tensor([1, 1, 0, 2, 0, 0, 0, 2, 1, 1, 1, 2, 1, 2, 2, 0, 2, 2, 0, 1, 0, 1, 0, 2,\n",
       "        1])"
      ]
     },
     "execution_count": 363,
     "metadata": {},
     "output_type": "execute_result"
    }
   ],
   "source": [
    "labels"
   ]
  },
  {
   "cell_type": "code",
   "execution_count": 325,
   "id": "e7ea014f-8c9c-4397-a777-10d05f6997cb",
   "metadata": {
    "tags": []
   },
   "outputs": [
    {
     "data": {
      "text/plain": [
       "torch.Size([1, 75, 100])"
      ]
     },
     "execution_count": 325,
     "metadata": {},
     "output_type": "execute_result"
    }
   ],
   "source": [
    "images[0].shape"
   ]
  },
  {
   "cell_type": "code",
   "execution_count": 361,
   "id": "bd0ce5d8-2b77-4274-9788-18cbe2d54e43",
   "metadata": {
    "tags": []
   },
   "outputs": [
    {
     "name": "stdout",
     "output_type": "stream",
     "text": [
      "tensor([0])\n"
     ]
    }
   ],
   "source": [
    "pred = loaded_model(images[0][None,:])\n",
    "\n",
    "_, pred = torch.max(pred, 1) \n",
    "\n",
    "print(pred)"
   ]
  },
  {
   "cell_type": "code",
   "execution_count": null,
   "id": "fa4f0c3c-098f-4743-b133-6e786020f100",
   "metadata": {},
   "outputs": [],
   "source": []
  },
  {
   "cell_type": "markdown",
   "id": "9b8cc2ad-f1c3-407a-9743-5462ea1a9ac0",
   "metadata": {},
   "source": [
    "### Open one image from LIVE_DATA"
   ]
  },
  {
   "cell_type": "code",
   "execution_count": 519,
   "id": "308fb265-ff1f-493b-9ea7-152c783bf616",
   "metadata": {
    "tags": []
   },
   "outputs": [],
   "source": [
    "# one_image = torchvision.io.read_image('images/live_data/silver_zello.txt.png')\n",
    "# one_image = torchvision.io.read_image('images/nearperfectmm/nearperfectmm_1000_image_844.png')\n",
    "\n",
    "# one_image = Image.open('images/live_data/silver_zello.txt.png')\n",
    "one_image = Image.open('images/live_data/silver_sensejange.txt.png').convert('RGB')"
   ]
  },
  {
   "cell_type": "code",
   "execution_count": 521,
   "id": "21320a28-070c-4229-a7cd-bd3a8c91506e",
   "metadata": {
    "tags": []
   },
   "outputs": [
    {
     "data": {
      "image/jpeg": "[encoded data removed]",
      "image/png": "[encoded data removed]",
      "text/plain": [
       "<PIL.Image.Image image mode=RGB size=465x348>"
      ]
     },
     "execution_count": 521,
     "metadata": {},
     "output_type": "execute_result"
    }
   ],
   "source": [
    "one_image"
   ]
  },
  {
   "cell_type": "code",
   "execution_count": 523,
   "id": "5b025dd9-7f62-46a9-bfe6-4a3c7db93e27",
   "metadata": {},
   "outputs": [],
   "source": [
    "# one_image.numpy().shape"
   ]
  },
  {
   "cell_type": "code",
   "execution_count": 525,
   "id": "2ac7939d-0c07-4931-b7cb-40168474af13",
   "metadata": {},
   "outputs": [
    {
     "data": {
      "text/plain": [
       "PIL.Image.Image"
      ]
     },
     "execution_count": 525,
     "metadata": {},
     "output_type": "execute_result"
    }
   ],
   "source": [
    "type(one_image)"
   ]
  },
  {
   "cell_type": "code",
   "execution_count": null,
   "id": "86e3e28b-caca-49f4-895b-68ecdc733ef3",
   "metadata": {},
   "outputs": [],
   "source": []
  },
  {
   "cell_type": "code",
   "execution_count": 528,
   "id": "673ea828-fba2-425b-9dc4-f54449421bb7",
   "metadata": {
    "tags": []
   },
   "outputs": [],
   "source": [
    "# one_image = transform(one_image)\n",
    "one_image = transform(one_image)"
   ]
  },
  {
   "cell_type": "code",
   "execution_count": 530,
   "id": "ea71e491-5838-49f6-a131-bdef363d7afc",
   "metadata": {
    "tags": []
   },
   "outputs": [
    {
     "data": {
      "text/plain": [
       "torch.Size([1, 75, 100])"
      ]
     },
     "execution_count": 530,
     "metadata": {},
     "output_type": "execute_result"
    }
   ],
   "source": [
    "one_image.shape"
   ]
  },
  {
   "cell_type": "code",
   "execution_count": 532,
   "id": "87f3cdf9-4d51-468e-8a3f-fe267fa462d4",
   "metadata": {
    "tags": []
   },
   "outputs": [
    {
     "data": {
      "text/plain": [
       "torch.Size([1, 1, 75, 100])"
      ]
     },
     "execution_count": 532,
     "metadata": {},
     "output_type": "execute_result"
    }
   ],
   "source": [
    "one_image = one_image[None, :]\n",
    "one_image.shape"
   ]
  },
  {
   "cell_type": "code",
   "execution_count": null,
   "id": "8e0c7b30-572a-4c76-a0e8-8e00f3c3ea42",
   "metadata": {},
   "outputs": [],
   "source": []
  },
  {
   "cell_type": "code",
   "execution_count": 535,
   "id": "3b818d8f-a50a-4456-85f6-f3c3ea8eefb2",
   "metadata": {
    "tags": []
   },
   "outputs": [
    {
     "name": "stdout",
     "output_type": "stream",
     "text": [
      "tensor([1])\n"
     ]
    }
   ],
   "source": [
    "pred = loaded_model(one_image)\n",
    "\n",
    "_, pred = torch.max(pred, 1) \n",
    "\n",
    "print(pred)"
   ]
  },
  {
   "cell_type": "code",
   "execution_count": null,
   "id": "975614eb-cc8b-4ad8-9d57-69f8b16158a7",
   "metadata": {},
   "outputs": [],
   "source": []
  },
  {
   "cell_type": "code",
   "execution_count": null,
   "id": "c0f220a4-0f94-4872-ad1a-bac42029ab76",
   "metadata": {},
   "outputs": [],
   "source": []
  },
  {
   "cell_type": "markdown",
   "id": "7d62d63f-8af3-40f6-93ed-818cc1af2502",
   "metadata": {},
   "source": [
    "# LOAD IMAGES from FOUR CLASSES"
   ]
  },
  {
   "cell_type": "code",
   "execution_count": 573,
   "id": "5064acab-1a45-4051-b041-d6d9184bd7c9",
   "metadata": {
    "tags": []
   },
   "outputs": [],
   "source": [
    "### loads only perfectmm images & labels them as 'images'\n",
    "# imagefolder_path = 'saved_lists/perfectmm'\n",
    "\n",
    "### loads only perfectmm images & labels them as \n",
    "### {0: 'nearperfectmm', 1: 'perfectmm', 2: 'streakmm'}\n",
    "imagefolder_path = 'images'\n",
    "\n",
    "# ppath = pathlib.Path(imagefolder_path)\n",
    "\n",
    "# dataset = datasets.ImageFolder(imagefolder_path)\n",
    "\n",
    "# dataset = datasets.ImageFolder(imagefolder_path, transform=transforms.ToTensor())\n",
    "\n",
    "\n",
    "all_dataset = datasets.ImageFolder(imagefolder_path, transform=transform)"
   ]
  },
  {
   "cell_type": "code",
   "execution_count": 575,
   "id": "e871418a-484f-4802-978d-814880d721ea",
   "metadata": {
    "tags": []
   },
   "outputs": [
    {
     "data": {
      "text/plain": [
       "Dataset ImageFolder\n",
       "    Number of datapoints: 131603\n",
       "    Root location: images\n",
       "    StandardTransform\n",
       "Transform: Compose(\n",
       "               Resize(size=(75, 100), interpolation=bilinear, max_size=None, antialias=True)\n",
       "               ToTensor()\n",
       "               Grayscale(num_output_channels=1)\n",
       "           )"
      ]
     },
     "execution_count": 575,
     "metadata": {},
     "output_type": "execute_result"
    }
   ],
   "source": [
    "all_dataset"
   ]
  },
  {
   "cell_type": "code",
   "execution_count": 624,
   "id": "b4b6dae6-ee14-4d6c-9b32-9c722380e0ca",
   "metadata": {
    "tags": []
   },
   "outputs": [
    {
     "name": "stdout",
     "output_type": "stream",
     "text": [
      "4\n",
      "{0: 'live_data', 1: 'nearperfectmm', 2: 'perfectmm', 3: 'streakmm'}\n"
     ]
    }
   ],
   "source": [
    "target_to_class = {v : k for k, v in datasets.ImageFolder(imagefolder_path).class_to_idx.items()}\n",
    "\n",
    "print(len(target_to_class))\n",
    "print((target_to_class))"
   ]
  },
  {
   "cell_type": "markdown",
   "id": "67486bce-37ac-4b5c-900b-1c09d94d9cad",
   "metadata": {},
   "source": [
    "## Split Train & Test (all_dataset)"
   ]
  },
  {
   "cell_type": "code",
   "execution_count": 578,
   "id": "bc4c909a-0193-46da-8b91-733982f7b43e",
   "metadata": {
    "tags": []
   },
   "outputs": [],
   "source": [
    "train_size = int(0.7 * len(all_dataset))\n",
    "test_size = len(all_dataset) - train_size\n",
    "train_alldataset, test_alldataset = torch.utils.data.random_split(all_dataset, [train_size, test_size])"
   ]
  },
  {
   "cell_type": "code",
   "execution_count": null,
   "id": "059a5291-739e-4813-bc75-43f0f6536825",
   "metadata": {},
   "outputs": [],
   "source": []
  },
  {
   "cell_type": "code",
   "execution_count": 583,
   "id": "031479f4-4d22-43d5-aa71-ae6ada235bdb",
   "metadata": {
    "tags": []
   },
   "outputs": [
    {
     "data": {
      "text/plain": [
       "92122"
      ]
     },
     "execution_count": 583,
     "metadata": {},
     "output_type": "execute_result"
    }
   ],
   "source": [
    "train_alldataset\n",
    "len(train_alldataset)"
   ]
  },
  {
   "cell_type": "code",
   "execution_count": 585,
   "id": "417f002f-a6a3-44aa-8496-cfca254118ed",
   "metadata": {
    "tags": []
   },
   "outputs": [
    {
     "data": {
      "text/plain": [
       "39481"
      ]
     },
     "execution_count": 585,
     "metadata": {},
     "output_type": "execute_result"
    }
   ],
   "source": [
    "test_alldataset\n",
    "len(test_alldataset)"
   ]
  },
  {
   "cell_type": "code",
   "execution_count": null,
   "id": "faaf3304-2ff5-404f-8a19-f55ce63f0057",
   "metadata": {},
   "outputs": [],
   "source": []
  },
  {
   "cell_type": "markdown",
   "id": "fcbb6caa-60dd-45f2-b885-caa0f914ec18",
   "metadata": {},
   "source": [
    "## Create Train & Test all_dataloaders"
   ]
  },
  {
   "cell_type": "code",
   "execution_count": 592,
   "id": "0fc74fd3-4dad-4670-bc56-93a986bcc6dd",
   "metadata": {
    "tags": []
   },
   "outputs": [],
   "source": [
    "train_alldataloader = torch.utils.data.DataLoader(train_alldataset, batch_size=32, shuffle=True)"
   ]
  },
  {
   "cell_type": "code",
   "execution_count": 594,
   "id": "a76ccc48-cef8-4591-8ac4-8ae03c364033",
   "metadata": {
    "tags": []
   },
   "outputs": [],
   "source": [
    "test_alldataloader = torch.utils.data.DataLoader(test_alldataset, batch_size=32, shuffle=False)"
   ]
  },
  {
   "cell_type": "markdown",
   "id": "77de7497-34b9-4c07-b44b-cca0e183cdaa",
   "metadata": {},
   "source": [
    "### Check Train alldataloader"
   ]
  },
  {
   "cell_type": "code",
   "execution_count": 597,
   "id": "e43e7792-5c3f-42a8-aaf3-1fdc1a2be8be",
   "metadata": {
    "tags": []
   },
   "outputs": [],
   "source": [
    "for images, labels in train_alldataloader:\n",
    "    break\n",
    "\n",
    "# images, labels = next(iter(dataloader))"
   ]
  },
  {
   "cell_type": "code",
   "execution_count": 599,
   "id": "2b30b09c-45c3-4a17-9c34-ddb2edcd6a7d",
   "metadata": {
    "tags": []
   },
   "outputs": [
    {
     "data": {
      "image/png": "[encoded data removed]",
      "text/plain": [
       "<Figure size 640x480 with 6 Axes>"
      ]
     },
     "metadata": {},
     "output_type": "display_data"
    }
   ],
   "source": [
    "examples = iter(train_alldataloader)\n",
    "# example_data, example_targets = examples.next()\n",
    "example_data, example_targets = next(examples)\n",
    "\n",
    "\n",
    "for i in range(6):\n",
    "    plt.subplot(2,3,i+1)\n",
    "    plt.imshow(example_data[i][0], cmap='gray')\n",
    "    # print(example_targets)\n",
    "plt.show()"
   ]
  },
  {
   "cell_type": "markdown",
   "id": "eecb3ad4-132e-4f8f-ade3-51c7869446e7",
   "metadata": {},
   "source": [
    "### Check Test alldataloader"
   ]
  },
  {
   "cell_type": "code",
   "execution_count": 602,
   "id": "52cb76d3-438c-4bff-8e02-8f7ba34dcdf1",
   "metadata": {
    "tags": []
   },
   "outputs": [],
   "source": [
    "for images, labels in test_alldataloader:\n",
    "    break\n",
    "\n",
    "# images, labels = next(iter(dataloader))"
   ]
  },
  {
   "cell_type": "code",
   "execution_count": 604,
   "id": "8d5cbedb-1466-4251-b1ec-d6d37e236da9",
   "metadata": {
    "tags": []
   },
   "outputs": [
    {
     "data": {
      "image/png": "[encoded data removed]",
      "text/plain": [
       "<Figure size 640x480 with 6 Axes>"
      ]
     },
     "metadata": {},
     "output_type": "display_data"
    }
   ],
   "source": [
    "examples = iter(test_alldataloader)\n",
    "# example_data, example_targets = examples.next()\n",
    "example_data, example_targets = next(examples)\n",
    "\n",
    "\n",
    "for i in range(6):\n",
    "    plt.subplot(2,3,i+1)\n",
    "    plt.imshow(example_data[i][0], cmap='gray')\n",
    "    # print(example_targets)\n",
    "plt.show()"
   ]
  },
  {
   "cell_type": "code",
   "execution_count": null,
   "id": "2fdbb298-86ac-4664-ae16-8c8ec8d0cdfa",
   "metadata": {},
   "outputs": [],
   "source": []
  },
  {
   "cell_type": "code",
   "execution_count": null,
   "id": "4d9a7b66-5c0e-4bd4-b5c1-20265c7ddec6",
   "metadata": {},
   "outputs": [],
   "source": []
  },
  {
   "cell_type": "code",
   "execution_count": null,
   "id": "ade9de27-b292-4971-9abb-1317ad44ac9e",
   "metadata": {},
   "outputs": [],
   "source": []
  },
  {
   "cell_type": "code",
   "execution_count": null,
   "id": "ddddd673-1236-4612-a18d-0138998c513b",
   "metadata": {},
   "outputs": [],
   "source": []
  },
  {
   "cell_type": "code",
   "execution_count": null,
   "id": "0a0f05f6-3dcf-4e70-ab39-e226388b5d0d",
   "metadata": {},
   "outputs": [],
   "source": []
  },
  {
   "cell_type": "markdown",
   "id": "3d25beae-795c-42fa-913e-88ed26966e22",
   "metadata": {},
   "source": [
    "# Create First CNN for all CLASSES\n",
    "PerfectMM vs NearPerfectMM vs StreakMM vs Live Data\n"
   ]
  },
  {
   "cell_type": "markdown",
   "id": "82712e22-d955-489b-8ffb-e54e609ae6f4",
   "metadata": {},
   "source": [
    "## CNN for ALL Configurations"
   ]
  },
  {
   "cell_type": "code",
   "execution_count": 696,
   "id": "7d4599fe-a32a-4ada-beeb-91c521e9257c",
   "metadata": {
    "tags": []
   },
   "outputs": [],
   "source": [
    "# Device configuration\n",
    "device = torch.device('cuda' if torch.cuda.is_available() else 'cpu')\n",
    "\n",
    "# Hyper-parameters\n",
    "input_size = 75*100 # originally 348x465 without resize\n",
    "# hidden_size = 500\n",
    "num_classes = 4\n",
    "num_epochs = 20\n",
    "# num_epochs = 2\n",
    "# batch_size = 100\n",
    "learning_rate = 0.001"
   ]
  },
  {
   "cell_type": "markdown",
   "id": "d508659e-9cba-4d2b-9cdf-c69e9d508a26",
   "metadata": {},
   "source": [
    "## Define Model"
   ]
  },
  {
   "cell_type": "code",
   "execution_count": 699,
   "id": "8929c809-4532-47aa-b56f-f3744c188e2a",
   "metadata": {
    "tags": []
   },
   "outputs": [],
   "source": [
    "### same as FIRST CNN\n",
    "\n",
    "class ConvNet(nn.Module):\n",
    "    def __init__(self):\n",
    "        super().__init__()\n",
    "        self.conv1 = nn.Conv2d(1, 32, 3)\n",
    "        self.pool = nn.MaxPool2d(2, 2)\n",
    "        self.conv2 = nn.Conv2d(32, 64, 3)\n",
    "        self.conv3 = nn.Conv2d(64, 64, 3)\n",
    "        self.fc1 = nn.Linear(64*15*21, 64)\n",
    "        self.fc2 = nn.Linear(64, num_classes)\n",
    "\n",
    "    def forward(self, x):\n",
    "        # batch_size, 1, 75, 100\n",
    "        # print(x.shape)\n",
    "        x = F.relu(self.conv1(x))   # -> batch_size, 32, 73, 98\n",
    "        # print(x.shape)\n",
    "        x = self.pool(x)            # -> batch_size, 32, 36, 49\n",
    "        # print(x.shape)\n",
    "        x = F.relu(self.conv2(x))   # -> batch_size, 64, 34, 47\n",
    "        # print(x.shape)\n",
    "        x = self.pool(x)            # -> batch_size, 64, 17, 23\n",
    "        # print(x.shape)\n",
    "        x = F.relu(self.conv3(x))   # -> batch_size, 64, 15, 21\n",
    "        # print(x.shape)\n",
    "        x = torch.flatten(x, 1)     # -> batch_size, 20160\n",
    "        # print(x.shape)\n",
    "        x = F.relu(self.fc1(x))     # -> batch_size, 64\n",
    "        # print(x.shape)\n",
    "        x = self.fc2(x)             # -> batch_size, num_classes(=4)\n",
    "        # print(x.shape)\n",
    "        return x"
   ]
  },
  {
   "cell_type": "code",
   "execution_count": null,
   "id": "6fef0581-a381-489d-a65b-be4ad19c0017",
   "metadata": {},
   "outputs": [],
   "source": []
  },
  {
   "cell_type": "markdown",
   "id": "d68ebb32-3307-4b5c-936e-a3f238563211",
   "metadata": {},
   "source": [
    "## Train CNN for ALL CLASSES"
   ]
  },
  {
   "cell_type": "code",
   "execution_count": 703,
   "id": "7741683d-b191-4cba-8bba-73bda2c3fc6a",
   "metadata": {
    "tags": []
   },
   "outputs": [
    {
     "name": "stdout",
     "output_type": "stream",
     "text": [
      "2024-05-10 12:04:27\n",
      "\n",
      "\n"
     ]
    },
    {
     "name": "stderr",
     "output_type": "stream",
     "text": [
      "  5%|▌         | 1/20 [06:40<2:06:57, 400.90s/it]"
     ]
    },
    {
     "name": "stdout",
     "output_type": "stream",
     "text": [
      "[1] loss: 0.852\n"
     ]
    },
    {
     "name": "stderr",
     "output_type": "stream",
     "text": [
      " 10%|█         | 2/20 [13:24<2:00:40, 402.27s/it]"
     ]
    },
    {
     "name": "stdout",
     "output_type": "stream",
     "text": [
      "[2] loss: 0.830\n"
     ]
    },
    {
     "name": "stderr",
     "output_type": "stream",
     "text": [
      " 15%|█▌        | 3/20 [20:10<1:54:26, 403.92s/it]"
     ]
    },
    {
     "name": "stdout",
     "output_type": "stream",
     "text": [
      "[3] loss: 0.824\n"
     ]
    },
    {
     "name": "stderr",
     "output_type": "stream",
     "text": [
      " 20%|██        | 4/20 [26:56<1:48:00, 405.03s/it]"
     ]
    },
    {
     "name": "stdout",
     "output_type": "stream",
     "text": [
      "[4] loss: 0.818\n"
     ]
    },
    {
     "name": "stderr",
     "output_type": "stream",
     "text": [
      " 25%|██▌       | 5/20 [33:43<1:41:24, 405.63s/it]"
     ]
    },
    {
     "name": "stdout",
     "output_type": "stream",
     "text": [
      "[5] loss: 0.809\n"
     ]
    },
    {
     "name": "stderr",
     "output_type": "stream",
     "text": [
      " 30%|███       | 6/20 [40:26<1:34:26, 404.73s/it]"
     ]
    },
    {
     "name": "stdout",
     "output_type": "stream",
     "text": [
      "[6] loss: 0.796\n"
     ]
    },
    {
     "name": "stderr",
     "output_type": "stream",
     "text": [
      " 35%|███▌      | 7/20 [47:10<1:27:40, 404.62s/it]"
     ]
    },
    {
     "name": "stdout",
     "output_type": "stream",
     "text": [
      "[7] loss: 0.776\n"
     ]
    },
    {
     "name": "stderr",
     "output_type": "stream",
     "text": [
      " 40%|████      | 8/20 [53:54<1:20:50, 404.21s/it]"
     ]
    },
    {
     "name": "stdout",
     "output_type": "stream",
     "text": [
      "[8] loss: 0.747\n"
     ]
    },
    {
     "name": "stderr",
     "output_type": "stream",
     "text": [
      " 45%|████▌     | 9/20 [1:00:34<1:13:52, 402.98s/it]"
     ]
    },
    {
     "name": "stdout",
     "output_type": "stream",
     "text": [
      "[9] loss: 0.709\n"
     ]
    },
    {
     "name": "stderr",
     "output_type": "stream",
     "text": [
      " 50%|█████     | 10/20 [1:07:12<1:06:55, 401.59s/it]"
     ]
    },
    {
     "name": "stdout",
     "output_type": "stream",
     "text": [
      "[10] loss: 0.673\n"
     ]
    },
    {
     "name": "stderr",
     "output_type": "stream",
     "text": [
      " 55%|█████▌    | 11/20 [1:13:52<1:00:08, 400.97s/it]"
     ]
    },
    {
     "name": "stdout",
     "output_type": "stream",
     "text": [
      "[11] loss: 0.639\n"
     ]
    },
    {
     "name": "stderr",
     "output_type": "stream",
     "text": [
      " 60%|██████    | 12/20 [1:20:34<53:30, 401.35s/it]  "
     ]
    },
    {
     "name": "stdout",
     "output_type": "stream",
     "text": [
      "[12] loss: 0.610\n"
     ]
    },
    {
     "name": "stderr",
     "output_type": "stream",
     "text": [
      " 65%|██████▌   | 13/20 [1:27:16<46:49, 401.43s/it]"
     ]
    },
    {
     "name": "stdout",
     "output_type": "stream",
     "text": [
      "[13] loss: 0.583\n"
     ]
    },
    {
     "name": "stderr",
     "output_type": "stream",
     "text": [
      " 70%|███████   | 14/20 [1:34:02<40:16, 402.81s/it]"
     ]
    },
    {
     "name": "stdout",
     "output_type": "stream",
     "text": [
      "[14] loss: 0.563\n"
     ]
    },
    {
     "name": "stderr",
     "output_type": "stream",
     "text": [
      " 75%|███████▌  | 15/20 [1:40:47<33:37, 403.54s/it]"
     ]
    },
    {
     "name": "stdout",
     "output_type": "stream",
     "text": [
      "[15] loss: 0.542\n"
     ]
    },
    {
     "name": "stderr",
     "output_type": "stream",
     "text": [
      " 80%|████████  | 16/20 [1:47:30<26:53, 403.25s/it]"
     ]
    },
    {
     "name": "stdout",
     "output_type": "stream",
     "text": [
      "[16] loss: 0.527\n"
     ]
    },
    {
     "name": "stderr",
     "output_type": "stream",
     "text": [
      " 85%|████████▌ | 17/20 [1:54:10<20:07, 402.43s/it]"
     ]
    },
    {
     "name": "stdout",
     "output_type": "stream",
     "text": [
      "[17] loss: 0.510\n"
     ]
    },
    {
     "name": "stderr",
     "output_type": "stream",
     "text": [
      " 90%|█████████ | 18/20 [2:00:50<13:23, 401.71s/it]"
     ]
    },
    {
     "name": "stdout",
     "output_type": "stream",
     "text": [
      "[18] loss: 0.494\n"
     ]
    },
    {
     "name": "stderr",
     "output_type": "stream",
     "text": [
      " 95%|█████████▌| 19/20 [2:07:32<06:41, 401.72s/it]"
     ]
    },
    {
     "name": "stdout",
     "output_type": "stream",
     "text": [
      "[19] loss: 0.480\n"
     ]
    },
    {
     "name": "stderr",
     "output_type": "stream",
     "text": [
      "100%|██████████| 20/20 [2:14:18<00:00, 402.91s/it]"
     ]
    },
    {
     "name": "stdout",
     "output_type": "stream",
     "text": [
      "[20] loss: 0.467\n",
      "Finished Training\n",
      "\n",
      "----------------------------------------------------\n",
      "done in 8058.282s.\n",
      "2024-05-10 14:18:46\n"
     ]
    },
    {
     "name": "stderr",
     "output_type": "stream",
     "text": [
      "\n"
     ]
    }
   ],
   "source": [
    "start = time()\n",
    "print(strftime('%Y-%m-%d %H:%M:%S', localtime()))\n",
    "print('\\n')\n",
    "##############################################################################################################################\n",
    "\n",
    "model = ConvNet().to(device)\n",
    "\n",
    "criterion = nn.CrossEntropyLoss()\n",
    "optimizer = torch.optim.Adam(model.parameters(), lr=learning_rate)\n",
    "\n",
    "n_total_steps = len(train_alldataloader)\n",
    "for epoch in tqdm(range(num_epochs)):\n",
    "\n",
    "    running_loss = 0.0\n",
    "\n",
    "    for i, (images, labels) in enumerate(train_alldataloader):\n",
    "        images = images.to(device)\n",
    "        labels = labels.to(device)\n",
    "\n",
    "        # Forward pass\n",
    "        outputs = model(images)\n",
    "        loss = criterion(outputs, labels)\n",
    "\n",
    "        # Backward and optimize\n",
    "        loss.backward()\n",
    "        optimizer.step()\n",
    "        optimizer.zero_grad()\n",
    "\n",
    "        running_loss += loss.item()\n",
    "\n",
    "    print(f'[{epoch + 1}] loss: {running_loss / n_total_steps:.3f}')\n",
    "\n",
    "print('Finished Training')\n",
    "PATH = './models/practice/cnn_allclasses_v1.1_20epo.pth'\n",
    "torch.save(model.state_dict(), PATH)\n",
    "\n",
    "##############################################################################################################################\n",
    "print('\\n----------------------------------------------------')\n",
    "print(\"done in %0.3fs.\" % (time() - start))\n",
    "print(strftime('%Y-%m-%d %H:%M:%S', localtime()))\n",
    "\n",
    "\n",
    "\n",
    "\n",
    "### 6.5 mins per epoch to train\n",
    "### "
   ]
  },
  {
   "cell_type": "code",
   "execution_count": null,
   "id": "bb45ad26-ef9b-4c77-ae76-d5a119ddf929",
   "metadata": {},
   "outputs": [],
   "source": []
  },
  {
   "cell_type": "markdown",
   "id": "0dabec12-c172-48c1-93d5-504334cba2b0",
   "metadata": {},
   "source": [
    "## Test CNN for ALL CLASSES"
   ]
  },
  {
   "cell_type": "code",
   "execution_count": 726,
   "id": "72bf7db8-f259-425e-84e8-eaadbef84f4f",
   "metadata": {
    "tags": []
   },
   "outputs": [
    {
     "name": "stdout",
     "output_type": "stream",
     "text": [
      "./models/practice/cnn_allclasses_v1.1_20epo.pth\n"
     ]
    }
   ],
   "source": [
    "PATH = './models/practice/cnn_allclasses_v1.1_20epo.pth'\n",
    "print(PATH)"
   ]
  },
  {
   "cell_type": "code",
   "execution_count": null,
   "id": "13a7ef0f-f5a6-4c92-bef3-55fd3481c9d4",
   "metadata": {
    "tags": []
   },
   "outputs": [],
   "source": []
  },
  {
   "cell_type": "code",
   "execution_count": 729,
   "id": "f3767620-4ab7-43a8-a15f-9c736de3c935",
   "metadata": {
    "tags": []
   },
   "outputs": [
    {
     "name": "stdout",
     "output_type": "stream",
     "text": [
      "2024-05-10 16:49:04\n",
      "\n",
      "\n",
      "Accuracy of the loaded model: 50.87763734454548 %\n",
      "\n",
      "----------------------------------------------------\n",
      "done in 107.091s.\n",
      "2024-05-10 16:50:51\n"
     ]
    }
   ],
   "source": [
    "start = time()\n",
    "print(strftime('%Y-%m-%d %H:%M:%S', localtime()))\n",
    "print('\\n')\n",
    "##############################################################################################################################\n",
    "\n",
    "\n",
    "\n",
    "loaded_model = ConvNet()\n",
    "loaded_model.load_state_dict(torch.load(PATH)) # it takes the loaded dictionary, not the path file itself\n",
    "loaded_model.to(device)\n",
    "loaded_model.eval()\n",
    "\n",
    "# wrong_answers = []\n",
    "all_answers = []\n",
    "\n",
    "with torch.no_grad():\n",
    "    n_correct = 0\n",
    "    n_correct2 = 0\n",
    "    n_samples = len(test_alldataloader.dataset)\n",
    "\n",
    "    for images, labels in test_alldataloader:\n",
    "        images = images.to(device)\n",
    "        labels = labels.to(device)\n",
    "        # outputs = model(images)\n",
    "\n",
    "        # max returns (value ,index)\n",
    "        outputs2 = loaded_model(images)\n",
    "        _, predicted2 = torch.max(outputs2, 1)\n",
    "        \n",
    "        n_correct2 += (predicted2 == labels).sum().item()\n",
    "        \n",
    "        \n",
    "        labels_list = labels.tolist()\n",
    "        predicted2_list = predicted2.tolist()\n",
    "        \n",
    "        for i in range(len(labels_list)):\n",
    "            # if predicted2_list[i] != labels_list[i]:\n",
    "                # wrong_answers.append([labels_list[i], predicted2_list[i]])\n",
    "                all_answers.append((labels_list[i], predicted2_list[i]))\n",
    "                \n",
    "    acc = 100.0 * n_correct2 / n_samples\n",
    "    print(f'Accuracy of the loaded model: {acc} %')\n",
    "    \n",
    "\n",
    "##############################################################################################################################\n",
    "print('\\n----------------------------------------------------')\n",
    "print(\"done in %0.3fs.\" % (time() - start))\n",
    "print(strftime('%Y-%m-%d %H:%M:%S', localtime()))\n",
    "    \n",
    "### ~160s\n",
    "\n",
    "    \n",
    "### Accuracy of the loaded model: 22.276538081608876 % (when incorrect number of outputs were used \n",
    "### & wrong dataloader(train_dataloader, not train_alldataloader) used) => cnn_allclasses_10epo.pth\n",
    "### \n",
    "\n",
    "### Accuracy of the loaded model: 54.98087687748537 % (when correct number of outputs were used with right data / 2 epo)\n",
    "### Accuracy of the loaded model: 50.758592740812034 % (10 epochs)\n",
    "### Accuracy of the loaded model: 50.87763734454548 % (20 epochs)"
   ]
  },
  {
   "cell_type": "code",
   "execution_count": 730,
   "id": "90043cf4-543c-4cf5-bdac-fb4361cae583",
   "metadata": {
    "tags": []
   },
   "outputs": [
    {
     "name": "stdout",
     "output_type": "stream",
     "text": [
      "39481\n",
      "<class 'list'>\n"
     ]
    }
   ],
   "source": [
    "# print(len(wrong_answers))\n",
    "print(len(all_answers))\n",
    "print(type(all_answers))\n"
   ]
  },
  {
   "cell_type": "code",
   "execution_count": 731,
   "id": "78068b96-9e84-42e6-b0d3-7bf365aeb411",
   "metadata": {
    "tags": []
   },
   "outputs": [
    {
     "data": {
      "text/plain": [
       "tensor([2, 1, 3, 0, 3, 1, 1, 2, 0, 0, 2, 1, 2, 1, 0, 2, 0, 0, 0, 0, 0, 2, 0, 1,\n",
       "        0])"
      ]
     },
     "execution_count": 731,
     "metadata": {},
     "output_type": "execute_result"
    }
   ],
   "source": [
    "labels"
   ]
  },
  {
   "cell_type": "code",
   "execution_count": 732,
   "id": "47c7ac3f-21ab-42ee-9e90-2c9e7883e6c5",
   "metadata": {
    "tags": []
   },
   "outputs": [
    {
     "data": {
      "text/plain": [
       "{(1, 0): 3080,\n",
       " (0, 2): 3954,\n",
       " (3, 3): 8941,\n",
       " (1, 1): 2743,\n",
       " (2, 0): 3194,\n",
       " (0, 0): 5224,\n",
       " (2, 2): 3179,\n",
       " (2, 1): 2741,\n",
       " (1, 2): 3110,\n",
       " (0, 1): 3228,\n",
       " (2, 3): 9,\n",
       " (0, 3): 42,\n",
       " (3, 0): 21,\n",
       " (1, 3): 13,\n",
       " (3, 2): 2}"
      ]
     },
     "execution_count": 732,
     "metadata": {},
     "output_type": "execute_result"
    }
   ],
   "source": [
    "# Counter(all_answers)\n",
    "dict(Counter(all_answers))\n",
    "\n",
    "\n",
    "### {0: 'live_data', 1: 'nearperfectmm', 2: 'perfectmm', 3: 'streakmm'}\n",
    "\n",
    "### when incorrect number of outputs(=3) were used & wrong dataloader used\n",
    "# {(1, 1): 1772,\n",
    "# (0, 0): 7022,\n",
    "# (3, 2): 8960,\n",
    "# (1, 0): 7173,\n",
    "# (2, 1): 6156,\n",
    "# (2, 0): 2966,\n",
    "# (0, 1): 5415,\n",
    "# (0, 2): 11,\n",
    "# (1, 2): 1,\n",
    "# (2, 2): 1,\n",
    "# (3, 0): 3,\n",
    "# (3, 1): 1}\n",
    "\n",
    "### when correct number of outputs(=4) were used with the right dataloader (2epo)\n",
    "# {(1, 0): 8287,\n",
    "# (0, 0): 12105,\n",
    "# (3, 3): 8962,\n",
    "# (2, 0): 8490,\n",
    "# (1, 1): 200,\n",
    "# (0, 2): 237,\n",
    "# (2, 2): 440,\n",
    "# (1, 2): 455,\n",
    "# (0, 1): 91,\n",
    "# (2, 1): 190,\n",
    "# (1, 3): 4,\n",
    "# (3, 0): 2,\n",
    "# (0, 3): 15,\n",
    "# (2, 3): 3}"
   ]
  },
  {
   "cell_type": "code",
   "execution_count": null,
   "id": "bfc81fe0-7015-405c-ad86-427a1f2bea21",
   "metadata": {},
   "outputs": [],
   "source": []
  },
  {
   "cell_type": "markdown",
   "id": "ca21f75a-5ff7-4076-a7da-f92b1e2a6731",
   "metadata": {},
   "source": [
    "# RANDOM EXPERIMENTS"
   ]
  },
  {
   "cell_type": "code",
   "execution_count": 347,
   "id": "4db97b43-04b9-42c9-bde7-f37f3b516bca",
   "metadata": {
    "tags": []
   },
   "outputs": [],
   "source": [
    "a = torch.randn(4, 4)\n",
    "\n"
   ]
  },
  {
   "cell_type": "code",
   "execution_count": 349,
   "id": "99c1c5c1-617c-4a35-889a-757298aaf4ac",
   "metadata": {
    "tags": []
   },
   "outputs": [
    {
     "data": {
      "text/plain": [
       "tensor([[-0.6304, -0.3617,  0.9285, -0.1823],\n",
       "        [-0.0157,  0.8510,  1.0470, -1.8385],\n",
       "        [ 0.8468, -0.0282,  0.1650, -1.1636],\n",
       "        [ 1.4060,  0.2763,  1.5787,  0.3472]])"
      ]
     },
     "execution_count": 349,
     "metadata": {},
     "output_type": "execute_result"
    }
   ],
   "source": [
    "a"
   ]
  },
  {
   "cell_type": "code",
   "execution_count": 351,
   "id": "66bfc84d-a200-4c3d-b1c1-bf3cf1bfa923",
   "metadata": {
    "tags": []
   },
   "outputs": [
    {
     "data": {
      "text/plain": [
       "torch.Size([4, 4])"
      ]
     },
     "execution_count": 351,
     "metadata": {},
     "output_type": "execute_result"
    }
   ],
   "source": [
    "a.shape"
   ]
  },
  {
   "cell_type": "code",
   "execution_count": 353,
   "id": "16e5d144-b743-4062-b506-d6779896d7a9",
   "metadata": {
    "tags": []
   },
   "outputs": [
    {
     "data": {
      "text/plain": [
       "tensor([[[-0.6304, -0.3617,  0.9285, -0.1823],\n",
       "         [-0.0157,  0.8510,  1.0470, -1.8385],\n",
       "         [ 0.8468, -0.0282,  0.1650, -1.1636],\n",
       "         [ 1.4060,  0.2763,  1.5787,  0.3472]]])"
      ]
     },
     "execution_count": 353,
     "metadata": {},
     "output_type": "execute_result"
    }
   ],
   "source": [
    "a = a[None, :]\n",
    "a"
   ]
  },
  {
   "cell_type": "code",
   "execution_count": 355,
   "id": "592bf7e5-4bd2-436f-83ee-b27d7dba241a",
   "metadata": {
    "tags": []
   },
   "outputs": [
    {
     "data": {
      "text/plain": [
       "torch.Size([1, 4, 4])"
      ]
     },
     "execution_count": 355,
     "metadata": {},
     "output_type": "execute_result"
    }
   ],
   "source": [
    "a.shape"
   ]
  },
  {
   "cell_type": "code",
   "execution_count": 327,
   "id": "f5e7f060-59bd-47a4-a624-802675dbdca0",
   "metadata": {
    "tags": []
   },
   "outputs": [
    {
     "data": {
      "text/plain": [
       "tensor([1.])"
      ]
     },
     "execution_count": 327,
     "metadata": {},
     "output_type": "execute_result"
    }
   ],
   "source": [
    "b = torch.Tensor([1])\n",
    "b"
   ]
  },
  {
   "cell_type": "code",
   "execution_count": 130,
   "id": "29e6b122-91d2-4a89-af84-ace87873bb95",
   "metadata": {
    "tags": []
   },
   "outputs": [
    {
     "data": {
      "text/plain": [
       "torch.return_types.max(\n",
       "values=tensor([ 2.2638,  0.6155, -0.0930,  0.7809]),\n",
       "indices=tensor([0, 1, 0, 0]))"
      ]
     },
     "execution_count": 130,
     "metadata": {},
     "output_type": "execute_result"
    }
   ],
   "source": [
    "torch.max(a, 0)"
   ]
  },
  {
   "cell_type": "code",
   "execution_count": 132,
   "id": "28d3fe69-c098-479c-9949-483d5d3133e6",
   "metadata": {
    "tags": []
   },
   "outputs": [
    {
     "data": {
      "text/plain": [
       "torch.return_types.max(\n",
       "values=tensor([ 2.2638,  0.6155, -0.0930,  0.7809]),\n",
       "indices=tensor([0, 1, 0, 0]))"
      ]
     },
     "execution_count": 132,
     "metadata": {},
     "output_type": "execute_result"
    }
   ],
   "source": [
    "torch.max(a, 1)"
   ]
  },
  {
   "cell_type": "code",
   "execution_count": 134,
   "id": "a0809949-5b29-4423-9dfa-2b3bbeca9675",
   "metadata": {
    "tags": []
   },
   "outputs": [
    {
     "data": {
      "text/plain": [
       "torch.return_types.max(\n",
       "values=tensor([ 2.2638,  0.6155, -0.0930,  0.7809]),\n",
       "indices=tensor([0, 1, 0, 0]))"
      ]
     },
     "execution_count": 134,
     "metadata": {},
     "output_type": "execute_result"
    }
   ],
   "source": [
    "\n",
    "torch.max(a, -1)\n"
   ]
  },
  {
   "cell_type": "code",
   "execution_count": 136,
   "id": "a82515fc-5954-4b5e-8daa-56ceae97c581",
   "metadata": {
    "tags": []
   },
   "outputs": [
    {
     "data": {
      "text/plain": [
       "torch.return_types.max(\n",
       "values=tensor([2.2638, 0.6155, 0.1529, 1.0407]),\n",
       "indices=tensor([0, 1, 3, 0]))"
      ]
     },
     "execution_count": 136,
     "metadata": {},
     "output_type": "execute_result"
    }
   ],
   "source": [
    "\n",
    "torch.max(a, -2)\n"
   ]
  },
  {
   "cell_type": "code",
   "execution_count": null,
   "id": "3f6d130d-ab85-4515-8aef-036c29432749",
   "metadata": {},
   "outputs": [],
   "source": []
  },
  {
   "cell_type": "code",
   "execution_count": 222,
   "id": "8fec1738-d745-409f-b235-a1b02dbce4ab",
   "metadata": {
    "tags": []
   },
   "outputs": [
    {
     "name": "stdout",
     "output_type": "stream",
     "text": [
      "[1, 1, 0, 2, 0, 0, 0, 2, 1, 1, 1, 2, 1, 2, 2, 0, 2, 2, 0, 1, 0, 1, 0, 2, 1]\n"
     ]
    }
   ],
   "source": [
    "llist = labels.tolist()\n",
    "print(llist)"
   ]
  },
  {
   "cell_type": "code",
   "execution_count": 226,
   "id": "04e224d2-0f67-4117-844c-ecea454e2faa",
   "metadata": {
    "tags": []
   },
   "outputs": [
    {
     "data": {
      "text/plain": [
       "tensor([1., 1., 0., 2., 0., 0., 0., 2., 1., 1., 1., 2., 1., 2., 2., 0., 2., 2.,\n",
       "        0., 1., 0., 1., 0., 2., 1.])"
      ]
     },
     "execution_count": 226,
     "metadata": {},
     "output_type": "execute_result"
    }
   ],
   "source": [
    "torch.Tensor(llist)"
   ]
  },
  {
   "cell_type": "code",
   "execution_count": 228,
   "id": "4f6f95f5-905d-43d8-8cf3-0bfa5f74b813",
   "metadata": {
    "tags": []
   },
   "outputs": [
    {
     "data": {
      "text/plain": [
       "tensor([1, 1, 0, 2, 0, 0, 0, 2, 1, 1, 1, 2, 1, 2, 2, 0, 2, 2, 0, 1, 0, 1, 0, 2,\n",
       "        1])"
      ]
     },
     "execution_count": 228,
     "metadata": {},
     "output_type": "execute_result"
    }
   ],
   "source": [
    "labels"
   ]
  },
  {
   "cell_type": "code",
   "execution_count": 230,
   "id": "20bd15a2-1e36-4a8d-a59e-b4ac689f6ff4",
   "metadata": {
    "tags": []
   },
   "outputs": [
    {
     "data": {
      "text/plain": [
       "tensor([True, True, True, True, True, True, True, True, True, True, True, True,\n",
       "        True, True, True, True, True, True, True, True, True, True, True, True,\n",
       "        True])"
      ]
     },
     "execution_count": 230,
     "metadata": {},
     "output_type": "execute_result"
    }
   ],
   "source": [
    "labels == torch.Tensor(llist)"
   ]
  },
  {
   "cell_type": "code",
   "execution_count": null,
   "id": "4c8d79a0-7391-41b1-a38b-3efc6190f17d",
   "metadata": {},
   "outputs": [],
   "source": []
  },
  {
   "cell_type": "code",
   "execution_count": null,
   "id": "006e8a0e-3073-4912-b6d3-0d3bd958ca82",
   "metadata": {},
   "outputs": [],
   "source": [
    "transform = transforms.Compose([\n",
    "    transforms.Resize((75, 100)),\n",
    "    transforms.ToTensor(),\n",
    "    transforms.Grayscale(num_output_channels=1)\n",
    "])\n",
    "\n",
    "img"
   ]
  },
  {
   "cell_type": "code",
   "execution_count": null,
   "id": "9098f32f-608f-4d84-8e90-460dda0ee086",
   "metadata": {},
   "outputs": [
    {
     "ename": "TypeError",
     "evalue": "pic should be PIL Image or ndarray. Got <class 'torch.Tensor'>",
     "output_type": "error",
     "traceback": [
      "\u001b[0;31m---------------------------------------------------------------------------\u001b[0m",
      "\u001b[0;31mTypeError\u001b[0m                                 Traceback (most recent call last)",
      "Cell \u001b[0;32mIn[438], line 11\u001b[0m\n\u001b[1;32m      2\u001b[0m img \u001b[38;5;241m=\u001b[39m torch\u001b[38;5;241m.\u001b[39mrandint(\u001b[38;5;241m0\u001b[39m, \u001b[38;5;241m256\u001b[39m, size\u001b[38;5;241m=\u001b[39m(\u001b[38;5;241m3\u001b[39m, H, W), dtype\u001b[38;5;241m=\u001b[39mtorch\u001b[38;5;241m.\u001b[39muint8)\n\u001b[1;32m      5\u001b[0m transform \u001b[38;5;241m=\u001b[39m transforms\u001b[38;5;241m.\u001b[39mCompose([\n\u001b[1;32m      6\u001b[0m     transforms\u001b[38;5;241m.\u001b[39mResize((\u001b[38;5;241m75\u001b[39m, \u001b[38;5;241m100\u001b[39m)),\n\u001b[1;32m      7\u001b[0m     transforms\u001b[38;5;241m.\u001b[39mToTensor(),\n\u001b[1;32m      8\u001b[0m     transforms\u001b[38;5;241m.\u001b[39mGrayscale(num_output_channels\u001b[38;5;241m=\u001b[39m\u001b[38;5;241m1\u001b[39m)\n\u001b[1;32m      9\u001b[0m ])\n\u001b[0;32m---> 11\u001b[0m img \u001b[38;5;241m=\u001b[39m transform(img)\n",
      "File \u001b[0;32m~/anaconda3/lib/python3.11/site-packages/torchvision/transforms/transforms.py:95\u001b[0m, in \u001b[0;36mCompose.__call__\u001b[0;34m(self, img)\u001b[0m\n\u001b[1;32m     93\u001b[0m \u001b[38;5;28;01mdef\u001b[39;00m \u001b[38;5;21m__call__\u001b[39m(\u001b[38;5;28mself\u001b[39m, img):\n\u001b[1;32m     94\u001b[0m     \u001b[38;5;28;01mfor\u001b[39;00m t \u001b[38;5;129;01min\u001b[39;00m \u001b[38;5;28mself\u001b[39m\u001b[38;5;241m.\u001b[39mtransforms:\n\u001b[0;32m---> 95\u001b[0m         img \u001b[38;5;241m=\u001b[39m t(img)\n\u001b[1;32m     96\u001b[0m     \u001b[38;5;28;01mreturn\u001b[39;00m img\n",
      "File \u001b[0;32m~/anaconda3/lib/python3.11/site-packages/torchvision/transforms/transforms.py:137\u001b[0m, in \u001b[0;36mToTensor.__call__\u001b[0;34m(self, pic)\u001b[0m\n\u001b[1;32m    129\u001b[0m \u001b[38;5;28;01mdef\u001b[39;00m \u001b[38;5;21m__call__\u001b[39m(\u001b[38;5;28mself\u001b[39m, pic):\n\u001b[1;32m    130\u001b[0m \u001b[38;5;250m    \u001b[39m\u001b[38;5;124;03m\"\"\"\u001b[39;00m\n\u001b[1;32m    131\u001b[0m \u001b[38;5;124;03m    Args:\u001b[39;00m\n\u001b[1;32m    132\u001b[0m \u001b[38;5;124;03m        pic (PIL Image or numpy.ndarray): Image to be converted to tensor.\u001b[39;00m\n\u001b[0;32m   (...)\u001b[0m\n\u001b[1;32m    135\u001b[0m \u001b[38;5;124;03m        Tensor: Converted image.\u001b[39;00m\n\u001b[1;32m    136\u001b[0m \u001b[38;5;124;03m    \"\"\"\u001b[39;00m\n\u001b[0;32m--> 137\u001b[0m     \u001b[38;5;28;01mreturn\u001b[39;00m F\u001b[38;5;241m.\u001b[39mto_tensor(pic)\n",
      "File \u001b[0;32m~/anaconda3/lib/python3.11/site-packages/torchvision/transforms/functional.py:142\u001b[0m, in \u001b[0;36mto_tensor\u001b[0;34m(pic)\u001b[0m\n\u001b[1;32m    140\u001b[0m     _log_api_usage_once(to_tensor)\n\u001b[1;32m    141\u001b[0m \u001b[38;5;28;01mif\u001b[39;00m \u001b[38;5;129;01mnot\u001b[39;00m (F_pil\u001b[38;5;241m.\u001b[39m_is_pil_image(pic) \u001b[38;5;129;01mor\u001b[39;00m _is_numpy(pic)):\n\u001b[0;32m--> 142\u001b[0m     \u001b[38;5;28;01mraise\u001b[39;00m \u001b[38;5;167;01mTypeError\u001b[39;00m(\u001b[38;5;124mf\u001b[39m\u001b[38;5;124m\"\u001b[39m\u001b[38;5;124mpic should be PIL Image or ndarray. Got \u001b[39m\u001b[38;5;132;01m{\u001b[39;00m\u001b[38;5;28mtype\u001b[39m(pic)\u001b[38;5;132;01m}\u001b[39;00m\u001b[38;5;124m\"\u001b[39m)\n\u001b[1;32m    144\u001b[0m \u001b[38;5;28;01mif\u001b[39;00m _is_numpy(pic) \u001b[38;5;129;01mand\u001b[39;00m \u001b[38;5;129;01mnot\u001b[39;00m _is_numpy_image(pic):\n\u001b[1;32m    145\u001b[0m     \u001b[38;5;28;01mraise\u001b[39;00m \u001b[38;5;167;01mValueError\u001b[39;00m(\u001b[38;5;124mf\u001b[39m\u001b[38;5;124m\"\u001b[39m\u001b[38;5;124mpic should be 2/3 dimensional. Got \u001b[39m\u001b[38;5;132;01m{\u001b[39;00mpic\u001b[38;5;241m.\u001b[39mndim\u001b[38;5;132;01m}\u001b[39;00m\u001b[38;5;124m dimensions.\u001b[39m\u001b[38;5;124m\"\u001b[39m)\n",
      "\u001b[0;31mTypeError\u001b[0m: pic should be PIL Image or ndarray. Got <class 'torch.Tensor'>"
     ]
    }
   ],
   "source": [
    "H, W = 32, 32\n",
    "img = torch.randint(0, 256, size=(3, H, W), dtype=torch.uint8)\n",
    "\n",
    "\n",
    "transform = transforms.Compose([\n",
    "    transforms.Resize((75, 100)),\n",
    "    transforms.ToTensor(),\n",
    "    transforms.Grayscale(num_output_channels=1)\n",
    "])\n",
    "\n",
    "img = transform(img)"
   ]
  },
  {
   "cell_type": "code",
   "execution_count": null,
   "id": "71af7445-7237-4515-8007-779a9e03094f",
   "metadata": {},
   "outputs": [],
   "source": []
  }
 ],
 "metadata": {
  "kernelspec": {
   "display_name": "Python 3 (ipykernel)",
   "language": "python",
   "name": "python3"
  },
  "language_info": {
   "codemirror_mode": {
    "name": "ipython",
    "version": 3
   },
   "file_extension": ".py",
   "mimetype": "text/x-python",
   "name": "python",
   "nbconvert_exporter": "python",
   "pygments_lexer": "ipython3",
   "version": "3.11.5"
  }
 },
 "nbformat": 4,
 "nbformat_minor": 5
}

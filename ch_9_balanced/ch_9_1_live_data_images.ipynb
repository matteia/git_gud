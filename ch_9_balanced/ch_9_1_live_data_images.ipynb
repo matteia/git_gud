{
 "cells": [
  {
   "cell_type": "markdown",
   "id": "9491e88f-e84d-4009-85e7-6035a42c492a",
   "metadata": {
    "tags": []
   },
   "source": [
    "# IMPORTS"
   ]
  },
  {
   "cell_type": "code",
   "execution_count": 8,
   "id": "21169f2a-e1e2-405f-9a1c-29af2288756a",
   "metadata": {
    "tags": []
   },
   "outputs": [],
   "source": [
    "import random\n",
    "import pickle\n",
    "import glob\n",
    "\n",
    "import random\n",
    "import ast\n",
    "import pathlib\n",
    "\n",
    "import numpy as np\n",
    "\n",
    "import matplotlib.pyplot as plt\n",
    "# import matplotlib.transforms as transforms\n",
    "\n",
    "\n",
    "\n",
    "from time import time\n",
    "from time import sleep\n",
    "from time import strftime\n",
    "from time import localtime\n",
    "from tqdm import tqdm\n",
    "\n",
    "from datetime import date, timedelta, datetime\n",
    "\n",
    "# from mydecorators import logger, stopwatch\n",
    "\n",
    "\n",
    "\n"
   ]
  },
  {
   "cell_type": "markdown",
   "id": "c392dd47-6fdc-4e90-8345-2ee05b5a6943",
   "metadata": {},
   "source": [
    "# Save Images"
   ]
  },
  {
   "cell_type": "code",
   "execution_count": 40,
   "id": "419fc4c8-ee02-4ee5-ad50-2a70cbc2a0cc",
   "metadata": {
    "tags": []
   },
   "outputs": [],
   "source": [
    "# parent_folders = [\"saved_lists/perfectmm/\", 'saved_lists/nearperfectmm/', 'saved_lists/streakmm/']\n",
    "\n",
    "# parent_folders = [\"saved_lists/perfectmm/\"]\n",
    "# parent_folders = ['saved_lists/nearperfectmm/']\n",
    "parent_folders = ['live_data/raw/']"
   ]
  },
  {
   "cell_type": "code",
   "execution_count": 42,
   "id": "5e15c1ba-03b5-4953-afc6-b5c88efccfd7",
   "metadata": {
    "tags": []
   },
   "outputs": [
    {
     "name": "stdout",
     "output_type": "stream",
     "text": [
      "live_data/raw\n"
     ]
    }
   ],
   "source": [
    "for item in parent_folders:\n",
    "    print(pathlib.Path(item))"
   ]
  },
  {
   "cell_type": "code",
   "execution_count": 58,
   "id": "55072df2-2622-4706-83bf-1165c3de72d9",
   "metadata": {
    "tags": []
   },
   "outputs": [
    {
     "name": "stdout",
     "output_type": "stream",
     "text": [
      "live_data/raw\n",
      "61262\n"
     ]
    }
   ],
   "source": [
    "paths = []\n",
    "for item in parent_folders:\n",
    "    item = pathlib.Path(item)\n",
    "    print(item)\n",
    "    paths.extend(glob.glob(f'{item}/*/*/*.txt'))\n",
    "    # paths.extend(glob.glob(f'{item}/*/*.txt'))\n",
    "    \n",
    "    \n",
    "    \n",
    "print(len(paths))\n",
    "# print(paths)"
   ]
  },
  {
   "cell_type": "code",
   "execution_count": 68,
   "id": "5466ac38-5f22-4547-8b20-271e05b8efcf",
   "metadata": {
    "tags": []
   },
   "outputs": [
    {
     "data": {
      "text/plain": [
       "'live_data/raw/diamond/partition_5/채팅치면cs압수.txt'"
      ]
     },
     "execution_count": 68,
     "metadata": {},
     "output_type": "execute_result"
    }
   ],
   "source": [
    "ppath = paths[2]\n",
    "ppath\n",
    "# ppath.split('\\\\')[-1][:-4] + '_image_1.png'"
   ]
  },
  {
   "cell_type": "markdown",
   "id": "e22dc166-beb0-4f43-9355-f5d0d6a89a52",
   "metadata": {},
   "source": [
    "[elo]_[username].png  \n",
    "\n",
    "eg.  \n",
    "bronze_좋은챔프.png\n"
   ]
  },
  {
   "cell_type": "code",
   "execution_count": 73,
   "id": "ccd5ebf4-4277-48aa-a880-304ff94121c9",
   "metadata": {
    "tags": []
   },
   "outputs": [
    {
     "data": {
      "text/plain": [
       "['live_data', 'raw', 'diamond', 'partition_5', '채팅치면cs압수.txt']"
      ]
     },
     "execution_count": 73,
     "metadata": {},
     "output_type": "execute_result"
    }
   ],
   "source": [
    "ppath.split('/')"
   ]
  },
  {
   "cell_type": "code",
   "execution_count": 76,
   "id": "4ca79412-35fc-494e-92da-f67e78d190be",
   "metadata": {
    "tags": []
   },
   "outputs": [
    {
     "name": "stdout",
     "output_type": "stream",
     "text": [
      "diamond\n",
      "천벌노틸러스.txt\n"
     ]
    }
   ],
   "source": [
    "print(paths[1234].split('/')[2])\n",
    "print(paths[1234].split('/')[4])"
   ]
  },
  {
   "cell_type": "code",
   "execution_count": null,
   "id": "7685de4b-a5c4-42a4-8f32-f099adc2e794",
   "metadata": {},
   "outputs": [],
   "source": []
  },
  {
   "cell_type": "code",
   "execution_count": 83,
   "id": "56c8c0e3-14a5-42be-b94a-9ba7a4aefa07",
   "metadata": {
    "tags": []
   },
   "outputs": [
    {
     "name": "stdout",
     "output_type": "stream",
     "text": [
      "live_data/raw/diamond/partition_5/좋은챔프.txt\n",
      "live_data/raw/diamond/partition_5/진기장판.txt\n",
      "live_data/raw/diamond/partition_5/채팅치면cs압수.txt\n",
      "live_data/raw/diamond/partition_5/서맨.txt\n",
      "live_data/raw/diamond/partition_5/아오은석시치.txt\n",
      "live_data/raw/diamond/partition_5/3226325942772864.txt\n",
      "live_data/raw/diamond/partition_5/급할수록돌아에뭉.txt\n",
      "live_data/raw/diamond/partition_5/베베바다.txt\n",
      "live_data/raw/diamond/partition_5/재능으로게임해요.txt\n",
      "live_data/raw/diamond/partition_5/황라디.txt\n"
     ]
    }
   ],
   "source": [
    "for txtfile in paths[:10]:\n",
    "    print(txtfile)"
   ]
  },
  {
   "cell_type": "code",
   "execution_count": 101,
   "id": "ff9acf78-34ed-4867-9d23-9ef56e50c164",
   "metadata": {
    "tags": []
   },
   "outputs": [
    {
     "name": "stdout",
     "output_type": "stream",
     "text": [
      "2024-05-09 03:14:59\n",
      "\n",
      "\n"
     ]
    },
    {
     "name": "stderr",
     "output_type": "stream",
     "text": [
      "100%|██████████| 61262/61262 [13:12<00:00, 77.26it/s]  "
     ]
    },
    {
     "name": "stdout",
     "output_type": "stream",
     "text": [
      "\n",
      "----------------------------------------------------\n",
      "done in 792.960s.\n",
      "2024-05-09 03:28:12\n"
     ]
    },
    {
     "name": "stderr",
     "output_type": "stream",
     "text": [
      "\n"
     ]
    }
   ],
   "source": [
    "start = time()\n",
    "print(strftime('%Y-%m-%d %H:%M:%S', localtime()))\n",
    "print('\\n')\n",
    "##############################################################################################################################\n",
    "\n",
    "\n",
    "for txtfile in tqdm(paths[:]):\n",
    "    history_list = []\n",
    "    with open(txtfile, 'r') as history_file:\n",
    "        history_list.extend(ast.literal_eval(history_file.read()))\n",
    "    \n",
    "    ### check if there are more than 300 games in the record\n",
    "    if len(history_list) < 300:\n",
    "        pass\n",
    "    else:\n",
    "        ### len(record) = 300 // 15 rows, 20 columns\n",
    "        \n",
    "        ssplit = txtfile.split('/')\n",
    "        # filename = f'{ssplit[0]}/{ssplit[1]}/images/{ssplit[-1][:-4]}_image_{i+1}.png'\n",
    "        # filename = txtfile.split('\\\\')[-1][:-4] + f'_image_{i+1}.png'\n",
    "        filename = f'images/live_data/{ssplit[2]}_{ssplit[4]}.png'\n",
    "\n",
    "        # data = np.array(history_list[i]).reshape(15,20)\n",
    "        data = np.array(history_list[:300]).reshape(15,20)\n",
    "\n",
    "        plt.figure(figsize=(6,6))\n",
    "        plt.axis('off')\n",
    "        plt.imshow(data, cmap='binary')\n",
    "        plt.savefig(filename, bbox_inches='tight', pad_inches=0)\n",
    "        plt.close()\n",
    "        \n",
    "##############################################################################################################################\n",
    "print('\\n----------------------------------------------------')\n",
    "print(\"done in %0.3fs.\" % (time() - start))\n",
    "print(strftime('%Y-%m-%d %H:%M:%S', localtime()))"
   ]
  },
  {
   "cell_type": "markdown",
   "id": "4174ead0-dced-45f0-aaec-f7b792b97efa",
   "metadata": {},
   "source": [
    "41603 images created & saved // 792 secs"
   ]
  },
  {
   "cell_type": "code",
   "execution_count": null,
   "id": "e0ea0b85-42cd-44e4-b2e8-8441419cbd0f",
   "metadata": {},
   "outputs": [],
   "source": []
  },
  {
   "cell_type": "code",
   "execution_count": null,
   "id": "65c20c20-1a42-4ff8-8c87-49e086e3b857",
   "metadata": {},
   "outputs": [],
   "source": []
  },
  {
   "cell_type": "code",
   "execution_count": null,
   "id": "f8254446-9d6b-4ed5-9538-3eb3d54f6240",
   "metadata": {},
   "outputs": [],
   "source": []
  },
  {
   "cell_type": "code",
   "execution_count": null,
   "id": "1480087d-f678-4432-aad5-1f7af670cd97",
   "metadata": {},
   "outputs": [],
   "source": []
  },
  {
   "cell_type": "code",
   "execution_count": null,
   "id": "a5ec5a9c-7322-4a3b-b3bf-c0015cafa9fd",
   "metadata": {},
   "outputs": [],
   "source": []
  },
  {
   "cell_type": "code",
   "execution_count": null,
   "id": "1c1938f4-6634-4026-973c-6dab51f05842",
   "metadata": {},
   "outputs": [],
   "source": []
  },
  {
   "cell_type": "code",
   "execution_count": null,
   "id": "19f8b70c-b920-4b94-aa46-15f9528c8e97",
   "metadata": {},
   "outputs": [],
   "source": []
  },
  {
   "cell_type": "code",
   "execution_count": null,
   "id": "13d577a0-81c8-4d1f-a8c3-376e51ea9414",
   "metadata": {},
   "outputs": [],
   "source": []
  },
  {
   "cell_type": "markdown",
   "id": "e6203d98-fd6a-44e1-890a-11ae7398ed5f",
   "metadata": {},
   "source": [
    "# Clear Variables"
   ]
  },
  {
   "cell_type": "code",
   "execution_count": null,
   "id": "4e7dc851-8b8e-4088-af50-0b4bcf21d280",
   "metadata": {},
   "outputs": [],
   "source": [
    "%reset"
   ]
  }
 ],
 "metadata": {
  "kernelspec": {
   "display_name": "Python 3 (ipykernel)",
   "language": "python",
   "name": "python3"
  },
  "language_info": {
   "codemirror_mode": {
    "name": "ipython",
    "version": 3
   },
   "file_extension": ".py",
   "mimetype": "text/x-python",
   "name": "python",
   "nbconvert_exporter": "python",
   "pygments_lexer": "ipython3",
   "version": "3.11.5"
  }
 },
 "nbformat": 4,
 "nbformat_minor": 5
}

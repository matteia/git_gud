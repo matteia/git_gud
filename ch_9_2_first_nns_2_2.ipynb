{
 "cells": [
  {
   "cell_type": "markdown",
   "id": "34cc0d6c-8b39-417b-8c15-045c46d9fe94",
   "metadata": {},
   "source": [
    "rework of ch_9_2_first_nns.ipnynb  \n",
    "utilizing csv instead of loading as images   \n",
    "2-2. 15x20 // NN // 2 - PerfectMM vs NearPerfectMM"
   ]
  },
  {
   "cell_type": "markdown",
   "id": "1e787550-64d9-4d5e-a7b5-35ba8ac40dc3",
   "metadata": {},
   "source": [
    "# IMPORTS"
   ]
  },
  {
   "cell_type": "code",
   "execution_count": 21,
   "id": "f4791ae4-e63d-4ea0-92a6-c787f250a7a7",
   "metadata": {
    "tags": []
   },
   "outputs": [],
   "source": [
    "import random\n",
    "import pickle\n",
    "import glob\n",
    "\n",
    "import random\n",
    "import ast\n",
    "import pathlib\n",
    "\n",
    "import numpy as np\n",
    "import pandas as pd\n",
    "\n",
    "import matplotlib.pyplot as plt\n",
    "# import matplotlib.transforms as transforms\n",
    "\n",
    "from collections import Counter\n",
    "\n",
    "from time import time\n",
    "from time import sleep\n",
    "from time import strftime\n",
    "from time import localtime\n",
    "from tqdm import tqdm\n",
    "\n",
    "from datetime import date, timedelta, datetime\n",
    "\n",
    "# from mydecorators import logger, stopwatch\n",
    "\n",
    "from PIL import Image\n",
    "\n"
   ]
  },
  {
   "cell_type": "code",
   "execution_count": 23,
   "id": "1a2eff96-33f7-4d70-a403-50ab9236bcd1",
   "metadata": {
    "tags": []
   },
   "outputs": [],
   "source": [
    "import torch\n",
    "import torch.nn as nn\n",
    "import torchvision\n",
    "\n",
    "import torch.nn.functional as F\n",
    "\n",
    "import torchvision.transforms as transforms\n",
    "from torchvision import datasets\n",
    "from torch.utils.data import Dataset\n",
    "\n",
    "import matplotlib.pyplot as plt\n",
    "\n"
   ]
  },
  {
   "cell_type": "code",
   "execution_count": null,
   "id": "1c196005-72b6-4e0b-ad92-61834e95b67d",
   "metadata": {},
   "outputs": [],
   "source": []
  },
  {
   "cell_type": "code",
   "execution_count": null,
   "id": "4f6548cf-1aae-4b8a-a7da-16bfad0a2d02",
   "metadata": {},
   "outputs": [],
   "source": []
  },
  {
   "cell_type": "markdown",
   "id": "bdca5b83-926d-40d9-a757-7e65d8aea225",
   "metadata": {},
   "source": [
    "# Read CSV of All Data"
   ]
  },
  {
   "cell_type": "code",
   "execution_count": 28,
   "id": "8e23695c-1e89-443c-a293-261f9367dd36",
   "metadata": {},
   "outputs": [],
   "source": [
    "df_alldata = pd.read_csv('combined_dataset.csv')\n",
    "# display(df_alldata)"
   ]
  },
  {
   "cell_type": "code",
   "execution_count": 29,
   "id": "5eb60223-2a5f-4c80-83e0-c28c20a43cec",
   "metadata": {
    "tags": []
   },
   "outputs": [
    {
     "data": {
      "text/html": [
       "<div>\n",
       "<style scoped>\n",
       "    .dataframe tbody tr th:only-of-type {\n",
       "        vertical-align: middle;\n",
       "    }\n",
       "\n",
       "    .dataframe tbody tr th {\n",
       "        vertical-align: top;\n",
       "    }\n",
       "\n",
       "    .dataframe thead th {\n",
       "        text-align: right;\n",
       "    }\n",
       "</style>\n",
       "<table border=\"1\" class=\"dataframe\">\n",
       "  <thead>\n",
       "    <tr style=\"text-align: right;\">\n",
       "      <th></th>\n",
       "      <th>0</th>\n",
       "      <th>1</th>\n",
       "      <th>2</th>\n",
       "      <th>3</th>\n",
       "      <th>4</th>\n",
       "      <th>5</th>\n",
       "      <th>6</th>\n",
       "      <th>7</th>\n",
       "      <th>8</th>\n",
       "      <th>9</th>\n",
       "      <th>...</th>\n",
       "      <th>292</th>\n",
       "      <th>293</th>\n",
       "      <th>294</th>\n",
       "      <th>295</th>\n",
       "      <th>296</th>\n",
       "      <th>297</th>\n",
       "      <th>298</th>\n",
       "      <th>299</th>\n",
       "      <th>labels</th>\n",
       "      <th>filepaths</th>\n",
       "    </tr>\n",
       "  </thead>\n",
       "  <tbody>\n",
       "    <tr>\n",
       "      <th>0</th>\n",
       "      <td>0</td>\n",
       "      <td>0</td>\n",
       "      <td>1</td>\n",
       "      <td>0</td>\n",
       "      <td>0</td>\n",
       "      <td>0</td>\n",
       "      <td>0</td>\n",
       "      <td>0</td>\n",
       "      <td>0</td>\n",
       "      <td>1</td>\n",
       "      <td>...</td>\n",
       "      <td>1</td>\n",
       "      <td>0</td>\n",
       "      <td>0</td>\n",
       "      <td>1</td>\n",
       "      <td>0</td>\n",
       "      <td>0</td>\n",
       "      <td>0</td>\n",
       "      <td>1</td>\n",
       "      <td>2</td>\n",
       "      <td>perfectmm_456_0</td>\n",
       "    </tr>\n",
       "    <tr>\n",
       "      <th>1</th>\n",
       "      <td>1</td>\n",
       "      <td>0</td>\n",
       "      <td>1</td>\n",
       "      <td>1</td>\n",
       "      <td>0</td>\n",
       "      <td>0</td>\n",
       "      <td>1</td>\n",
       "      <td>1</td>\n",
       "      <td>0</td>\n",
       "      <td>0</td>\n",
       "      <td>...</td>\n",
       "      <td>1</td>\n",
       "      <td>0</td>\n",
       "      <td>1</td>\n",
       "      <td>0</td>\n",
       "      <td>1</td>\n",
       "      <td>1</td>\n",
       "      <td>1</td>\n",
       "      <td>0</td>\n",
       "      <td>2</td>\n",
       "      <td>perfectmm_456_1</td>\n",
       "    </tr>\n",
       "    <tr>\n",
       "      <th>2</th>\n",
       "      <td>1</td>\n",
       "      <td>1</td>\n",
       "      <td>1</td>\n",
       "      <td>0</td>\n",
       "      <td>1</td>\n",
       "      <td>0</td>\n",
       "      <td>1</td>\n",
       "      <td>0</td>\n",
       "      <td>0</td>\n",
       "      <td>0</td>\n",
       "      <td>...</td>\n",
       "      <td>1</td>\n",
       "      <td>0</td>\n",
       "      <td>0</td>\n",
       "      <td>1</td>\n",
       "      <td>0</td>\n",
       "      <td>1</td>\n",
       "      <td>1</td>\n",
       "      <td>0</td>\n",
       "      <td>2</td>\n",
       "      <td>perfectmm_456_2</td>\n",
       "    </tr>\n",
       "    <tr>\n",
       "      <th>3</th>\n",
       "      <td>1</td>\n",
       "      <td>1</td>\n",
       "      <td>1</td>\n",
       "      <td>1</td>\n",
       "      <td>1</td>\n",
       "      <td>1</td>\n",
       "      <td>1</td>\n",
       "      <td>0</td>\n",
       "      <td>1</td>\n",
       "      <td>0</td>\n",
       "      <td>...</td>\n",
       "      <td>0</td>\n",
       "      <td>1</td>\n",
       "      <td>1</td>\n",
       "      <td>0</td>\n",
       "      <td>0</td>\n",
       "      <td>1</td>\n",
       "      <td>0</td>\n",
       "      <td>1</td>\n",
       "      <td>2</td>\n",
       "      <td>perfectmm_456_3</td>\n",
       "    </tr>\n",
       "    <tr>\n",
       "      <th>4</th>\n",
       "      <td>1</td>\n",
       "      <td>0</td>\n",
       "      <td>0</td>\n",
       "      <td>0</td>\n",
       "      <td>0</td>\n",
       "      <td>0</td>\n",
       "      <td>0</td>\n",
       "      <td>1</td>\n",
       "      <td>1</td>\n",
       "      <td>1</td>\n",
       "      <td>...</td>\n",
       "      <td>1</td>\n",
       "      <td>0</td>\n",
       "      <td>0</td>\n",
       "      <td>0</td>\n",
       "      <td>1</td>\n",
       "      <td>0</td>\n",
       "      <td>1</td>\n",
       "      <td>1</td>\n",
       "      <td>2</td>\n",
       "      <td>perfectmm_456_4</td>\n",
       "    </tr>\n",
       "  </tbody>\n",
       "</table>\n",
       "<p>5 rows × 302 columns</p>\n",
       "</div>"
      ],
      "text/plain": [
       "   0  1  2  3  4  5  6  7  8  9  ...  292  293  294  295  296  297  298  299  \\\n",
       "0  0  0  1  0  0  0  0  0  0  1  ...    1    0    0    1    0    0    0    1   \n",
       "1  1  0  1  1  0  0  1  1  0  0  ...    1    0    1    0    1    1    1    0   \n",
       "2  1  1  1  0  1  0  1  0  0  0  ...    1    0    0    1    0    1    1    0   \n",
       "3  1  1  1  1  1  1  1  0  1  0  ...    0    1    1    0    0    1    0    1   \n",
       "4  1  0  0  0  0  0  0  1  1  1  ...    1    0    0    0    1    0    1    1   \n",
       "\n",
       "   labels        filepaths  \n",
       "0       2  perfectmm_456_0  \n",
       "1       2  perfectmm_456_1  \n",
       "2       2  perfectmm_456_2  \n",
       "3       2  perfectmm_456_3  \n",
       "4       2  perfectmm_456_4  \n",
       "\n",
       "[5 rows x 302 columns]"
      ]
     },
     "execution_count": 29,
     "metadata": {},
     "output_type": "execute_result"
    }
   ],
   "source": [
    "df_alldata.head()"
   ]
  },
  {
   "cell_type": "code",
   "execution_count": null,
   "id": "8a31e607-f57b-492c-9cfa-e084fc655b64",
   "metadata": {},
   "outputs": [],
   "source": []
  },
  {
   "cell_type": "markdown",
   "id": "072b6d2d-d6b1-497b-b3ef-1ab52d609e70",
   "metadata": {},
   "source": [
    "# Prepare Dataframes\n",
    "- Remove Live Data (0)  \n",
    "- Check Labels ...   \n",
    "=>  \n",
    "Live Data : 0  \n",
    "NearPerfectMM : 1    \n",
    "PerfectMM : 2  \n",
    "StreakMM : 3  "
   ]
  },
  {
   "cell_type": "code",
   "execution_count": 34,
   "id": "702c660d-4f02-4a0c-b274-7b1bd83e3159",
   "metadata": {
    "tags": []
   },
   "outputs": [],
   "source": [
    "df_wo_live = df_alldata.copy()\n",
    "df_wo_live = df_wo_live[df_wo_live['labels']!=0]\n",
    "# display(df_wo_live)"
   ]
  },
  {
   "cell_type": "code",
   "execution_count": 36,
   "id": "79737f1e-6bda-4ee9-bb7e-505f366073e7",
   "metadata": {
    "tags": []
   },
   "outputs": [],
   "source": [
    "df_wo_live = df_wo_live[df_wo_live['labels']!=3]\n",
    "# display(df_wo_live)"
   ]
  },
  {
   "cell_type": "markdown",
   "id": "69be2f6b-4dc6-4f6d-9c08-7a70d10d9b7b",
   "metadata": {},
   "source": [
    "## Check current labels"
   ]
  },
  {
   "cell_type": "code",
   "execution_count": 39,
   "id": "f112ef1a-505e-4fc7-b469-e8f3c5b08777",
   "metadata": {
    "tags": []
   },
   "outputs": [],
   "source": [
    "orig_labels = list(df_wo_live['labels'])"
   ]
  },
  {
   "cell_type": "code",
   "execution_count": 41,
   "id": "10ec053a-d823-4234-8062-02e956297df6",
   "metadata": {
    "tags": []
   },
   "outputs": [
    {
     "data": {
      "text/plain": [
       "60000"
      ]
     },
     "execution_count": 41,
     "metadata": {},
     "output_type": "execute_result"
    }
   ],
   "source": [
    "len(orig_labels)"
   ]
  },
  {
   "cell_type": "code",
   "execution_count": 43,
   "id": "3745d51f-9332-49bf-a8d0-3f70ce8633b9",
   "metadata": {
    "tags": []
   },
   "outputs": [
    {
     "data": {
      "text/plain": [
       "{1, 2}"
      ]
     },
     "execution_count": 43,
     "metadata": {},
     "output_type": "execute_result"
    }
   ],
   "source": [
    "set(orig_labels)\n",
    "\n",
    "### 1: nearperfectmm\n",
    "### 2: perfectmm\n",
    "### 3: streakmm"
   ]
  },
  {
   "cell_type": "code",
   "execution_count": null,
   "id": "09328de1-916b-4387-8a12-dab8ea18ef32",
   "metadata": {},
   "outputs": [],
   "source": []
  },
  {
   "cell_type": "markdown",
   "id": "a8e60188-cb1b-4071-a900-5f2ac563281e",
   "metadata": {},
   "source": [
    "## Relabel Accordingly\n",
    "nearperfectmm 1 -> 0  \n",
    "perfectmm 2 -> 1    "
   ]
  },
  {
   "cell_type": "code",
   "execution_count": 46,
   "id": "6eaf158c-12f8-4c8b-8db2-9ed19cfb0b4b",
   "metadata": {
    "tags": []
   },
   "outputs": [
    {
     "data": {
      "text/plain": [
       "{0, 2}"
      ]
     },
     "execution_count": 46,
     "metadata": {},
     "output_type": "execute_result"
    }
   ],
   "source": [
    "replaced_labels = [0 if x==1 else x for x in orig_labels]\n",
    "set(replaced_labels)"
   ]
  },
  {
   "cell_type": "code",
   "execution_count": 48,
   "id": "d2c03bdf-2e9d-45db-9ba0-4ac698c9a254",
   "metadata": {
    "tags": []
   },
   "outputs": [
    {
     "data": {
      "text/plain": [
       "{0, 1}"
      ]
     },
     "execution_count": 48,
     "metadata": {},
     "output_type": "execute_result"
    }
   ],
   "source": [
    "replaced_labels = [1 if x==2 else x for x in replaced_labels]\n",
    "set(replaced_labels)"
   ]
  },
  {
   "cell_type": "code",
   "execution_count": 50,
   "id": "69fdd781-5a54-4184-95de-d36f054a1862",
   "metadata": {
    "tags": []
   },
   "outputs": [],
   "source": [
    "df_wo_live['labels'] = replaced_labels"
   ]
  },
  {
   "cell_type": "code",
   "execution_count": 52,
   "id": "f363b3b6-aa0e-436a-aa7e-04b65fff4752",
   "metadata": {
    "tags": []
   },
   "outputs": [
    {
     "data": {
      "text/plain": [
       "{0, 1}"
      ]
     },
     "execution_count": 52,
     "metadata": {},
     "output_type": "execute_result"
    }
   ],
   "source": [
    "set(df_wo_live['labels'])"
   ]
  },
  {
   "cell_type": "code",
   "execution_count": null,
   "id": "afbd8557-6faa-4583-85e2-d935a8aaa43c",
   "metadata": {},
   "outputs": [],
   "source": []
  },
  {
   "cell_type": "code",
   "execution_count": null,
   "id": "8968ec8b-f4ad-4682-b2ed-af1bb9ef73f4",
   "metadata": {},
   "outputs": [],
   "source": []
  },
  {
   "cell_type": "code",
   "execution_count": null,
   "id": "4c9414bc-2112-4adc-91f4-9eda33e07d0d",
   "metadata": {},
   "outputs": [],
   "source": []
  },
  {
   "cell_type": "markdown",
   "id": "c16ac4d2-80c1-4ff2-bc36-33909638b369",
   "metadata": {},
   "source": [
    "## Display Current Dataframe"
   ]
  },
  {
   "cell_type": "code",
   "execution_count": 54,
   "id": "5f8af211-1c2e-4d32-95de-280011072a7c",
   "metadata": {
    "tags": []
   },
   "outputs": [
    {
     "data": {
      "text/html": [
       "<div>\n",
       "<style scoped>\n",
       "    .dataframe tbody tr th:only-of-type {\n",
       "        vertical-align: middle;\n",
       "    }\n",
       "\n",
       "    .dataframe tbody tr th {\n",
       "        vertical-align: top;\n",
       "    }\n",
       "\n",
       "    .dataframe thead th {\n",
       "        text-align: right;\n",
       "    }\n",
       "</style>\n",
       "<table border=\"1\" class=\"dataframe\">\n",
       "  <thead>\n",
       "    <tr style=\"text-align: right;\">\n",
       "      <th></th>\n",
       "      <th>0</th>\n",
       "      <th>1</th>\n",
       "      <th>2</th>\n",
       "      <th>3</th>\n",
       "      <th>4</th>\n",
       "      <th>5</th>\n",
       "      <th>6</th>\n",
       "      <th>7</th>\n",
       "      <th>8</th>\n",
       "      <th>9</th>\n",
       "      <th>...</th>\n",
       "      <th>292</th>\n",
       "      <th>293</th>\n",
       "      <th>294</th>\n",
       "      <th>295</th>\n",
       "      <th>296</th>\n",
       "      <th>297</th>\n",
       "      <th>298</th>\n",
       "      <th>299</th>\n",
       "      <th>labels</th>\n",
       "      <th>filepaths</th>\n",
       "    </tr>\n",
       "  </thead>\n",
       "  <tbody>\n",
       "    <tr>\n",
       "      <th>30000</th>\n",
       "      <td>1</td>\n",
       "      <td>1</td>\n",
       "      <td>1</td>\n",
       "      <td>0</td>\n",
       "      <td>0</td>\n",
       "      <td>1</td>\n",
       "      <td>1</td>\n",
       "      <td>1</td>\n",
       "      <td>0</td>\n",
       "      <td>0</td>\n",
       "      <td>...</td>\n",
       "      <td>0</td>\n",
       "      <td>1</td>\n",
       "      <td>0</td>\n",
       "      <td>1</td>\n",
       "      <td>0</td>\n",
       "      <td>0</td>\n",
       "      <td>1</td>\n",
       "      <td>1</td>\n",
       "      <td>0</td>\n",
       "      <td>nearperfectmm_920_0</td>\n",
       "    </tr>\n",
       "    <tr>\n",
       "      <th>30001</th>\n",
       "      <td>0</td>\n",
       "      <td>1</td>\n",
       "      <td>1</td>\n",
       "      <td>1</td>\n",
       "      <td>0</td>\n",
       "      <td>0</td>\n",
       "      <td>1</td>\n",
       "      <td>1</td>\n",
       "      <td>0</td>\n",
       "      <td>0</td>\n",
       "      <td>...</td>\n",
       "      <td>0</td>\n",
       "      <td>0</td>\n",
       "      <td>0</td>\n",
       "      <td>0</td>\n",
       "      <td>1</td>\n",
       "      <td>1</td>\n",
       "      <td>1</td>\n",
       "      <td>0</td>\n",
       "      <td>0</td>\n",
       "      <td>nearperfectmm_920_1</td>\n",
       "    </tr>\n",
       "  </tbody>\n",
       "</table>\n",
       "<p>2 rows × 302 columns</p>\n",
       "</div>"
      ],
      "text/plain": [
       "       0  1  2  3  4  5  6  7  8  9  ...  292  293  294  295  296  297  298  \\\n",
       "30000  1  1  1  0  0  1  1  1  0  0  ...    0    1    0    1    0    0    1   \n",
       "30001  0  1  1  1  0  0  1  1  0  0  ...    0    0    0    0    1    1    1   \n",
       "\n",
       "       299  labels            filepaths  \n",
       "30000    1       0  nearperfectmm_920_0  \n",
       "30001    0       0  nearperfectmm_920_1  \n",
       "\n",
       "[2 rows x 302 columns]"
      ]
     },
     "execution_count": 54,
     "metadata": {},
     "output_type": "execute_result"
    }
   ],
   "source": [
    "df_wo_live[df_wo_live['labels']==0].head(2)"
   ]
  },
  {
   "cell_type": "code",
   "execution_count": 56,
   "id": "a4c5f0ce-73b4-48e4-8164-9130efd167b0",
   "metadata": {
    "tags": []
   },
   "outputs": [
    {
     "data": {
      "text/html": [
       "<div>\n",
       "<style scoped>\n",
       "    .dataframe tbody tr th:only-of-type {\n",
       "        vertical-align: middle;\n",
       "    }\n",
       "\n",
       "    .dataframe tbody tr th {\n",
       "        vertical-align: top;\n",
       "    }\n",
       "\n",
       "    .dataframe thead th {\n",
       "        text-align: right;\n",
       "    }\n",
       "</style>\n",
       "<table border=\"1\" class=\"dataframe\">\n",
       "  <thead>\n",
       "    <tr style=\"text-align: right;\">\n",
       "      <th></th>\n",
       "      <th>0</th>\n",
       "      <th>1</th>\n",
       "      <th>2</th>\n",
       "      <th>3</th>\n",
       "      <th>4</th>\n",
       "      <th>5</th>\n",
       "      <th>6</th>\n",
       "      <th>7</th>\n",
       "      <th>8</th>\n",
       "      <th>9</th>\n",
       "      <th>...</th>\n",
       "      <th>292</th>\n",
       "      <th>293</th>\n",
       "      <th>294</th>\n",
       "      <th>295</th>\n",
       "      <th>296</th>\n",
       "      <th>297</th>\n",
       "      <th>298</th>\n",
       "      <th>299</th>\n",
       "      <th>labels</th>\n",
       "      <th>filepaths</th>\n",
       "    </tr>\n",
       "  </thead>\n",
       "  <tbody>\n",
       "    <tr>\n",
       "      <th>59998</th>\n",
       "      <td>1</td>\n",
       "      <td>0</td>\n",
       "      <td>1</td>\n",
       "      <td>0</td>\n",
       "      <td>1</td>\n",
       "      <td>1</td>\n",
       "      <td>1</td>\n",
       "      <td>1</td>\n",
       "      <td>0</td>\n",
       "      <td>0</td>\n",
       "      <td>...</td>\n",
       "      <td>1</td>\n",
       "      <td>1</td>\n",
       "      <td>0</td>\n",
       "      <td>1</td>\n",
       "      <td>1</td>\n",
       "      <td>1</td>\n",
       "      <td>1</td>\n",
       "      <td>1</td>\n",
       "      <td>0</td>\n",
       "      <td>nearperfectmm_457_998</td>\n",
       "    </tr>\n",
       "    <tr>\n",
       "      <th>59999</th>\n",
       "      <td>0</td>\n",
       "      <td>1</td>\n",
       "      <td>1</td>\n",
       "      <td>1</td>\n",
       "      <td>0</td>\n",
       "      <td>0</td>\n",
       "      <td>1</td>\n",
       "      <td>0</td>\n",
       "      <td>0</td>\n",
       "      <td>1</td>\n",
       "      <td>...</td>\n",
       "      <td>1</td>\n",
       "      <td>1</td>\n",
       "      <td>1</td>\n",
       "      <td>0</td>\n",
       "      <td>1</td>\n",
       "      <td>1</td>\n",
       "      <td>0</td>\n",
       "      <td>1</td>\n",
       "      <td>0</td>\n",
       "      <td>nearperfectmm_457_999</td>\n",
       "    </tr>\n",
       "  </tbody>\n",
       "</table>\n",
       "<p>2 rows × 302 columns</p>\n",
       "</div>"
      ],
      "text/plain": [
       "       0  1  2  3  4  5  6  7  8  9  ...  292  293  294  295  296  297  298  \\\n",
       "59998  1  0  1  0  1  1  1  1  0  0  ...    1    1    0    1    1    1    1   \n",
       "59999  0  1  1  1  0  0  1  0  0  1  ...    1    1    1    0    1    1    0   \n",
       "\n",
       "       299  labels              filepaths  \n",
       "59998    1       0  nearperfectmm_457_998  \n",
       "59999    1       0  nearperfectmm_457_999  \n",
       "\n",
       "[2 rows x 302 columns]"
      ]
     },
     "execution_count": 56,
     "metadata": {},
     "output_type": "execute_result"
    }
   ],
   "source": [
    "df_wo_live[df_wo_live['labels']==0].tail(2)"
   ]
  },
  {
   "cell_type": "code",
   "execution_count": 58,
   "id": "007e42c0-87af-4812-868e-0a1035c8e6dd",
   "metadata": {
    "tags": []
   },
   "outputs": [
    {
     "data": {
      "text/html": [
       "<div>\n",
       "<style scoped>\n",
       "    .dataframe tbody tr th:only-of-type {\n",
       "        vertical-align: middle;\n",
       "    }\n",
       "\n",
       "    .dataframe tbody tr th {\n",
       "        vertical-align: top;\n",
       "    }\n",
       "\n",
       "    .dataframe thead th {\n",
       "        text-align: right;\n",
       "    }\n",
       "</style>\n",
       "<table border=\"1\" class=\"dataframe\">\n",
       "  <thead>\n",
       "    <tr style=\"text-align: right;\">\n",
       "      <th></th>\n",
       "      <th>0</th>\n",
       "      <th>1</th>\n",
       "      <th>2</th>\n",
       "      <th>3</th>\n",
       "      <th>4</th>\n",
       "      <th>5</th>\n",
       "      <th>6</th>\n",
       "      <th>7</th>\n",
       "      <th>8</th>\n",
       "      <th>9</th>\n",
       "      <th>...</th>\n",
       "      <th>292</th>\n",
       "      <th>293</th>\n",
       "      <th>294</th>\n",
       "      <th>295</th>\n",
       "      <th>296</th>\n",
       "      <th>297</th>\n",
       "      <th>298</th>\n",
       "      <th>299</th>\n",
       "      <th>labels</th>\n",
       "      <th>filepaths</th>\n",
       "    </tr>\n",
       "  </thead>\n",
       "  <tbody>\n",
       "    <tr>\n",
       "      <th>0</th>\n",
       "      <td>0</td>\n",
       "      <td>0</td>\n",
       "      <td>1</td>\n",
       "      <td>0</td>\n",
       "      <td>0</td>\n",
       "      <td>0</td>\n",
       "      <td>0</td>\n",
       "      <td>0</td>\n",
       "      <td>0</td>\n",
       "      <td>1</td>\n",
       "      <td>...</td>\n",
       "      <td>1</td>\n",
       "      <td>0</td>\n",
       "      <td>0</td>\n",
       "      <td>1</td>\n",
       "      <td>0</td>\n",
       "      <td>0</td>\n",
       "      <td>0</td>\n",
       "      <td>1</td>\n",
       "      <td>1</td>\n",
       "      <td>perfectmm_456_0</td>\n",
       "    </tr>\n",
       "    <tr>\n",
       "      <th>1</th>\n",
       "      <td>1</td>\n",
       "      <td>0</td>\n",
       "      <td>1</td>\n",
       "      <td>1</td>\n",
       "      <td>0</td>\n",
       "      <td>0</td>\n",
       "      <td>1</td>\n",
       "      <td>1</td>\n",
       "      <td>0</td>\n",
       "      <td>0</td>\n",
       "      <td>...</td>\n",
       "      <td>1</td>\n",
       "      <td>0</td>\n",
       "      <td>1</td>\n",
       "      <td>0</td>\n",
       "      <td>1</td>\n",
       "      <td>1</td>\n",
       "      <td>1</td>\n",
       "      <td>0</td>\n",
       "      <td>1</td>\n",
       "      <td>perfectmm_456_1</td>\n",
       "    </tr>\n",
       "  </tbody>\n",
       "</table>\n",
       "<p>2 rows × 302 columns</p>\n",
       "</div>"
      ],
      "text/plain": [
       "   0  1  2  3  4  5  6  7  8  9  ...  292  293  294  295  296  297  298  299  \\\n",
       "0  0  0  1  0  0  0  0  0  0  1  ...    1    0    0    1    0    0    0    1   \n",
       "1  1  0  1  1  0  0  1  1  0  0  ...    1    0    1    0    1    1    1    0   \n",
       "\n",
       "   labels        filepaths  \n",
       "0       1  perfectmm_456_0  \n",
       "1       1  perfectmm_456_1  \n",
       "\n",
       "[2 rows x 302 columns]"
      ]
     },
     "execution_count": 58,
     "metadata": {},
     "output_type": "execute_result"
    }
   ],
   "source": [
    "df_wo_live[df_wo_live['labels']==1].head(2)"
   ]
  },
  {
   "cell_type": "code",
   "execution_count": 60,
   "id": "6d8c84b2-2611-4181-99be-ad73d1ca3ee1",
   "metadata": {
    "tags": []
   },
   "outputs": [
    {
     "data": {
      "text/html": [
       "<div>\n",
       "<style scoped>\n",
       "    .dataframe tbody tr th:only-of-type {\n",
       "        vertical-align: middle;\n",
       "    }\n",
       "\n",
       "    .dataframe tbody tr th {\n",
       "        vertical-align: top;\n",
       "    }\n",
       "\n",
       "    .dataframe thead th {\n",
       "        text-align: right;\n",
       "    }\n",
       "</style>\n",
       "<table border=\"1\" class=\"dataframe\">\n",
       "  <thead>\n",
       "    <tr style=\"text-align: right;\">\n",
       "      <th></th>\n",
       "      <th>0</th>\n",
       "      <th>1</th>\n",
       "      <th>2</th>\n",
       "      <th>3</th>\n",
       "      <th>4</th>\n",
       "      <th>5</th>\n",
       "      <th>6</th>\n",
       "      <th>7</th>\n",
       "      <th>8</th>\n",
       "      <th>9</th>\n",
       "      <th>...</th>\n",
       "      <th>292</th>\n",
       "      <th>293</th>\n",
       "      <th>294</th>\n",
       "      <th>295</th>\n",
       "      <th>296</th>\n",
       "      <th>297</th>\n",
       "      <th>298</th>\n",
       "      <th>299</th>\n",
       "      <th>labels</th>\n",
       "      <th>filepaths</th>\n",
       "    </tr>\n",
       "  </thead>\n",
       "  <tbody>\n",
       "    <tr>\n",
       "      <th>29998</th>\n",
       "      <td>1</td>\n",
       "      <td>1</td>\n",
       "      <td>1</td>\n",
       "      <td>1</td>\n",
       "      <td>1</td>\n",
       "      <td>1</td>\n",
       "      <td>1</td>\n",
       "      <td>1</td>\n",
       "      <td>1</td>\n",
       "      <td>1</td>\n",
       "      <td>...</td>\n",
       "      <td>0</td>\n",
       "      <td>0</td>\n",
       "      <td>0</td>\n",
       "      <td>1</td>\n",
       "      <td>0</td>\n",
       "      <td>0</td>\n",
       "      <td>0</td>\n",
       "      <td>1</td>\n",
       "      <td>1</td>\n",
       "      <td>perfectmm_77_998</td>\n",
       "    </tr>\n",
       "    <tr>\n",
       "      <th>29999</th>\n",
       "      <td>0</td>\n",
       "      <td>0</td>\n",
       "      <td>0</td>\n",
       "      <td>1</td>\n",
       "      <td>0</td>\n",
       "      <td>1</td>\n",
       "      <td>1</td>\n",
       "      <td>1</td>\n",
       "      <td>0</td>\n",
       "      <td>1</td>\n",
       "      <td>...</td>\n",
       "      <td>1</td>\n",
       "      <td>0</td>\n",
       "      <td>1</td>\n",
       "      <td>0</td>\n",
       "      <td>1</td>\n",
       "      <td>0</td>\n",
       "      <td>0</td>\n",
       "      <td>1</td>\n",
       "      <td>1</td>\n",
       "      <td>perfectmm_77_999</td>\n",
       "    </tr>\n",
       "  </tbody>\n",
       "</table>\n",
       "<p>2 rows × 302 columns</p>\n",
       "</div>"
      ],
      "text/plain": [
       "       0  1  2  3  4  5  6  7  8  9  ...  292  293  294  295  296  297  298  \\\n",
       "29998  1  1  1  1  1  1  1  1  1  1  ...    0    0    0    1    0    0    0   \n",
       "29999  0  0  0  1  0  1  1  1  0  1  ...    1    0    1    0    1    0    0   \n",
       "\n",
       "       299  labels         filepaths  \n",
       "29998    1       1  perfectmm_77_998  \n",
       "29999    1       1  perfectmm_77_999  \n",
       "\n",
       "[2 rows x 302 columns]"
      ]
     },
     "execution_count": 60,
     "metadata": {},
     "output_type": "execute_result"
    }
   ],
   "source": [
    "df_wo_live[df_wo_live['labels']==1].tail(2)"
   ]
  },
  {
   "cell_type": "code",
   "execution_count": 62,
   "id": "7fbba9c0-8996-4a33-9b30-44ce0529b246",
   "metadata": {
    "tags": []
   },
   "outputs": [
    {
     "data": {
      "text/html": [
       "<div>\n",
       "<style scoped>\n",
       "    .dataframe tbody tr th:only-of-type {\n",
       "        vertical-align: middle;\n",
       "    }\n",
       "\n",
       "    .dataframe tbody tr th {\n",
       "        vertical-align: top;\n",
       "    }\n",
       "\n",
       "    .dataframe thead th {\n",
       "        text-align: right;\n",
       "    }\n",
       "</style>\n",
       "<table border=\"1\" class=\"dataframe\">\n",
       "  <thead>\n",
       "    <tr style=\"text-align: right;\">\n",
       "      <th></th>\n",
       "      <th>0</th>\n",
       "      <th>1</th>\n",
       "      <th>2</th>\n",
       "      <th>3</th>\n",
       "      <th>4</th>\n",
       "      <th>5</th>\n",
       "      <th>6</th>\n",
       "      <th>7</th>\n",
       "      <th>8</th>\n",
       "      <th>9</th>\n",
       "      <th>...</th>\n",
       "      <th>292</th>\n",
       "      <th>293</th>\n",
       "      <th>294</th>\n",
       "      <th>295</th>\n",
       "      <th>296</th>\n",
       "      <th>297</th>\n",
       "      <th>298</th>\n",
       "      <th>299</th>\n",
       "      <th>labels</th>\n",
       "      <th>filepaths</th>\n",
       "    </tr>\n",
       "  </thead>\n",
       "  <tbody>\n",
       "  </tbody>\n",
       "</table>\n",
       "<p>0 rows × 302 columns</p>\n",
       "</div>"
      ],
      "text/plain": [
       "Empty DataFrame\n",
       "Columns: [0, 1, 2, 3, 4, 5, 6, 7, 8, 9, 10, 11, 12, 13, 14, 15, 16, 17, 18, 19, 20, 21, 22, 23, 24, 25, 26, 27, 28, 29, 30, 31, 32, 33, 34, 35, 36, 37, 38, 39, 40, 41, 42, 43, 44, 45, 46, 47, 48, 49, 50, 51, 52, 53, 54, 55, 56, 57, 58, 59, 60, 61, 62, 63, 64, 65, 66, 67, 68, 69, 70, 71, 72, 73, 74, 75, 76, 77, 78, 79, 80, 81, 82, 83, 84, 85, 86, 87, 88, 89, 90, 91, 92, 93, 94, 95, 96, 97, 98, 99, ...]\n",
       "Index: []\n",
       "\n",
       "[0 rows x 302 columns]"
      ]
     },
     "execution_count": 62,
     "metadata": {},
     "output_type": "execute_result"
    }
   ],
   "source": [
    "df_wo_live[df_wo_live['labels']==2].head(2)"
   ]
  },
  {
   "cell_type": "code",
   "execution_count": 64,
   "id": "3f59ed45-c35a-4bcb-9700-7dd682a33d14",
   "metadata": {
    "tags": []
   },
   "outputs": [
    {
     "data": {
      "text/html": [
       "<div>\n",
       "<style scoped>\n",
       "    .dataframe tbody tr th:only-of-type {\n",
       "        vertical-align: middle;\n",
       "    }\n",
       "\n",
       "    .dataframe tbody tr th {\n",
       "        vertical-align: top;\n",
       "    }\n",
       "\n",
       "    .dataframe thead th {\n",
       "        text-align: right;\n",
       "    }\n",
       "</style>\n",
       "<table border=\"1\" class=\"dataframe\">\n",
       "  <thead>\n",
       "    <tr style=\"text-align: right;\">\n",
       "      <th></th>\n",
       "      <th>0</th>\n",
       "      <th>1</th>\n",
       "      <th>2</th>\n",
       "      <th>3</th>\n",
       "      <th>4</th>\n",
       "      <th>5</th>\n",
       "      <th>6</th>\n",
       "      <th>7</th>\n",
       "      <th>8</th>\n",
       "      <th>9</th>\n",
       "      <th>...</th>\n",
       "      <th>292</th>\n",
       "      <th>293</th>\n",
       "      <th>294</th>\n",
       "      <th>295</th>\n",
       "      <th>296</th>\n",
       "      <th>297</th>\n",
       "      <th>298</th>\n",
       "      <th>299</th>\n",
       "      <th>labels</th>\n",
       "      <th>filepaths</th>\n",
       "    </tr>\n",
       "  </thead>\n",
       "  <tbody>\n",
       "  </tbody>\n",
       "</table>\n",
       "<p>0 rows × 302 columns</p>\n",
       "</div>"
      ],
      "text/plain": [
       "Empty DataFrame\n",
       "Columns: [0, 1, 2, 3, 4, 5, 6, 7, 8, 9, 10, 11, 12, 13, 14, 15, 16, 17, 18, 19, 20, 21, 22, 23, 24, 25, 26, 27, 28, 29, 30, 31, 32, 33, 34, 35, 36, 37, 38, 39, 40, 41, 42, 43, 44, 45, 46, 47, 48, 49, 50, 51, 52, 53, 54, 55, 56, 57, 58, 59, 60, 61, 62, 63, 64, 65, 66, 67, 68, 69, 70, 71, 72, 73, 74, 75, 76, 77, 78, 79, 80, 81, 82, 83, 84, 85, 86, 87, 88, 89, 90, 91, 92, 93, 94, 95, 96, 97, 98, 99, ...]\n",
       "Index: []\n",
       "\n",
       "[0 rows x 302 columns]"
      ]
     },
     "execution_count": 64,
     "metadata": {},
     "output_type": "execute_result"
    }
   ],
   "source": [
    "df_wo_live[df_wo_live['labels']==3].head(2)"
   ]
  },
  {
   "cell_type": "code",
   "execution_count": null,
   "id": "d0f4943e-88ca-418a-a91d-344090c948a9",
   "metadata": {},
   "outputs": [],
   "source": []
  },
  {
   "cell_type": "markdown",
   "id": "841b1a43-f088-469f-8f96-e3f0aab6212e",
   "metadata": {},
   "source": [
    "# Create Pytorch Dataset (custom)"
   ]
  },
  {
   "cell_type": "markdown",
   "id": "4aedd3af-e732-4c5e-89d5-6f448b2b79e1",
   "metadata": {},
   "source": [
    "## Define Dataset Class"
   ]
  },
  {
   "cell_type": "code",
   "execution_count": 69,
   "id": "1fa4bcd4-783e-4fd6-8c1c-6ca964c4aa63",
   "metadata": {
    "tags": []
   },
   "outputs": [],
   "source": [
    "# Custom Dataset Class\n",
    "## Needs ATLEAST 3 class methods\n",
    "## __init__, __len__, __getitem__\n",
    "\n",
    "class RecordsDataset(Dataset):\n",
    "    # This loads the data and converts it, make data rdy\n",
    "    def __init__(self, pd_df):\n",
    "        # load data\n",
    "        self.df=pd_df\n",
    "        # extract labels\n",
    "        self.df_labels=self.df[['labels']]\n",
    "        # drop non numeric columns to make tutorial simpler, in real life do categorical encoding\n",
    "        # self.df=df.drop(columns=['Type','Color','Spectral_Class'])\n",
    "        \n",
    "        # convert to torch dtypes\n",
    "        # self.dataset = self.df[[0,1]]\n",
    "        # self.dataset=torch.tensor(self.df[[i for i in range(300)]].to_numpy()).float()\n",
    "        self.dataset=torch.tensor(self.df[[str(i) for i in range(300)]].to_numpy()).float()\n",
    "        # self.dataset = self.df[[str(i) for i in range(10)]]\n",
    "        \n",
    "        self.labels=torch.tensor(self.df_labels.to_numpy().reshape(-1))\n",
    "    \n",
    "    # This returns the total amount of samples in your Dataset\n",
    "    def __len__(self):\n",
    "        return len(self.dataset)\n",
    "    \n",
    "    # This returns given an index the i-th sample and label\n",
    "    def __getitem__(self, idx):\n",
    "        return self.dataset[idx],self.labels[idx]"
   ]
  },
  {
   "cell_type": "code",
   "execution_count": null,
   "id": "f09b9cee-3dd3-42e4-a0d6-177f3c8073ca",
   "metadata": {},
   "outputs": [],
   "source": []
  },
  {
   "cell_type": "markdown",
   "id": "329684de-d4ef-4db8-9db9-5fcf9b84050e",
   "metadata": {},
   "source": [
    "## Instantiate Dataset Class"
   ]
  },
  {
   "cell_type": "code",
   "execution_count": 73,
   "id": "5278e3ba-2f45-4bfe-b2de-c2efa8d3c6cb",
   "metadata": {
    "tags": []
   },
   "outputs": [],
   "source": [
    "all_dataset = RecordsDataset(df_wo_live)"
   ]
  },
  {
   "cell_type": "code",
   "execution_count": null,
   "id": "b87ee933-a680-41d2-a8df-0be45142cc14",
   "metadata": {},
   "outputs": [],
   "source": []
  },
  {
   "cell_type": "markdown",
   "id": "c46ab02a-1d5f-4df8-ad1b-61508526a922",
   "metadata": {},
   "source": [
    "## Split Train & Test"
   ]
  },
  {
   "cell_type": "code",
   "execution_count": 77,
   "id": "96a0404d-f915-45e8-a015-112f23587e5a",
   "metadata": {
    "tags": []
   },
   "outputs": [],
   "source": [
    "train_size = int(0.7 * len(all_dataset))\n",
    "test_size = len(all_dataset) - train_size\n",
    "train_alldataset, test_alldataset = torch.utils.data.random_split(all_dataset, [train_size, test_size])"
   ]
  },
  {
   "cell_type": "code",
   "execution_count": 79,
   "id": "3b1726c2-6eac-4306-8ac2-386291a3eb6d",
   "metadata": {
    "tags": []
   },
   "outputs": [
    {
     "data": {
      "text/plain": [
       "42000"
      ]
     },
     "execution_count": 79,
     "metadata": {},
     "output_type": "execute_result"
    }
   ],
   "source": [
    "train_alldataset\n",
    "len(train_alldataset)"
   ]
  },
  {
   "cell_type": "code",
   "execution_count": 81,
   "id": "8c248720-7f6e-4580-a1f2-5b6e7197cfe0",
   "metadata": {
    "tags": []
   },
   "outputs": [
    {
     "data": {
      "text/plain": [
       "18000"
      ]
     },
     "execution_count": 81,
     "metadata": {},
     "output_type": "execute_result"
    }
   ],
   "source": [
    "test_alldataset\n",
    "len(test_alldataset)"
   ]
  },
  {
   "cell_type": "code",
   "execution_count": null,
   "id": "45bbaea4-8f45-491b-9255-1725d77f3f47",
   "metadata": {},
   "outputs": [],
   "source": []
  },
  {
   "cell_type": "markdown",
   "id": "8c883ecf-f2dc-4717-8bf5-65bd7f3106f4",
   "metadata": {},
   "source": [
    "## Create Train & Test all_dataloaders"
   ]
  },
  {
   "cell_type": "code",
   "execution_count": 85,
   "id": "8bccb92c-b87f-4791-b17f-c9da5a40a289",
   "metadata": {
    "tags": []
   },
   "outputs": [],
   "source": [
    "train_alldataloader = torch.utils.data.DataLoader(train_alldataset, batch_size=32, shuffle=True)"
   ]
  },
  {
   "cell_type": "code",
   "execution_count": 87,
   "id": "f99be6bb-4ec3-40ee-8714-6b5ba5c60f3d",
   "metadata": {
    "tags": []
   },
   "outputs": [],
   "source": [
    "test_alldataloader = torch.utils.data.DataLoader(test_alldataset, batch_size=32, shuffle=False)"
   ]
  },
  {
   "cell_type": "code",
   "execution_count": null,
   "id": "7afd3d82-7f82-4fe1-8db9-a41802299951",
   "metadata": {},
   "outputs": [],
   "source": []
  },
  {
   "cell_type": "markdown",
   "id": "610175a3-d428-4688-96f3-b411841f280d",
   "metadata": {},
   "source": [
    "### Check Train alldataloader"
   ]
  },
  {
   "cell_type": "code",
   "execution_count": 91,
   "id": "9b554a19-0b0f-44d3-bbee-3cf712a14600",
   "metadata": {
    "tags": []
   },
   "outputs": [],
   "source": [
    "for images, labels in train_alldataloader:\n",
    "    break\n",
    "\n",
    "# images, labels = next(iter(dataloader))"
   ]
  },
  {
   "cell_type": "code",
   "execution_count": 93,
   "id": "671ee026-54f1-4e4b-8154-b751f983d7f7",
   "metadata": {
    "tags": []
   },
   "outputs": [
    {
     "data": {
      "image/png": "[encoded data removed]",
      "text/plain": [
       "<Figure size 640x480 with 6 Axes>"
      ]
     },
     "metadata": {},
     "output_type": "display_data"
    }
   ],
   "source": [
    "examples = iter(train_alldataloader)\n",
    "# example_data, example_targets = examples.next()\n",
    "example_data, example_targets = next(examples)\n",
    "\n",
    "# example_data.shape\n",
    "# example_data[0].reshape(15,20)\n",
    "\n",
    "\n",
    "for i in range(6):\n",
    "    plt.subplot(2,3,i+1)\n",
    "    plt.imshow(example_data[i].reshape(15,20), cmap='gray')\n",
    "    # print(example_targets)\n",
    "plt.show()"
   ]
  },
  {
   "cell_type": "code",
   "execution_count": 95,
   "id": "371e87e9-1027-40ea-a023-fb56bad3f3b0",
   "metadata": {
    "tags": []
   },
   "outputs": [
    {
     "name": "stdout",
     "output_type": "stream",
     "text": [
      "tensor([1, 0, 1, 0, 0, 0, 1, 0, 0, 1, 0, 0, 0, 0, 1, 0, 1, 0, 1, 1, 0, 0, 0, 1,\n",
      "        1, 0, 0, 0, 1, 1, 0, 1])\n"
     ]
    }
   ],
   "source": [
    "print(example_targets)"
   ]
  },
  {
   "cell_type": "code",
   "execution_count": null,
   "id": "f4288e75-a2b8-4d96-82ec-ab867b724bf8",
   "metadata": {},
   "outputs": [],
   "source": []
  },
  {
   "cell_type": "markdown",
   "id": "5650c96a-d11e-4747-8cb0-f89d141158c1",
   "metadata": {},
   "source": [
    "### Check Test alldataloader"
   ]
  },
  {
   "cell_type": "code",
   "execution_count": 99,
   "id": "8360bc5c-6356-467b-8183-d393958b89ce",
   "metadata": {
    "tags": []
   },
   "outputs": [],
   "source": [
    "for images, labels in test_alldataloader:\n",
    "    break\n",
    "\n",
    "# images, labels = next(iter(dataloader))"
   ]
  },
  {
   "cell_type": "code",
   "execution_count": 101,
   "id": "6856b5e3-999b-49fa-a850-c1e4cbe13391",
   "metadata": {
    "tags": []
   },
   "outputs": [
    {
     "data": {
      "image/png": "[encoded data removed]",
      "text/plain": [
       "<Figure size 640x480 with 6 Axes>"
      ]
     },
     "metadata": {},
     "output_type": "display_data"
    }
   ],
   "source": [
    "examples = iter(test_alldataloader)\n",
    "# example_data, example_targets = examples.next()\n",
    "example_data, example_targets = next(examples)\n",
    "\n",
    "\n",
    "for i in range(6):\n",
    "    plt.subplot(2,3,i+1)\n",
    "    plt.imshow(example_data[i].reshape(15,20), cmap='gray')\n",
    "    # print(example_targets)\n",
    "plt.show()"
   ]
  },
  {
   "cell_type": "code",
   "execution_count": 103,
   "id": "655ce30b-3085-4e92-a916-f949c4cc1bc5",
   "metadata": {
    "tags": []
   },
   "outputs": [
    {
     "name": "stdout",
     "output_type": "stream",
     "text": [
      "tensor([0, 1, 1, 1, 1, 1, 0, 1, 0, 1, 1, 1, 1, 0, 0, 1, 0, 1, 0, 0, 1, 1, 0, 0,\n",
      "        1, 0, 1, 0, 1, 1, 1, 0])\n"
     ]
    }
   ],
   "source": [
    "print(example_targets)"
   ]
  },
  {
   "cell_type": "code",
   "execution_count": null,
   "id": "2b01fa31-50e5-4016-84b6-c6c953770757",
   "metadata": {},
   "outputs": [],
   "source": []
  },
  {
   "cell_type": "code",
   "execution_count": null,
   "id": "070c4be4-b39f-4b37-92f5-e8ee45f62940",
   "metadata": {},
   "outputs": [],
   "source": []
  },
  {
   "cell_type": "markdown",
   "id": "09d16ffd-1123-43dc-b214-1bbeacacb83d",
   "metadata": {},
   "source": [
    "# Create First Basic Neural Network\n",
    "- PerfectMM v NearPerfectMM v StreakMM\n"
   ]
  },
  {
   "cell_type": "markdown",
   "id": "4c048b70-04bd-40a3-b79a-074e4ea95210",
   "metadata": {},
   "source": [
    "## Configurations (Hyperparameters)"
   ]
  },
  {
   "cell_type": "code",
   "execution_count": 215,
   "id": "80e97077-b036-4949-af74-b7fb8eaf2127",
   "metadata": {
    "tags": []
   },
   "outputs": [],
   "source": [
    "# Device configuration\n",
    "# device = torch.device('cuda' if torch.cuda.is_available() else 'cpu')\n",
    "device = torch.device('mps' if torch.backends.mps.is_available() else 'cpu')\n",
    "\n",
    "# Hyperparameters\n",
    "input_size = 300     #15*20\n",
    "hidden_size = 120\n",
    "num_classes = 2\n",
    "\n",
    "# num_epochs = 10\n",
    "# num_epochs = 50\n",
    "# num_epochs = 100\n",
    "num_epochs = 300\n",
    "\n",
    "# batch_size = 100\n",
    "learning_rate = 0.001"
   ]
  },
  {
   "cell_type": "code",
   "execution_count": 216,
   "id": "d9b1f9aa-ecfb-47d7-8d18-8e0c04af2d88",
   "metadata": {
    "tags": []
   },
   "outputs": [
    {
     "name": "stdout",
     "output_type": "stream",
     "text": [
      "mps\n"
     ]
    }
   ],
   "source": [
    "print(device)"
   ]
  },
  {
   "cell_type": "markdown",
   "id": "7e5cab2e-7e24-4c68-a8cf-5fe71e960339",
   "metadata": {},
   "source": [
    "## Define Model"
   ]
  },
  {
   "cell_type": "code",
   "execution_count": 218,
   "id": "6614c76b-4f4a-4876-bc43-07c493715f1f",
   "metadata": {
    "tags": []
   },
   "outputs": [],
   "source": [
    "# Fully connected neural network with one hidden layer\n",
    "class NeuralNet(nn.Module):\n",
    "    def __init__(self, input_size, hidden_size, num_classes):\n",
    "        super(NeuralNet, self).__init__()\n",
    "        self.l1 = nn.Linear(input_size, hidden_size)\n",
    "        self.relu = nn.ReLU()\n",
    "        self.l2 = nn.Linear(hidden_size, num_classes)\n",
    "\n",
    "    def forward(self, x):\n",
    "        out = self.l1(x)\n",
    "        out = self.relu(out)\n",
    "        out = self.l2(out)\n",
    "        # no activation and no softmax at the end\n",
    "        return out\n",
    "    \n",
    "### 3.5s per epoch"
   ]
  },
  {
   "cell_type": "markdown",
   "id": "3c99c5a5-52af-42ea-9f8a-3a163c264d87",
   "metadata": {},
   "source": [
    "## Train First Basic NN"
   ]
  },
  {
   "cell_type": "code",
   "execution_count": 220,
   "id": "8c3f3a77-385f-474c-9fe9-92e3fc5ee4db",
   "metadata": {
    "tags": []
   },
   "outputs": [
    {
     "name": "stdout",
     "output_type": "stream",
     "text": [
      "2024-05-20 22:28:12\n",
      "\n",
      "\n"
     ]
    },
    {
     "name": "stderr",
     "output_type": "stream",
     "text": [
      "100%|██████████| 300/300 [10:42<00:00,  2.14s/it]"
     ]
    },
    {
     "name": "stdout",
     "output_type": "stream",
     "text": [
      "\n",
      "----------------------------------------------------\n",
      "done in 642.545s.\n",
      "2024-05-20 22:38:55\n"
     ]
    },
    {
     "name": "stderr",
     "output_type": "stream",
     "text": [
      "\n"
     ]
    }
   ],
   "source": [
    "start = time()\n",
    "print(strftime('%Y-%m-%d %H:%M:%S', localtime()))\n",
    "print('\\n')\n",
    "##############################################################################################################################\n",
    "\n",
    "\n",
    "\n",
    "### Instantiate Model before training\n",
    "model = NeuralNet(input_size, hidden_size, num_classes).to(device)\n",
    "\n",
    "# Loss and optimizer\n",
    "criterion = nn.CrossEntropyLoss()\n",
    "optimizer = torch.optim.Adam(model.parameters(), lr=learning_rate)\n",
    "\n",
    "# Train the model\n",
    "n_total_steps = len(train_alldataloader)\n",
    "\n",
    "for epoch in tqdm(range(num_epochs)):\n",
    "# for epoch in range(num_epochs):\n",
    "    for i, (images, labels) in enumerate(train_alldataloader):\n",
    "        # origin shape: [100, 1, 28, 28]  -> from the code example (mnist)\n",
    "        # resized: [100, 784] -> from the code example (mnist)\n",
    "        images = images.reshape(-1, 15*20).to(device)\n",
    "        labels = labels.to(device)\n",
    "\n",
    "        # Forward pass and loss calculation\n",
    "        outputs = model(images)\n",
    "        loss = criterion(outputs, labels)\n",
    "\n",
    "        # Backward and optimize\n",
    "        loss.backward()\n",
    "        optimizer.step()\n",
    "        optimizer.zero_grad()\n",
    "\n",
    "        # if (i+1) % 100 == 0:\n",
    "        #     print (f'Epoch [{epoch+1}/{num_epochs}], Step [{i+1}/{n_total_steps}], Loss: {loss.item():.4f}')\n",
    "\n",
    "            \n",
    "            \n",
    "            \n",
    "##############################################################################################################################\n",
    "print('\\n----------------------------------------------------')\n",
    "print(\"done in %0.3fs.\" % (time() - start))\n",
    "print(strftime('%Y-%m-%d %H:%M:%S', localtime()))\n",
    "\n",
    "\n",
    "### 15 * 20 //  secs"
   ]
  },
  {
   "cell_type": "code",
   "execution_count": 221,
   "id": "1ae8ebd6-7022-44c4-aae8-3cd5fbf7f1c3",
   "metadata": {
    "tags": []
   },
   "outputs": [],
   "source": [
    "# labels"
   ]
  },
  {
   "cell_type": "code",
   "execution_count": 222,
   "id": "b86831dc-2807-42ef-aa39-ea332f43120a",
   "metadata": {
    "tags": []
   },
   "outputs": [],
   "source": [
    "# model(images)"
   ]
  },
  {
   "cell_type": "code",
   "execution_count": null,
   "id": "a4e32205-c129-42e7-8332-1251f206940f",
   "metadata": {},
   "outputs": [],
   "source": []
  },
  {
   "cell_type": "code",
   "execution_count": null,
   "id": "8b3b26d3-531e-4c8e-a8ca-3d3a87b33b37",
   "metadata": {},
   "outputs": [],
   "source": []
  },
  {
   "cell_type": "markdown",
   "id": "9a5f4c0b-cd5b-4806-b6a8-0aa49094c027",
   "metadata": {},
   "source": [
    "## Save First Basic NN"
   ]
  },
  {
   "cell_type": "code",
   "execution_count": 224,
   "id": "30c40e1d-ff32-4b09-9064-08cd43684189",
   "metadata": {
    "tags": []
   },
   "outputs": [
    {
     "name": "stdout",
     "output_type": "stream",
     "text": [
      "./models/practice_3/first_basic_nn_2_2_300epo.pth\n"
     ]
    }
   ],
   "source": [
    "# PATH = './models/practice_2/first_basic_nn_20240520.pth'\n",
    "PATH = f'./models/practice_3/first_basic_nn_2_2_{str(num_epochs)}epo.pth'\n",
    "print(PATH)"
   ]
  },
  {
   "cell_type": "code",
   "execution_count": 225,
   "id": "bb803dea-8946-4683-8289-0baaaa8a7cf7",
   "metadata": {
    "tags": []
   },
   "outputs": [],
   "source": [
    "torch.save(model.state_dict(), PATH)"
   ]
  },
  {
   "cell_type": "code",
   "execution_count": null,
   "id": "5b8b2d43-8a85-416d-a422-1f86e3dea814",
   "metadata": {},
   "outputs": [],
   "source": []
  },
  {
   "cell_type": "markdown",
   "id": "0bdd18f6-d40e-42ce-bc25-db2a294d782c",
   "metadata": {},
   "source": [
    "## Load First Basic NN"
   ]
  },
  {
   "cell_type": "code",
   "execution_count": 227,
   "id": "8febcb6b-9c30-4ef5-b1af-868070f747f0",
   "metadata": {
    "tags": []
   },
   "outputs": [
    {
     "data": {
      "text/plain": [
       "NeuralNet(\n",
       "  (l1): Linear(in_features=300, out_features=120, bias=True)\n",
       "  (relu): ReLU()\n",
       "  (l2): Linear(in_features=120, out_features=2, bias=True)\n",
       ")"
      ]
     },
     "execution_count": 227,
     "metadata": {},
     "output_type": "execute_result"
    }
   ],
   "source": [
    "loaded_model = NeuralNet(input_size, hidden_size, num_classes).to(device)\n",
    "loaded_model.load_state_dict(torch.load(PATH)) # it takes the loaded dictionary, not the path file itself\n",
    "loaded_model.to(device)\n",
    "loaded_model.eval()"
   ]
  },
  {
   "cell_type": "code",
   "execution_count": null,
   "id": "f94c9d3d-9bd9-48d6-adad-a8c42d218fc9",
   "metadata": {},
   "outputs": [],
   "source": []
  },
  {
   "cell_type": "code",
   "execution_count": null,
   "id": "8d513008-1797-47fb-909c-439db8e14e0a",
   "metadata": {},
   "outputs": [],
   "source": []
  },
  {
   "cell_type": "code",
   "execution_count": null,
   "id": "07c5ac3a-c969-4f1b-b7c0-20d5d15ccec9",
   "metadata": {},
   "outputs": [],
   "source": []
  },
  {
   "cell_type": "markdown",
   "id": "c1ce3bc7-1c1b-446b-81dd-da24eb975a07",
   "metadata": {},
   "source": [
    "## Test First Basic NN"
   ]
  },
  {
   "cell_type": "code",
   "execution_count": 229,
   "id": "3ac201e4-77dc-485c-b39b-adabd1bfb698",
   "metadata": {
    "tags": []
   },
   "outputs": [
    {
     "name": "stdout",
     "output_type": "stream",
     "text": [
      "2024-05-20 22:38:55\n",
      "\n",
      "\n",
      "Accuracy of the loaded model: 50.00555555555555 %\n",
      "\n",
      "----------------------------------------------------\n",
      "done in 0.484s.\n",
      "2024-05-20 22:38:55\n"
     ]
    }
   ],
   "source": [
    "start = time()\n",
    "print(strftime('%Y-%m-%d %H:%M:%S', localtime()))\n",
    "print('\\n')\n",
    "##############################################################################################################################\n",
    "\n",
    "\n",
    "# wrong_answers = []\n",
    "all_answers = []\n",
    "\n",
    "with torch.no_grad():\n",
    "    n_correct = 0\n",
    "    n_correct2 = 0\n",
    "    n_samples = len(test_alldataloader.dataset)\n",
    "\n",
    "    for images, labels in test_alldataloader:\n",
    "        images = images.to(device)\n",
    "        labels = labels.to(device)\n",
    "        # outputs = model(images)\n",
    "\n",
    "        # max returns (value ,index)\n",
    "        outputs2 = loaded_model(images)\n",
    "        _, predicted2 = torch.max(outputs2, 1)\n",
    "        \n",
    "        n_correct2 += (predicted2 == labels).sum().item()\n",
    "        \n",
    "        \n",
    "        labels_list = labels.tolist()\n",
    "        predicted2_list = predicted2.tolist()\n",
    "        \n",
    "        for i in range(len(labels_list)):\n",
    "            # if predicted2_list[i] != labels_list[i]:\n",
    "                # wrong_answers.append([labels_list[i], predicted2_list[i]])\n",
    "                all_answers.append((int(labels_list[i]), predicted2_list[i]))\n",
    "                \n",
    "    acc = 100.0 * n_correct2 / n_samples\n",
    "    print(f'Accuracy of the loaded model: {acc} %')\n",
    "    \n",
    "\n",
    "##############################################################################################################################\n",
    "print('\\n----------------------------------------------------')\n",
    "print(\"done in %0.3fs.\" % (time() - start))\n",
    "print(strftime('%Y-%m-%d %H:%M:%S', localtime()))\n",
    "    \n",
    "### 100 ~ 160s\n",
    "\n",
    "### Accuracy of the loaded model: 53.94240267470429 % (2 epochs)\n",
    "\n"
   ]
  },
  {
   "cell_type": "code",
   "execution_count": 230,
   "id": "44a1aa46-6a8a-4d1f-9b0e-ec072498efbf",
   "metadata": {
    "tags": []
   },
   "outputs": [
    {
     "data": {
      "text/plain": [
       "tensor([1, 0, 0, 0, 0, 0, 0, 0, 0, 0, 0, 0, 0, 0, 0, 0], device='mps:0')"
      ]
     },
     "execution_count": 230,
     "metadata": {},
     "output_type": "execute_result"
    }
   ],
   "source": [
    "predicted2"
   ]
  },
  {
   "cell_type": "code",
   "execution_count": 231,
   "id": "fe6024a2-9899-4589-9a8c-fff6027cc3a9",
   "metadata": {
    "tags": []
   },
   "outputs": [
    {
     "name": "stdout",
     "output_type": "stream",
     "text": [
      "18000\n",
      "<class 'list'>\n"
     ]
    }
   ],
   "source": [
    "# print(len(wrong_answers))\n",
    "print(len(all_answers))\n",
    "print(type(all_answers))\n"
   ]
  },
  {
   "cell_type": "code",
   "execution_count": 232,
   "id": "a417a8d4-38eb-45de-b4ab-63ac06061e0b",
   "metadata": {
    "tags": []
   },
   "outputs": [
    {
     "name": "stdout",
     "output_type": "stream",
     "text": [
      "(0, 0) : 7004\n",
      "(0, 1) : 2015\n",
      "(1, 0) : 6984\n",
      "(1, 1) : 1997\n"
     ]
    }
   ],
   "source": [
    "# Counter(all_answers)\n",
    "all_answers_dict = dict(Counter(all_answers))\n",
    "all_answers_dict = {key : all_answers_dict[key] for key in sorted(list(all_answers_dict.keys()))}\n",
    "\n",
    "# all_answers_dict\n",
    "\n",
    "###\n",
    "\n",
    "for kkey in all_answers_dict:\n",
    "    print(f'{kkey} : {all_answers_dict[kkey]}')\n",
    "\n"
   ]
  },
  {
   "cell_type": "code",
   "execution_count": null,
   "id": "cdfda157-cb86-4470-b144-fd71fc7d5b90",
   "metadata": {},
   "outputs": [],
   "source": []
  },
  {
   "cell_type": "code",
   "execution_count": null,
   "id": "221d5f0a-ed57-486e-8c49-868df907810b",
   "metadata": {},
   "outputs": [],
   "source": []
  },
  {
   "cell_type": "code",
   "execution_count": null,
   "id": "a0aef8b1-bf35-4511-88e8-2f5218721221",
   "metadata": {},
   "outputs": [],
   "source": []
  },
  {
   "cell_type": "code",
   "execution_count": null,
   "id": "d52b10e2-6614-426e-b671-f253b31bddae",
   "metadata": {},
   "outputs": [],
   "source": []
  },
  {
   "cell_type": "code",
   "execution_count": null,
   "id": "05b93b99-81e2-4c40-9d06-2fb64db83791",
   "metadata": {},
   "outputs": [],
   "source": []
  },
  {
   "cell_type": "code",
   "execution_count": null,
   "id": "f77a563f-68fd-43e9-8817-94021e5fe2bb",
   "metadata": {},
   "outputs": [],
   "source": []
  }
 ],
 "metadata": {
  "kernelspec": {
   "display_name": "Python 3 (ipykernel)",
   "language": "python",
   "name": "python3"
  },
  "language_info": {
   "codemirror_mode": {
    "name": "ipython",
    "version": 3
   },
   "file_extension": ".py",
   "mimetype": "text/x-python",
   "name": "python",
   "nbconvert_exporter": "python",
   "pygments_lexer": "ipython3",
   "version": "3.11.5"
  }
 },
 "nbformat": 4,
 "nbformat_minor": 5
}

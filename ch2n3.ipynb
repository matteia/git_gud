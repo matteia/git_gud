{
 "cells": [
  {
   "cell_type": "code",
   "execution_count": 68,
   "id": "1ce4d53f-bd80-4f6d-ae18-7b5908eacfbb",
   "metadata": {},
   "outputs": [],
   "source": [
    "# Importing libraries\n",
    "import math\n",
    "import numpy as np\n",
    "import matplotlib.pyplot as plt"
   ]
  },
  {
   "cell_type": "code",
   "execution_count": 69,
   "id": "b656fb30-f2f8-44e9-919e-cee309e5147e",
   "metadata": {},
   "outputs": [],
   "source": [
    "### function for counting number of combinations to be used as modifiers\n",
    "\n",
    "def count_combs(n):\n",
    "# def combi(n:int, r:int):\n",
    "    result = []\n",
    "    for i in range(n+1):\n",
    "        result.append(math.comb(n,i))\n",
    "    \n",
    "    return result"
   ]
  },
  {
   "cell_type": "code",
   "execution_count": 70,
   "id": "476d85a2-c6d5-428f-9d29-ae4df6060642",
   "metadata": {},
   "outputs": [],
   "source": [
    "### setting up the PVP envrionment. -> how many VS how many ?\n",
    "\n",
    "def create_pvp_env(n1, n2):\n",
    "    result = []\n",
    "    result.append(count_combs(n1-1))    ### minus ME\n",
    "    result.append(count_combs(n2))\n",
    "    return result"
   ]
  },
  {
   "cell_type": "code",
   "execution_count": 71,
   "id": "6e693666-7916-43d8-a39c-4f02cebbb3ea",
   "metadata": {},
   "outputs": [],
   "source": [
    "# my_team_combs = count_combs(5)"
   ]
  },
  {
   "cell_type": "code",
   "execution_count": 72,
   "id": "ff36cae5-8d1c-4a51-85a5-c2521ba7eb8f",
   "metadata": {},
   "outputs": [],
   "source": [
    "# my_team_combs"
   ]
  },
  {
   "cell_type": "code",
   "execution_count": 73,
   "id": "f876e52f-47ae-4ea1-a761-6bde19791f4c",
   "metadata": {},
   "outputs": [],
   "source": [
    "# op_team_combs = count_combs(5)"
   ]
  },
  {
   "cell_type": "code",
   "execution_count": 74,
   "id": "1d230a6c-7365-45c9-89b5-5c4bcf2e1cb4",
   "metadata": {},
   "outputs": [],
   "source": [
    "# op_team_combs"
   ]
  },
  {
   "cell_type": "code",
   "execution_count": 75,
   "id": "31efc223-8150-4eac-9208-7c01fcab85bc",
   "metadata": {},
   "outputs": [
    {
     "data": {
      "text/plain": [
       "[[1, 4, 6, 4, 1], [1, 5, 10, 10, 5, 1]]"
      ]
     },
     "execution_count": 75,
     "metadata": {},
     "output_type": "execute_result"
    }
   ],
   "source": [
    "create_pvp_env(5,5)"
   ]
  },
  {
   "cell_type": "code",
   "execution_count": 76,
   "id": "67a9c912-485d-4027-b1f8-50c148391841",
   "metadata": {},
   "outputs": [],
   "source": [
    "my_heads_prob = 0.57\n",
    "ally_heads_prob = 0.54\n",
    "enemy_heads_prob = 0.54"
   ]
  },
  {
   "cell_type": "code",
   "execution_count": null,
   "id": "0e7bcf6c-d079-4944-a8d3-26000cba7e2a",
   "metadata": {},
   "outputs": [],
   "source": []
  },
  {
   "cell_type": "code",
   "execution_count": 77,
   "id": "8e0b6632-6ef8-44ef-a451-80c8072b222d",
   "metadata": {},
   "outputs": [],
   "source": [
    "### team probability, dependent on number of combination counts and percentile\n",
    "\n",
    "def create_team_probs_dict(n_my_team, n_op_team, my_heads_prob, ally_heads_prob, enemy_heads_prob):\n",
    "    result = []\n",
    "    \n",
    "    ### prob of ally team's tails\n",
    "    ally_tails_prob = 1 - ally_heads_prob\n",
    "    ### prob of enemy team's tails\n",
    "    enemy_tails_prob = 1 - enemy_heads_prob\n",
    "    \n",
    "    pvp_env = create_pvp_env(n_my_team, n_op_team)\n",
    "    \n",
    "    ### minus one to account for myself for later use\n",
    "    n_my_team -= 1\n",
    "        \n",
    "    my_team_combs, op_team_combs = pvp_env[0], pvp_env[1]\n",
    "    \n",
    "    ### initiate my_team_probs\n",
    "    my_team_probs = {}\n",
    "    \n",
    "    ### calculate probs for ALLY TEAM\n",
    "    for i in range(len(my_team_combs)):\n",
    "        comb_x_prob = my_team_combs[i] * ( ally_heads_prob**i * ally_tails_prob**(n_my_team-i) )\n",
    "        my_team_probs[i] = comb_x_prob\n",
    "        \n",
    "    ### Add my contribution to my_team_probs\n",
    "    my_team = list(my_team_probs.values())\n",
    "    ### my_team_probs when I tails\n",
    "    my_team_when_tails = [p*(1-my_heads_prob) for p in my_team]\n",
    "    my_team_when_tails.append(0)\n",
    "    ### my_team_probs when I heads\n",
    "    my_team_when_heads = [p*my_heads_prob for p in my_team]\n",
    "    my_team_when_heads.insert(0, 0)\n",
    "    \n",
    "    my_team = []\n",
    "    for i in range(len(my_team_when_heads)):\n",
    "        my_team.append(my_team_when_tails[i] + my_team_when_heads[i])\n",
    "        \n",
    "    for i in range(len(my_team_when_heads)):\n",
    "        my_team_probs[i] = my_team[i]\n",
    "    \n",
    "    \n",
    "    ### initiate op_team_probs\n",
    "    op_team_probs = {}\n",
    "    \n",
    "    ### calculate probs for ENEMY TEAM\n",
    "    for i in range(len(op_team_combs)):\n",
    "        comb_x_prob = op_team_combs[i] * ( enemy_heads_prob**i * enemy_tails_prob**(n_op_team-i) )\n",
    "        op_team_probs[i] = comb_x_prob\n",
    "    \n",
    "    \n",
    "    \n",
    "    result.append(my_team_probs)\n",
    "    result.append(op_team_probs)\n",
    "    \n",
    "    return result"
   ]
  },
  {
   "cell_type": "code",
   "execution_count": 78,
   "id": "9d85170c-3ca9-4c39-80db-01b5188b3a68",
   "metadata": {},
   "outputs": [
    {
     "data": {
      "text/plain": [
       "[{0: 0.019253060799999996,\n",
       "  1: 0.11592717599999999,\n",
       "  2: 0.279032688,\n",
       "  3: 0.335608272,\n",
       "  4: 0.201711384,\n",
       "  5: 0.04846741920000001},\n",
       " {0: 0.020596297599999994,\n",
       "  1: 0.12089131199999997,\n",
       "  2: 0.283831776,\n",
       "  3: 0.33319382399999997,\n",
       "  4: 0.19557028800000004,\n",
       "  5: 0.04591650240000002}]"
      ]
     },
     "execution_count": 78,
     "metadata": {},
     "output_type": "execute_result"
    }
   ],
   "source": [
    "# def create_team_probs(n_my_team, n_op_team, my_heads_prob, ally_heads_prob, enemy_heads_prob):\n",
    "team_probs = create_team_probs_dict(5, 5, my_heads_prob, ally_heads_prob,enemy_heads_prob)\n",
    "team_probs"
   ]
  },
  {
   "cell_type": "code",
   "execution_count": 79,
   "id": "cd73b703-5289-42b1-88c7-687291d453b9",
   "metadata": {},
   "outputs": [
    {
     "data": {
      "text/plain": [
       "dict_values([0.019253060799999996, 0.11592717599999999, 0.279032688, 0.335608272, 0.201711384, 0.04846741920000001])"
      ]
     },
     "execution_count": 79,
     "metadata": {},
     "output_type": "execute_result"
    }
   ],
   "source": [
    "team_probs[0].values()"
   ]
  },
  {
   "cell_type": "code",
   "execution_count": 80,
   "id": "358de1d1-7661-4124-bbe0-b4236c7bcf7f",
   "metadata": {},
   "outputs": [],
   "source": [
    "# sum(team_probs[0].values())"
   ]
  },
  {
   "cell_type": "code",
   "execution_count": 81,
   "id": "649c9e6a-b24d-4ef5-abfd-903bb014fd59",
   "metadata": {},
   "outputs": [],
   "source": [
    "### this function needs the result of create_team_probs as input\n",
    "\n",
    "\n",
    "def create_multiplied_probs(team_probs):\n",
    "    ### team_probs = result of function create_team_probs\n",
    "    result = {}\n",
    "    my_team_probs = list(team_probs[0].values())\n",
    "    op_team_probs = list(team_probs[1].values())\n",
    "    \n",
    "    for i in range(len(my_team_probs)):\n",
    "        result[i] = []\n",
    "        for item in op_team_probs:\n",
    "            result[i].append(my_team_probs[i]*item)\n",
    "            \n",
    "        \n",
    "    return result"
   ]
  },
  {
   "cell_type": "code",
   "execution_count": 82,
   "id": "dda43971-798e-49ef-9f11-74bf91bdc8c6",
   "metadata": {},
   "outputs": [],
   "source": [
    "multiplied_probs = create_multiplied_probs(team_probs)"
   ]
  },
  {
   "cell_type": "code",
   "execution_count": 83,
   "id": "4561371a-86fa-4ec4-b10b-3831d8ec5a18",
   "metadata": {},
   "outputs": [
    {
     "data": {
      "text/plain": [
       "{0: [0.00039654176994769386,\n",
       "  0.0023275277801277686,\n",
       "  0.0054646304402999795,\n",
       "  0.006415000951656497,\n",
       "  0.0037653266455375104,\n",
       "  0.000884033212430546],\n",
       " 1: [0.0023876706168235767,\n",
       "  0.014014588403094908,\n",
       "  0.03290381625074457,\n",
       "  0.03862621907696102,\n",
       "  0.02267191119734669,\n",
       "  0.005322970455029224],\n",
       " 2: [0.005747040282175947,\n",
       "  0.03373262774320664,\n",
       "  0.07919834339709388,\n",
       "  0.0929719683357189,\n",
       "  0.054570503153574146,\n",
       "  0.012812205088230454],\n",
       " 3: [0.006912287847133745,\n",
       "  0.04057212432013285,\n",
       "  0.09525629188205106,\n",
       "  0.11182260351371211,\n",
       "  0.06563500641022235,\n",
       "  0.015409958026747857],\n",
       " 4: [0.004154507694171877,\n",
       "  0.0243851538570958,\n",
       "  0.057252100360137975,\n",
       "  0.06720898737929241,\n",
       "  0.0394487534617586,\n",
       "  0.009261881247543324],\n",
       " 5: [0.0009982493897471537,\n",
       "  0.00585928989634199,\n",
       "  0.0137565936696725,\n",
       "  0.016149044742659022,\n",
       "  0.009478787131560733,\n",
       "  0.0022254543700186073]}"
      ]
     },
     "execution_count": 83,
     "metadata": {},
     "output_type": "execute_result"
    }
   ],
   "source": [
    "multiplied_probs"
   ]
  },
  {
   "cell_type": "code",
   "execution_count": null,
   "id": "62e0199f-ee5e-46eb-a345-0cc76362574f",
   "metadata": {},
   "outputs": [],
   "source": []
  },
  {
   "cell_type": "code",
   "execution_count": 84,
   "id": "c9700ce4-7a0f-45d1-947e-fa9456f02e9a",
   "metadata": {},
   "outputs": [],
   "source": [
    "### function to determine which team has more HEADS\n",
    "### this function needs the result of function create_multiplied_probs as input\n",
    "\n",
    "def which_team_has_more(multiplied_probs):\n",
    "    ### multiplied_probs = result of function create_multiplied_probs\n",
    "    result = {}\n",
    "    result['more_on_op'] = 0\n",
    "    result['equal_on_both'] = 0\n",
    "    result['more_on_my'] = 0\n",
    "    \n",
    "    \n",
    "    ### iterate my team -> keys of given dict\n",
    "    for item_1 in list(multiplied_probs.keys()):\n",
    "        one_list = list(multiplied_probs.values())[item_1]\n",
    "        # print('item_1: ', item_1)\n",
    "        # print('-----------')\n",
    "        # print('item_1: ', item_1)\n",
    "        \n",
    "        ### iterate one list of lists\n",
    "        for i in range(len(one_list)):\n",
    "            if i > item_1:\n",
    "                result['more_on_op'] += one_list[i]\n",
    "            if i == item_1:\n",
    "                result['equal_on_both'] += one_list[i]\n",
    "            elif i < item_1:\n",
    "                result['more_on_my'] += one_list[i]\n",
    "            else:\n",
    "                pass\n",
    "        \n",
    "                \n",
    "    return result"
   ]
  },
  {
   "cell_type": "code",
   "execution_count": 85,
   "id": "d95179cd-d342-4c2d-a4eb-51df220dcdaa",
   "metadata": {},
   "outputs": [
    {
     "data": {
      "text/plain": [
       "{'more_on_op': 0.3690429582721709,\n",
       " 'equal_on_both': 0.2471062849156258,\n",
       " 'more_on_my': 0.3838507568122033}"
      ]
     },
     "execution_count": 85,
     "metadata": {},
     "output_type": "execute_result"
    }
   ],
   "source": [
    "result = which_team_has_more(multiplied_probs)\n",
    "result"
   ]
  },
  {
   "cell_type": "code",
   "execution_count": 86,
   "id": "db4abecf-a4dc-4e4b-acd3-71aa05566d59",
   "metadata": {},
   "outputs": [],
   "source": [
    "def calculate_probs(n_my_team, n_op_team, my_heads_prob, ally_heads_prob, enemy_heads_prob):\n",
    "    final_result = {}\n",
    "    result_1 = create_team_probs_dict(n_my_team, n_op_team, my_heads_prob, ally_heads_prob, enemy_heads_prob)\n",
    "    result_2 = create_multiplied_probs(result_1)\n",
    "    result_3 = which_team_has_more(result_2)\n",
    "    \n",
    "    loss_prob = result_3['more_on_op'] + result_3['equal_on_both']/2\n",
    "    win_prob = result_3['more_on_my'] + result_3['equal_on_both']/2\n",
    "    \n",
    "    final_result['loss_prob'] = loss_prob\n",
    "    final_result['win_prob'] = win_prob\n",
    "    \n",
    "    return final_result"
   ]
  },
  {
   "cell_type": "code",
   "execution_count": 90,
   "id": "f2420a7b-82e0-4e0a-a101-41dabacc3d97",
   "metadata": {},
   "outputs": [
    {
     "data": {
      "text/plain": [
       "{'loss_prob': 0.4925961007299838, 'win_prob': 0.5074038992700163}"
      ]
     },
     "execution_count": 90,
     "metadata": {},
     "output_type": "execute_result"
    }
   ],
   "source": [
    "situation_1 = calculate_probs(5, 5, my_heads_prob, ally_heads_prob,enemy_heads_prob)\n",
    "situation_1"
   ]
  },
  {
   "cell_type": "code",
   "execution_count": 104,
   "id": "578b73a3-f3b5-4b46-a7a4-8f3b9929c293",
   "metadata": {},
   "outputs": [],
   "source": [
    "# situation_2 = calculate_probs(5, 5, my_heads_prob, 0.54, 0.546)\n",
    "# situation_2"
   ]
  },
  {
   "cell_type": "code",
   "execution_count": null,
   "id": "44c0471d-e1e1-42e5-954d-52add666ca0d",
   "metadata": {},
   "outputs": [],
   "source": []
  },
  {
   "cell_type": "markdown",
   "id": "74a5a25e-afe4-4ee2-b386-7a05adc7163c",
   "metadata": {},
   "source": [
    "# Ch.3 "
   ]
  },
  {
   "cell_type": "code",
   "execution_count": 92,
   "id": "14b4af6d-a07c-41cd-ba26-b71997c5561b",
   "metadata": {},
   "outputs": [
    {
     "data": {
      "text/plain": [
       "0.5074038992700163"
      ]
     },
     "execution_count": 92,
     "metadata": {},
     "output_type": "execute_result"
    }
   ],
   "source": [
    "wr_paul = situation_1['win_prob']\n",
    "wr_paul"
   ]
  },
  {
   "cell_type": "code",
   "execution_count": 97,
   "id": "724dce09-efdc-430a-ad79-1ae89ca203f8",
   "metadata": {},
   "outputs": [],
   "source": [
    "net_games = 40"
   ]
  },
  {
   "cell_type": "code",
   "execution_count": 98,
   "id": "7cc1f516-646e-4f1d-af93-212e3aa197ae",
   "metadata": {},
   "outputs": [],
   "source": [
    "def amount_calculator(net_games, wr):\n",
    "    return (net_games/(2*wr-1))"
   ]
  },
  {
   "cell_type": "code",
   "execution_count": 101,
   "id": "82440b25-ea38-4cec-89d7-cffdcb477b77",
   "metadata": {},
   "outputs": [
    {
     "data": {
      "text/plain": [
       "2701.2793219640907"
      ]
     },
     "execution_count": 101,
     "metadata": {},
     "output_type": "execute_result"
    }
   ],
   "source": [
    "amount_calculator(net_games, wr_paul)"
   ]
  },
  {
   "cell_type": "code",
   "execution_count": 102,
   "id": "40bcc2f2-0c75-43ca-a83f-bc05c81c5e34",
   "metadata": {},
   "outputs": [
    {
     "data": {
      "text/plain": [
       "-2701.279321964111"
      ]
     },
     "execution_count": 102,
     "metadata": {},
     "output_type": "execute_result"
    }
   ],
   "source": [
    "amount_calculator(net_games, situation_1['loss_prob'])"
   ]
  },
  {
   "cell_type": "code",
   "execution_count": null,
   "id": "e45029de-68a6-411b-bcb1-8fdb51124565",
   "metadata": {},
   "outputs": [],
   "source": []
  },
  {
   "cell_type": "code",
   "execution_count": null,
   "id": "22090ebe-cdd4-4456-b0f6-e0185a7c5f1d",
   "metadata": {},
   "outputs": [],
   "source": []
  },
  {
   "cell_type": "code",
   "execution_count": null,
   "id": "8eaf40bd-770c-45da-a592-ccd62ee603a1",
   "metadata": {},
   "outputs": [],
   "source": []
  },
  {
   "cell_type": "code",
   "execution_count": null,
   "id": "f04b9f76-55f4-47e4-bf45-fe622543666e",
   "metadata": {},
   "outputs": [],
   "source": []
  },
  {
   "cell_type": "code",
   "execution_count": null,
   "id": "21458910-880f-4e0e-aac4-02e2a85b7fbf",
   "metadata": {},
   "outputs": [],
   "source": []
  },
  {
   "cell_type": "code",
   "execution_count": null,
   "id": "ceffcbe3-4ab7-4b29-b518-b8b9963d4698",
   "metadata": {},
   "outputs": [],
   "source": []
  },
  {
   "cell_type": "code",
   "execution_count": null,
   "id": "73c52b34-86c5-450d-afa3-bcc52fc08704",
   "metadata": {},
   "outputs": [],
   "source": []
  }
 ],
 "metadata": {
  "kernelspec": {
   "display_name": "Python 3 (ipykernel)",
   "language": "python",
   "name": "python3"
  },
  "language_info": {
   "codemirror_mode": {
    "name": "ipython",
    "version": 3
   },
   "file_extension": ".py",
   "mimetype": "text/x-python",
   "name": "python",
   "nbconvert_exporter": "python",
   "pygments_lexer": "ipython3",
   "version": "3.10.12"
  }
 },
 "nbformat": 4,
 "nbformat_minor": 5
}

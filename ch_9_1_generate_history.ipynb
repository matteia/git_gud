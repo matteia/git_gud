{
 "cells": [
  {
   "cell_type": "code",
   "execution_count": 2,
   "id": "17ae51be-dac2-4c0c-b64b-ed178d4f0aea",
   "metadata": {},
   "outputs": [],
   "source": [
    "import random\n",
    "import pickle\n",
    "import glob\n",
    "\n",
    "import random\n",
    "import ast\n",
    "import pathlib\n",
    "\n",
    "import numpy as np\n",
    "\n",
    "import matplotlib.pyplot as plt\n",
    "import matplotlib.transforms as transforms\n",
    "\n",
    "\n",
    "\n",
    "from time import time\n",
    "from time import sleep\n",
    "from time import strftime\n",
    "from time import localtime\n",
    "from tqdm import tqdm\n",
    "\n",
    "from datetime import date, timedelta, datetime\n",
    "\n",
    "# from mydecorators import logger, stopwatch\n",
    "\n",
    "\n",
    "\n"
   ]
  },
  {
   "cell_type": "markdown",
   "id": "1b9c609e-95c1-495b-aac5-b393e17daa68",
   "metadata": {
    "tags": []
   },
   "source": [
    "## Classes & Functions for Different MMs"
   ]
  },
  {
   "cell_type": "code",
   "execution_count": 3,
   "id": "06410fc8-b989-4b80-a066-f5ec72af30fa",
   "metadata": {},
   "outputs": [],
   "source": [
    "### Perfect or Near Perfect MM\n",
    "\n",
    "class PerfectMM:\n",
    "    def __init__(self, n_players, wr=0.5, req_net_games = 40):\n",
    "        ### win rate that the algorithm aims for\n",
    "        self.wr = wr\n",
    "        ### lose rate (?)\n",
    "        self.lr = 1 - self.wr\n",
    "        ### number of players involved\n",
    "        self.n_players = n_players\n",
    "        ### required number of net games won\n",
    "        self.req_net_games = req_net_games\n",
    "        \n",
    "    def compute(self, save=False):\n",
    "        ### compute start time\n",
    "        self.start = time()\n",
    "        ### number of games per player\n",
    "        self.start = time()\n",
    "        self.n_games_list = []\n",
    "        ### win rates of all players\n",
    "        self.player_wr_list = []\n",
    "        \n",
    "        ### record of all games by the population (eg. 1000 players)\n",
    "        self.record_all = []\n",
    "        \n",
    "        ### save or not save the record of games\n",
    "        self.save = save\n",
    "        \n",
    "        ### win or lose ?\n",
    "        outcome_list = [1, 0]   ### 1 for WIN, 0 for DEFEAT\n",
    "        \n",
    "        for _ in tqdm(range(self.n_players)):\n",
    "            # all games for ONE player\n",
    "            all_games = []\n",
    "            ### number of games played so far for each player\n",
    "            n_games = 0\n",
    "            ### number of net games won\n",
    "            n_wins = 0\n",
    "            \n",
    "            while n_wins < self.req_net_games:\n",
    "                ### play one game & add to n_games\n",
    "                n_games += 1\n",
    "                ### result of played game\n",
    "                one_game = random.choices(outcome_list, weights=(self.wr, self.lr))[0]\n",
    "                all_games.append(one_game)\n",
    "                \n",
    "                if one_game == 1:\n",
    "                    n_wins += 1\n",
    "                else:\n",
    "                    n_wins -= 1\n",
    "                    \n",
    "\n",
    "            player_wr = sum(all_games)/len(all_games)\n",
    "            self.player_wr_list.append(player_wr)\n",
    "            self.n_games_list.append(n_games)\n",
    "            \n",
    "            ### append all games played by one player to record of all games played by population in question\n",
    "            self.record_all.append(all_games)\n",
    "            \n",
    "           \n",
    "        ### number of average games played per player\n",
    "        self.n_avg_games = sum(self.n_games_list) / self.n_players\n",
    "        ### average win rate\n",
    "        self.avg_wr = sum(self.player_wr_list) / self.n_players\n",
    "        ### compute end time\n",
    "        self.end = time()\n",
    "        ### compute duration\n",
    "        self.compute_time = self.end - self.start\n",
    "        \n",
    "        \n",
    "        ### save or not save record of all games by all players \n",
    "        if self.save is False:\n",
    "            self.filename = f'No saved files created'\n",
    "            pass\n",
    "        else:\n",
    "            timestamp = datetime.now().strftime('%Y%m%d_%H%M%S')\n",
    "            self.filename = f'saved_lists/perfectmm_{timestamp}.txt'\n",
    "            with open(self.filename, 'wb') as file:\n",
    "                pickle.dump(self.record_all, file)\n",
    "                \n",
    "                \n",
    "            \n",
    "        \n",
    "    def report(self):\n",
    "        print(f'List of No. of Games Played(n_games_list): {self.n_games_list} \\n')\n",
    "        print(f'Number of Average Games Played(n_avg_games): {self.n_avg_games} \\n')\n",
    "        print(f'Win Rates of Players(player_wr_list): {self.player_wr_list} \\n')\n",
    "        print(f'Average Win Rate(avg_wr): {self.avg_wr} \\n')\n",
    "        print(f'Compute Time(compute_time): {self.compute_time} seconds \\n')\n",
    "        print(f'Saved Result(filename): {self.filename} \\n')"
   ]
  },
  {
   "cell_type": "code",
   "execution_count": 4,
   "id": "2f76e76a-e45b-4be6-8ee3-c363da34dd1f",
   "metadata": {},
   "outputs": [],
   "source": [
    "### Streak MM\n",
    "\n",
    "class StreakMM:\n",
    "    def __init__(self, n_players, req_net_games = 40):\n",
    "        ### number of players involved\n",
    "        self.n_players = n_players\n",
    "        ### required number of net games won\n",
    "        self.req_net_games = req_net_games\n",
    "        \n",
    "        \n",
    "        \n",
    "        \n",
    "    def compute(self, wsr=0.5, wlr=0.85, n_streak=6, bottom=True, n_bottom=0, save=False):\n",
    "        ### compute start time\n",
    "        self.start = time()\n",
    "        \n",
    "        ### number of games per player\n",
    "        self.n_games_list = []\n",
    "        \n",
    "        ### win rates of all players\n",
    "        self.player_wr_list = []\n",
    "        \n",
    "        ### record of all games by the population (eg. 1000 players)\n",
    "        self.record_all = []\n",
    "        \n",
    "        ### save or not save the record of games\n",
    "        self.save = save\n",
    "        \n",
    "        ### streak probabilities\n",
    "        self.wsr = wsr\n",
    "        self.lsr = 1 - self.wsr\n",
    "        \n",
    "        ### number of games per streak\n",
    "        self.n_streak = n_streak\n",
    "        \n",
    "        ### win or lose rate per streak\n",
    "        self.wlr = wlr\n",
    "        \n",
    "        ### bottom net games won\n",
    "        self.bottom = bottom\n",
    "        \n",
    "        ### threshold for bottom net games won\n",
    "        self.n_bottom = n_bottom\n",
    "        \n",
    "        ### Two types of streaks\n",
    "        streak_list = ['WS', 'LS']\n",
    "        ### win or lose ?\n",
    "        outcome_list = [1, 0]\n",
    "        \n",
    "        for _ in tqdm(range(self.n_players)):\n",
    "            # all games for ONE player\n",
    "            all_games = []\n",
    "            ### number of games played so far for each player\n",
    "            n_games = 0\n",
    "            ### number of net games won\n",
    "            n_wins = 0\n",
    "                    \n",
    "            while n_wins < self.req_net_games:\n",
    "                ### random select one streak\n",
    "                one_streak = random.choices(streak_list, weights=(self.wsr, self.lsr))[0]\n",
    "                ### add number of games of streak to number of games played\n",
    "                n_games += self.n_streak\n",
    "                \n",
    "                ### if WS (win streak)\n",
    "                if one_streak == \"WS\":\n",
    "                    wr = self.wlr\n",
    "                    lr = 1-self.wlr\n",
    "                \n",
    "                    ### randomly pick streak results given which streak\n",
    "                    streak_result = random.choices(outcome_list, weights=(wr, lr), k = n_streak)\n",
    "                    all_games.extend(streak_result)\n",
    "                    \n",
    "                    for wl in streak_result:\n",
    "                        if wl == 1:\n",
    "                            n_wins += 1\n",
    "                        else:\n",
    "                            n_wins -= 1\n",
    "                \n",
    "                ### if LS (Losing Streak)\n",
    "                else:\n",
    "                    wr = 1-self.wlr\n",
    "                    lr = self.wlr\n",
    "                    \n",
    "                    ### randomly pick streak results given which streak\n",
    "                    streak_result = random.choices(outcome_list, weights=(wr, lr), k = n_streak)\n",
    "                    all_games.extend(streak_result)\n",
    "                    \n",
    "                    for wl in streak_result:\n",
    "                        if wl == 1:\n",
    "                            n_wins += 1\n",
    "                        else:\n",
    "                            n_wins -= 1\n",
    "                            if self.bottom == True:\n",
    "                                if n_wins < abs(self.n_bottom) * (-1):\n",
    "                                    n_wins = abs(self.n_bottom) * (-1)\n",
    "                                else:\n",
    "                                    pass\n",
    "                            else:\n",
    "                                pass\n",
    "                            \n",
    "                            \n",
    "#                             if self.bottom == False:\n",
    "#                                 n_wins -= 1\n",
    "#                             else:\n",
    "#                                 n_wins\n",
    "#                                 if n_wins < 0:\n",
    "#                                     n_wins = abs(self.n_bottom) * (-1)\n",
    "            \n",
    "            ### calculate and organize result\n",
    "            # victory = 0\n",
    "            # defeat = 0\n",
    "            \n",
    "            # for game in all_games:\n",
    "            #     if game == \"W\":\n",
    "            #         victory += 1\n",
    "            #     else:\n",
    "            #         defeat += 1\n",
    "                \n",
    "            self.n_games_list.append(n_games)\n",
    "            player_wr = sum(all_games)/len(all_games)\n",
    "            self.player_wr_list.append(player_wr)\n",
    "            \n",
    "            ### append all games played by one player to record of all games played by population in question\n",
    "            self.record_all.append(all_games)\n",
    "                \n",
    "                \n",
    "        ### number of average games played per player\n",
    "        self.n_avg_games = sum(self.n_games_list) / self.n_players\n",
    "        ### average win rate\n",
    "        self.avg_wr = sum(self.player_wr_list) / self.n_players\n",
    "        \n",
    "        ### compute end time\n",
    "        self.end = time()\n",
    "        ### compute duration\n",
    "        self.compute_time = self.end - self.start\n",
    "        \n",
    "        ### save or not save record of all games by all players \n",
    "        if self.save is False:\n",
    "            self.filename = f'No saved files created'\n",
    "            pass\n",
    "        else:\n",
    "            timestamp = datetime.now().strftime('%Y%m%d_%H%M%S')\n",
    "            self.filename = f'saved_lists/streakmm_{timestamp}.txt'\n",
    "            with open(self.filename, 'wb') as file:\n",
    "                pickle.dump(self.record_all, file)\n",
    "            \n",
    "        \n",
    "    def report(self):\n",
    "        print(f'List of No. of Games Played(n_games_list): {self.n_games_list} \\n')\n",
    "        print(f'Number of Average Games Played(n_avg_games): {self.n_avg_games} \\n')\n",
    "        print(f'Win Rates of Players(player_wr_list): {self.player_wr_list} \\n')\n",
    "        print(f'Average Win Rate(avg_wr): {self.avg_wr} \\n')\n",
    "        print(f'Compute Time(compute_time): {self.compute_time} seconds \\n')\n",
    "        print(f'Saved Result(filename): {self.filename} \\n')\n",
    "        \n",
    "        \n",
    "    \n",
    "        \n",
    "        "
   ]
  },
  {
   "cell_type": "code",
   "execution_count": 5,
   "id": "f36c412c-2b77-41f7-b9bc-1a5fa2bc8f9d",
   "metadata": {},
   "outputs": [],
   "source": [
    "### streak generator\n",
    "#### using list.extend\n",
    "\n",
    "def streak_gen(streak_size, result_size):    ### number of games\n",
    "  result_streak = []\n",
    "\n",
    "  n_games = result_size\n",
    "\n",
    "  n_games_played = 0\n",
    "\n",
    "  while n_games_played <= n_games:\n",
    "\n",
    "    streak_size = streak_size\n",
    "    streak = random.choices(['WS','LS'], weights=(0.5,0.5))[0]\n",
    "\n",
    "    if streak == 'WS':\n",
    "      wr = 0.85\n",
    "      lr = 0.15\n",
    "      # print(lr,wr)\n",
    "      \n",
    "      streak_games = random.choices([0,1], weights=(lr, wr), k=streak_size)\n",
    "      result_streak.extend(streak_games)\n",
    "\n",
    "    else:\n",
    "      wr = 0.15\n",
    "      lr = 0.85\n",
    "      # print(lr,wr)\n",
    "      streak_games = random.choices([0,1], weights=(lr, wr), k=streak_size)\n",
    "      result_streak.extend(streak_games)\n",
    "\n",
    "    n_games_played += streak_size\n",
    "\n",
    "\n",
    "  return result_streak[:result_size]"
   ]
  },
  {
   "cell_type": "code",
   "execution_count": 6,
   "id": "59123999-2a57-4050-a2fc-8d0038ed82a6",
   "metadata": {},
   "outputs": [],
   "source": [
    "def streak_counter(llist):\n",
    "  result_dict = {\n",
    "    ### 0 for Loss\n",
    "    0: [],\n",
    "    ### 1 for Win \n",
    "    1: []    \n",
    "  }\n",
    "\n",
    "  streak_size = 1\n",
    "\n",
    "  for i in range(len(llist)):\n",
    "    if i != len(llist)-1:\n",
    "      if llist[i] != llist[i+1]:\n",
    "        result_dict[llist[i]].append(streak_size)\n",
    "        streak_size = 1\n",
    "\n",
    "      elif llist[i] == llist[i+1]:\n",
    "        streak_size += 1\n",
    "    else:\n",
    "      result_dict[llist[i]].append(streak_size)\n",
    "\n",
    "  return result_dict\n"
   ]
  },
  {
   "cell_type": "code",
   "execution_count": 7,
   "id": "80d682bb-1b2c-4df4-9082-1ea2ab512cea",
   "metadata": {},
   "outputs": [],
   "source": [
    "### function for calulating the average of number of consecutive results\n",
    "def avg_cal(ddict):\n",
    "  return np.mean(ddict[0]), np.mean(ddict[1])\n",
    "\n"
   ]
  },
  {
   "cell_type": "markdown",
   "id": "d16b22f6-aa75-4e3b-a92e-977069a64e47",
   "metadata": {
    "tags": []
   },
   "source": [
    "## Configuration"
   ]
  },
  {
   "cell_type": "code",
   "execution_count": 8,
   "id": "0a0bea74-793d-49ca-acad-0437575ad219",
   "metadata": {},
   "outputs": [],
   "source": [
    "### number of net games required\n",
    "net_games_required = 40"
   ]
  },
  {
   "cell_type": "markdown",
   "id": "a2d1659b-242a-4d53-99c7-b47cf48e1eaf",
   "metadata": {
    "tags": []
   },
   "source": [
    "## Generate Histories"
   ]
  },
  {
   "cell_type": "markdown",
   "id": "525b42a2-840d-4cb6-91ca-839aebbeadab",
   "metadata": {},
   "source": [
    "### PerfectMM - 1000 players // 1000 games each"
   ]
  },
  {
   "cell_type": "code",
   "execution_count": 9,
   "id": "5a45d35f-02a9-4ea2-8701-025574832246",
   "metadata": {},
   "outputs": [],
   "source": [
    "seeds = [222, 713, 944, 4, 12]"
   ]
  },
  {
   "cell_type": "code",
   "execution_count": 10,
   "id": "97717b4d-ac41-4d7c-bd84-49a4cd3a366f",
   "metadata": {},
   "outputs": [
    {
     "name": "stdout",
     "output_type": "stream",
     "text": [
      "2023-10-17 20:34:47\n",
      "\n",
      "\n",
      "\n",
      "----------------------------------------------------\n",
      "done in 6.141s.\n",
      "2023-10-17 20:34:53\n"
     ]
    }
   ],
   "source": [
    "### IF STREAKS DON'T EXIST\n",
    "### Perfect (wr 0.5)\n",
    "\n",
    "start = time()\n",
    "print(strftime('%Y-%m-%d %H:%M:%S', localtime()))\n",
    "print('\\n')\n",
    "##############################################################################################################################\n",
    "\n",
    "### 1000 players SIM 1 ~ 5\n",
    "### set random seed\n",
    "for seed in seeds:\n",
    "\n",
    "    random.seed(seed)\n",
    "\n",
    "    ### perfect MM algorithm\n",
    "    # for multiple players...\n",
    "\n",
    "    # win rate\n",
    "    wr = 0.50\n",
    "\n",
    "    # lose rate\n",
    "    lr = 1 - wr\n",
    "\n",
    "    outcome_list = [1, 0]\n",
    "\n",
    "    n_players = 1000    ### including Paul\n",
    "    n_games = 1000\n",
    "\n",
    "    histories = []\n",
    "\n",
    "    ### open file\n",
    "    timestamp = datetime.now().strftime('%Y%m%d_%H%M%S')\n",
    "    filename = f'saved_lists/perfectmm/perfectmm_{seed}.txt'\n",
    "    # filename = 'saved_lists/perfectmm/example.txt'\n",
    "\n",
    "    history_file = open(filename, 'w')\n",
    "\n",
    "\n",
    "\n",
    "    for _ in range(n_players):\n",
    "        games_list = []\n",
    "\n",
    "        while len(games_list) < n_games:\n",
    "            one_game = random.choices(outcome_list, weights=(wr, lr))[0]\n",
    "            games_list.append(one_game)\n",
    "\n",
    "        history_file.write(f'{games_list}, ')\n",
    "    \n",
    "    \n",
    "\n",
    "    history_file.close()\n",
    "        \n",
    "\n",
    "##############################################################################################################################\n",
    "print('\\n----------------------------------------------------')\n",
    "print(\"done in %0.3fs.\" % (time() - start))\n",
    "print(strftime('%Y-%m-%d %H:%M:%S', localtime()))"
   ]
  },
  {
   "cell_type": "code",
   "execution_count": 11,
   "id": "31b85e07-8ef7-4be0-9aa6-b3c6fd0ad673",
   "metadata": {},
   "outputs": [],
   "source": [
    "history_list = []\n",
    "# with open('saved_lists/perfectmm/example.txt', 'r') as history_file:\n",
    "with open('saved_lists/perfectmm/perfectmm_4.txt', 'r') as history_file:\n",
    "    history_list.extend(ast.literal_eval(history_file.read()))\n",
    "    \n"
   ]
  },
  {
   "cell_type": "code",
   "execution_count": 12,
   "id": "f83dc5d6-5e6f-4bb7-884b-0cfbbcd87c99",
   "metadata": {},
   "outputs": [
    {
     "data": {
      "text/plain": [
       "1000"
      ]
     },
     "execution_count": 12,
     "metadata": {},
     "output_type": "execute_result"
    }
   ],
   "source": [
    "len(history_list)"
   ]
  },
  {
   "cell_type": "code",
   "execution_count": 13,
   "id": "775cb605-ba0a-4bf8-bdbd-11acd0b2f4a2",
   "metadata": {},
   "outputs": [
    {
     "data": {
      "text/plain": [
       "1000"
      ]
     },
     "execution_count": 13,
     "metadata": {},
     "output_type": "execute_result"
    }
   ],
   "source": [
    "len(history_list[0])"
   ]
  },
  {
   "cell_type": "code",
   "execution_count": null,
   "id": "636c0998-bbc8-47d4-be18-0d408426a06b",
   "metadata": {},
   "outputs": [],
   "source": []
  },
  {
   "cell_type": "code",
   "execution_count": null,
   "id": "99b74fc3-636e-45a3-ab60-8338e6231a8f",
   "metadata": {},
   "outputs": [],
   "source": []
  },
  {
   "cell_type": "markdown",
   "id": "56182119-5922-448a-9eaa-9e006452441d",
   "metadata": {},
   "source": [
    "### NearPerfectMM - 1000 players // 1000 games each"
   ]
  },
  {
   "cell_type": "code",
   "execution_count": 14,
   "id": "35fd848a-9793-4853-9545-cc1160ae76e8",
   "metadata": {},
   "outputs": [],
   "source": [
    "seeds = [6, 423, 157, 174, 933]"
   ]
  },
  {
   "cell_type": "code",
   "execution_count": 15,
   "id": "c10b6b0e-c02c-45d7-b3f1-76ac52921d9d",
   "metadata": {},
   "outputs": [
    {
     "name": "stdout",
     "output_type": "stream",
     "text": [
      "2023-10-17 20:35:26\n",
      "\n",
      "\n",
      "\n",
      "----------------------------------------------------\n",
      "done in 6.137s.\n",
      "2023-10-17 20:35:32\n"
     ]
    }
   ],
   "source": [
    "### IF STREAKS DON'T EXIST\n",
    "### Almost Perfect (wr 0.501) \n",
    "\n",
    "start = time()\n",
    "print(strftime('%Y-%m-%d %H:%M:%S', localtime()))\n",
    "print('\\n')\n",
    "##############################################################################################################################\n",
    "\n",
    "### 1000 players SIM 1 ~ 5\n",
    "### set random seed\n",
    "for seed in seeds:\n",
    "\n",
    "    random.seed(seed)\n",
    "\n",
    "    ### perfect MM algorithm\n",
    "    # for multiple players...\n",
    "\n",
    "    # win rate\n",
    "    wr = 0.501\n",
    "\n",
    "    # lose rate\n",
    "    lr = 1 - wr\n",
    "\n",
    "    outcome_list = [1, 0]\n",
    "\n",
    "    n_players = 1000    ### including Paul\n",
    "    n_games = 1000\n",
    "\n",
    "    # histories = []\n",
    "\n",
    "    ### open file\n",
    "    timestamp = datetime.now().strftime('%Y%m%d_%H%M%S')\n",
    "    filename = f'saved_lists/nearperfectmm/nearperfectmm_{seed}.txt'\n",
    "    # filename = 'saved_lists/nearperfectmm/example.txt'\n",
    "\n",
    "    history_file = open(filename, 'w')\n",
    "\n",
    "\n",
    "\n",
    "    for _ in range(n_players):\n",
    "        games_list = []\n",
    "\n",
    "        while len(games_list) < n_games:\n",
    "            one_game = random.choices(outcome_list, weights=(wr, lr))[0]\n",
    "            games_list.append(one_game)\n",
    "\n",
    "        history_file.write(f'{games_list}, ')\n",
    "    \n",
    "    \n",
    "\n",
    "    history_file.close()\n",
    "        \n",
    "\n",
    "##############################################################################################################################\n",
    "print('\\n----------------------------------------------------')\n",
    "print(\"done in %0.3fs.\" % (time() - start))\n",
    "print(strftime('%Y-%m-%d %H:%M:%S', localtime()))"
   ]
  },
  {
   "cell_type": "code",
   "execution_count": null,
   "id": "3afbc7ec-d4b1-4fe0-bf48-91b53a8b8d65",
   "metadata": {},
   "outputs": [],
   "source": []
  },
  {
   "cell_type": "markdown",
   "id": "ef6b6d4a-46c6-4438-8280-02c1f9cc4ccf",
   "metadata": {},
   "source": [
    "### StreakMM - 1000 players // 1000 games each"
   ]
  },
  {
   "cell_type": "code",
   "execution_count": null,
   "id": "28f66fc8-3caa-4871-b3c4-3f16926ee86a",
   "metadata": {},
   "outputs": [],
   "source": [
    "seeds = [4, 34, 11, 68, 89]"
   ]
  },
  {
   "cell_type": "code",
   "execution_count": 16,
   "id": "d1f2c655-dae0-422d-a36f-d59cfda46fac",
   "metadata": {},
   "outputs": [
    {
     "name": "stdout",
     "output_type": "stream",
     "text": [
      "2023-10-17 20:36:11\n",
      "\n",
      "\n",
      "\n",
      "----------------------------------------------------\n",
      "done in 2.539s.\n",
      "2023-10-17 20:36:14\n"
     ]
    }
   ],
   "source": [
    "### when streaks exist\n",
    "### ws:ls = 50:50\n",
    "### 85% of win/loss depending on the streak\n",
    "### streak duration = 6 games\n",
    "\n",
    "\n",
    "\n",
    "start = time()\n",
    "print(strftime('%Y-%m-%d %H:%M:%S', localtime()))\n",
    "print('\\n')\n",
    "##############################################################################################################################\n",
    "\n",
    "### 1000 players SIM 1 ~ 5\n",
    "\n",
    "\n",
    "# histories = []\n",
    "\n",
    "### open file\n",
    "timestamp = datetime.now().strftime('%Y%m%d_%H%M%S')\n",
    "\n",
    "n_players = 1000    ### including Paul\n",
    "n_games = 1000\n",
    "streak_dur = 6\n",
    "\n",
    "for seed in seeds:\n",
    "    \n",
    "    filename = f'saved_lists/streakmm/streakmm_{seed}.txt'\n",
    "    # filename = 'saved_lists/streakmm/example.txt'\n",
    "\n",
    "    history_file = open(filename, 'w')\n",
    "\n",
    "    for _ in range(n_players):\n",
    "        result_n = streak_gen(6, n_games)     # 3000 games played per player\n",
    "        history_file.write(f'{result_n}, ')\n",
    "\n",
    "    history_file.close()\n",
    "    \n",
    "    \n",
    "##############################################################################################################################\n",
    "print('\\n----------------------------------------------------')\n",
    "print(\"done in %0.3fs.\" % (time() - start))\n",
    "print(strftime('%Y-%m-%d %H:%M:%S', localtime()))"
   ]
  },
  {
   "cell_type": "markdown",
   "id": "91194196-31d8-489b-a9e0-bae899959602",
   "metadata": {},
   "source": [
    "## Visualize"
   ]
  },
  {
   "cell_type": "code",
   "execution_count": 18,
   "id": "26d19da4-bdec-4b22-9c55-45aa321b9008",
   "metadata": {},
   "outputs": [],
   "source": [
    "history_list = []\n",
    "# with open('saved_lists/streakmm/example.txt', 'r') as history_file:\n",
    "# with open('saved_lists/perfectmm/perfectmm_4.txt', 'r') as history_file:\n",
    "with open('saved_lists/streakmm/streakmm_157.txt', 'r') as history_file:\n",
    "    history_list.extend(ast.literal_eval(history_file.read()))\n",
    "    \n"
   ]
  },
  {
   "cell_type": "code",
   "execution_count": 32,
   "id": "4e7c4ca2-f6be-4b30-8538-07d701207242",
   "metadata": {},
   "outputs": [
    {
     "name": "stdout",
     "output_type": "stream",
     "text": [
      "1000\n",
      "<class 'list'>\n"
     ]
    }
   ],
   "source": [
    "print(len(history_list))\n",
    "print(type(history_list))"
   ]
  },
  {
   "cell_type": "code",
   "execution_count": 33,
   "id": "215b9f9a-80e6-4e3d-8818-a1fdf2f795c5",
   "metadata": {},
   "outputs": [],
   "source": [
    "# data = np.array()\n",
    "# data = np.array(history_list[1][:300]).reshape(15,20)\n",
    "data = np.array(history_list[3]).reshape(25,40)\n"
   ]
  },
  {
   "cell_type": "code",
   "execution_count": 34,
   "id": "1adf83bc-b0da-458f-b531-c8b8dcd65cc0",
   "metadata": {},
   "outputs": [
    {
     "data": {
      "image/png": "[encoded data removed]",
      "text/plain": [
       "<Figure size 600x600 with 1 Axes>"
      ]
     },
     "metadata": {},
     "output_type": "display_data"
    }
   ],
   "source": [
    "plt.figure(figsize=(6,6))\n",
    "# plt.imshow(data, cmap='viridis')\n",
    "# plt.imshow(data)\n",
    "plt.imshow(data, cmap='binary')\n",
    "plt.show()"
   ]
  },
  {
   "cell_type": "code",
   "execution_count": 30,
   "id": "eb226b22-8b96-41ec-9d33-8dbf11332c25",
   "metadata": {},
   "outputs": [
    {
     "data": {
      "image/png": "[encoded data removed]",
      "text/plain": [
       "<Figure size 600x600 with 1 Axes>"
      ]
     },
     "metadata": {},
     "output_type": "display_data"
    }
   ],
   "source": [
    "plt.figure(figsize=(6,6))\n",
    "# plt.imshow(data, cmap='viridis')\n",
    "# plt.imshow(data)\n",
    "plt.imshow(data, cmap='binary')\n",
    "plt.show()"
   ]
  },
  {
   "cell_type": "code",
   "execution_count": 20,
   "id": "b298189f-6833-4e03-a949-44cabc91dc0a",
   "metadata": {},
   "outputs": [],
   "source": [
    "# plt.figure(figsize=(6,6))\n",
    "# plt.axis('off')\n",
    "# # plt.figure(figsize=(6,6), frameon=False)\n",
    "# # plt.imshow(data, cmap='viridis')\n",
    "# # plt.imshow(data)\n",
    "# plt.imshow(data, cmap='binary')\n",
    "# # plt.savefig('foo.png')\n",
    "# plt.savefig('foo.png', bbox_inches='tight', pad_inches=0)"
   ]
  },
  {
   "cell_type": "code",
   "execution_count": null,
   "id": "5b71b4db-2c60-4faf-a14e-cb1146cc2a04",
   "metadata": {},
   "outputs": [],
   "source": []
  },
  {
   "cell_type": "code",
   "execution_count": null,
   "id": "37e0b68b-95e6-4242-8422-d9613250c818",
   "metadata": {},
   "outputs": [],
   "source": []
  },
  {
   "cell_type": "code",
   "execution_count": null,
   "id": "f9915788-e6fd-49e0-afc2-52ee8131dc16",
   "metadata": {},
   "outputs": [],
   "source": []
  },
  {
   "cell_type": "code",
   "execution_count": null,
   "id": "112d9b22-9e5a-4125-a7a0-f7f85a40f856",
   "metadata": {},
   "outputs": [],
   "source": [
    "# history_list = []\n",
    "# with open('saved_lists/nearperfectmm/nearperfectmm_6.txt', 'r') as history_file:\n",
    "#     history_list.extend(ast.literal_eval(history_file.read()))\n",
    "    \n"
   ]
  },
  {
   "cell_type": "code",
   "execution_count": null,
   "id": "28e66a9d-96b6-4ec4-8320-3df168075924",
   "metadata": {},
   "outputs": [],
   "source": [
    "# print(len(history_list))\n",
    "# print(type(history_list))"
   ]
  },
  {
   "cell_type": "code",
   "execution_count": null,
   "id": "920b29af-18cc-497a-adae-a207daac757b",
   "metadata": {},
   "outputs": [],
   "source": [
    "# # data = np.array()\n",
    "# data = np.array(history_list[0]).reshape(15,20)\n"
   ]
  },
  {
   "cell_type": "code",
   "execution_count": null,
   "id": "6dc2be5b-4b19-4161-a593-321c97de8945",
   "metadata": {},
   "outputs": [],
   "source": [
    "# plt.figure(figsize=(6,6))\n",
    "# # plt.imshow(data, cmap='viridis')\n",
    "# # plt.imshow(data)\n",
    "# plt.imshow(data, cmap='binary')\n",
    "# plt.show()"
   ]
  },
  {
   "cell_type": "code",
   "execution_count": null,
   "id": "86e4dd3e-f967-4c1b-b57d-049d9cd66b52",
   "metadata": {},
   "outputs": [],
   "source": []
  },
  {
   "cell_type": "code",
   "execution_count": null,
   "id": "c89509b6-0cf9-400e-b0ab-9b40185c8c77",
   "metadata": {},
   "outputs": [],
   "source": [
    "# history_list = []\n",
    "# with open('saved_lists/nearperfectmm_20231015_235059.txt', 'r') as history_file:\n",
    "#     history_list.extend(ast.literal_eval(history_file.read()))\n",
    "    \n"
   ]
  },
  {
   "cell_type": "code",
   "execution_count": null,
   "id": "625913a0-f56e-47c6-951c-9d52c67a41af",
   "metadata": {},
   "outputs": [],
   "source": [
    "# len_list = []\n",
    "# for item in history_list:\n",
    "#     len_list.append(len(item))"
   ]
  },
  {
   "cell_type": "code",
   "execution_count": null,
   "id": "3d60e198-e7a5-4894-8677-15073f782553",
   "metadata": {},
   "outputs": [],
   "source": [
    "# # max(len_list)\n",
    "# min(len_list)"
   ]
  },
  {
   "cell_type": "code",
   "execution_count": null,
   "id": "0eaad633-1925-41c2-9114-ee19224f97c3",
   "metadata": {},
   "outputs": [],
   "source": [
    "# n_history_list = []\n",
    "# for item in history_list:\n",
    "#     n_history_list.append(item[:min(len_list)])"
   ]
  },
  {
   "cell_type": "code",
   "execution_count": null,
   "id": "d6c51e57-7322-4a0a-906f-60ce6e372a4f",
   "metadata": {},
   "outputs": [],
   "source": [
    "# # data = np.array()\n",
    "# data = np.array(n_history_list[:100])\n"
   ]
  },
  {
   "cell_type": "code",
   "execution_count": null,
   "id": "c40a1300-18d4-49af-9ba3-4856e1e8ddc4",
   "metadata": {},
   "outputs": [],
   "source": [
    "# plt.figure(figsize=(7,7))\n",
    "# # plt.imshow(data, cmap='viridis')\n",
    "# # plt.imshow(data)\n",
    "# plt.imshow(data, cmap='binary')\n",
    "# plt.show()"
   ]
  },
  {
   "cell_type": "code",
   "execution_count": null,
   "id": "d89f5a08-bbf7-487b-9230-7e8e690e4323",
   "metadata": {},
   "outputs": [],
   "source": []
  },
  {
   "cell_type": "code",
   "execution_count": null,
   "id": "dc056555-fe62-4513-8b86-f613349d61a1",
   "metadata": {},
   "outputs": [],
   "source": []
  },
  {
   "cell_type": "markdown",
   "id": "59b11f66-5e82-4117-95a3-53b900ddfed9",
   "metadata": {},
   "source": [
    "## Save Images"
   ]
  },
  {
   "cell_type": "code",
   "execution_count": 168,
   "id": "76ec94b0-4a4e-44af-ac6f-f52c3d1946b9",
   "metadata": {},
   "outputs": [],
   "source": [
    "# parent_folders = [\"saved_lists/perfectmm/\"]\n",
    "parent_folders = [\"saved_lists/perfectmm/\", 'saved_lists/nearperfectmm/', 'saved_lists/streakmm/']"
   ]
  },
  {
   "cell_type": "code",
   "execution_count": 169,
   "id": "6e6df59f-fc80-426a-956c-6470e2e26425",
   "metadata": {},
   "outputs": [
    {
     "name": "stdout",
     "output_type": "stream",
     "text": [
      "saved_lists\\perfectmm\n"
     ]
    }
   ],
   "source": [
    "for item in parent_folders:\n",
    "    print(pathlib.Path(item))"
   ]
  },
  {
   "cell_type": "code",
   "execution_count": 170,
   "id": "a6b4f557-361f-4253-8b8b-a5863a120800",
   "metadata": {},
   "outputs": [
    {
     "name": "stdout",
     "output_type": "stream",
     "text": [
      "['saved_lists\\\\perfectmm\\\\perfectmm_4.txt']\n"
     ]
    }
   ],
   "source": [
    "paths = []\n",
    "for item in parent_folders:\n",
    "    item = pathlib.Path(item)\n",
    "    paths.extend(glob.glob(f'{item}\\\\*.txt'))\n",
    "    \n",
    "print(paths)"
   ]
  },
  {
   "cell_type": "code",
   "execution_count": 171,
   "id": "7de5fa92-7141-48da-bb56-45a979d62665",
   "metadata": {},
   "outputs": [
    {
     "name": "stdout",
     "output_type": "stream",
     "text": [
      "1\n"
     ]
    }
   ],
   "source": [
    "print(len(paths))"
   ]
  },
  {
   "cell_type": "code",
   "execution_count": 172,
   "id": "7d176d17-13e0-4210-b515-f0230ad4ac87",
   "metadata": {},
   "outputs": [
    {
     "data": {
      "text/plain": [
       "'saved_lists\\\\perfectmm\\\\perfectmm_4.txt'"
      ]
     },
     "execution_count": 172,
     "metadata": {},
     "output_type": "execute_result"
    }
   ],
   "source": [
    "ppath = paths[0]\n",
    "ppath\n",
    "# ppath.split('\\\\')[-1][:-4] + '_image_1.png'"
   ]
  },
  {
   "cell_type": "code",
   "execution_count": 173,
   "id": "b8755e66-4d12-44fe-8e9f-ef6ca726e8e3",
   "metadata": {},
   "outputs": [
    {
     "name": "stdout",
     "output_type": "stream",
     "text": [
      "saved_lists\n",
      "perfectmm\n"
     ]
    }
   ],
   "source": [
    "ppath = paths[0]\n",
    "\n",
    "print(ppath.split('\\\\')[0])\n",
    "print(ppath.split('\\\\')[1])"
   ]
  },
  {
   "cell_type": "code",
   "execution_count": null,
   "id": "8c0c2b1a-5f9d-4f62-a4bf-9c40c9d2ec89",
   "metadata": {},
   "outputs": [],
   "source": []
  },
  {
   "cell_type": "code",
   "execution_count": null,
   "id": "f5f27880-313e-46bb-a02b-8801e2160e11",
   "metadata": {},
   "outputs": [],
   "source": []
  },
  {
   "cell_type": "code",
   "execution_count": 175,
   "id": "7093df67-997f-40fa-91ba-a965a3698816",
   "metadata": {},
   "outputs": [],
   "source": [
    "start = time()\n",
    "print(strftime('%Y-%m-%d %H:%M:%S', localtime()))\n",
    "print('\\n')\n",
    "##############################################################################################################################\n",
    "\n",
    "\n",
    "for txtfile in paths:\n",
    "    history_list = []\n",
    "    with open(txtfile, 'r') as history_file:\n",
    "        history_list.extend(ast.literal_eval(history_file.read()))\n",
    "        \n",
    "    ### len(record) = 300 // 15 rows, 20 columns\n",
    "    for i in range(len(history_list)):\n",
    "        ssplit = txtfile.split('\\\\')\n",
    "        filename = f'{ssplit[0]}\\\\{ssplit[1]}\\\\images\\\\{ssplit[-1][:-4]}_image_{i+1}.png'\n",
    "        # filename = txtfile.split('\\\\')[-1][:-4] + f'_image_{i+1}.png'\n",
    "        \n",
    "        # data = np.array(history_list[i]).reshape(15,20)\n",
    "        data = np.array(history_list[i][:300]).reshape(15,20)\n",
    "        \n",
    "        plt.figure(figsize=(6,6))\n",
    "        plt.axis('off')\n",
    "        plt.imshow(data, cmap='binary')\n",
    "        plt.savefig(filename, bbox_inches='tight', pad_inches=0)\n",
    "        plt.close()\n",
    "        \n",
    "##############################################################################################################################\n",
    "print('\\n----------------------------------------------------')\n",
    "print(\"done in %0.3fs.\" % (time() - start))\n",
    "print(strftime('%Y-%m-%d %H:%M:%S', localtime()))"
   ]
  },
  {
   "cell_type": "code",
   "execution_count": null,
   "id": "89e71e43-9ca1-43a1-93f7-2e4aff3cfbf2",
   "metadata": {},
   "outputs": [],
   "source": []
  },
  {
   "cell_type": "code",
   "execution_count": null,
   "id": "c182cd34-cc48-48d6-9f56-a7a245b4aa82",
   "metadata": {},
   "outputs": [],
   "source": []
  },
  {
   "cell_type": "code",
   "execution_count": null,
   "id": "e3b0137b-cc94-4f57-9102-9a3fb61abc7e",
   "metadata": {},
   "outputs": [],
   "source": []
  },
  {
   "cell_type": "code",
   "execution_count": null,
   "id": "7c0b5614-b03d-413f-9e74-fb77d7ae66bc",
   "metadata": {},
   "outputs": [],
   "source": []
  },
  {
   "cell_type": "markdown",
   "id": "9192a20d-b426-4b7c-8cbf-a5ec833f5c12",
   "metadata": {},
   "source": [
    "# MISC "
   ]
  },
  {
   "cell_type": "code",
   "execution_count": null,
   "id": "c281fc1e-698e-41f1-bc8e-b57bc21aed66",
   "metadata": {},
   "outputs": [],
   "source": [
    "# 'saved_lists/perfectmm\\\\perfectmm_12.txt'.split('/')"
   ]
  },
  {
   "cell_type": "code",
   "execution_count": null,
   "id": "79acbe02-d6c0-454e-ab7a-9144c7185eaf",
   "metadata": {},
   "outputs": [],
   "source": []
  },
  {
   "cell_type": "code",
   "execution_count": null,
   "id": "41e8b8ea-19dd-431f-a79f-30fdf7156de0",
   "metadata": {},
   "outputs": [],
   "source": [
    "history_list = []\n",
    "# with open('saved_lists/streakmm/example.txt', 'r') as history_file:\n",
    "with open(paths[-1], 'r') as history_file:\n",
    "    history_list.extend(ast.literal_eval(history_file.read()))\n",
    "    \n"
   ]
  },
  {
   "cell_type": "code",
   "execution_count": null,
   "id": "6742f51a-c3c0-4ab7-99b9-6754fc0e08b7",
   "metadata": {},
   "outputs": [],
   "source": [
    "# data = np.array()\n",
    "data = np.array(history_list[1]).reshape(15,20)\n"
   ]
  },
  {
   "cell_type": "code",
   "execution_count": null,
   "id": "6f7501e4-05bb-4686-b1df-39465fe6fff8",
   "metadata": {},
   "outputs": [],
   "source": [
    "plt.figure(figsize=(6,6))\n",
    "# plt.imshow(data, cmap='viridis')\n",
    "# plt.imshow(data)\n",
    "plt.imshow(data, cmap='binary')\n",
    "plt.show()"
   ]
  },
  {
   "cell_type": "code",
   "execution_count": null,
   "id": "1e10f1f2-0b9e-48a7-9967-96aa371a9034",
   "metadata": {},
   "outputs": [],
   "source": [
    "history_list = []\n",
    "# with open('saved_lists/streakmm/example.txt', 'r') as history_file:\n",
    "with open(paths[0], 'r') as history_file:\n",
    "    history_list.extend(ast.literal_eval(history_file.read()))\n",
    "    \n",
    "# data = np.array()\n",
    "data = np.array(history_list[1]).reshape(15,20)\n",
    "\n",
    "plt.figure(figsize=(6,6))\n",
    "# plt.imshow(data, cmap='viridis')\n",
    "# plt.imshow(data)\n",
    "plt.imshow(data, cmap='binary')\n",
    "plt.show()"
   ]
  },
  {
   "cell_type": "code",
   "execution_count": null,
   "id": "5bff00c5-3298-443e-aaaa-4b831dfb40da",
   "metadata": {},
   "outputs": [],
   "source": []
  },
  {
   "cell_type": "markdown",
   "id": "a0c8d81e-09f6-4c21-a7b1-d8779df8255c",
   "metadata": {},
   "source": [
    "## Clear Variables"
   ]
  },
  {
   "cell_type": "code",
   "execution_count": 176,
   "id": "c7f69207-9dfd-45cf-bde9-400667a37774",
   "metadata": {},
   "outputs": [
    {
     "name": "stdin",
     "output_type": "stream",
     "text": [
      "Once deleted, variables cannot be recovered. Proceed (y/[n])?  ㅛ\n",
      "Once deleted, variables cannot be recovered. Proceed (y/[n])?  y\n"
     ]
    }
   ],
   "source": [
    "%reset"
   ]
  },
  {
   "cell_type": "code",
   "execution_count": 177,
   "id": "2585da63-7853-4aa3-87ab-e71e9df02055",
   "metadata": {},
   "outputs": [
    {
     "ename": "NameError",
     "evalue": "name 'data' is not defined",
     "output_type": "error",
     "traceback": [
      "\u001b[1;31m---------------------------------------------------------------------------\u001b[0m",
      "\u001b[1;31mNameError\u001b[0m                                 Traceback (most recent call last)",
      "\u001b[1;32m~\\AppData\\Local\\Temp\\ipykernel_11976\\391604064.py\u001b[0m in \u001b[0;36m<module>\u001b[1;34m\u001b[0m\n\u001b[1;32m----> 1\u001b[1;33m \u001b[0mdata\u001b[0m\u001b[1;33m\u001b[0m\u001b[1;33m\u001b[0m\u001b[0m\n\u001b[0m",
      "\u001b[1;31mNameError\u001b[0m: name 'data' is not defined"
     ]
    }
   ],
   "source": [
    "data"
   ]
  },
  {
   "cell_type": "code",
   "execution_count": null,
   "id": "2d62170f-9fc4-40a2-ac99-afc7fbb07705",
   "metadata": {},
   "outputs": [],
   "source": []
  },
  {
   "cell_type": "code",
   "execution_count": null,
   "id": "26f0a016-3fb4-4233-934a-3f6e7be8cbb3",
   "metadata": {},
   "outputs": [],
   "source": []
  },
  {
   "cell_type": "code",
   "execution_count": 4,
   "id": "54ec051f-e518-4554-af98-96ea1905e2d5",
   "metadata": {
    "tags": []
   },
   "outputs": [],
   "source": [
    "ddata = np.array([0,1]*50).reshape(10,10)"
   ]
  },
  {
   "cell_type": "code",
   "execution_count": 13,
   "id": "91be8b1f-a05e-4205-859e-7a6d7104b4b8",
   "metadata": {
    "tags": []
   },
   "outputs": [
    {
     "data": {
      "image/png": "[encoded data removed]",
      "text/plain": [
       "<Figure size 300x300 with 1 Axes>"
      ]
     },
     "metadata": {},
     "output_type": "display_data"
    }
   ],
   "source": [
    "\n",
    "plt.figure(figsize=(3,3))\n",
    "# plt.imshow(data, cmap='viridis')\n",
    "# plt.imshow(data)\n",
    "plt.imshow(ddata, cmap='binary')\n",
    "plt.show()"
   ]
  },
  {
   "cell_type": "code",
   "execution_count": 16,
   "id": "9313d4ca-e2f6-4a73-89e3-02d6e40cc7ac",
   "metadata": {
    "tags": []
   },
   "outputs": [],
   "source": [
    "ddata = np.array([0,1,0,1,0,1,0,1,0,1,\n",
    "                  1,0,1,0,1,0,1,0,1,0,\n",
    "                  0,1,0,1,0,1,0,1,0,1,\n",
    "                  1,0,1,0,1,0,1,0,1,0,\n",
    "                  0,1,0,1,0,1,0,1,0,1,\n",
    "                  1,0,1,0,1,0,1,0,1,0,\n",
    "                  0,1,0,1,0,1,0,1,0,1,\n",
    "                  1,0,1,0,1,0,1,0,1,0,\n",
    "                  0,1,0,1,0,1,0,1,0,1,\n",
    "                  1,0,1,0,1,0,1,0,1,0,]).reshape(10,10)"
   ]
  },
  {
   "cell_type": "code",
   "execution_count": 17,
   "id": "4291945c-b12a-4c50-b271-cfe1d35f9747",
   "metadata": {
    "tags": []
   },
   "outputs": [
    {
     "data": {
      "image/png": "[encoded data removed]",
      "text/plain": [
       "<Figure size 300x300 with 1 Axes>"
      ]
     },
     "metadata": {},
     "output_type": "display_data"
    }
   ],
   "source": [
    "\n",
    "plt.figure(figsize=(3,3))\n",
    "# plt.imshow(data, cmap='viridis')\n",
    "# plt.imshow(data)\n",
    "plt.imshow(ddata, cmap='binary')\n",
    "plt.show()"
   ]
  },
  {
   "cell_type": "code",
   "execution_count": null,
   "id": "4aea4fbf-204b-4d33-bcfb-e2855350d888",
   "metadata": {},
   "outputs": [],
   "source": []
  },
  {
   "cell_type": "code",
   "execution_count": 28,
   "id": "605a6801-d95c-4a82-989f-1854c8c0ff95",
   "metadata": {
    "tags": []
   },
   "outputs": [],
   "source": [
    "history_list = []\n",
    "# with open('saved_lists/streakmm/example.txt', 'r') as history_file:\n",
    "# with open('saved_lists/perfectmm/perfectmm_4.txt', 'r') as history_file:\n",
    "with open('saved_lists/streakmm/streakmm_157.txt', 'r') as history_file:\n",
    "    history_list.extend(ast.literal_eval(history_file.read()))\n",
    "    \n"
   ]
  },
  {
   "cell_type": "code",
   "execution_count": 29,
   "id": "182ae378-46df-42f8-a62a-4f5da8c8d20d",
   "metadata": {
    "tags": []
   },
   "outputs": [],
   "source": [
    "# data = np.array()\n",
    "data = np.array(history_list[1][:300]).reshape(15,20)\n",
    "# data = np.array(history_list[3][:100]).reshape(10,10)\n"
   ]
  },
  {
   "cell_type": "code",
   "execution_count": 30,
   "id": "44be3399-f6f2-42b6-b042-903b3e6b54d5",
   "metadata": {
    "tags": []
   },
   "outputs": [
    {
     "data": {
      "image/png": "[encoded data removed]",
      "text/plain": [
       "<Figure size 500x500 with 1 Axes>"
      ]
     },
     "metadata": {},
     "output_type": "display_data"
    }
   ],
   "source": [
    "\n",
    "plt.figure(figsize=(5,5))\n",
    "plt.title('StreakMM - 300 games')\n",
    "# plt.imshow(data, cmap='viridis')\n",
    "# plt.imshow(data)\n",
    "plt.imshow(data, cmap='binary')\n",
    "plt.show()"
   ]
  },
  {
   "cell_type": "code",
   "execution_count": 25,
   "id": "57cdbe8f-6a0f-4bc2-88c3-925f0cff6f10",
   "metadata": {},
   "outputs": [],
   "source": [
    "history_list = []\n",
    "# with open('saved_lists/streakmm/example.txt', 'r') as history_file:\n",
    "# with open('saved_lists/perfectmm/perfectmm_4.txt', 'r') as history_file:\n",
    "with open('saved_lists/perfectmm/perfectmm_4.txt', 'r') as history_file:\n",
    "    history_list.extend(ast.literal_eval(history_file.read()))\n",
    "    \n"
   ]
  },
  {
   "cell_type": "code",
   "execution_count": 26,
   "id": "b9e09264-1efd-4f1b-b27a-6227157d3bec",
   "metadata": {
    "tags": []
   },
   "outputs": [],
   "source": [
    "# data = np.array()\n",
    "data = np.array(history_list[1][:300]).reshape(15,20)\n",
    "# data = np.array(history_list[3][:100]).reshape(10,10)\n"
   ]
  },
  {
   "cell_type": "code",
   "execution_count": 27,
   "id": "569021a3-bf32-4bc2-979f-bf9901839eef",
   "metadata": {
    "tags": []
   },
   "outputs": [
    {
     "data": {
      "image/png": "[encoded data removed]",
      "text/plain": [
       "<Figure size 500x500 with 1 Axes>"
      ]
     },
     "metadata": {},
     "output_type": "display_data"
    }
   ],
   "source": [
    "\n",
    "plt.figure(figsize=(5,5))\n",
    "plt.title('PerfectMM - 300 games')\n",
    "# plt.imshow(data, cmap='viridis')\n",
    "# plt.imshow(data)\n",
    "plt.imshow(data, cmap='binary')\n",
    "plt.show()"
   ]
  },
  {
   "cell_type": "code",
   "execution_count": null,
   "id": "bb0ac14e-c787-47ad-8477-af36e994af5f",
   "metadata": {},
   "outputs": [],
   "source": []
  },
  {
   "cell_type": "code",
   "execution_count": null,
   "id": "0679dcca-238a-4e13-b172-ab5df8e59d58",
   "metadata": {},
   "outputs": [],
   "source": []
  },
  {
   "cell_type": "code",
   "execution_count": 22,
   "id": "c4439dac-fe7a-41a4-b6dd-5dea3d746c6f",
   "metadata": {
    "tags": []
   },
   "outputs": [],
   "source": [
    "history_list = []\n",
    "# with open('saved_lists/streakmm/example.txt', 'r') as history_file:\n",
    "# with open('saved_lists/perfectmm/perfectmm_4.txt', 'r') as history_file:\n",
    "with open('saved_lists/nearperfectmm/nearperfectmm_6.txt', 'r') as history_file:\n",
    "    history_list.extend(ast.literal_eval(history_file.read()))\n",
    "    \n"
   ]
  },
  {
   "cell_type": "code",
   "execution_count": 23,
   "id": "2d717b54-d52e-48b8-9f6e-ad5069dc2d40",
   "metadata": {
    "tags": []
   },
   "outputs": [],
   "source": [
    "# data = np.array()\n",
    "data = np.array(history_list[1][:300]).reshape(15,20)\n",
    "# data = np.array(history_list[3][:100]).reshape(10,10)\n"
   ]
  },
  {
   "cell_type": "code",
   "execution_count": 24,
   "id": "7c70a5d2-3adf-4fca-8cbe-bd943e36380c",
   "metadata": {
    "tags": []
   },
   "outputs": [
    {
     "data": {
      "image/png": "[encoded data removed]",
      "text/plain": [
       "<Figure size 500x500 with 1 Axes>"
      ]
     },
     "metadata": {},
     "output_type": "display_data"
    }
   ],
   "source": [
    "\n",
    "plt.figure(figsize=(5,5))\n",
    "plt.title('NearPerfectMM - 300 games')\n",
    "# plt.imshow(data, cmap='viridis')\n",
    "# plt.imshow(data)\n",
    "plt.imshow(data, cmap='binary')\n",
    "plt.show()"
   ]
  },
  {
   "cell_type": "code",
   "execution_count": null,
   "id": "6264d0df-870f-4662-9f0f-e09fbd667759",
   "metadata": {},
   "outputs": [],
   "source": []
  }
 ],
 "metadata": {
  "kernelspec": {
   "display_name": "Python 3 (ipykernel)",
   "language": "python",
   "name": "python3"
  },
  "language_info": {
   "codemirror_mode": {
    "name": "ipython",
    "version": 3
   },
   "file_extension": ".py",
   "mimetype": "text/x-python",
   "name": "python",
   "nbconvert_exporter": "python",
   "pygments_lexer": "ipython3",
   "version": "3.10.12"
  }
 },
 "nbformat": 4,
 "nbformat_minor": 5
}
